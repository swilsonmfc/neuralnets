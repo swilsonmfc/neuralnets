{
  "nbformat": 4,
  "nbformat_minor": 0,
  "metadata": {
    "colab": {
      "name": "IMDBKerasEmbedding.ipynb",
      "provenance": [],
      "collapsed_sections": [],
      "toc_visible": true,
      "include_colab_link": true
    },
    "kernelspec": {
      "name": "python3",
      "display_name": "Python 3"
    }
  },
  "cells": [
    {
      "cell_type": "markdown",
      "metadata": {
        "id": "view-in-github",
        "colab_type": "text"
      },
      "source": [
        "<a href=\"https://colab.research.google.com/github/swilsonmfc/deeplearning/blob/master/IMDBKerasEmbedding.ipynb\" target=\"_parent\"><img src=\"https://colab.research.google.com/assets/colab-badge.svg\" alt=\"Open In Colab\"/></a>"
      ]
    },
    {
      "cell_type": "markdown",
      "metadata": {
        "id": "Jkv7xPh0NHVn",
        "colab_type": "text"
      },
      "source": [
        "# Embeddings\n",
        "* IMDB dataset\n",
        "* GloVe Embedding\n",
        "* Attempt to classify sentiment of review\n"
      ]
    },
    {
      "cell_type": "markdown",
      "metadata": {
        "id": "g0x6fIamNXxI",
        "colab_type": "text"
      },
      "source": [
        "# Setup"
      ]
    },
    {
      "cell_type": "code",
      "metadata": {
        "id": "CZ_m7pbXM-28",
        "colab_type": "code",
        "colab": {}
      },
      "source": [
        "import numpy as np\n",
        "import matplotlib.pyplot as plt\n",
        "\n",
        "import os\n",
        "import zipfile\n",
        "import requests\n",
        "\n",
        "from keras.datasets import imdb\n",
        "from keras.preprocessing.text import Tokenizer\n",
        "from keras.preprocessing.sequence import pad_sequences\n",
        "from keras import preprocessing\n",
        "\n",
        "from keras.models import Sequential\n",
        "from keras.layers import Embedding\n",
        "from keras.layers import Flatten\n",
        "from keras.layers import Dense\n",
        "\n",
        "%tensorflow_version 1.x"
      ],
      "execution_count": 0,
      "outputs": []
    },
    {
      "cell_type": "markdown",
      "metadata": {
        "id": "TlmO0MVjN8Wh",
        "colab_type": "text"
      },
      "source": [
        "# Example Tokenizing\n"
      ]
    },
    {
      "cell_type": "code",
      "metadata": {
        "id": "sKEqGgfYNhZQ",
        "colab_type": "code",
        "colab": {
          "base_uri": "https://localhost:8080/",
          "height": 34
        },
        "outputId": "c33f1fe9-040a-4cce-9f1d-1764236d0a95"
      },
      "source": [
        "sample = ['The quick brown fox jumped over the lazy dog.', \n",
        "          'Now is the time for all good men to come to the aid of their country.']\n",
        "\n",
        "tokenizer = Tokenizer(num_words = 1000)\n",
        "tokenizer.fit_on_texts(sample)\n",
        "\n",
        "sequences  = tokenizer.texts_to_sequences(sample)\n",
        "one_hot    = tokenizer.texts_to_matrix(sample, mode='binary')\n",
        "word_index = tokenizer.word_index\n",
        "\n",
        "print(f'There are {len(word_index)} tokens')"
      ],
      "execution_count": 5,
      "outputs": [
        {
          "output_type": "stream",
          "text": [
            "There are 21 tokens\n"
          ],
          "name": "stdout"
        }
      ]
    },
    {
      "cell_type": "code",
      "metadata": {
        "id": "8RnMmzyoOgkQ",
        "colab_type": "code",
        "colab": {
          "base_uri": "https://localhost:8080/",
          "height": 51
        },
        "outputId": "c476b825-98ec-4ca7-b48d-4415345c0e61"
      },
      "source": [
        "sequences"
      ],
      "execution_count": 7,
      "outputs": [
        {
          "output_type": "execute_result",
          "data": {
            "text/plain": [
              "[[1, 3, 4, 5, 6, 7, 1, 8, 9],\n",
              " [10, 11, 1, 12, 13, 14, 15, 16, 2, 17, 2, 1, 18, 19, 20, 21]]"
            ]
          },
          "metadata": {
            "tags": []
          },
          "execution_count": 7
        }
      ]
    },
    {
      "cell_type": "code",
      "metadata": {
        "id": "FcunvhTeO27o",
        "colab_type": "code",
        "colab": {}
      },
      "source": [
        "one_hot"
      ],
      "execution_count": 0,
      "outputs": []
    },
    {
      "cell_type": "markdown",
      "metadata": {
        "id": "1X7pa63nPlxk",
        "colab_type": "text"
      },
      "source": [
        "# Load Data\n",
        "* Pull in the IMDB data from Keras"
      ]
    },
    {
      "cell_type": "code",
      "metadata": {
        "id": "1xVglHuFPk-S",
        "colab_type": "code",
        "colab": {
          "base_uri": "https://localhost:8080/",
          "height": 51
        },
        "outputId": "183a68cf-310d-437d-fbad-73af4d23dab6"
      },
      "source": [
        "MAX_FEATURES = 1000\n",
        "MAX_LENGTH = 20\n",
        "\n",
        "(X_train, y_train), (X_test, y_test) = imdb.load_data(num_words = MAX_FEATURES)\n",
        "\n",
        "X_train = preprocessing.sequence.pad_sequences(X_train, maxlen=MAX_LENGTH)\n",
        "X_test = preprocessing.sequence.pad_sequences(X_test, maxlen=MAX_LENGTH)"
      ],
      "execution_count": 11,
      "outputs": [
        {
          "output_type": "stream",
          "text": [
            "Downloading data from https://s3.amazonaws.com/text-datasets/imdb.npz\n",
            "17465344/17464789 [==============================] - 2s 0us/step\n"
          ],
          "name": "stdout"
        }
      ]
    },
    {
      "cell_type": "markdown",
      "metadata": {
        "id": "47nsVS9OPW3S",
        "colab_type": "text"
      },
      "source": [
        "# Toy Embedding Model\n",
        "* We build up a simple embedding model\n",
        "* Take text sequence into embedding 1000 Words -> Size 8 Embedding Vector\n",
        "* Flatten the sentence sequence (of size MAX_LENGTH) Size 8 Embedding per word * 20 words\n",
        "* Pass that through a sigmoid to get sentiment\n"
      ]
    },
    {
      "cell_type": "code",
      "metadata": {
        "id": "3OWHqnsyPYSi",
        "colab_type": "code",
        "colab": {
          "base_uri": "https://localhost:8080/",
          "height": 255
        },
        "outputId": "8c1c25f3-ae96-4e2c-fdb8-ef821850d2dd"
      },
      "source": [
        "model = Sequential()\n",
        "\n",
        "model.add(Embedding(1000, 8, input_length=MAX_LENGTH))\n",
        "model.add(Flatten())\n",
        "model.add(Dense(1, activation='sigmoid'))\n",
        "\n",
        "model.compile(optimizer='rmsprop', \n",
        "              loss='binary_crossentropy',\n",
        "              metrics=['acc'])\n",
        "model.summary()"
      ],
      "execution_count": 15,
      "outputs": [
        {
          "output_type": "stream",
          "text": [
            "Model: \"sequential_3\"\n",
            "_________________________________________________________________\n",
            "Layer (type)                 Output Shape              Param #   \n",
            "=================================================================\n",
            "embedding_4 (Embedding)      (None, 20, 8)             8000      \n",
            "_________________________________________________________________\n",
            "flatten_2 (Flatten)          (None, 160)               0         \n",
            "_________________________________________________________________\n",
            "dense_2 (Dense)              (None, 1)                 161       \n",
            "=================================================================\n",
            "Total params: 8,161\n",
            "Trainable params: 8,161\n",
            "Non-trainable params: 0\n",
            "_________________________________________________________________\n"
          ],
          "name": "stdout"
        }
      ]
    },
    {
      "cell_type": "markdown",
      "metadata": {
        "id": "tbnkMbz1Qz9T",
        "colab_type": "text"
      },
      "source": [
        "## Fit Model"
      ]
    },
    {
      "cell_type": "code",
      "metadata": {
        "id": "_1kTuJe_Pd64",
        "colab_type": "code",
        "colab": {
          "base_uri": "https://localhost:8080/",
          "height": 666
        },
        "outputId": "41b38cd7-92bb-467f-8b97-3990280d4e62"
      },
      "source": [
        "history = model.fit(X_train, y_train,\n",
        "                    epochs = 10,\n",
        "                    batch_size=32,\n",
        "                    validation_split=0.2)"
      ],
      "execution_count": 16,
      "outputs": [
        {
          "output_type": "stream",
          "text": [
            "WARNING:tensorflow:From /usr/local/lib/python3.6/dist-packages/keras/backend/tensorflow_backend.py:1033: The name tf.assign_add is deprecated. Please use tf.compat.v1.assign_add instead.\n",
            "\n",
            "WARNING:tensorflow:From /usr/local/lib/python3.6/dist-packages/keras/backend/tensorflow_backend.py:1020: The name tf.assign is deprecated. Please use tf.compat.v1.assign instead.\n",
            "\n",
            "WARNING:tensorflow:From /usr/local/lib/python3.6/dist-packages/keras/backend/tensorflow_backend.py:3005: The name tf.Session is deprecated. Please use tf.compat.v1.Session instead.\n",
            "\n",
            "Train on 20000 samples, validate on 5000 samples\n",
            "Epoch 1/10\n",
            "WARNING:tensorflow:From /usr/local/lib/python3.6/dist-packages/keras/backend/tensorflow_backend.py:190: The name tf.get_default_session is deprecated. Please use tf.compat.v1.get_default_session instead.\n",
            "\n",
            "WARNING:tensorflow:From /usr/local/lib/python3.6/dist-packages/keras/backend/tensorflow_backend.py:197: The name tf.ConfigProto is deprecated. Please use tf.compat.v1.ConfigProto instead.\n",
            "\n",
            "WARNING:tensorflow:From /usr/local/lib/python3.6/dist-packages/keras/backend/tensorflow_backend.py:207: The name tf.global_variables is deprecated. Please use tf.compat.v1.global_variables instead.\n",
            "\n",
            "WARNING:tensorflow:From /usr/local/lib/python3.6/dist-packages/keras/backend/tensorflow_backend.py:216: The name tf.is_variable_initialized is deprecated. Please use tf.compat.v1.is_variable_initialized instead.\n",
            "\n",
            "WARNING:tensorflow:From /usr/local/lib/python3.6/dist-packages/keras/backend/tensorflow_backend.py:223: The name tf.variables_initializer is deprecated. Please use tf.compat.v1.variables_initializer instead.\n",
            "\n",
            "20000/20000 [==============================] - 2s 87us/step - loss: 0.6788 - acc: 0.5926 - val_loss: 0.6449 - val_acc: 0.6642\n",
            "Epoch 2/10\n",
            "20000/20000 [==============================] - 1s 49us/step - loss: 0.5773 - acc: 0.7183 - val_loss: 0.5527 - val_acc: 0.7132\n",
            "Epoch 3/10\n",
            "20000/20000 [==============================] - 1s 48us/step - loss: 0.5106 - acc: 0.7475 - val_loss: 0.5295 - val_acc: 0.7272\n",
            "Epoch 4/10\n",
            "20000/20000 [==============================] - 1s 47us/step - loss: 0.4876 - acc: 0.7618 - val_loss: 0.5246 - val_acc: 0.7314\n",
            "Epoch 5/10\n",
            "20000/20000 [==============================] - 1s 49us/step - loss: 0.4754 - acc: 0.7693 - val_loss: 0.5235 - val_acc: 0.7356\n",
            "Epoch 6/10\n",
            "20000/20000 [==============================] - 1s 48us/step - loss: 0.4664 - acc: 0.7727 - val_loss: 0.5253 - val_acc: 0.7342\n",
            "Epoch 7/10\n",
            "20000/20000 [==============================] - 1s 49us/step - loss: 0.4580 - acc: 0.7797 - val_loss: 0.5265 - val_acc: 0.7366\n",
            "Epoch 8/10\n",
            "20000/20000 [==============================] - 1s 48us/step - loss: 0.4500 - acc: 0.7865 - val_loss: 0.5292 - val_acc: 0.7328\n",
            "Epoch 9/10\n",
            "20000/20000 [==============================] - 1s 49us/step - loss: 0.4424 - acc: 0.7913 - val_loss: 0.5313 - val_acc: 0.7308\n",
            "Epoch 10/10\n",
            "20000/20000 [==============================] - 1s 48us/step - loss: 0.4344 - acc: 0.7964 - val_loss: 0.5369 - val_acc: 0.7298\n"
          ],
          "name": "stdout"
        }
      ]
    },
    {
      "cell_type": "markdown",
      "metadata": {
        "id": "AX4u9MQIRbp2",
        "colab_type": "text"
      },
      "source": [
        "## Plot Accuracy\n",
        "* Validation Accuracy around 0.7"
      ]
    },
    {
      "cell_type": "code",
      "metadata": {
        "id": "cIx1q6d5RFse",
        "colab_type": "code",
        "colab": {
          "base_uri": "https://localhost:8080/",
          "height": 265
        },
        "outputId": "95fb8639-d875-40b3-cc50-eabd1711dde4"
      },
      "source": [
        "epochs = range(1, len(history.history['acc']) + 1) \n",
        "plt.plot(epochs, history.history['acc'],     'bo', label='Training Accuracy')\n",
        "plt.plot(epochs, history.history['val_acc'], 'b',  label='Validation Accuracy')\n",
        "plt.legend()\n",
        "plt.show()"
      ],
      "execution_count": 20,
      "outputs": [
        {
          "output_type": "display_data",
          "data": {
            "image/png": "[encoded data removed]",
            "text/plain": [
              "<Figure size 432x288 with 1 Axes>"
            ]
          },
          "metadata": {
            "tags": []
          }
        }
      ]
    },
    {
      "cell_type": "markdown",
      "metadata": {
        "id": "Uchv9exeTGmF",
        "colab_type": "text"
      },
      "source": [
        "# Raw IMDB Data"
      ]
    },
    {
      "cell_type": "markdown",
      "metadata": {
        "id": "xF63-0gmTQAg",
        "colab_type": "text"
      },
      "source": [
        "## Pull Data"
      ]
    },
    {
      "cell_type": "code",
      "metadata": {
        "id": "h37W8IPuRrBt",
        "colab_type": "code",
        "colab": {
          "base_uri": "https://localhost:8080/",
          "height": 71
        },
        "outputId": "f54ac250-7f82-43cf-ebb8-64e876036d36"
      },
      "source": [
        "imdb_url   = 'http://mng.bz/0tIo'\n",
        "imdb_local = 'aclimdb.zip'\n",
        "\n",
        "r = requests.get(imdb_url, verify=False)\n",
        "with open(imdb_local, \"wb\") as code:\n",
        "    code.write(r.content)"
      ],
      "execution_count": 34,
      "outputs": [
        {
          "output_type": "stream",
          "text": [
            "/usr/local/lib/python3.6/dist-packages/urllib3/connectionpool.py:847: InsecureRequestWarning: Unverified HTTPS request is being made. Adding certificate verification is strongly advised. See: https://urllib3.readthedocs.io/en/latest/advanced-usage.html#ssl-warnings\n",
            "  InsecureRequestWarning)\n"
          ],
          "name": "stderr"
        }
      ]
    },
    {
      "cell_type": "code",
      "metadata": {
        "id": "sTFeY_qCZ3zP",
        "colab_type": "code",
        "colab": {}
      },
      "source": [
        "zip = zipfile.ZipFile(imdb_local)\n",
        "zip.extractall()"
      ],
      "execution_count": 0,
      "outputs": []
    },
    {
      "cell_type": "markdown",
      "metadata": {
        "id": "XChZgGy4TKdM",
        "colab_type": "text"
      },
      "source": [
        "## Process "
      ]
    },
    {
      "cell_type": "code",
      "metadata": {
        "id": "M84OxgVMTMpI",
        "colab_type": "code",
        "colab": {}
      },
      "source": [
        "imdb_folder = 'aclImdb'\n",
        "train_dir = os.path.join(imdb_folder, 'train')\n",
        "\n",
        "labels = []\n",
        "texts  = []\n",
        "\n",
        "for label_type in ['neg', 'pos']:\n",
        "  dir_name = os.path.join(train_dir, label_type)\n",
        "  for fname in os.listdir(dir_name):\n",
        "    if fname[-4:] == '.txt':\n",
        "      with open(os.path.join(dir_name, fname)) as f:\n",
        "        texts.append(f.read())\n",
        "        labels.append(0 if label_type == 'neg' else 1)"
      ],
      "execution_count": 0,
      "outputs": []
    },
    {
      "cell_type": "code",
      "metadata": {
        "id": "7DICreIpbRzw",
        "colab_type": "code",
        "colab": {
          "base_uri": "https://localhost:8080/",
          "height": 122
        },
        "outputId": "5000e6cd-b970-4765-f9f6-e7fdc889b3ee"
      },
      "source": [
        "texts[0 : 5]"
      ],
      "execution_count": 41,
      "outputs": [
        {
          "output_type": "execute_result",
          "data": {
            "text/plain": [
              "['I have to agree with most everyone\\'s opinion that this show was poorly produced as well as written.The acting was not much more above the lower production values however I feel an actor can only rely on the material provided to them and make the best of it. In keeping with this thought I feel it is important to point out that one actor has risen and persevered well beyond this campy to tasteless production to have become a respectable and quite talented performer.I am referring to Laura Harris a Canadian born actor who has etched her way through many poorly produced shows and movies to find a place on the HBO hit \"Dead Like Me\" where she plays the role of Daisy Adair and to her credit she handles this role in an efficient manner.I remember having a typical boyhood crush on the young actress during this series where she played Ashley a soft spoken yet intelligent 7th grader.I felt as though if anyone might \"make it\" from this series it surely would be Laura Harris and true to her nature she did excel in the acting field to win the respect of many producers who now recognize her for her talent as well as unique Nordic blond allure. If you ever do have the opportunity to view this series I recommend that you have something epic to watch after wards such as the \\'Godfather\\' or perhaps \\'Beaches\\' in order to remind yourself that there is after all a great deal of true production integrity and value out there and that this series is only a low-budget reminder of what Laura Harris can simply state about her time on the show and I bet she would quote many a young actors words of defense by saying \"It\\'s a start!\"',\n",
              " 'I got this as a turkey movie and was I not disappointed.<br /><br />Acting - overall even though many have been in other movies it is clear that they had to work hard to act this bad so constantly over this entire movie with out accidentally letting slip some degree of acting.<br /><br />Plot - being generous I could say that the scriptwriter did originally start with a plot but but did his best to ignore it. the plot broke down faster then a Chinese knock off computer <br /><br />Scrip - now that was an abomination of nature. it failed to flow with any rhyme or reason. the majority of the lines by the characters were at best pathetic to imbecilic. the script worked hard to make sure that no character managed to get to be considered memorable. I have watched other movies where the extras were more interesting and memorable.<br /><br />Special effects - ROTFLMAO!!!!! They were short bus special <br /><br />Directing - until you can come up with your own directing ability copy the style of your favorite directer otherwise you will only make failures like this.<br /><br />It is good to know that your friends/family have been giving you 10 stars for this movie',\n",
              " 'I doubt this will ever even be a cult film. I loved Gram Parsons to be sure and I did not expect much out of this film and got even less. What could have been clever and moving was campy. It was devoid of the music that made Gram and had more filler than cheap dog food. There was no background on Gram or the colorful people of that era. The characters shown were not familiar to me even as a fan of Gram\\'s and all the versions of his \"afterlife adventures\" I have heard. Rock and roll is full of tales, good ones too but they should taken with a grain of salt. They can be great stories even though exaggerated. However, this movie took a good story and turned into tripe. Stealing any dead body and the ensuing implications should never be a dull tale but they made it dull, somehow. I am tempted to steal every copy of Grand Theft Parsons, head out to the desert and burn them all.',\n",
              " 'THE CRIMSON RIVERS is one of the most over-directed, over-the-top, over-everything mess I\\'ve ever seen come out of France. There\\'s nothing worse than a French production trying to out-do films made in Hollywood and CR is a perfect example of such a wannabe horror/action/buddy flick. I almost stopped it halfway through because I knew it wouldn\\'t amount to anything but French guys trying to show-off.<br /><br />The film starts off promisingly, like some sort of expansive horror film, but it quickly shifts genres, from horror to action to x-files type to buddy flick, that in the end, CR is all of it and also none of it. It\\'s so full of clichés that at one point I thought the whole thing was a comedy. The painful dialogue and those silent pauses, with fades outs and fades ins just at the right expositionary moments, made me groan. I thought only films made in Hollywood used this hackneyed technique.<br /><br />The chase scene, with Vincent Cassel running after the killer, is so over-directed and over-done that it\\'s almost a thing of beauty. The climax on top of the mountain, with the stupid revelation about the killer(s) with Cassel and Reno playing \"buddies\" like Nolte and Murphy in 48 HRS, completely derailed what little credibility the film had by then.<br /><br />It\\'s difficult to believe that the director of THE CRIMSON RIVERS also directed GOTHIKA, which though had its share of problems, doesn\\'t even come close to the awfulness of this overbaked, confused film.',\n",
              " \"Note: I will reveal a key part of the plot, but if you've looked at the DVD cover or any promotional material, you'll already know it.<br /><br />This movie seems to have been written by an eleven-year-old who isn't very bright and was probably very tired when he wrote it. The writer doesn't know the difference between a chemical and an organism.<br /><br />Forget the fact the the UN and the NSA seem to be running the show in Hungary. Forget the fact that when these master intelligence agents go chasing after someone whose mere touch will kill you in about a minute they don't wear protective gear (not even gloves). These are quibbles in the context of this movie. In the scientific world within this story, 2+2=6.34 and gravity goes sideways.<br /><br />The fact is that the people in this movie do not (with a few exceptions) behave the way human beings behave. Almost every time a character responds to something it is inappropriate. The love story (of course there is one) makes soap opera scripts seem like Shakespeare.<br /><br />I can't believe we wasted a free movie rental on this thing.\"]"
            ]
          },
          "metadata": {
            "tags": []
          },
          "execution_count": 41
        }
      ]
    },
    {
      "cell_type": "code",
      "metadata": {
        "id": "TtLwpBkKbXAy",
        "colab_type": "code",
        "colab": {
          "base_uri": "https://localhost:8080/",
          "height": 34
        },
        "outputId": "9ec7d9d1-dc14-43d5-b411-4cb983a4d10f"
      },
      "source": [
        "labels[0 : 5]"
      ],
      "execution_count": 42,
      "outputs": [
        {
          "output_type": "execute_result",
          "data": {
            "text/plain": [
              "[0, 0, 0, 0, 0]"
            ]
          },
          "metadata": {
            "tags": []
          },
          "execution_count": 42
        }
      ]
    },
    {
      "cell_type": "markdown",
      "metadata": {
        "id": "zsqU_6bYbjDw",
        "colab_type": "text"
      },
      "source": [
        "## Tokenize"
      ]
    },
    {
      "cell_type": "code",
      "metadata": {
        "id": "OZTp2miObn3N",
        "colab_type": "code",
        "colab": {
          "base_uri": "https://localhost:8080/",
          "height": 34
        },
        "outputId": "5bceb109-74b8-4a4a-dc2a-134a7cdcaaee"
      },
      "source": [
        "MAX_WORDS = 10000\n",
        "MAX_LENGTH = 100\n",
        "TRAINING_SAMPLES = 200\n",
        "VALIDATION_SAMPLES = 10000\n",
        "\n",
        "tokenizer = Tokenizer(num_words = MAX_WORDS)\n",
        "tokenizer.fit_on_texts(texts)\n",
        "sequences = tokenizer.texts_to_sequences(texts)\n",
        "word_index = tokenizer.word_index\n",
        "print(f'Found {len(word_index)} tokens')"
      ],
      "execution_count": 47,
      "outputs": [
        {
          "output_type": "stream",
          "text": [
            "Found 88582 tokens\n"
          ],
          "name": "stdout"
        }
      ]
    },
    {
      "cell_type": "code",
      "metadata": {
        "id": "F5aKDbYAcYtj",
        "colab_type": "code",
        "colab": {
          "base_uri": "https://localhost:8080/",
          "height": 51
        },
        "outputId": "5968869e-a4bc-4da6-cd20-9be6b066e326"
      },
      "source": [
        "data = pad_sequences(sequences, maxlen=MAX_LENGTH)\n",
        "labels = np.asarray(labels)\n",
        "\n",
        "print(f'Data  Shape {data.shape}')\n",
        "print(f'Label Shape {labels.shape}')"
      ],
      "execution_count": 49,
      "outputs": [
        {
          "output_type": "stream",
          "text": [
            "Data  Shape (25000, 100)\n",
            "Label Shape (25000,)\n"
          ],
          "name": "stdout"
        }
      ]
    },
    {
      "cell_type": "markdown",
      "metadata": {
        "id": "oMBFHRrAdI4Z",
        "colab_type": "text"
      },
      "source": [
        "## Shuffle Data"
      ]
    },
    {
      "cell_type": "code",
      "metadata": {
        "id": "mc1Cwm0JdNZ3",
        "colab_type": "code",
        "colab": {}
      },
      "source": [
        "indices = np.arange(data.shape[0])\n",
        "np.random.shuffle(indices)\n",
        "data = data[indices]\n",
        "labels = labels[indices]"
      ],
      "execution_count": 0,
      "outputs": []
    },
    {
      "cell_type": "markdown",
      "metadata": {
        "id": "SsLwL6U6dgEl",
        "colab_type": "text"
      },
      "source": [
        "## Train - Test"
      ]
    },
    {
      "cell_type": "code",
      "metadata": {
        "id": "5bq7cZXvdiFm",
        "colab_type": "code",
        "colab": {}
      },
      "source": [
        "X_train = data[:TRAINING_SAMPLES]\n",
        "y_train = labels[:TRAINING_SAMPLES]\n",
        "\n",
        "X_val = data[TRAINING_SAMPLES : TRAINING_SAMPLES + VALIDATION_SAMPLES]\n",
        "y_val = labels[TRAINING_SAMPLES : TRAINING_SAMPLES + VALIDATION_SAMPLES]"
      ],
      "execution_count": 0,
      "outputs": []
    },
    {
      "cell_type": "markdown",
      "metadata": {
        "id": "CPL7zY7ETUBn",
        "colab_type": "text"
      },
      "source": [
        "# GloVe\n",
        "* Download GloVe pretrained embeddings \n",
        "* File is large (822 MB)"
      ]
    },
    {
      "cell_type": "markdown",
      "metadata": {
        "id": "5TnTNOQbaQV8",
        "colab_type": "text"
      },
      "source": [
        "## Pull Data"
      ]
    },
    {
      "cell_type": "code",
      "metadata": {
        "id": "J8rRIK_sTS_M",
        "colab_type": "code",
        "colab": {}
      },
      "source": [
        "glove_url   = 'http://nlp.stanford.edu/data/glove.6B.zip'\n",
        "glove_local = 'glove.zip'\n",
        "\n",
        "r = requests.get(glove_url)\n",
        "with open(glove_local, \"wb\") as code:\n",
        "    code.write(r.content)"
      ],
      "execution_count": 0,
      "outputs": []
    },
    {
      "cell_type": "code",
      "metadata": {
        "id": "_p4_xNv1YHPT",
        "colab_type": "code",
        "colab": {}
      },
      "source": [
        "zip = zipfile.ZipFile(glove_local)\n",
        "zip.extractall()"
      ],
      "execution_count": 0,
      "outputs": []
    },
    {
      "cell_type": "markdown",
      "metadata": {
        "id": "TALUd9-paOUL",
        "colab_type": "text"
      },
      "source": [
        "## Tokenize"
      ]
    },
    {
      "cell_type": "code",
      "metadata": {
        "id": "PZJWVAvNX68P",
        "colab_type": "code",
        "colab": {}
      },
      "source": [
        "glove_index = {}\n",
        "f = open('glove.6B.100d.txt')\n",
        "for line in f:\n",
        "  values = line.split()\n",
        "  word = values[0]\n",
        "  coef = np.asarray(values[1:], dtype='float32')\n",
        "  glove_index[word] = coef\n",
        "f.close()"
      ],
      "execution_count": 0,
      "outputs": []
    },
    {
      "cell_type": "code",
      "metadata": {
        "id": "8niTDOReYsZP",
        "colab_type": "code",
        "colab": {
          "base_uri": "https://localhost:8080/",
          "height": 34
        },
        "outputId": "eef32f15-c5ab-407e-92e0-d1e883c2d71d"
      },
      "source": [
        "print(f'Glove Index has {len(glove_index):,} words')"
      ],
      "execution_count": 30,
      "outputs": [
        {
          "output_type": "stream",
          "text": [
            "Glove Index has 400,000 words\n"
          ],
          "name": "stdout"
        }
      ]
    },
    {
      "cell_type": "markdown",
      "metadata": {
        "id": "RKyvHHvKefnT",
        "colab_type": "text"
      },
      "source": [
        "## Embedding"
      ]
    },
    {
      "cell_type": "code",
      "metadata": {
        "id": "znnf5REvd5z3",
        "colab_type": "code",
        "colab": {}
      },
      "source": [
        "EMBEDDING_DIM = 100\n",
        "\n",
        "embedding_matrix = np.zeros((MAX_WORDS, EMBEDDING_DIM))\n",
        "for word, i in word_index.items():\n",
        "  if i < MAX_WORDS:\n",
        "    embedding_vector = glove_index.get(word)\n",
        "    if embedding_vector is not None:\n",
        "      embedding_matrix[i] = embedding_vector"
      ],
      "execution_count": 0,
      "outputs": []
    },
    {
      "cell_type": "code",
      "metadata": {
        "id": "Bsnb8v4DebMC",
        "colab_type": "code",
        "colab": {
          "base_uri": "https://localhost:8080/",
          "height": 238
        },
        "outputId": "31f7672b-6e9f-4cb2-f4e0-c3add2401120"
      },
      "source": [
        "embedding_matrix"
      ],
      "execution_count": 53,
      "outputs": [
        {
          "output_type": "execute_result",
          "data": {
            "text/plain": [
              "array([[ 0.        ,  0.        ,  0.        , ...,  0.        ,\n",
              "         0.        ,  0.        ],\n",
              "       [-0.038194  , -0.24487001,  0.72812003, ..., -0.1459    ,\n",
              "         0.82779998,  0.27061999],\n",
              "       [-0.071953  ,  0.23127   ,  0.023731  , ..., -0.71894997,\n",
              "         0.86894   ,  0.19539   ],\n",
              "       ...,\n",
              "       [-0.61896998, -0.63664001, -0.30307001, ..., -1.43369997,\n",
              "        -0.61346   , -0.43518001],\n",
              "       [ 0.25948   ,  0.14112   , -0.18577   , ...,  0.47609001,\n",
              "        -0.52741998,  0.30388001],\n",
              "       [ 0.19607   ,  0.59483999,  0.028115  , ..., -0.43404999,\n",
              "         0.477     ,  0.16965   ]])"
            ]
          },
          "metadata": {
            "tags": []
          },
          "execution_count": 53
        }
      ]
    },
    {
      "cell_type": "markdown",
      "metadata": {
        "id": "lDeI5TTATjJ1",
        "colab_type": "text"
      },
      "source": [
        "# Model : Pre-Trained & Frozen Embeddings\n",
        "* Use GloVe Weights\n",
        "* Freeze the Embedding Layer"
      ]
    },
    {
      "cell_type": "code",
      "metadata": {
        "id": "Ic_LUKkgToAo",
        "colab_type": "code",
        "colab": {
          "base_uri": "https://localhost:8080/",
          "height": 289
        },
        "outputId": "8884b451-e7d0-472a-f58a-68de98d0c252"
      },
      "source": [
        "model = Sequential()\n",
        "model.add(Embedding(MAX_WORDS, EMBEDDING_DIM, input_length=MAX_LENGTH))\n",
        "model.add(Flatten())\n",
        "model.add(Dense(32, activation='relu'))\n",
        "model.add(Dense(1, activation='sigmoid'))\n",
        "model.summary()"
      ],
      "execution_count": 68,
      "outputs": [
        {
          "output_type": "stream",
          "text": [
            "Model: \"sequential_6\"\n",
            "_________________________________________________________________\n",
            "Layer (type)                 Output Shape              Param #   \n",
            "=================================================================\n",
            "embedding_7 (Embedding)      (None, 100, 100)          1000000   \n",
            "_________________________________________________________________\n",
            "flatten_5 (Flatten)          (None, 10000)             0         \n",
            "_________________________________________________________________\n",
            "dense_7 (Dense)              (None, 32)                320032    \n",
            "_________________________________________________________________\n",
            "dense_8 (Dense)              (None, 1)                 33        \n",
            "=================================================================\n",
            "Total params: 1,320,065\n",
            "Trainable params: 1,320,065\n",
            "Non-trainable params: 0\n",
            "_________________________________________________________________\n"
          ],
          "name": "stdout"
        }
      ]
    },
    {
      "cell_type": "markdown",
      "metadata": {
        "id": "Ch64vNice_7e",
        "colab_type": "text"
      },
      "source": [
        "## Load Embedding & Freeze "
      ]
    },
    {
      "cell_type": "code",
      "metadata": {
        "id": "YlMtRXNQfC6M",
        "colab_type": "code",
        "colab": {}
      },
      "source": [
        "model.layers[0].set_weights([embedding_matrix])\n",
        "model.layers[0].trainable = False"
      ],
      "execution_count": 0,
      "outputs": []
    },
    {
      "cell_type": "markdown",
      "metadata": {
        "id": "5mOLsnyNfOs9",
        "colab_type": "text"
      },
      "source": [
        "## Compile & Train"
      ]
    },
    {
      "cell_type": "code",
      "metadata": {
        "id": "ygqNb5UefPHg",
        "colab_type": "code",
        "colab": {
          "base_uri": "https://localhost:8080/",
          "height": 394
        },
        "outputId": "5f800dc9-9808-4073-e17e-0cbb5051d67b"
      },
      "source": [
        "model.compile(optimizer='rmsprop',\n",
        "              loss='binary_crossentropy',\n",
        "              metrics=['acc'])\n",
        "history = model.fit(X_train, y_train,\n",
        "              epochs=10,\n",
        "              batch_size=32,\n",
        "              validation_data=(X_val, y_val))\n",
        "model.save_weights('pretrain_frozen_weights.h5')"
      ],
      "execution_count": 71,
      "outputs": [
        {
          "output_type": "stream",
          "text": [
            "Train on 200 samples, validate on 10000 samples\n",
            "Epoch 1/10\n",
            "200/200 [==============================] - 3s 14ms/step - loss: 3.3158 - acc: 0.5150 - val_loss: 0.7453 - val_acc: 0.5098\n",
            "Epoch 2/10\n",
            "200/200 [==============================] - 3s 13ms/step - loss: 0.5335 - acc: 0.6950 - val_loss: 0.8487 - val_acc: 0.5155\n",
            "Epoch 3/10\n",
            "200/200 [==============================] - 3s 13ms/step - loss: 0.4616 - acc: 0.7400 - val_loss: 1.0486 - val_acc: 0.5033\n",
            "Epoch 4/10\n",
            "200/200 [==============================] - 3s 13ms/step - loss: 0.2893 - acc: 0.8700 - val_loss: 0.7039 - val_acc: 0.5721\n",
            "Epoch 5/10\n",
            "200/200 [==============================] - 3s 13ms/step - loss: 0.1171 - acc: 0.9900 - val_loss: 1.1497 - val_acc: 0.5083\n",
            "Epoch 6/10\n",
            "200/200 [==============================] - 2s 12ms/step - loss: 0.2857 - acc: 0.8700 - val_loss: 0.7818 - val_acc: 0.5696\n",
            "Epoch 7/10\n",
            "200/200 [==============================] - 2s 12ms/step - loss: 0.0463 - acc: 1.0000 - val_loss: 0.8989 - val_acc: 0.5532\n",
            "Epoch 8/10\n",
            "200/200 [==============================] - 2s 12ms/step - loss: 0.5044 - acc: 0.7900 - val_loss: 0.7628 - val_acc: 0.5694\n",
            "Epoch 9/10\n",
            "200/200 [==============================] - 2s 12ms/step - loss: 0.0366 - acc: 1.0000 - val_loss: 0.7649 - val_acc: 0.5813\n",
            "Epoch 10/10\n",
            "200/200 [==============================] - 2s 12ms/step - loss: 0.0218 - acc: 1.0000 - val_loss: 0.7953 - val_acc: 0.5822\n"
          ],
          "name": "stdout"
        }
      ]
    },
    {
      "cell_type": "markdown",
      "metadata": {
        "id": "vxAPAHiIhBkF",
        "colab_type": "text"
      },
      "source": [
        "## Plot Accuracy\n",
        "* 55% - 60%"
      ]
    },
    {
      "cell_type": "code",
      "metadata": {
        "id": "vjtMTJg3hB1-",
        "colab_type": "code",
        "colab": {
          "base_uri": "https://localhost:8080/",
          "height": 265
        },
        "outputId": "295825ad-0ffe-4717-d18c-47e5a0c5b403"
      },
      "source": [
        "epochs = range(1, len(history.history['acc']) + 1) \n",
        "plt.plot(epochs, history.history['acc'],     'bo', label='Training Accuracy')\n",
        "plt.plot(epochs, history.history['val_acc'], 'b',  label='Validation Accuracy')\n",
        "plt.legend()\n",
        "plt.show()"
      ],
      "execution_count": 72,
      "outputs": [
        {
          "output_type": "display_data",
          "data": {
            "image/png": "[encoded data removed]",
            "text/plain": [
              "<Figure size 432x288 with 1 Axes>"
            ]
          },
          "metadata": {
            "tags": []
          }
        }
      ]
    },
    {
      "cell_type": "markdown",
      "metadata": {
        "id": "ZZkPaPMhTqMM",
        "colab_type": "text"
      },
      "source": [
        "# Model : Pre-Trained Embeddings\n",
        "* Use GloVe Weights\n",
        "* Allow our model to adjust the weights of the Embedding layer\n",
        "\n",
        "\n",
        "\n"
      ]
    },
    {
      "cell_type": "code",
      "metadata": {
        "id": "k60Z_CexUauT",
        "colab_type": "code",
        "colab": {
          "base_uri": "https://localhost:8080/",
          "height": 289
        },
        "outputId": "19d35342-3641-4f7e-cd88-3b87a9ae03eb"
      },
      "source": [
        "model = Sequential()\n",
        "model.add(Embedding(MAX_WORDS, EMBEDDING_DIM, input_length=MAX_LENGTH))\n",
        "model.add(Flatten())\n",
        "model.add(Dense(32, activation='relu'))\n",
        "model.add(Dense(1, activation='sigmoid'))\n",
        "model.summary()"
      ],
      "execution_count": 73,
      "outputs": [
        {
          "output_type": "stream",
          "text": [
            "Model: \"sequential_7\"\n",
            "_________________________________________________________________\n",
            "Layer (type)                 Output Shape              Param #   \n",
            "=================================================================\n",
            "embedding_8 (Embedding)      (None, 100, 100)          1000000   \n",
            "_________________________________________________________________\n",
            "flatten_6 (Flatten)          (None, 10000)             0         \n",
            "_________________________________________________________________\n",
            "dense_9 (Dense)              (None, 32)                320032    \n",
            "_________________________________________________________________\n",
            "dense_10 (Dense)             (None, 1)                 33        \n",
            "=================================================================\n",
            "Total params: 1,320,065\n",
            "Trainable params: 1,320,065\n",
            "Non-trainable params: 0\n",
            "_________________________________________________________________\n"
          ],
          "name": "stdout"
        }
      ]
    },
    {
      "cell_type": "markdown",
      "metadata": {
        "id": "aNvAsYRGhcSb",
        "colab_type": "text"
      },
      "source": [
        "## Load Embedding\n"
      ]
    },
    {
      "cell_type": "code",
      "metadata": {
        "id": "-kqoOnZNhhOC",
        "colab_type": "code",
        "colab": {}
      },
      "source": [
        "model.layers[0].set_weights([embedding_matrix])"
      ],
      "execution_count": 0,
      "outputs": []
    },
    {
      "cell_type": "markdown",
      "metadata": {
        "id": "tpcze1zJhl0e",
        "colab_type": "text"
      },
      "source": [
        "## Compile & Train"
      ]
    },
    {
      "cell_type": "code",
      "metadata": {
        "id": "h5oSQVk2hkjT",
        "colab_type": "code",
        "colab": {
          "base_uri": "https://localhost:8080/",
          "height": 394
        },
        "outputId": "68cbc7f6-a692-4087-ce8f-4d29c4e5e363"
      },
      "source": [
        "model.compile(optimizer='rmsprop',\n",
        "              loss='binary_crossentropy',\n",
        "              metrics=['acc'])\n",
        "history = model.fit(X_train, y_train,\n",
        "              epochs=10,\n",
        "              batch_size=32,\n",
        "              validation_data=(X_val, y_val))\n",
        "model.save_weights('pretrain_unfrozen_weights.h5')"
      ],
      "execution_count": 75,
      "outputs": [
        {
          "output_type": "stream",
          "text": [
            "Train on 200 samples, validate on 10000 samples\n",
            "Epoch 1/10\n",
            "200/200 [==============================] - 3s 14ms/step - loss: 1.5072 - acc: 0.5450 - val_loss: 0.7428 - val_acc: 0.5082\n",
            "Epoch 2/10\n",
            "200/200 [==============================] - 2s 12ms/step - loss: 0.6462 - acc: 0.6950 - val_loss: 1.0380 - val_acc: 0.4978\n",
            "Epoch 3/10\n",
            "200/200 [==============================] - 2s 12ms/step - loss: 0.4319 - acc: 0.7950 - val_loss: 1.0688 - val_acc: 0.4976\n",
            "Epoch 4/10\n",
            "200/200 [==============================] - 2s 12ms/step - loss: 0.2915 - acc: 0.8650 - val_loss: 0.8361 - val_acc: 0.5109\n",
            "Epoch 5/10\n",
            "200/200 [==============================] - 2s 12ms/step - loss: 0.1717 - acc: 0.9850 - val_loss: 1.1702 - val_acc: 0.5042\n",
            "Epoch 6/10\n",
            "200/200 [==============================] - 2s 12ms/step - loss: 0.1057 - acc: 0.9850 - val_loss: 0.7502 - val_acc: 0.5738\n",
            "Epoch 7/10\n",
            "200/200 [==============================] - 2s 12ms/step - loss: 0.4348 - acc: 0.8750 - val_loss: 0.7269 - val_acc: 0.5802\n",
            "Epoch 8/10\n",
            "200/200 [==============================] - 2s 12ms/step - loss: 0.0304 - acc: 1.0000 - val_loss: 0.7466 - val_acc: 0.5854\n",
            "Epoch 9/10\n",
            "200/200 [==============================] - 2s 12ms/step - loss: 0.0223 - acc: 1.0000 - val_loss: 1.0054 - val_acc: 0.5374\n",
            "Epoch 10/10\n",
            "200/200 [==============================] - 2s 12ms/step - loss: 0.0171 - acc: 1.0000 - val_loss: 0.7717 - val_acc: 0.5851\n"
          ],
          "name": "stdout"
        }
      ]
    },
    {
      "cell_type": "markdown",
      "metadata": {
        "id": "AtPOzBenhtLm",
        "colab_type": "text"
      },
      "source": [
        "## Plot Accuracy\n",
        "* 55-60%"
      ]
    },
    {
      "cell_type": "code",
      "metadata": {
        "id": "NAjlrrTGhxkv",
        "colab_type": "code",
        "colab": {
          "base_uri": "https://localhost:8080/",
          "height": 265
        },
        "outputId": "42627e29-6973-4787-8129-077c00ae3d5c"
      },
      "source": [
        "epochs = range(1, len(history.history['acc']) + 1) \n",
        "plt.plot(epochs, history.history['acc'],     'bo', label='Training Accuracy')\n",
        "plt.plot(epochs, history.history['val_acc'], 'b',  label='Validation Accuracy')\n",
        "plt.legend()\n",
        "plt.show()"
      ],
      "execution_count": 76,
      "outputs": [
        {
          "output_type": "display_data",
          "data": {
            "image/png": "[encoded data removed]",
            "text/plain": [
              "<Figure size 432x288 with 1 Axes>"
            ]
          },
          "metadata": {
            "tags": []
          }
        }
      ]
    },
    {
      "cell_type": "markdown",
      "metadata": {
        "id": "PcbfBJy1Ubju",
        "colab_type": "text"
      },
      "source": [
        "# Model : No Pre-Trained Embeddings\n",
        "* As a baseline, let's train the model without the embedding layer loaded with GloVe\n",
        "* We'll learn the embeddings as we train the network"
      ]
    },
    {
      "cell_type": "code",
      "metadata": {
        "id": "OvthN34bUel-",
        "colab_type": "code",
        "colab": {
          "base_uri": "https://localhost:8080/",
          "height": 289
        },
        "outputId": "53c1fc5f-35a2-403f-b563-99a1baae3685"
      },
      "source": [
        "model = Sequential()\n",
        "model.add(Embedding(MAX_WORDS, EMBEDDING_DIM, input_length=MAX_LENGTH))\n",
        "model.add(Flatten())\n",
        "model.add(Dense(32, activation='relu'))\n",
        "model.add(Dense(1, activation='sigmoid'))\n",
        "model.summary()"
      ],
      "execution_count": 77,
      "outputs": [
        {
          "output_type": "stream",
          "text": [
            "Model: \"sequential_8\"\n",
            "_________________________________________________________________\n",
            "Layer (type)                 Output Shape              Param #   \n",
            "=================================================================\n",
            "embedding_9 (Embedding)      (None, 100, 100)          1000000   \n",
            "_________________________________________________________________\n",
            "flatten_7 (Flatten)          (None, 10000)             0         \n",
            "_________________________________________________________________\n",
            "dense_11 (Dense)             (None, 32)                320032    \n",
            "_________________________________________________________________\n",
            "dense_12 (Dense)             (None, 1)                 33        \n",
            "=================================================================\n",
            "Total params: 1,320,065\n",
            "Trainable params: 1,320,065\n",
            "Non-trainable params: 0\n",
            "_________________________________________________________________\n"
          ],
          "name": "stdout"
        }
      ]
    },
    {
      "cell_type": "markdown",
      "metadata": {
        "id": "GFACUgBfiLjB",
        "colab_type": "text"
      },
      "source": [
        "## Compile & Train"
      ]
    },
    {
      "cell_type": "code",
      "metadata": {
        "id": "BEAdiFlTiKz0",
        "colab_type": "code",
        "colab": {
          "base_uri": "https://localhost:8080/",
          "height": 394
        },
        "outputId": "5d95007c-656d-4ed3-9238-26737c31c4ee"
      },
      "source": [
        "model.compile(optimizer='rmsprop',\n",
        "              loss='binary_crossentropy',\n",
        "              metrics=['acc'])\n",
        "history = model.fit(X_train, y_train,\n",
        "              epochs=10,\n",
        "              batch_size=32,\n",
        "              validation_data=(X_val, y_val))\n",
        "model.save_weights('train_weights.h5')"
      ],
      "execution_count": 78,
      "outputs": [
        {
          "output_type": "stream",
          "text": [
            "Train on 200 samples, validate on 10000 samples\n",
            "Epoch 1/10\n",
            "200/200 [==============================] - 3s 15ms/step - loss: 0.6951 - acc: 0.5050 - val_loss: 0.6915 - val_acc: 0.5334\n",
            "Epoch 2/10\n",
            "200/200 [==============================] - 2s 12ms/step - loss: 0.5068 - acc: 0.9800 - val_loss: 0.6880 - val_acc: 0.5440\n",
            "Epoch 3/10\n",
            "200/200 [==============================] - 2s 12ms/step - loss: 0.2867 - acc: 0.9900 - val_loss: 0.6879 - val_acc: 0.5440\n",
            "Epoch 4/10\n",
            "200/200 [==============================] - 2s 12ms/step - loss: 0.1346 - acc: 0.9900 - val_loss: 0.6916 - val_acc: 0.5419\n",
            "Epoch 5/10\n",
            "200/200 [==============================] - 2s 12ms/step - loss: 0.0674 - acc: 1.0000 - val_loss: 0.6922 - val_acc: 0.5497\n",
            "Epoch 6/10\n",
            "200/200 [==============================] - 2s 12ms/step - loss: 0.0352 - acc: 1.0000 - val_loss: 0.6959 - val_acc: 0.5484\n",
            "Epoch 7/10\n",
            "200/200 [==============================] - 2s 12ms/step - loss: 0.0193 - acc: 1.0000 - val_loss: 0.7079 - val_acc: 0.5360\n",
            "Epoch 8/10\n",
            "200/200 [==============================] - 2s 12ms/step - loss: 0.0116 - acc: 1.0000 - val_loss: 0.7041 - val_acc: 0.5464\n",
            "Epoch 9/10\n",
            "200/200 [==============================] - 2s 12ms/step - loss: 0.0065 - acc: 1.0000 - val_loss: 0.7074 - val_acc: 0.5494\n",
            "Epoch 10/10\n",
            "200/200 [==============================] - 3s 13ms/step - loss: 0.0040 - acc: 1.0000 - val_loss: 0.7121 - val_acc: 0.5494\n"
          ],
          "name": "stdout"
        }
      ]
    },
    {
      "cell_type": "markdown",
      "metadata": {
        "id": "UnBvlRX4iejW",
        "colab_type": "text"
      },
      "source": [
        "## Plot Accuracy\n",
        "50-55%"
      ]
    },
    {
      "cell_type": "code",
      "metadata": {
        "id": "FuDQNObQie-O",
        "colab_type": "code",
        "colab": {
          "base_uri": "https://localhost:8080/",
          "height": 265
        },
        "outputId": "d48d405d-0181-4f82-dbd5-9beb033ae491"
      },
      "source": [
        "epochs = range(1, len(history.history['acc']) + 1) \n",
        "plt.plot(epochs, history.history['acc'],     'bo', label='Training Accuracy')\n",
        "plt.plot(epochs, history.history['val_acc'], 'b',  label='Validation Accuracy')\n",
        "plt.legend()\n",
        "plt.show()"
      ],
      "execution_count": 79,
      "outputs": [
        {
          "output_type": "display_data",
          "data": {
            "image/png": "[encoded data removed]",
            "text/plain": [
              "<Figure size 432x288 with 1 Axes>"
            ]
          },
          "metadata": {
            "tags": []
          }
        }
      ]
    },
    {
      "cell_type": "markdown",
      "metadata": {
        "id": "kcdxDZ3-UrIZ",
        "colab_type": "text"
      },
      "source": [
        "# Comparison\n",
        "* Pre-Trained GloVe outperformed \n",
        "* 55-60% accuracy compared to 50-55%\n"
      ]
    },
    {
      "cell_type": "markdown",
      "metadata": {
        "id": "6KzXhkWtjA5j",
        "colab_type": "text"
      },
      "source": [
        "# Improvements\n",
        "* We modeled this sentiment task as an Embedding\n",
        "* We only looked at 200 sentences\n",
        "* We passed the data throught a relu / linear and into a sigmoid classifier\n",
        "* More or less, this simple model looks at a bag of words\n",
        "* We tested pre-trained GloVe embeddings\n",
        "* We can improve on this by stacking recurrent layers on top of our embedding"
      ]
    },
    {
      "cell_type": "code",
      "metadata": {
        "id": "KeAm6dici_CX",
        "colab_type": "code",
        "colab": {}
      },
      "source": [
        ""
      ],
      "execution_count": 0,
      "outputs": []
    }
  ]
}