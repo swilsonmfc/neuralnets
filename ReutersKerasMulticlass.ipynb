{
  "nbformat": 4,
  "nbformat_minor": 0,
  "metadata": {
    "colab": {
      "name": "ReutersKerasMulticlass.ipynb",
      "provenance": [],
      "collapsed_sections": [],
      "toc_visible": true,
      "include_colab_link": true
    },
    "kernelspec": {
      "name": "python3",
      "display_name": "Python 3"
    }
  },
  "cells": [
    {
      "cell_type": "markdown",
      "metadata": {
        "id": "view-in-github",
        "colab_type": "text"
      },
      "source": [
        "<a href=\"https://colab.research.google.com/github/swilsonmfc/deeplearning/blob/master/ReutersKerasMulticlass.ipynb\" target=\"_parent\"><img src=\"https://colab.research.google.com/assets/colab-badge.svg\" alt=\"Open In Colab\"/></a>"
      ]
    },
    {
      "cell_type": "markdown",
      "metadata": {
        "id": "V77qHTtSbdpU",
        "colab_type": "text"
      },
      "source": [
        "# Setup\n",
        "* Multiclass Classification\n",
        "* Preloaded Dataset Keras - Reuters\n",
        "* Topic Classification\n",
        "* Simple 3 layer model\n",
        "* Softmax 46 categorical output\n"
      ]
    },
    {
      "cell_type": "code",
      "metadata": {
        "id": "PA4Wf1GobRiR",
        "colab_type": "code",
        "outputId": "afbf0c85-2142-4121-81ce-55a8eac5cab4",
        "colab": {
          "base_uri": "https://localhost:8080/",
          "height": 34
        }
      },
      "source": [
        "import numpy as np\n",
        "import matplotlib.pyplot as plt \n",
        "\n",
        "from keras import layers\n",
        "from keras import models\n",
        "from keras import losses\n",
        "from keras import metrics\n",
        "from keras import optimizers\n",
        "\n",
        "from keras.datasets import reuters"
      ],
      "execution_count": 0,
      "outputs": [
        {
          "output_type": "stream",
          "text": [
            "Using TensorFlow backend.\n"
          ],
          "name": "stderr"
        }
      ]
    },
    {
      "cell_type": "markdown",
      "metadata": {
        "id": "TE6aQi9vcagS",
        "colab_type": "text"
      },
      "source": [
        "# Load Data"
      ]
    },
    {
      "cell_type": "code",
      "metadata": {
        "id": "kAOpxmbEcHb1",
        "colab_type": "code",
        "colab": {}
      },
      "source": [
        "[train_data, train_labels], [test_data, test_labels] = reuters.load_data(num_words=10000)"
      ],
      "execution_count": 0,
      "outputs": []
    },
    {
      "cell_type": "code",
      "metadata": {
        "id": "YXKmpY-0cYFB",
        "colab_type": "code",
        "colab": {}
      },
      "source": [
        "def vectorize_sequences(sequences, dimension=10000):\n",
        "  results = np.zeros((len(sequences), dimension))\n",
        "  for i, sequence in enumerate(sequences):\n",
        "    results[i, sequence] = 1\n",
        "  return results"
      ],
      "execution_count": 0,
      "outputs": []
    },
    {
      "cell_type": "code",
      "metadata": {
        "id": "TO62Oh9b1Q_a",
        "colab_type": "code",
        "colab": {}
      },
      "source": [
        "X_train = vectorize_sequences(train_data)\n",
        "X_test  = vectorize_sequences(test_data)"
      ],
      "execution_count": 0,
      "outputs": []
    },
    {
      "cell_type": "code",
      "metadata": {
        "id": "tPpQ0PZ01YAs",
        "colab_type": "code",
        "colab": {}
      },
      "source": [
        "# Function to create a one hot encoded topic - could have \n",
        "# used keras.utils.np_utils.to_categorical\n",
        "def onehot(labels, dimension=46):\n",
        "  results = np.zeros((len(labels), dimension))\n",
        "  for i, label in enumerate(labels):\n",
        "    results[i, label] = 1.\n",
        "  return results"
      ],
      "execution_count": 0,
      "outputs": []
    },
    {
      "cell_type": "code",
      "metadata": {
        "id": "IBcdLAjZ1tLQ",
        "colab_type": "code",
        "colab": {}
      },
      "source": [
        "ohe_train = onehot(train_labels)\n",
        "ohe_test  = onehot(test_labels)"
      ],
      "execution_count": 0,
      "outputs": []
    },
    {
      "cell_type": "markdown",
      "metadata": {
        "id": "Ohxippch5j2J",
        "colab_type": "text"
      },
      "source": [
        "# Define Model"
      ]
    },
    {
      "cell_type": "code",
      "metadata": {
        "id": "FNCBfJuo139j",
        "colab_type": "code",
        "outputId": "4de456e1-2ec0-45b1-a970-58e2a54c006c",
        "colab": {
          "base_uri": "https://localhost:8080/",
          "height": 139
        }
      },
      "source": [
        "model = models.Sequential()\n",
        "model.add(layers.Dense(64, activation='relu', input_shape=(10000, )))\n",
        "model.add(layers.Dense(64, activation='relu'))\n",
        "model.add(layers.Dense(46, activation='softmax'))"
      ],
      "execution_count": 0,
      "outputs": [
        {
          "output_type": "stream",
          "text": [
            "WARNING:tensorflow:From /usr/local/lib/python3.6/dist-packages/keras/backend/tensorflow_backend.py:66: The name tf.get_default_graph is deprecated. Please use tf.compat.v1.get_default_graph instead.\n",
            "\n",
            "WARNING:tensorflow:From /usr/local/lib/python3.6/dist-packages/keras/backend/tensorflow_backend.py:541: The name tf.placeholder is deprecated. Please use tf.compat.v1.placeholder instead.\n",
            "\n",
            "WARNING:tensorflow:From /usr/local/lib/python3.6/dist-packages/keras/backend/tensorflow_backend.py:4432: The name tf.random_uniform is deprecated. Please use tf.random.uniform instead.\n",
            "\n"
          ],
          "name": "stdout"
        }
      ]
    },
    {
      "cell_type": "code",
      "metadata": {
        "id": "Sdwepe0v9Ua-",
        "colab_type": "code",
        "outputId": "c1ca3d45-d381-489b-ee89-469495c9bd02",
        "colab": {
          "base_uri": "https://localhost:8080/",
          "height": 255
        }
      },
      "source": [
        "model.summary()"
      ],
      "execution_count": 0,
      "outputs": [
        {
          "output_type": "stream",
          "text": [
            "Model: \"sequential_1\"\n",
            "_________________________________________________________________\n",
            "Layer (type)                 Output Shape              Param #   \n",
            "=================================================================\n",
            "dense_1 (Dense)              (None, 64)                640064    \n",
            "_________________________________________________________________\n",
            "dense_2 (Dense)              (None, 64)                4160      \n",
            "_________________________________________________________________\n",
            "dense_3 (Dense)              (None, 46)                2990      \n",
            "=================================================================\n",
            "Total params: 647,214\n",
            "Trainable params: 647,214\n",
            "Non-trainable params: 0\n",
            "_________________________________________________________________\n"
          ],
          "name": "stdout"
        }
      ]
    },
    {
      "cell_type": "markdown",
      "metadata": {
        "id": "B1VkFxj15olN",
        "colab_type": "text"
      },
      "source": [
        "# Compile & Fit Model"
      ]
    },
    {
      "cell_type": "code",
      "metadata": {
        "id": "aIZ0R6at2iXn",
        "colab_type": "code",
        "outputId": "0fbb5cd5-1665-4de9-f858-07cfd469023d",
        "colab": {
          "base_uri": "https://localhost:8080/",
          "height": 105
        }
      },
      "source": [
        "model.compile(optimizer=optimizers.RMSprop(lr=0.001),\n",
        "             loss=losses.categorical_crossentropy,\n",
        "             metrics=[metrics.categorical_accuracy])"
      ],
      "execution_count": 0,
      "outputs": [
        {
          "output_type": "stream",
          "text": [
            "WARNING:tensorflow:From /usr/local/lib/python3.6/dist-packages/keras/optimizers.py:793: The name tf.train.Optimizer is deprecated. Please use tf.compat.v1.train.Optimizer instead.\n",
            "\n",
            "WARNING:tensorflow:From /usr/local/lib/python3.6/dist-packages/keras/backend/tensorflow_backend.py:3576: The name tf.log is deprecated. Please use tf.math.log instead.\n",
            "\n"
          ],
          "name": "stdout"
        }
      ]
    },
    {
      "cell_type": "code",
      "metadata": {
        "id": "Q_XcupaU3EQk",
        "colab_type": "code",
        "colab": {}
      },
      "source": [
        "X_val = X_train[:1000]\n",
        "X_train_part = X_train[1000:]\n",
        "\n",
        "y_val = ohe_train[:1000]\n",
        "y_train_part = ohe_train[1000:]"
      ],
      "execution_count": 0,
      "outputs": []
    },
    {
      "cell_type": "code",
      "metadata": {
        "id": "TzRTpkVe3YqR",
        "colab_type": "code",
        "outputId": "02278daa-7b54-4cb5-cc64-7c116c871c60",
        "colab": {
          "base_uri": "https://localhost:8080/",
          "height": 819
        }
      },
      "source": [
        "history = model.fit(X_train_part,\n",
        "                    y_train_part,\n",
        "                    epochs=20,\n",
        "                    batch_size=512,\n",
        "                    validation_data=(X_val, y_val))"
      ],
      "execution_count": 0,
      "outputs": [
        {
          "output_type": "stream",
          "text": [
            "WARNING:tensorflow:From /usr/local/lib/python3.6/dist-packages/tensorflow/python/ops/math_grad.py:1250: add_dispatch_support.<locals>.wrapper (from tensorflow.python.ops.array_ops) is deprecated and will be removed in a future version.\n",
            "Instructions for updating:\n",
            "Use tf.where in 2.0, which has the same broadcast rule as np.where\n",
            "WARNING:tensorflow:From /usr/local/lib/python3.6/dist-packages/keras/backend/tensorflow_backend.py:1033: The name tf.assign_add is deprecated. Please use tf.compat.v1.assign_add instead.\n",
            "\n",
            "Train on 7982 samples, validate on 1000 samples\n",
            "Epoch 1/20\n",
            "7982/7982 [==============================] - 1s 186us/step - loss: 2.7626 - categorical_accuracy: 0.5013 - val_loss: 1.8863 - val_categorical_accuracy: 0.6540\n",
            "Epoch 2/20\n",
            "7982/7982 [==============================] - 1s 156us/step - loss: 1.5039 - categorical_accuracy: 0.6942 - val_loss: 1.3342 - val_categorical_accuracy: 0.7120\n",
            "Epoch 3/20\n",
            "7982/7982 [==============================] - 1s 158us/step - loss: 1.0889 - categorical_accuracy: 0.7611 - val_loss: 1.1492 - val_categorical_accuracy: 0.7390\n",
            "Epoch 4/20\n",
            "7982/7982 [==============================] - 1s 159us/step - loss: 0.8566 - categorical_accuracy: 0.8145 - val_loss: 1.0371 - val_categorical_accuracy: 0.7750\n",
            "Epoch 5/20\n",
            "7982/7982 [==============================] - 1s 130us/step - loss: 0.6823 - categorical_accuracy: 0.8530 - val_loss: 0.9679 - val_categorical_accuracy: 0.7920\n",
            "Epoch 6/20\n",
            "7982/7982 [==============================] - 1s 130us/step - loss: 0.5451 - categorical_accuracy: 0.8865 - val_loss: 0.9335 - val_categorical_accuracy: 0.7990\n",
            "Epoch 7/20\n",
            "7982/7982 [==============================] - 1s 159us/step - loss: 0.4352 - categorical_accuracy: 0.9109 - val_loss: 0.9006 - val_categorical_accuracy: 0.8160\n",
            "Epoch 8/20\n",
            "7982/7982 [==============================] - 1s 156us/step - loss: 0.3550 - categorical_accuracy: 0.9267 - val_loss: 0.8743 - val_categorical_accuracy: 0.8230\n",
            "Epoch 9/20\n",
            "7982/7982 [==============================] - 1s 157us/step - loss: 0.2935 - categorical_accuracy: 0.9367 - val_loss: 0.8983 - val_categorical_accuracy: 0.8160\n",
            "Epoch 10/20\n",
            "7982/7982 [==============================] - 1s 156us/step - loss: 0.2483 - categorical_accuracy: 0.9445 - val_loss: 0.8968 - val_categorical_accuracy: 0.8200\n",
            "Epoch 11/20\n",
            "7982/7982 [==============================] - 1s 157us/step - loss: 0.2117 - categorical_accuracy: 0.9489 - val_loss: 0.9082 - val_categorical_accuracy: 0.8260\n",
            "Epoch 12/20\n",
            "7982/7982 [==============================] - 1s 159us/step - loss: 0.1926 - categorical_accuracy: 0.9521 - val_loss: 0.9065 - val_categorical_accuracy: 0.8190\n",
            "Epoch 13/20\n",
            "7982/7982 [==============================] - 1s 137us/step - loss: 0.1643 - categorical_accuracy: 0.9540 - val_loss: 0.9466 - val_categorical_accuracy: 0.8090\n",
            "Epoch 14/20\n",
            "7982/7982 [==============================] - 1s 152us/step - loss: 0.1560 - categorical_accuracy: 0.9551 - val_loss: 0.9681 - val_categorical_accuracy: 0.8060\n",
            "Epoch 15/20\n",
            "7982/7982 [==============================] - 1s 162us/step - loss: 0.1390 - categorical_accuracy: 0.9558 - val_loss: 0.9735 - val_categorical_accuracy: 0.8150\n",
            "Epoch 16/20\n",
            "7982/7982 [==============================] - 1s 159us/step - loss: 0.1327 - categorical_accuracy: 0.9553 - val_loss: 0.9803 - val_categorical_accuracy: 0.8150\n",
            "Epoch 17/20\n",
            "7982/7982 [==============================] - 1s 158us/step - loss: 0.1305 - categorical_accuracy: 0.9548 - val_loss: 0.9988 - val_categorical_accuracy: 0.8030\n",
            "Epoch 18/20\n",
            "7982/7982 [==============================] - 1s 156us/step - loss: 0.1208 - categorical_accuracy: 0.9575 - val_loss: 1.0032 - val_categorical_accuracy: 0.8180\n",
            "Epoch 19/20\n",
            "7982/7982 [==============================] - 1s 156us/step - loss: 0.1166 - categorical_accuracy: 0.9574 - val_loss: 0.9934 - val_categorical_accuracy: 0.8170\n",
            "Epoch 20/20\n",
            "7982/7982 [==============================] - 1s 157us/step - loss: 0.1124 - categorical_accuracy: 0.9590 - val_loss: 1.0536 - val_categorical_accuracy: 0.8050\n"
          ],
          "name": "stdout"
        }
      ]
    },
    {
      "cell_type": "markdown",
      "metadata": {
        "id": "geAZe2rZ5wCF",
        "colab_type": "text"
      },
      "source": [
        "# Training & Validation Loss"
      ]
    },
    {
      "cell_type": "code",
      "metadata": {
        "id": "i8YFGWJa5Evl",
        "colab_type": "code",
        "outputId": "d9900c93-8a78-4ba4-fd38-f9be25e4b3ed",
        "colab": {
          "base_uri": "https://localhost:8080/",
          "height": 295
        }
      },
      "source": [
        "loss = history.history['loss']\n",
        "val_loss = history.history['val_loss']\n",
        "\n",
        "epochs = range(1, len(loss) + 1)\n",
        "\n",
        "plt.plot(epochs, loss, 'bo', label='Training Loss')\n",
        "plt.plot(epochs, val_loss, 'b-', label='Validation Loss')\n",
        "plt.title('Training and Validation Loss')\n",
        "plt.legend()\n",
        "plt.xlabel('Epochs')\n",
        "plt.ylabel('Loss')\n",
        "plt.show()"
      ],
      "execution_count": 0,
      "outputs": [
        {
          "output_type": "display_data",
          "data": {
            "image/png": "[encoded data removed]",
            "text/plain": [
              "<Figure size 432x288 with 1 Axes>"
            ]
          },
          "metadata": {
            "tags": []
          }
        }
      ]
    },
    {
      "cell_type": "markdown",
      "metadata": {
        "id": "y0e0MFhz5vp-",
        "colab_type": "text"
      },
      "source": [
        "# Training & Validation Accuracy"
      ]
    },
    {
      "cell_type": "code",
      "metadata": {
        "id": "E00rJ2_R6iIq",
        "colab_type": "code",
        "outputId": "4bc42fb1-0cc0-4b95-8808-72058ae991f0",
        "colab": {
          "base_uri": "https://localhost:8080/",
          "height": 295
        }
      },
      "source": [
        "loss = history.history['categorical_accuracy']\n",
        "val_loss = history.history['val_categorical_accuracy']\n",
        "\n",
        "epochs = range(1, len(loss) + 1)\n",
        "\n",
        "plt.plot(epochs, loss, 'bo', label='Training Accuracy')\n",
        "plt.plot(epochs, val_loss, 'b-', label='Validation Accuracy')\n",
        "plt.title('Training and Validation Accuracy')\n",
        "plt.legend()\n",
        "plt.xlabel('Epochs')\n",
        "plt.ylabel('Accuracy')\n",
        "plt.show()"
      ],
      "execution_count": 0,
      "outputs": [
        {
          "output_type": "display_data",
          "data": {
            "image/png": "[encoded data removed]",
            "text/plain": [
              "<Figure size 432x288 with 1 Axes>"
            ]
          },
          "metadata": {
            "tags": []
          }
        }
      ]
    },
    {
      "cell_type": "markdown",
      "metadata": {
        "id": "wZIWo7iP8U5B",
        "colab_type": "text"
      },
      "source": [
        "# Overfitting\n",
        "* Overfitting somewhere around 7-11 epochs - pick 9\n",
        "* Retrain model on all data and estimate performance on test"
      ]
    },
    {
      "cell_type": "code",
      "metadata": {
        "id": "KVvN_nI56p87",
        "colab_type": "code",
        "colab": {}
      },
      "source": [
        "model = models.Sequential()\n",
        "model.add(layers.Dense(64, activation='relu', input_shape=(10000, )))\n",
        "model.add(layers.Dense(64, activation='relu'))\n",
        "model.add(layers.Dense(46, activation='softmax'))\n",
        "\n",
        "model.compile(optimizer=optimizers.RMSprop(lr=0.001),\n",
        "             loss=losses.categorical_crossentropy,\n",
        "             metrics=[metrics.categorical_accuracy])"
      ],
      "execution_count": 0,
      "outputs": []
    },
    {
      "cell_type": "code",
      "metadata": {
        "id": "l2rEXllB8TyS",
        "colab_type": "code",
        "outputId": "90bd42f4-6f88-4449-c08d-cf9fac486d4a",
        "colab": {
          "base_uri": "https://localhost:8080/",
          "height": 323
        }
      },
      "source": [
        "history = model.fit(X_train,\n",
        "                    ohe_train,\n",
        "                    epochs=9,\n",
        "                    batch_size=512)"
      ],
      "execution_count": 0,
      "outputs": [
        {
          "output_type": "stream",
          "text": [
            "Epoch 1/9\n",
            "8982/8982 [==============================] - 2s 171us/step - loss: 2.6204 - categorical_accuracy: 0.5210\n",
            "Epoch 2/9\n",
            "8982/8982 [==============================] - 1s 148us/step - loss: 1.3520 - categorical_accuracy: 0.7190\n",
            "Epoch 3/9\n",
            "8982/8982 [==============================] - 1s 139us/step - loss: 0.9972 - categorical_accuracy: 0.7859\n",
            "Epoch 4/9\n",
            "8982/8982 [==============================] - 1s 140us/step - loss: 0.7872 - categorical_accuracy: 0.8346\n",
            "Epoch 5/9\n",
            "8982/8982 [==============================] - 1s 152us/step - loss: 0.6248 - categorical_accuracy: 0.8678\n",
            "Epoch 6/9\n",
            "8982/8982 [==============================] - 1s 151us/step - loss: 0.4974 - categorical_accuracy: 0.8965\n",
            "Epoch 7/9\n",
            "8982/8982 [==============================] - 1s 132us/step - loss: 0.4014 - categorical_accuracy: 0.9164\n",
            "Epoch 8/9\n",
            "8982/8982 [==============================] - 1s 124us/step - loss: 0.3307 - categorical_accuracy: 0.9309\n",
            "Epoch 9/9\n",
            "8982/8982 [==============================] - 1s 147us/step - loss: 0.2733 - categorical_accuracy: 0.9399\n"
          ],
          "name": "stdout"
        }
      ]
    },
    {
      "cell_type": "code",
      "metadata": {
        "id": "IeTb5b-08hk7",
        "colab_type": "code",
        "outputId": "40987a9f-a637-4d09-96d7-f29b3463bcc7",
        "colab": {
          "base_uri": "https://localhost:8080/",
          "height": 51
        }
      },
      "source": [
        "results = model.evaluate(X_test, ohe_test)\n",
        "print('Loss {}  Accuracy {}'.format(results[0], results[1]))"
      ],
      "execution_count": 0,
      "outputs": [
        {
          "output_type": "stream",
          "text": [
            "2246/2246 [==============================] - 0s 135us/step\n",
            "Loss 0.9641578535044288  Accuracy 0.7894033838199487\n"
          ],
          "name": "stdout"
        }
      ]
    },
    {
      "cell_type": "code",
      "metadata": {
        "id": "rS0EEbp48xUn",
        "colab_type": "code",
        "colab": {}
      },
      "source": [
        ""
      ],
      "execution_count": 0,
      "outputs": []
    }
  ]
}