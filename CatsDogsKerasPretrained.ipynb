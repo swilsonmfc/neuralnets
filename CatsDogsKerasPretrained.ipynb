{
  "nbformat": 4,
  "nbformat_minor": 0,
  "metadata": {
    "colab": {
      "name": "CatsDogsKerasPretrained.ipynb",
      "provenance": [],
      "collapsed_sections": [],
      "include_colab_link": true
    },
    "kernelspec": {
      "name": "python3",
      "display_name": "Python 3"
    },
    "accelerator": "GPU"
  },
  "cells": [
    {
      "cell_type": "markdown",
      "metadata": {
        "id": "view-in-github",
        "colab_type": "text"
      },
      "source": [
        "<a href=\"https://colab.research.google.com/github/swilsonmfc/deeplearning/blob/master/CatsDogsKerasPretrained.ipynb\" target=\"_parent\"><img src=\"https://colab.research.google.com/assets/colab-badge.svg\" alt=\"Open In Colab\"/></a>"
      ]
    },
    {
      "cell_type": "markdown",
      "metadata": {
        "id": "wN0pKzDA0feX",
        "colab_type": "text"
      },
      "source": [
        "# Cats & Dogs Keras Pre-Trained\n",
        "* We'll use a pre-trained model in the Cats & Dogs classification\n",
        "* This will use VGG16\n",
        "* Apply data augmentation\n",
        "* We'll run it two ways\n",
        "  * Feature Extraction (stack our model on VGG, freeze & fit)\n",
        "  * Fine Tuning (stack our model on VGG, unfreeze top layers & fit)"
      ]
    },
    {
      "cell_type": "markdown",
      "metadata": {
        "id": "Z7AW5HZf0tlU",
        "colab_type": "text"
      },
      "source": [
        "# Setup"
      ]
    },
    {
      "cell_type": "code",
      "metadata": {
        "id": "VmvrAQ0r25Xj",
        "colab_type": "code",
        "colab": {}
      },
      "source": [
        "from zipfile import ZipFile\n",
        "import os\n",
        "import shutil\n",
        "import matplotlib.pyplot as plt\n",
        "import matplotlib.image as mpimg\n",
        "import numpy as np\n",
        "from sklearn.metrics import confusion_matrix\n",
        "from sklearn.metrics import classification_report"
      ],
      "execution_count": 0,
      "outputs": []
    },
    {
      "cell_type": "code",
      "metadata": {
        "id": "_DNywrci0V6e",
        "colab_type": "code",
        "colab": {
          "base_uri": "https://localhost:8080/",
          "height": 51
        },
        "outputId": "c555e0ca-e9a8-482c-a342-71e792e20a9b"
      },
      "source": [
        "%tensorflow_version 1.x\n",
        "import tensorflow as tf\n",
        "print(tf.__version__)\n",
        "\n",
        "from keras.preprocessing import image\n",
        "from keras.preprocessing.image import ImageDataGenerator\n",
        "from keras.applications import VGG16\n",
        "from keras import models\n",
        "from keras import layers\n",
        "from keras import optimizers"
      ],
      "execution_count": 2,
      "outputs": [
        {
          "output_type": "stream",
          "text": [
            "1.15.0\n"
          ],
          "name": "stdout"
        },
        {
          "output_type": "stream",
          "text": [
            "Using TensorFlow backend.\n"
          ],
          "name": "stderr"
        }
      ]
    },
    {
      "cell_type": "markdown",
      "metadata": {
        "id": "GkLGbIsp0vK9",
        "colab_type": "text"
      },
      "source": [
        "# Data"
      ]
    },
    {
      "cell_type": "code",
      "metadata": {
        "id": "LFCtASOW0woy",
        "colab_type": "code",
        "colab": {
          "base_uri": "https://localhost:8080/",
          "height": 122
        },
        "outputId": "17dbf8d4-9b34-47fb-8faf-94455b2c2047"
      },
      "source": [
        "from google.colab import drive\n",
        "drive.mount('/content/drive')"
      ],
      "execution_count": 3,
      "outputs": [
        {
          "output_type": "stream",
          "text": [
            "Go to this URL in a browser: https://accounts.google.com/o/oauth2/auth?client_id=947318989803-6bn6qk8qdgf4n4g3pfee6491hc0brc4i.apps.googleusercontent.com&redirect_uri=urn%3aietf%3awg%3aoauth%3a2.0%3aoob&response_type=code&scope=email%20https%3a%2f%2fwww.googleapis.com%2fauth%2fdocs.test%20https%3a%2f%2fwww.googleapis.com%2fauth%2fdrive%20https%3a%2f%2fwww.googleapis.com%2fauth%2fdrive.photos.readonly%20https%3a%2f%2fwww.googleapis.com%2fauth%2fpeopleapi.readonly\n",
            "\n",
            "Enter your authorization code:\n",
            "··········\n",
            "Mounted at /content/drive\n"
          ],
          "name": "stdout"
        }
      ]
    },
    {
      "cell_type": "code",
      "metadata": {
        "id": "sOu3kuo73Dgg",
        "colab_type": "code",
        "colab": {
          "base_uri": "https://localhost:8080/",
          "height": 34
        },
        "outputId": "76068caf-f69f-4dc3-cfec-f07799cf534b"
      },
      "source": [
        "!ls \"/content/drive/My Drive/Data/CatsDogs/data.zip\"\n",
        "file   = \"/content/drive/My Drive/Data/CatsDogs/data.zip\""
      ],
      "execution_count": 4,
      "outputs": [
        {
          "output_type": "stream",
          "text": [
            "'/content/drive/My Drive/Data/CatsDogs/data.zip'\n"
          ],
          "name": "stdout"
        }
      ]
    },
    {
      "cell_type": "code",
      "metadata": {
        "id": "NuuBshCI1F0U",
        "colab_type": "code",
        "colab": {}
      },
      "source": [
        "!mkdir -p /tmp/catdog\n",
        "with ZipFile(file, 'r') as zip: \n",
        "  zip.extractall('/tmp/catdog/')"
      ],
      "execution_count": 0,
      "outputs": []
    },
    {
      "cell_type": "code",
      "metadata": {
        "id": "uxNKf9ln1F6d",
        "colab_type": "code",
        "colab": {}
      },
      "source": [
        "base_dir       = '/tmp/catdog/'\n",
        "test_dir       = '/tmp/catdog/test/'\n",
        "training_dir   = '/tmp/catdog/training/'\n",
        "validation_dir = '/tmp/catdog/validation/'\n",
        "\n",
        "!mkdir -p \"$base_dir\"\n",
        "\n",
        "!rm -fr \"$test_dir\"\n",
        "!mkdir -p \"$test_dir\"\n",
        "!mkdir -p \"$test_dir/cats\"\n",
        "!mkdir -p \"$test_dir/dogs\"\n",
        "\n",
        "!rm -fr \"$training_dir\"\n",
        "!mkdir -p \"$training_dir\"\n",
        "!mkdir -p \"$training_dir/cats\"\n",
        "!mkdir -p \"$training_dir/dogs\"\n",
        "\n",
        "!rm -fr \"$validation_dir\"\n",
        "!mkdir -p \"$validation_dir\"\n",
        "!mkdir -p \"$validation_dir/cats\"\n",
        "!mkdir -p \"$validation_dir/dogs\""
      ],
      "execution_count": 0,
      "outputs": []
    },
    {
      "cell_type": "markdown",
      "metadata": {
        "id": "4d8eI14q1O7K",
        "colab_type": "text"
      },
      "source": [
        "# Images"
      ]
    },
    {
      "cell_type": "code",
      "metadata": {
        "id": "oFSdBzc91Krb",
        "colab_type": "code",
        "colab": {}
      },
      "source": [
        "range_train = 1000\n",
        "range_validation = 1500\n",
        "range_test = 2000"
      ],
      "execution_count": 0,
      "outputs": []
    },
    {
      "cell_type": "code",
      "metadata": {
        "id": "0xzsr7LO1RY-",
        "colab_type": "code",
        "colab": {}
      },
      "source": [
        "def copyFiles(prefix, dest, start, end):\n",
        "  if prefix != 'cat' and prefix != 'dog':\n",
        "    raise ValueError('Must pass cat or dog for prefix')\n",
        "  srcFolder  = os.path.join(base_dir, 'train')\n",
        "  destFolder = os.path.join(base_dir, dest, prefix + 's')\n",
        "  print(srcFolder, '->', destFolder, start, end)\n",
        "  for file in  ['{}.{}.jpg'.format(prefix, index) for index in range(start, end)]:\n",
        "    shutil.copy(os.path.join(srcFolder, file), os.path.join(destFolder, file))"
      ],
      "execution_count": 0,
      "outputs": []
    },
    {
      "cell_type": "code",
      "metadata": {
        "id": "y30dhjTB1RWa",
        "colab_type": "code",
        "colab": {
          "base_uri": "https://localhost:8080/",
          "height": 119
        },
        "outputId": "fb816b24-820d-41d5-c8bb-ee7da55d5513"
      },
      "source": [
        "copyFiles('cat', 'training', 0, range_train)\n",
        "copyFiles('cat', 'validation', range_train, range_validation)\n",
        "copyFiles('cat', 'test', range_validation, range_test)\n",
        "\n",
        "copyFiles('dog', 'training', 0, range_train)\n",
        "copyFiles('dog', 'validation', range_train, range_validation)\n",
        "copyFiles('dog', 'test', range_validation, range_test)"
      ],
      "execution_count": 9,
      "outputs": [
        {
          "output_type": "stream",
          "text": [
            "/tmp/catdog/train -> /tmp/catdog/training/cats 0 1000\n",
            "/tmp/catdog/train -> /tmp/catdog/validation/cats 1000 1500\n",
            "/tmp/catdog/train -> /tmp/catdog/test/cats 1500 2000\n",
            "/tmp/catdog/train -> /tmp/catdog/training/dogs 0 1000\n",
            "/tmp/catdog/train -> /tmp/catdog/validation/dogs 1000 1500\n",
            "/tmp/catdog/train -> /tmp/catdog/test/dogs 1500 2000\n"
          ],
          "name": "stdout"
        }
      ]
    },
    {
      "cell_type": "markdown",
      "metadata": {
        "id": "1_6hKRTe0w4z",
        "colab_type": "text"
      },
      "source": [
        "# Model\n"
      ]
    },
    {
      "cell_type": "markdown",
      "metadata": {
        "id": "HHXLRYGj4c1T",
        "colab_type": "text"
      },
      "source": [
        "## Load Pretrained\n",
        "* Drop the final layer -> 1000\n",
        "* Declare the input shape"
      ]
    },
    {
      "cell_type": "code",
      "metadata": {
        "id": "PFohGvgF2Da2",
        "colab_type": "code",
        "colab": {
          "base_uri": "https://localhost:8080/",
          "height": 799
        },
        "outputId": "cfaaff6f-b3ad-4065-e92d-45ce3830f810"
      },
      "source": [
        "base_model = VGG16(weights='imagenet', include_top=False, input_shape=(150, 150, 3))\n",
        "base_model.summary()"
      ],
      "execution_count": 33,
      "outputs": [
        {
          "output_type": "stream",
          "text": [
            "Model: \"vgg16\"\n",
            "_________________________________________________________________\n",
            "Layer (type)                 Output Shape              Param #   \n",
            "=================================================================\n",
            "input_2 (InputLayer)         (None, 150, 150, 3)       0         \n",
            "_________________________________________________________________\n",
            "block1_conv1 (Conv2D)        (None, 150, 150, 64)      1792      \n",
            "_________________________________________________________________\n",
            "block1_conv2 (Conv2D)        (None, 150, 150, 64)      36928     \n",
            "_________________________________________________________________\n",
            "block1_pool (MaxPooling2D)   (None, 75, 75, 64)        0         \n",
            "_________________________________________________________________\n",
            "block2_conv1 (Conv2D)        (None, 75, 75, 128)       73856     \n",
            "_________________________________________________________________\n",
            "block2_conv2 (Conv2D)        (None, 75, 75, 128)       147584    \n",
            "_________________________________________________________________\n",
            "block2_pool (MaxPooling2D)   (None, 37, 37, 128)       0         \n",
            "_________________________________________________________________\n",
            "block3_conv1 (Conv2D)        (None, 37, 37, 256)       295168    \n",
            "_________________________________________________________________\n",
            "block3_conv2 (Conv2D)        (None, 37, 37, 256)       590080    \n",
            "_________________________________________________________________\n",
            "block3_conv3 (Conv2D)        (None, 37, 37, 256)       590080    \n",
            "_________________________________________________________________\n",
            "block3_pool (MaxPooling2D)   (None, 18, 18, 256)       0         \n",
            "_________________________________________________________________\n",
            "block4_conv1 (Conv2D)        (None, 18, 18, 512)       1180160   \n",
            "_________________________________________________________________\n",
            "block4_conv2 (Conv2D)        (None, 18, 18, 512)       2359808   \n",
            "_________________________________________________________________\n",
            "block4_conv3 (Conv2D)        (None, 18, 18, 512)       2359808   \n",
            "_________________________________________________________________\n",
            "block4_pool (MaxPooling2D)   (None, 9, 9, 512)         0         \n",
            "_________________________________________________________________\n",
            "block5_conv1 (Conv2D)        (None, 9, 9, 512)         2359808   \n",
            "_________________________________________________________________\n",
            "block5_conv2 (Conv2D)        (None, 9, 9, 512)         2359808   \n",
            "_________________________________________________________________\n",
            "block5_conv3 (Conv2D)        (None, 9, 9, 512)         2359808   \n",
            "_________________________________________________________________\n",
            "block5_pool (MaxPooling2D)   (None, 4, 4, 512)         0         \n",
            "=================================================================\n",
            "Total params: 14,714,688\n",
            "Trainable params: 14,714,688\n",
            "Non-trainable params: 0\n",
            "_________________________________________________________________\n"
          ],
          "name": "stdout"
        }
      ]
    },
    {
      "cell_type": "markdown",
      "metadata": {
        "id": "1QBMOgUM4mli",
        "colab_type": "text"
      },
      "source": [
        "## Layer Cats / Dogs"
      ]
    },
    {
      "cell_type": "code",
      "metadata": {
        "id": "_5p7DDmR1ZzV",
        "colab_type": "code",
        "colab": {
          "base_uri": "https://localhost:8080/",
          "height": 289
        },
        "outputId": "134e1ca9-4938-4352-d44c-e717568a7d2f"
      },
      "source": [
        "model = models.Sequential()\n",
        "model.add(base_model)\n",
        "model.add(layers.Flatten())\n",
        "model.add(layers.Dense(256, activation='relu'))\n",
        "model.add(layers.Dense(1, activation='sigmoid'))\n",
        "model.summary()"
      ],
      "execution_count": 34,
      "outputs": [
        {
          "output_type": "stream",
          "text": [
            "Model: \"sequential_2\"\n",
            "_________________________________________________________________\n",
            "Layer (type)                 Output Shape              Param #   \n",
            "=================================================================\n",
            "vgg16 (Model)                (None, 4, 4, 512)         14714688  \n",
            "_________________________________________________________________\n",
            "flatten_2 (Flatten)          (None, 8192)              0         \n",
            "_________________________________________________________________\n",
            "dense_3 (Dense)              (None, 256)               2097408   \n",
            "_________________________________________________________________\n",
            "dense_4 (Dense)              (None, 1)                 257       \n",
            "=================================================================\n",
            "Total params: 16,812,353\n",
            "Trainable params: 16,812,353\n",
            "Non-trainable params: 0\n",
            "_________________________________________________________________\n"
          ],
          "name": "stdout"
        }
      ]
    },
    {
      "cell_type": "markdown",
      "metadata": {
        "id": "9v8G7h424zNS",
        "colab_type": "text"
      },
      "source": [
        "# Train"
      ]
    },
    {
      "cell_type": "code",
      "metadata": {
        "id": "iKJ1l_u743mk",
        "colab_type": "code",
        "colab": {
          "base_uri": "https://localhost:8080/",
          "height": 119
        },
        "outputId": "f201614e-6120-4d4a-958d-0c8ff592b48f"
      },
      "source": [
        "train_datagen = ImageDataGenerator(rescale = 1./255,\n",
        "                               rotation_range=40,\n",
        "                               width_shift_range=0.2,\n",
        "                               height_shift_range=0.2,\n",
        "                               shear_range=0.2,\n",
        "                               zoom_range=0.2,\n",
        "                               horizontal_flip=True,\n",
        "                               fill_mode='nearest')\n",
        "validation_datagen = ImageDataGenerator(rescale=1. / 255)\n",
        "test_datagen       = ImageDataGenerator(rescale=1. / 255)\n",
        "\n",
        "print(training_dir)\n",
        "train_gen = train_datagen.flow_from_directory(\n",
        "  training_dir,\n",
        "  target_size=(150, 150),\n",
        "  batch_size=20,\n",
        "  class_mode='binary')\n",
        "\n",
        "print(validation_dir)\n",
        "validation_gen = validation_datagen.flow_from_directory(\n",
        "  validation_dir,\n",
        "  target_size=(150, 150),\n",
        "  batch_size=20,\n",
        "  class_mode='binary')\n",
        "\n",
        "print(test_dir)\n",
        "test_gen = test_datagen.flow_from_directory(\n",
        "  test_dir,\n",
        "  target_size=(150, 150),\n",
        "  batch_size=20,\n",
        "  class_mode='binary', \n",
        "  shuffle=False) # Don't shuffle predictions"
      ],
      "execution_count": 44,
      "outputs": [
        {
          "output_type": "stream",
          "text": [
            "/tmp/catdog/training/\n",
            "Found 2000 images belonging to 2 classes.\n",
            "/tmp/catdog/validation/\n",
            "Found 1000 images belonging to 2 classes.\n",
            "/tmp/catdog/test/\n",
            "Found 1000 images belonging to 2 classes.\n"
          ],
          "name": "stdout"
        }
      ]
    },
    {
      "cell_type": "markdown",
      "metadata": {
        "id": "OQnud3Qz5TNE",
        "colab_type": "text"
      },
      "source": [
        "# Fit - Feature Extraction"
      ]
    },
    {
      "cell_type": "code",
      "metadata": {
        "id": "5Uombi0G6bZ9",
        "colab_type": "code",
        "colab": {}
      },
      "source": [
        "base_model.trainable = False"
      ],
      "execution_count": 0,
      "outputs": []
    },
    {
      "cell_type": "code",
      "metadata": {
        "id": "l-o986Vo5RUh",
        "colab_type": "code",
        "colab": {}
      },
      "source": [
        "model.compile(loss='binary_crossentropy',\n",
        "              optimizer=optimizers.RMSprop(lr=2e-5),\n",
        "              metrics=['acc'])"
      ],
      "execution_count": 0,
      "outputs": []
    },
    {
      "cell_type": "code",
      "metadata": {
        "id": "alS4pWYJ5iqf",
        "colab_type": "code",
        "colab": {
          "base_uri": "https://localhost:8080/",
          "height": 1000
        },
        "outputId": "a7dd4467-7d17-4c59-b289-7d52f773fe7a"
      },
      "source": [
        "history = model.fit_generator(\n",
        "    train_gen,\n",
        "    steps_per_epoch=100,\n",
        "    epochs=30,\n",
        "    validation_data=validation_gen,\n",
        "    validation_steps=50\n",
        ")"
      ],
      "execution_count": 47,
      "outputs": [
        {
          "output_type": "stream",
          "text": [
            "Epoch 1/30\n",
            "100/100 [==============================] - 17s 173ms/step - loss: 0.4035 - acc: 0.8295 - val_loss: 0.2466 - val_acc: 0.9140\n",
            "Epoch 2/30\n",
            "100/100 [==============================] - 16s 159ms/step - loss: 0.3376 - acc: 0.8625 - val_loss: 0.2419 - val_acc: 0.9090\n",
            "Epoch 3/30\n",
            "100/100 [==============================] - 15s 153ms/step - loss: 0.3176 - acc: 0.8590 - val_loss: 0.2323 - val_acc: 0.9070\n",
            "Epoch 4/30\n",
            "100/100 [==============================] - 15s 152ms/step - loss: 0.3087 - acc: 0.8620 - val_loss: 0.2286 - val_acc: 0.9090\n",
            "Epoch 5/30\n",
            "100/100 [==============================] - 15s 154ms/step - loss: 0.3002 - acc: 0.8695 - val_loss: 0.2325 - val_acc: 0.9070\n",
            "Epoch 6/30\n",
            "100/100 [==============================] - 15s 151ms/step - loss: 0.2961 - acc: 0.8705 - val_loss: 0.2266 - val_acc: 0.9060\n",
            "Epoch 7/30\n",
            "100/100 [==============================] - 16s 155ms/step - loss: 0.2905 - acc: 0.8785 - val_loss: 0.2276 - val_acc: 0.9060\n",
            "Epoch 8/30\n",
            "100/100 [==============================] - 15s 154ms/step - loss: 0.2953 - acc: 0.8750 - val_loss: 0.2248 - val_acc: 0.9110\n",
            "Epoch 9/30\n",
            "100/100 [==============================] - 15s 152ms/step - loss: 0.2891 - acc: 0.8665 - val_loss: 0.2237 - val_acc: 0.9070\n",
            "Epoch 10/30\n",
            "100/100 [==============================] - 15s 151ms/step - loss: 0.2852 - acc: 0.8780 - val_loss: 0.2215 - val_acc: 0.9100\n",
            "Epoch 11/30\n",
            "100/100 [==============================] - 15s 151ms/step - loss: 0.2775 - acc: 0.8805 - val_loss: 0.2301 - val_acc: 0.9110\n",
            "Epoch 12/30\n",
            "100/100 [==============================] - 15s 151ms/step - loss: 0.2735 - acc: 0.8860 - val_loss: 0.2254 - val_acc: 0.9090\n",
            "Epoch 13/30\n",
            "100/100 [==============================] - 15s 151ms/step - loss: 0.2748 - acc: 0.8820 - val_loss: 0.2265 - val_acc: 0.9120\n",
            "Epoch 14/30\n",
            "100/100 [==============================] - 15s 151ms/step - loss: 0.2657 - acc: 0.8825 - val_loss: 0.2322 - val_acc: 0.9100\n",
            "Epoch 15/30\n",
            "100/100 [==============================] - 15s 150ms/step - loss: 0.2850 - acc: 0.8780 - val_loss: 0.2291 - val_acc: 0.9080\n",
            "Epoch 16/30\n",
            "100/100 [==============================] - 15s 150ms/step - loss: 0.2626 - acc: 0.8915 - val_loss: 0.2270 - val_acc: 0.9100\n",
            "Epoch 17/30\n",
            "100/100 [==============================] - 15s 154ms/step - loss: 0.2583 - acc: 0.8935 - val_loss: 0.2278 - val_acc: 0.9100\n",
            "Epoch 18/30\n",
            "100/100 [==============================] - 15s 153ms/step - loss: 0.2639 - acc: 0.8825 - val_loss: 0.2340 - val_acc: 0.9110\n",
            "Epoch 19/30\n",
            "100/100 [==============================] - 15s 153ms/step - loss: 0.2467 - acc: 0.8885 - val_loss: 0.2251 - val_acc: 0.9120\n",
            "Epoch 20/30\n",
            "100/100 [==============================] - 15s 150ms/step - loss: 0.2418 - acc: 0.8920 - val_loss: 0.2246 - val_acc: 0.9120\n",
            "Epoch 21/30\n",
            "100/100 [==============================] - 15s 154ms/step - loss: 0.2515 - acc: 0.8885 - val_loss: 0.2232 - val_acc: 0.9170\n",
            "Epoch 22/30\n",
            "100/100 [==============================] - 15s 150ms/step - loss: 0.2591 - acc: 0.8900 - val_loss: 0.2304 - val_acc: 0.9070\n",
            "Epoch 23/30\n",
            "100/100 [==============================] - 16s 157ms/step - loss: 0.2716 - acc: 0.8935 - val_loss: 0.2192 - val_acc: 0.9120\n",
            "Epoch 24/30\n",
            "100/100 [==============================] - 15s 153ms/step - loss: 0.2519 - acc: 0.8950 - val_loss: 0.2226 - val_acc: 0.9140\n",
            "Epoch 25/30\n",
            "100/100 [==============================] - 15s 151ms/step - loss: 0.2585 - acc: 0.8925 - val_loss: 0.2202 - val_acc: 0.9170\n",
            "Epoch 26/30\n",
            "100/100 [==============================] - 15s 152ms/step - loss: 0.2540 - acc: 0.8855 - val_loss: 0.2226 - val_acc: 0.9130\n",
            "Epoch 27/30\n",
            "100/100 [==============================] - 15s 153ms/step - loss: 0.2508 - acc: 0.8890 - val_loss: 0.2289 - val_acc: 0.9080\n",
            "Epoch 28/30\n",
            "100/100 [==============================] - 15s 155ms/step - loss: 0.2365 - acc: 0.8975 - val_loss: 0.2282 - val_acc: 0.9130\n",
            "Epoch 29/30\n",
            "100/100 [==============================] - 15s 154ms/step - loss: 0.2612 - acc: 0.8880 - val_loss: 0.2225 - val_acc: 0.9100\n",
            "Epoch 30/30\n",
            "100/100 [==============================] - 15s 152ms/step - loss: 0.2520 - acc: 0.8925 - val_loss: 0.2210 - val_acc: 0.9140\n"
          ],
          "name": "stdout"
        }
      ]
    },
    {
      "cell_type": "code",
      "metadata": {
        "id": "1Nnya4kv6kX-",
        "colab_type": "code",
        "colab": {
          "base_uri": "https://localhost:8080/",
          "height": 545
        },
        "outputId": "e9202b4b-4447-4bf7-ef7f-2460d513357f"
      },
      "source": [
        "acc = history.history['acc']\n",
        "val_acc = history.history['val_acc']\n",
        "\n",
        "loss = history.history['loss']\n",
        "val_loss = history.history['val_loss']\n",
        "\n",
        "epochs = range(1, len(acc) + 1)\n",
        "\n",
        "plt.plot(epochs, acc, 'bo', label='Train Acc')\n",
        "plt.plot(epochs, val_acc, 'b', label='Validation Acc')\n",
        "plt.title('Training & Validation Accuracy')\n",
        "plt.legend()\n",
        "plt.figure()\n",
        "\n",
        "plt.plot(epochs, loss, 'bo', label='Train Loss')\n",
        "plt.plot(epochs, val_loss, 'b', label='Validation Loss')\n",
        "plt.title('Training & Validation Loss')\n",
        "plt.legend()\n",
        "plt.show()"
      ],
      "execution_count": 48,
      "outputs": [
        {
          "output_type": "display_data",
          "data": {
            "image/png": "[encoded data removed]",
            "text/plain": [
              "<Figure size 432x288 with 1 Axes>"
            ]
          },
          "metadata": {
            "tags": []
          }
        },
        {
          "output_type": "display_data",
          "data": {
            "image/png": "[encoded data removed]",
            "text/plain": [
              "<Figure size 432x288 with 1 Axes>"
            ]
          },
          "metadata": {
            "tags": []
          }
        }
      ]
    },
    {
      "cell_type": "markdown",
      "metadata": {
        "id": "0FeyZmbQ8GFn",
        "colab_type": "text"
      },
      "source": [
        "# Fine Tuning"
      ]
    },
    {
      "cell_type": "code",
      "metadata": {
        "id": "AuiaXXhL8HYm",
        "colab_type": "code",
        "colab": {
          "base_uri": "https://localhost:8080/",
          "height": 340
        },
        "outputId": "1cc7550e-2415-4582-b05a-63e370c06b29"
      },
      "source": [
        "base_model.trainable = True\n",
        "flag = False\n",
        "for layer in base_model.layers:\n",
        "  if layer.name == 'block5_conv1':\n",
        "    flag = True\n",
        "  if flag == True:\n",
        "    layer.trainable = True\n",
        "  else:\n",
        "    layer.trainable = False\n",
        "\n",
        "for layer in base_model.layers:\n",
        "  print(layer.name, layer.trainable)"
      ],
      "execution_count": 49,
      "outputs": [
        {
          "output_type": "stream",
          "text": [
            "input_2 False\n",
            "block1_conv1 False\n",
            "block1_conv2 False\n",
            "block1_pool False\n",
            "block2_conv1 False\n",
            "block2_conv2 False\n",
            "block2_pool False\n",
            "block3_conv1 False\n",
            "block3_conv2 False\n",
            "block3_conv3 False\n",
            "block3_pool False\n",
            "block4_conv1 False\n",
            "block4_conv2 False\n",
            "block4_conv3 False\n",
            "block4_pool False\n",
            "block5_conv1 True\n",
            "block5_conv2 True\n",
            "block5_conv3 True\n",
            "block5_pool True\n"
          ],
          "name": "stdout"
        }
      ]
    },
    {
      "cell_type": "code",
      "metadata": {
        "id": "9TXIhUOo8q0Q",
        "colab_type": "code",
        "colab": {}
      },
      "source": [
        "model.compile(loss='binary_crossentropy',\n",
        "              optimizer=optimizers.RMSprop(lr=1e-5),\n",
        "              metrics=['acc'])"
      ],
      "execution_count": 0,
      "outputs": []
    },
    {
      "cell_type": "code",
      "metadata": {
        "id": "PbmcYsSh8-k2",
        "colab_type": "code",
        "colab": {
          "base_uri": "https://localhost:8080/",
          "height": 1000
        },
        "outputId": "e45577ed-935e-486f-b350-29cfd5d73539"
      },
      "source": [
        "history = model.fit_generator(\n",
        "    train_gen,\n",
        "    steps_per_epoch=100,\n",
        "    epochs=100,\n",
        "    validation_data=validation_gen,\n",
        "    validation_steps=50\n",
        ")"
      ],
      "execution_count": 51,
      "outputs": [
        {
          "output_type": "stream",
          "text": [
            "Epoch 1/100\n",
            "100/100 [==============================] - 17s 172ms/step - loss: 0.2785 - acc: 0.8765 - val_loss: 0.2122 - val_acc: 0.9170\n",
            "Epoch 2/100\n",
            "100/100 [==============================] - 15s 155ms/step - loss: 0.2367 - acc: 0.8970 - val_loss: 0.2214 - val_acc: 0.9160\n",
            "Epoch 3/100\n",
            "100/100 [==============================] - 16s 155ms/step - loss: 0.2162 - acc: 0.9085 - val_loss: 0.2021 - val_acc: 0.9240\n",
            "Epoch 4/100\n",
            "100/100 [==============================] - 16s 157ms/step - loss: 0.1925 - acc: 0.9190 - val_loss: 0.1926 - val_acc: 0.9310\n",
            "Epoch 5/100\n",
            "100/100 [==============================] - 16s 156ms/step - loss: 0.1838 - acc: 0.9185 - val_loss: 0.1988 - val_acc: 0.9300\n",
            "Epoch 6/100\n",
            "100/100 [==============================] - 16s 157ms/step - loss: 0.1810 - acc: 0.9270 - val_loss: 0.1931 - val_acc: 0.9280\n",
            "Epoch 7/100\n",
            "100/100 [==============================] - 16s 157ms/step - loss: 0.1727 - acc: 0.9290 - val_loss: 0.2024 - val_acc: 0.9260\n",
            "Epoch 8/100\n",
            "100/100 [==============================] - 16s 157ms/step - loss: 0.1600 - acc: 0.9350 - val_loss: 0.1826 - val_acc: 0.9340\n",
            "Epoch 9/100\n",
            "100/100 [==============================] - 16s 156ms/step - loss: 0.1632 - acc: 0.9380 - val_loss: 0.1873 - val_acc: 0.9310\n",
            "Epoch 10/100\n",
            "100/100 [==============================] - 16s 156ms/step - loss: 0.1422 - acc: 0.9430 - val_loss: 0.1998 - val_acc: 0.9330\n",
            "Epoch 11/100\n",
            "100/100 [==============================] - 16s 160ms/step - loss: 0.1409 - acc: 0.9465 - val_loss: 0.2150 - val_acc: 0.9180\n",
            "Epoch 12/100\n",
            "100/100 [==============================] - 15s 153ms/step - loss: 0.1327 - acc: 0.9505 - val_loss: 0.2398 - val_acc: 0.9280\n",
            "Epoch 13/100\n",
            "100/100 [==============================] - 16s 158ms/step - loss: 0.1398 - acc: 0.9445 - val_loss: 0.2010 - val_acc: 0.9310\n",
            "Epoch 14/100\n",
            "100/100 [==============================] - 16s 158ms/step - loss: 0.1120 - acc: 0.9555 - val_loss: 0.2343 - val_acc: 0.9270\n",
            "Epoch 15/100\n",
            "100/100 [==============================] - 16s 159ms/step - loss: 0.1352 - acc: 0.9500 - val_loss: 0.1963 - val_acc: 0.9350\n",
            "Epoch 16/100\n",
            "100/100 [==============================] - 16s 158ms/step - loss: 0.1055 - acc: 0.9575 - val_loss: 0.2170 - val_acc: 0.9290\n",
            "Epoch 17/100\n",
            "100/100 [==============================] - 16s 156ms/step - loss: 0.1091 - acc: 0.9575 - val_loss: 0.2189 - val_acc: 0.9330\n",
            "Epoch 18/100\n",
            "100/100 [==============================] - 16s 156ms/step - loss: 0.1113 - acc: 0.9570 - val_loss: 0.2486 - val_acc: 0.9160\n",
            "Epoch 19/100\n",
            "100/100 [==============================] - 16s 157ms/step - loss: 0.0957 - acc: 0.9650 - val_loss: 0.2563 - val_acc: 0.9220\n",
            "Epoch 20/100\n",
            "100/100 [==============================] - 16s 156ms/step - loss: 0.0928 - acc: 0.9645 - val_loss: 0.2227 - val_acc: 0.9320\n",
            "Epoch 21/100\n",
            "100/100 [==============================] - 16s 159ms/step - loss: 0.0997 - acc: 0.9640 - val_loss: 0.2269 - val_acc: 0.9260\n",
            "Epoch 22/100\n",
            "100/100 [==============================] - 16s 156ms/step - loss: 0.0974 - acc: 0.9610 - val_loss: 0.1843 - val_acc: 0.9360\n",
            "Epoch 23/100\n",
            "100/100 [==============================] - 16s 158ms/step - loss: 0.1016 - acc: 0.9655 - val_loss: 0.2008 - val_acc: 0.9340\n",
            "Epoch 24/100\n",
            "100/100 [==============================] - 16s 157ms/step - loss: 0.0830 - acc: 0.9710 - val_loss: 0.2075 - val_acc: 0.9370\n",
            "Epoch 25/100\n",
            "100/100 [==============================] - 16s 157ms/step - loss: 0.0807 - acc: 0.9735 - val_loss: 0.2226 - val_acc: 0.9310\n",
            "Epoch 26/100\n",
            "100/100 [==============================] - 16s 158ms/step - loss: 0.0701 - acc: 0.9720 - val_loss: 0.2465 - val_acc: 0.9250\n",
            "Epoch 27/100\n",
            "100/100 [==============================] - 16s 157ms/step - loss: 0.0830 - acc: 0.9665 - val_loss: 0.1998 - val_acc: 0.9350\n",
            "Epoch 28/100\n",
            "100/100 [==============================] - 15s 154ms/step - loss: 0.0701 - acc: 0.9715 - val_loss: 0.2119 - val_acc: 0.9330\n",
            "Epoch 29/100\n",
            "100/100 [==============================] - 15s 155ms/step - loss: 0.0757 - acc: 0.9750 - val_loss: 0.2116 - val_acc: 0.9320\n",
            "Epoch 30/100\n",
            "100/100 [==============================] - 16s 157ms/step - loss: 0.0760 - acc: 0.9665 - val_loss: 0.2136 - val_acc: 0.9380\n",
            "Epoch 31/100\n",
            "100/100 [==============================] - 16s 157ms/step - loss: 0.0613 - acc: 0.9760 - val_loss: 0.2090 - val_acc: 0.9380\n",
            "Epoch 32/100\n",
            "100/100 [==============================] - 15s 153ms/step - loss: 0.0644 - acc: 0.9745 - val_loss: 0.2240 - val_acc: 0.9320\n",
            "Epoch 33/100\n",
            "100/100 [==============================] - 15s 155ms/step - loss: 0.0735 - acc: 0.9730 - val_loss: 0.2641 - val_acc: 0.9300\n",
            "Epoch 34/100\n",
            "100/100 [==============================] - 16s 156ms/step - loss: 0.0580 - acc: 0.9780 - val_loss: 0.2153 - val_acc: 0.9350\n",
            "Epoch 35/100\n",
            "100/100 [==============================] - 16s 157ms/step - loss: 0.0660 - acc: 0.9750 - val_loss: 0.2398 - val_acc: 0.9310\n",
            "Epoch 36/100\n",
            "100/100 [==============================] - 15s 153ms/step - loss: 0.0593 - acc: 0.9785 - val_loss: 0.2495 - val_acc: 0.9330\n",
            "Epoch 37/100\n",
            "100/100 [==============================] - 15s 154ms/step - loss: 0.0610 - acc: 0.9735 - val_loss: 0.2429 - val_acc: 0.9320\n",
            "Epoch 38/100\n",
            "100/100 [==============================] - 15s 153ms/step - loss: 0.0410 - acc: 0.9865 - val_loss: 0.3184 - val_acc: 0.9220\n",
            "Epoch 39/100\n",
            "100/100 [==============================] - 15s 154ms/step - loss: 0.0485 - acc: 0.9775 - val_loss: 0.2725 - val_acc: 0.9310\n",
            "Epoch 40/100\n",
            "100/100 [==============================] - 15s 154ms/step - loss: 0.0608 - acc: 0.9790 - val_loss: 0.2562 - val_acc: 0.9330\n",
            "Epoch 41/100\n",
            "100/100 [==============================] - 15s 153ms/step - loss: 0.0439 - acc: 0.9830 - val_loss: 0.2562 - val_acc: 0.9340\n",
            "Epoch 42/100\n",
            "100/100 [==============================] - 15s 155ms/step - loss: 0.0480 - acc: 0.9840 - val_loss: 0.2415 - val_acc: 0.9360\n",
            "Epoch 43/100\n",
            "100/100 [==============================] - 16s 155ms/step - loss: 0.0555 - acc: 0.9775 - val_loss: 0.2339 - val_acc: 0.9390\n",
            "Epoch 44/100\n",
            "100/100 [==============================] - 15s 155ms/step - loss: 0.0531 - acc: 0.9805 - val_loss: 0.4356 - val_acc: 0.9070\n",
            "Epoch 45/100\n",
            "100/100 [==============================] - 16s 156ms/step - loss: 0.0543 - acc: 0.9820 - val_loss: 0.2277 - val_acc: 0.9430\n",
            "Epoch 46/100\n",
            "100/100 [==============================] - 16s 156ms/step - loss: 0.0397 - acc: 0.9860 - val_loss: 0.2653 - val_acc: 0.9360\n",
            "Epoch 47/100\n",
            "100/100 [==============================] - 16s 155ms/step - loss: 0.0431 - acc: 0.9835 - val_loss: 0.2903 - val_acc: 0.9340\n",
            "Epoch 48/100\n",
            "100/100 [==============================] - 15s 154ms/step - loss: 0.0386 - acc: 0.9825 - val_loss: 0.2620 - val_acc: 0.9360\n",
            "Epoch 49/100\n",
            "100/100 [==============================] - 16s 155ms/step - loss: 0.0418 - acc: 0.9825 - val_loss: 0.3391 - val_acc: 0.9250\n",
            "Epoch 50/100\n",
            "100/100 [==============================] - 16s 156ms/step - loss: 0.0434 - acc: 0.9805 - val_loss: 0.2709 - val_acc: 0.9320\n",
            "Epoch 51/100\n",
            "100/100 [==============================] - 16s 158ms/step - loss: 0.0369 - acc: 0.9870 - val_loss: 0.3318 - val_acc: 0.9290\n",
            "Epoch 52/100\n",
            "100/100 [==============================] - 16s 156ms/step - loss: 0.0427 - acc: 0.9870 - val_loss: 0.2738 - val_acc: 0.9390\n",
            "Epoch 53/100\n",
            "100/100 [==============================] - 16s 159ms/step - loss: 0.0397 - acc: 0.9870 - val_loss: 0.2850 - val_acc: 0.9330\n",
            "Epoch 54/100\n",
            "100/100 [==============================] - 15s 155ms/step - loss: 0.0461 - acc: 0.9815 - val_loss: 0.2814 - val_acc: 0.9360\n",
            "Epoch 55/100\n",
            "100/100 [==============================] - 16s 155ms/step - loss: 0.0290 - acc: 0.9890 - val_loss: 0.2975 - val_acc: 0.9330\n",
            "Epoch 56/100\n",
            "100/100 [==============================] - 16s 156ms/step - loss: 0.0408 - acc: 0.9865 - val_loss: 0.2434 - val_acc: 0.9450\n",
            "Epoch 57/100\n",
            "100/100 [==============================] - 16s 157ms/step - loss: 0.0393 - acc: 0.9885 - val_loss: 0.2605 - val_acc: 0.9360\n",
            "Epoch 58/100\n",
            "100/100 [==============================] - 15s 154ms/step - loss: 0.0340 - acc: 0.9915 - val_loss: 0.3255 - val_acc: 0.9340\n",
            "Epoch 59/100\n",
            "100/100 [==============================] - 16s 159ms/step - loss: 0.0409 - acc: 0.9830 - val_loss: 0.2905 - val_acc: 0.9360\n",
            "Epoch 60/100\n",
            "100/100 [==============================] - 16s 160ms/step - loss: 0.0383 - acc: 0.9860 - val_loss: 0.3102 - val_acc: 0.9320\n",
            "Epoch 61/100\n",
            "100/100 [==============================] - 16s 158ms/step - loss: 0.0290 - acc: 0.9885 - val_loss: 0.2670 - val_acc: 0.9400\n",
            "Epoch 62/100\n",
            "100/100 [==============================] - 16s 155ms/step - loss: 0.0446 - acc: 0.9845 - val_loss: 0.3946 - val_acc: 0.9130\n",
            "Epoch 63/100\n",
            "100/100 [==============================] - 16s 158ms/step - loss: 0.0353 - acc: 0.9865 - val_loss: 0.2594 - val_acc: 0.9370\n",
            "Epoch 64/100\n",
            "100/100 [==============================] - 16s 155ms/step - loss: 0.0358 - acc: 0.9860 - val_loss: 0.3335 - val_acc: 0.9330\n",
            "Epoch 65/100\n",
            "100/100 [==============================] - 16s 159ms/step - loss: 0.0331 - acc: 0.9875 - val_loss: 0.3008 - val_acc: 0.9330\n",
            "Epoch 66/100\n",
            "100/100 [==============================] - 16s 157ms/step - loss: 0.0329 - acc: 0.9880 - val_loss: 0.3674 - val_acc: 0.9240\n",
            "Epoch 67/100\n",
            "100/100 [==============================] - 16s 158ms/step - loss: 0.0381 - acc: 0.9875 - val_loss: 0.2687 - val_acc: 0.9400\n",
            "Epoch 68/100\n",
            "100/100 [==============================] - 16s 160ms/step - loss: 0.0292 - acc: 0.9915 - val_loss: 0.2988 - val_acc: 0.9350\n",
            "Epoch 69/100\n",
            "100/100 [==============================] - 16s 161ms/step - loss: 0.0276 - acc: 0.9885 - val_loss: 0.3074 - val_acc: 0.9270\n",
            "Epoch 70/100\n",
            "100/100 [==============================] - 16s 162ms/step - loss: 0.0385 - acc: 0.9870 - val_loss: 0.2732 - val_acc: 0.9410\n",
            "Epoch 71/100\n",
            "100/100 [==============================] - 16s 160ms/step - loss: 0.0292 - acc: 0.9900 - val_loss: 0.2900 - val_acc: 0.9340\n",
            "Epoch 72/100\n",
            "100/100 [==============================] - 16s 162ms/step - loss: 0.0294 - acc: 0.9895 - val_loss: 0.3485 - val_acc: 0.9310\n",
            "Epoch 73/100\n",
            "100/100 [==============================] - 16s 160ms/step - loss: 0.0313 - acc: 0.9890 - val_loss: 0.2936 - val_acc: 0.9390\n",
            "Epoch 74/100\n",
            "100/100 [==============================] - 16s 159ms/step - loss: 0.0227 - acc: 0.9920 - val_loss: 0.3440 - val_acc: 0.9290\n",
            "Epoch 75/100\n",
            "100/100 [==============================] - 16s 162ms/step - loss: 0.0326 - acc: 0.9890 - val_loss: 0.4865 - val_acc: 0.9130\n",
            "Epoch 76/100\n",
            "100/100 [==============================] - 16s 157ms/step - loss: 0.0277 - acc: 0.9890 - val_loss: 0.4209 - val_acc: 0.9240\n",
            "Epoch 77/100\n",
            "100/100 [==============================] - 16s 160ms/step - loss: 0.0357 - acc: 0.9865 - val_loss: 0.2793 - val_acc: 0.9410\n",
            "Epoch 78/100\n",
            "100/100 [==============================] - 16s 158ms/step - loss: 0.0191 - acc: 0.9935 - val_loss: 0.3090 - val_acc: 0.9330\n",
            "Epoch 79/100\n",
            "100/100 [==============================] - 16s 158ms/step - loss: 0.0252 - acc: 0.9920 - val_loss: 0.3407 - val_acc: 0.9290\n",
            "Epoch 80/100\n",
            "100/100 [==============================] - 16s 159ms/step - loss: 0.0244 - acc: 0.9910 - val_loss: 0.2920 - val_acc: 0.9380\n",
            "Epoch 81/100\n",
            "100/100 [==============================] - 16s 158ms/step - loss: 0.0174 - acc: 0.9925 - val_loss: 0.3067 - val_acc: 0.9340\n",
            "Epoch 82/100\n",
            "100/100 [==============================] - 16s 156ms/step - loss: 0.0190 - acc: 0.9920 - val_loss: 0.2815 - val_acc: 0.9350\n",
            "Epoch 83/100\n",
            "100/100 [==============================] - 16s 159ms/step - loss: 0.0227 - acc: 0.9935 - val_loss: 0.3320 - val_acc: 0.9380\n",
            "Epoch 84/100\n",
            "100/100 [==============================] - 16s 156ms/step - loss: 0.0202 - acc: 0.9940 - val_loss: 0.2976 - val_acc: 0.9370\n",
            "Epoch 85/100\n",
            "100/100 [==============================] - 16s 159ms/step - loss: 0.0317 - acc: 0.9915 - val_loss: 0.3407 - val_acc: 0.9320\n",
            "Epoch 86/100\n",
            "100/100 [==============================] - 16s 158ms/step - loss: 0.0259 - acc: 0.9925 - val_loss: 0.3362 - val_acc: 0.9320\n",
            "Epoch 87/100\n",
            "100/100 [==============================] - 16s 160ms/step - loss: 0.0256 - acc: 0.9930 - val_loss: 0.3176 - val_acc: 0.9410\n",
            "Epoch 88/100\n",
            "100/100 [==============================] - 16s 156ms/step - loss: 0.0291 - acc: 0.9895 - val_loss: 0.3477 - val_acc: 0.9350\n",
            "Epoch 89/100\n",
            "100/100 [==============================] - 16s 156ms/step - loss: 0.0279 - acc: 0.9920 - val_loss: 0.3740 - val_acc: 0.9320\n",
            "Epoch 90/100\n",
            "100/100 [==============================] - 16s 159ms/step - loss: 0.0189 - acc: 0.9955 - val_loss: 0.3181 - val_acc: 0.9340\n",
            "Epoch 91/100\n",
            "100/100 [==============================] - 16s 155ms/step - loss: 0.0254 - acc: 0.9925 - val_loss: 0.3087 - val_acc: 0.9380\n",
            "Epoch 92/100\n",
            "100/100 [==============================] - 16s 155ms/step - loss: 0.0189 - acc: 0.9920 - val_loss: 0.2690 - val_acc: 0.9400\n",
            "Epoch 93/100\n",
            "100/100 [==============================] - 16s 156ms/step - loss: 0.0156 - acc: 0.9950 - val_loss: 0.3169 - val_acc: 0.9320\n",
            "Epoch 94/100\n",
            "100/100 [==============================] - 16s 156ms/step - loss: 0.0194 - acc: 0.9935 - val_loss: 0.3230 - val_acc: 0.9370\n",
            "Epoch 95/100\n",
            "100/100 [==============================] - 16s 156ms/step - loss: 0.0160 - acc: 0.9930 - val_loss: 0.3417 - val_acc: 0.9310\n",
            "Epoch 96/100\n",
            "100/100 [==============================] - 15s 152ms/step - loss: 0.0229 - acc: 0.9925 - val_loss: 0.3185 - val_acc: 0.9370\n",
            "Epoch 97/100\n",
            "100/100 [==============================] - 16s 155ms/step - loss: 0.0179 - acc: 0.9930 - val_loss: 0.3648 - val_acc: 0.9360\n",
            "Epoch 98/100\n",
            "100/100 [==============================] - 15s 155ms/step - loss: 0.0234 - acc: 0.9940 - val_loss: 0.3382 - val_acc: 0.9410\n",
            "Epoch 99/100\n",
            "100/100 [==============================] - 15s 155ms/step - loss: 0.0108 - acc: 0.9960 - val_loss: 0.3963 - val_acc: 0.9350\n",
            "Epoch 100/100\n",
            "100/100 [==============================] - 15s 155ms/step - loss: 0.0288 - acc: 0.9900 - val_loss: 0.3638 - val_acc: 0.9350\n"
          ],
          "name": "stdout"
        }
      ]
    },
    {
      "cell_type": "code",
      "metadata": {
        "id": "N3GW_YLV8651",
        "colab_type": "code",
        "colab": {
          "base_uri": "https://localhost:8080/",
          "height": 545
        },
        "outputId": "1eb712c5-2596-4979-f542-b4e92dbf813c"
      },
      "source": [
        "acc = history.history['acc']\n",
        "val_acc = history.history['val_acc']\n",
        "\n",
        "loss = history.history['loss']\n",
        "val_loss = history.history['val_loss']\n",
        "\n",
        "epochs = range(1, len(acc) + 1)\n",
        "\n",
        "plt.plot(epochs, acc, 'bo', label='Train Acc')\n",
        "plt.plot(epochs, val_acc, 'b', label='Validation Acc')\n",
        "plt.title('Training & Validation Accuracy')\n",
        "plt.legend()\n",
        "plt.figure()\n",
        "\n",
        "plt.plot(epochs, loss, 'bo', label='Train Loss')\n",
        "plt.plot(epochs, val_loss, 'b', label='Validation Loss')\n",
        "plt.title('Training & Validation Loss')\n",
        "plt.legend()\n",
        "plt.show()"
      ],
      "execution_count": 52,
      "outputs": [
        {
          "output_type": "display_data",
          "data": {
            "image/png": "[encoded data removed]",
            "text/plain": [
              "<Figure size 432x288 with 1 Axes>"
            ]
          },
          "metadata": {
            "tags": []
          }
        },
        {
          "output_type": "display_data",
          "data": {
            "image/png": "[encoded data removed]",
            "text/plain": [
              "<Figure size 432x288 with 1 Axes>"
            ]
          },
          "metadata": {
            "tags": []
          }
        }
      ]
    },
    {
      "cell_type": "markdown",
      "metadata": {
        "id": "lvIZkP7K9m4b",
        "colab_type": "text"
      },
      "source": [
        "# Evaluate Test"
      ]
    },
    {
      "cell_type": "code",
      "metadata": {
        "id": "d7QnX2hJ9l-J",
        "colab_type": "code",
        "colab": {
          "base_uri": "https://localhost:8080/",
          "height": 34
        },
        "outputId": "522f556b-cd8f-4a2a-d90f-ddfea9a65678"
      },
      "source": [
        "test_loss, test_acc = model.evaluate_generator(test_gen, steps=50)\n",
        "print('Test Accuracy {:.4f}'.format(test_acc))"
      ],
      "execution_count": 53,
      "outputs": [
        {
          "output_type": "stream",
          "text": [
            "Test Accuracy 0.9380\n"
          ],
          "name": "stdout"
        }
      ]
    },
    {
      "cell_type": "markdown",
      "metadata": {
        "id": "AZZDikDz87lk",
        "colab_type": "text"
      },
      "source": [
        "# Conclusion\n",
        "* Feature Generation acheives 91.4% validation accuracy  \n",
        "* Fine Tuning achieves higher accuracy 93.5% on validation, 93.8% on Test"
      ]
    }
  ]
}