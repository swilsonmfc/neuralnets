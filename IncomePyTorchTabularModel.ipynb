{
  "nbformat": 4,
  "nbformat_minor": 0,
  "metadata": {
    "colab": {
      "name": "IncomePyTorchTabularModel.ipynb",
      "provenance": [],
      "collapsed_sections": [],
      "toc_visible": true,
      "include_colab_link": true
    },
    "kernelspec": {
      "name": "python3",
      "display_name": "Python 3"
    }
  },
  "cells": [
    {
      "cell_type": "markdown",
      "metadata": {
        "id": "view-in-github",
        "colab_type": "text"
      },
      "source": [
        "<a href=\"https://colab.research.google.com/github/swilsonmfc/deeplearning/blob/master/IncomePyTorchTabularModel.ipynb\" target=\"_parent\"><img src=\"https://colab.research.google.com/assets/colab-badge.svg\" alt=\"Open In Colab\"/></a>"
      ]
    },
    {
      "cell_type": "markdown",
      "metadata": {
        "id": "UH3pgJg-Kl-q",
        "colab_type": "text"
      },
      "source": [
        "# PyTorch TabularModel\n",
        "* Pull in UCI Income Dataset (Forcast >= 50k Income)\n",
        "* Use PyTorch & Build a Tabular Model\n",
        "* Categorical Variables using Embedding\n",
        "* Adapted from Udemy (Deep Learning - PyTorch) "
      ]
    },
    {
      "cell_type": "markdown",
      "metadata": {
        "id": "pB97UpY_LoaP",
        "colab_type": "text"
      },
      "source": [
        "# Setup"
      ]
    },
    {
      "cell_type": "code",
      "metadata": {
        "id": "uhXgbk82Kkrr",
        "colab_type": "code",
        "colab": {}
      },
      "source": [
        "import pandas as pd\n",
        "import numpy as np\n",
        "import torch\n",
        "import torch.nn as nn\n",
        "import time\n",
        "import matplotlib.pyplot as plt\n",
        "from sklearn.utils import shuffle"
      ],
      "execution_count": 0,
      "outputs": []
    },
    {
      "cell_type": "markdown",
      "metadata": {
        "id": "bekTuNPuLqoO",
        "colab_type": "text"
      },
      "source": [
        "# Data\n",
        "* https://archive.ics.uci.edu/ml/datasets/census+income"
      ]
    },
    {
      "cell_type": "code",
      "metadata": {
        "id": "3D4-abzILuOV",
        "colab_type": "code",
        "colab": {}
      },
      "source": [
        "df = pd.read_csv('/content/income.csv')"
      ],
      "execution_count": 0,
      "outputs": []
    },
    {
      "cell_type": "code",
      "metadata": {
        "id": "iQNSF7ADr3Fo",
        "colab_type": "code",
        "colab": {
          "base_uri": "https://localhost:8080/",
          "height": 326
        },
        "outputId": "0a1dc82b-9072-4a07-adeb-b03887f43742"
      },
      "source": [
        "df.head()"
      ],
      "execution_count": 3,
      "outputs": [
        {
          "output_type": "execute_result",
          "data": {
            "text/html": [
              "<div>\n",
              "<style scoped>\n",
              "    .dataframe tbody tr th:only-of-type {\n",
              "        vertical-align: middle;\n",
              "    }\n",
              "\n",
              "    .dataframe tbody tr th {\n",
              "        vertical-align: top;\n",
              "    }\n",
              "\n",
              "    .dataframe thead th {\n",
              "        text-align: right;\n",
              "    }\n",
              "</style>\n",
              "<table border=\"1\" class=\"dataframe\">\n",
              "  <thead>\n",
              "    <tr style=\"text-align: right;\">\n",
              "      <th></th>\n",
              "      <th>age</th>\n",
              "      <th>sex</th>\n",
              "      <th>education</th>\n",
              "      <th>education-num</th>\n",
              "      <th>marital-status</th>\n",
              "      <th>workclass</th>\n",
              "      <th>occupation</th>\n",
              "      <th>hours-per-week</th>\n",
              "      <th>income</th>\n",
              "      <th>label</th>\n",
              "    </tr>\n",
              "  </thead>\n",
              "  <tbody>\n",
              "    <tr>\n",
              "      <th>0</th>\n",
              "      <td>27</td>\n",
              "      <td>Male</td>\n",
              "      <td>HS-grad</td>\n",
              "      <td>9</td>\n",
              "      <td>Never-married</td>\n",
              "      <td>Private</td>\n",
              "      <td>Craft-repair</td>\n",
              "      <td>40</td>\n",
              "      <td>&lt;=50K</td>\n",
              "      <td>0</td>\n",
              "    </tr>\n",
              "    <tr>\n",
              "      <th>1</th>\n",
              "      <td>47</td>\n",
              "      <td>Male</td>\n",
              "      <td>Masters</td>\n",
              "      <td>14</td>\n",
              "      <td>Married</td>\n",
              "      <td>Local-gov</td>\n",
              "      <td>Exec-managerial</td>\n",
              "      <td>50</td>\n",
              "      <td>&gt;50K</td>\n",
              "      <td>1</td>\n",
              "    </tr>\n",
              "    <tr>\n",
              "      <th>2</th>\n",
              "      <td>59</td>\n",
              "      <td>Male</td>\n",
              "      <td>HS-grad</td>\n",
              "      <td>9</td>\n",
              "      <td>Divorced</td>\n",
              "      <td>Self-emp</td>\n",
              "      <td>Prof-specialty</td>\n",
              "      <td>20</td>\n",
              "      <td>&lt;=50K</td>\n",
              "      <td>0</td>\n",
              "    </tr>\n",
              "    <tr>\n",
              "      <th>3</th>\n",
              "      <td>38</td>\n",
              "      <td>Female</td>\n",
              "      <td>Prof-school</td>\n",
              "      <td>15</td>\n",
              "      <td>Never-married</td>\n",
              "      <td>Federal-gov</td>\n",
              "      <td>Prof-specialty</td>\n",
              "      <td>57</td>\n",
              "      <td>&gt;50K</td>\n",
              "      <td>1</td>\n",
              "    </tr>\n",
              "    <tr>\n",
              "      <th>4</th>\n",
              "      <td>64</td>\n",
              "      <td>Female</td>\n",
              "      <td>11th</td>\n",
              "      <td>7</td>\n",
              "      <td>Widowed</td>\n",
              "      <td>Private</td>\n",
              "      <td>Farming-fishing</td>\n",
              "      <td>40</td>\n",
              "      <td>&lt;=50K</td>\n",
              "      <td>0</td>\n",
              "    </tr>\n",
              "  </tbody>\n",
              "</table>\n",
              "</div>"
            ],
            "text/plain": [
              "   age     sex    education  ...  hours-per-week income label\n",
              "0   27    Male      HS-grad  ...              40  <=50K     0\n",
              "1   47    Male      Masters  ...              50   >50K     1\n",
              "2   59    Male      HS-grad  ...              20  <=50K     0\n",
              "3   38  Female  Prof-school  ...              57   >50K     1\n",
              "4   64  Female         11th  ...              40  <=50K     0\n",
              "\n",
              "[5 rows x 10 columns]"
            ]
          },
          "metadata": {
            "tags": []
          },
          "execution_count": 3
        }
      ]
    },
    {
      "cell_type": "markdown",
      "metadata": {
        "id": "dxlPtR4CLrz1",
        "colab_type": "text"
      },
      "source": [
        "# Model"
      ]
    },
    {
      "cell_type": "markdown",
      "metadata": {
        "id": "Hur7ic5HrjOA",
        "colab_type": "text"
      },
      "source": [
        "## Categorical & Continuous\n",
        "* Grab columns for categorical and continuous values"
      ]
    },
    {
      "cell_type": "code",
      "metadata": {
        "id": "wHZrSWWrLtWk",
        "colab_type": "code",
        "colab": {}
      },
      "source": [
        "categorical = ['sex', 'education', 'marital-status', 'workclass', 'occupation']\n",
        "continuous  = ['age', 'hours-per-week']\n",
        "label       = ['label']"
      ],
      "execution_count": 0,
      "outputs": []
    },
    {
      "cell_type": "code",
      "metadata": {
        "id": "aGC1Tdnssbe6",
        "colab_type": "code",
        "colab": {
          "base_uri": "https://localhost:8080/",
          "height": 204
        },
        "outputId": "71acfb1c-ac41-4f0f-9850-32b1fb720e49"
      },
      "source": [
        "for col in categorical:\n",
        "  df[col] = df[col].astype('category')\n",
        "df.dtypes"
      ],
      "execution_count": 6,
      "outputs": [
        {
          "output_type": "execute_result",
          "data": {
            "text/plain": [
              "age                  int64\n",
              "sex               category\n",
              "education         category\n",
              "education-num        int64\n",
              "marital-status    category\n",
              "workclass         category\n",
              "occupation        category\n",
              "hours-per-week       int64\n",
              "income              object\n",
              "label                int64\n",
              "dtype: object"
            ]
          },
          "metadata": {
            "tags": []
          },
          "execution_count": 6
        }
      ]
    },
    {
      "cell_type": "markdown",
      "metadata": {
        "id": "3iVZY35Sstam",
        "colab_type": "text"
      },
      "source": [
        "## Shuffle Data\n",
        "* Shuffle up the dataset"
      ]
    },
    {
      "cell_type": "code",
      "metadata": {
        "id": "9homQDk4sj3X",
        "colab_type": "code",
        "colab": {}
      },
      "source": [
        "df = shuffle(df, random_state=22)\n",
        "df.reset_index(drop=True, inplace=True)"
      ],
      "execution_count": 0,
      "outputs": []
    },
    {
      "cell_type": "markdown",
      "metadata": {
        "id": "yA79SNyYs0MZ",
        "colab_type": "text"
      },
      "source": [
        "## Embedding Sizes\n",
        "* We're going to create an embedding for each categorical variable\n",
        "* Sizes = min 50 or (size + 1) // 2"
      ]
    },
    {
      "cell_type": "code",
      "metadata": {
        "id": "szH23Zxes0kz",
        "colab_type": "code",
        "colab": {
          "base_uri": "https://localhost:8080/",
          "height": 34
        },
        "outputId": "b5964754-3961-40ad-a637-a1831cfdcaf4"
      },
      "source": [
        "cat_sz = [len(df[col].cat.categories) for col in categorical]\n",
        "emb_sz = [(size, min(50, (size + 1) // 2)) for size in cat_sz]\n",
        "emb_sz"
      ],
      "execution_count": 7,
      "outputs": [
        {
          "output_type": "execute_result",
          "data": {
            "text/plain": [
              "[(2, 1), (14, 7), (6, 3), (5, 3), (12, 6)]"
            ]
          },
          "metadata": {
            "tags": []
          },
          "execution_count": 7
        }
      ]
    },
    {
      "cell_type": "markdown",
      "metadata": {
        "id": "ys8JU4PMvman",
        "colab_type": "text"
      },
      "source": [
        "## Tensors"
      ]
    },
    {
      "cell_type": "code",
      "metadata": {
        "id": "ONLYkQLxtsAH",
        "colab_type": "code",
        "colab": {
          "base_uri": "https://localhost:8080/",
          "height": 102
        },
        "outputId": "4626176c-038e-4840-e04e-261e06893831"
      },
      "source": [
        "cats = np.stack([df[col].cat.codes.values for col in categorical], axis=1)\n",
        "cats = torch.tensor(cats, dtype=torch.int64)\n",
        "cats[:5]"
      ],
      "execution_count": 88,
      "outputs": [
        {
          "output_type": "execute_result",
          "data": {
            "text/plain": [
              "tensor([[ 1, 10,  3,  2,  1],\n",
              "        [ 1, 11,  1,  1,  2],\n",
              "        [ 1, 10,  0,  3,  7],\n",
              "        [ 0, 12,  3,  0,  7],\n",
              "        [ 0,  1,  5,  2,  3]])"
            ]
          },
          "metadata": {
            "tags": []
          },
          "execution_count": 88
        }
      ]
    },
    {
      "cell_type": "code",
      "metadata": {
        "id": "vPmq_Ahsua8l",
        "colab_type": "code",
        "colab": {
          "base_uri": "https://localhost:8080/",
          "height": 102
        },
        "outputId": "1dd24acc-9595-433d-f776-63e5daf7dcd0"
      },
      "source": [
        "cont = np.stack([df[col].values for col in continuous], axis=1)\n",
        "cont = torch.tensor(cont, dtype=torch.float)\n",
        "cont[0:5]"
      ],
      "execution_count": 62,
      "outputs": [
        {
          "output_type": "execute_result",
          "data": {
            "text/plain": [
              "tensor([[27., 40.],\n",
              "        [47., 50.],\n",
              "        [59., 20.],\n",
              "        [38., 57.],\n",
              "        [64., 40.]])"
            ]
          },
          "metadata": {
            "tags": []
          },
          "execution_count": 62
        }
      ]
    },
    {
      "cell_type": "code",
      "metadata": {
        "id": "X_vfMvqivCQH",
        "colab_type": "code",
        "colab": {
          "base_uri": "https://localhost:8080/",
          "height": 34
        },
        "outputId": "9e41267c-1b7f-4bfd-dfb5-a0342b4304da"
      },
      "source": [
        "y = torch.tensor(df[label].values).flatten() #.reshape(-1,1)\n",
        "y"
      ],
      "execution_count": 89,
      "outputs": [
        {
          "output_type": "execute_result",
          "data": {
            "text/plain": [
              "tensor([0, 1, 0,  ..., 1, 0, 1])"
            ]
          },
          "metadata": {
            "tags": []
          },
          "execution_count": 89
        }
      ]
    },
    {
      "cell_type": "markdown",
      "metadata": {
        "id": "McohKeNJvrmf",
        "colab_type": "text"
      },
      "source": [
        "## Train - Test"
      ]
    },
    {
      "cell_type": "code",
      "metadata": {
        "id": "5g6ZEoonvblI",
        "colab_type": "code",
        "colab": {}
      },
      "source": [
        "batch = 30000\n",
        "test  = 5000\n",
        "\n",
        "cat_train = cats[: batch - test]\n",
        "cat_test  = cats[batch - test : batch]\n",
        "\n",
        "cont_train = cont[: batch - test]\n",
        "cont_test  = cont[batch - test : batch]\n",
        "\n",
        "y_train = y[: batch - test]\n",
        "y_test  = y[batch - test : batch]"
      ],
      "execution_count": 0,
      "outputs": []
    },
    {
      "cell_type": "markdown",
      "metadata": {
        "id": "Vxxrnj7wwDh8",
        "colab_type": "text"
      },
      "source": [
        "## Model\n",
        "* Define the Torch Neural Net\n",
        "* Embeddings for each categorical\n",
        "  * Sizes passed as parameter\n",
        "  * Apply dropout\n",
        "  * Batch norm later\n",
        "* Continous concatencated to embeddings\n",
        "  * Passed through Batch Norm\n",
        "* Fully connected through Layers parameter list\n",
        "* Output size 2 (binary classification)"
      ]
    },
    {
      "cell_type": "code",
      "metadata": {
        "id": "P-IASjsGvq8n",
        "colab_type": "code",
        "colab": {}
      },
      "source": [
        "class Tabular(nn.Module):\n",
        "  def __init__(self, emb_szs, n_cont, out_sz, layers, dropout=0.5):\n",
        "    super().__init__()\n",
        "    self.embeds = nn.ModuleList([nn.Embedding(ni, nf) for ni, nf in emb_szs])\n",
        "    self.emb_drop = nn.Dropout(dropout)\n",
        "    self.bn_cont = nn.BatchNorm1d(n_cont)\n",
        "\n",
        "    layerList = []\n",
        "\n",
        "    n_emb = sum((nf for ni, nf in emb_szs))\n",
        "    n_in  = n_emb + n_cont\n",
        "\n",
        "    for i in layers:\n",
        "      layerList.append(nn.Linear(n_in, i))\n",
        "      layerList.append(nn.ReLU(inplace=True))\n",
        "      layerList.append(nn.BatchNorm1d(i))\n",
        "      layerList.append(nn.Dropout(dropout))\n",
        "    \n",
        "    layerList.append(nn.Linear(layers[-1], out_sz))\n",
        "    self.layers = nn.Sequential(*layerList)\n",
        "\n",
        "  def forward(self, x_cat, x_cont):\n",
        "    embeddings = []\n",
        "    for i, e in enumerate(self.embeds):\n",
        "      embeddings.append(e(x_cat[:, i]))\n",
        "    x = torch.cat(embeddings, axis=1)\n",
        "    x = self.emb_drop(x)\n",
        "    x_cont = self.bn_cont(x_cont)\n",
        "    x = torch.cat([x, x_cont], axis=1)\n",
        "    x = self.layers(x)\n",
        "    return x"
      ],
      "execution_count": 0,
      "outputs": []
    },
    {
      "cell_type": "code",
      "metadata": {
        "id": "nqhTj7y_wCqi",
        "colab_type": "code",
        "colab": {}
      },
      "source": [
        "model = Tabular(emb_szs = emb_sz, \n",
        "                n_cont  = 2, \n",
        "                out_sz  = 2, \n",
        "                layers  = [50], \n",
        "                dropout = 0.4)"
      ],
      "execution_count": 0,
      "outputs": []
    },
    {
      "cell_type": "code",
      "metadata": {
        "id": "3T4bY87AxxPX",
        "colab_type": "code",
        "colab": {
          "base_uri": "https://localhost:8080/",
          "height": 343
        },
        "outputId": "128a3ba0-68ef-4c8e-cb4c-418e622203b4"
      },
      "source": [
        "model"
      ],
      "execution_count": 73,
      "outputs": [
        {
          "output_type": "execute_result",
          "data": {
            "text/plain": [
              "Tabular(\n",
              "  (embeds): ModuleList(\n",
              "    (0): Embedding(2, 1)\n",
              "    (1): Embedding(14, 7)\n",
              "    (2): Embedding(6, 3)\n",
              "    (3): Embedding(5, 3)\n",
              "    (4): Embedding(12, 6)\n",
              "  )\n",
              "  (emb_drop): Dropout(p=0.4, inplace=False)\n",
              "  (bn_cont): BatchNorm1d(2, eps=1e-05, momentum=0.1, affine=True, track_running_stats=True)\n",
              "  (layers): Sequential(\n",
              "    (0): Linear(in_features=22, out_features=50, bias=True)\n",
              "    (1): ReLU(inplace=True)\n",
              "    (2): BatchNorm1d(50, eps=1e-05, momentum=0.1, affine=True, track_running_stats=True)\n",
              "    (3): Dropout(p=0.4, inplace=False)\n",
              "    (4): Linear(in_features=50, out_features=2, bias=True)\n",
              "  )\n",
              ")"
            ]
          },
          "metadata": {
            "tags": []
          },
          "execution_count": 73
        }
      ]
    },
    {
      "cell_type": "markdown",
      "metadata": {
        "id": "YxR2KxrvyXT8",
        "colab_type": "text"
      },
      "source": [
        "## Criterion & Optimizer\n",
        "* Cross Entropy Loss -(p * log(y) + (1-p) * log(1-y))\n",
        "* Adam optimizer with learning rate 0.001"
      ]
    },
    {
      "cell_type": "code",
      "metadata": {
        "id": "Jq8prgMeyFFu",
        "colab_type": "code",
        "colab": {}
      },
      "source": [
        "criterion = nn.CrossEntropyLoss()\n",
        "optimizer = torch.optim.Adam(model.parameters(),\n",
        "                             lr = 0.001)"
      ],
      "execution_count": 0,
      "outputs": []
    },
    {
      "cell_type": "markdown",
      "metadata": {
        "id": "FCrusiSMymO8",
        "colab_type": "text"
      },
      "source": [
        "## Fit\n",
        "* Run 300 epochs"
      ]
    },
    {
      "cell_type": "code",
      "metadata": {
        "id": "Vaw5QRjlykSQ",
        "colab_type": "code",
        "colab": {
          "base_uri": "https://localhost:8080/",
          "height": 255
        },
        "outputId": "45c2ed80-b2bf-4a5e-dd88-97a712d032b3"
      },
      "source": [
        "start_time = time.time()\n",
        "\n",
        "epochs = 300\n",
        "losses = []\n",
        "\n",
        "for epoch in range(epochs):\n",
        "  epoch += 1\n",
        "\n",
        "  # Forward Pass, Compute Loss\n",
        "  y_pred = model(cat_train, cont_train)\n",
        "  loss = criterion(y_pred, y_train)\n",
        "  losses.append(loss)\n",
        "    \n",
        "  if epoch % 25 == 1:\n",
        "    print(f'epoch: {epoch:3}  loss: {loss.item():10.8f}')\n",
        "    \n",
        "  # Zero Gradients, BackProp\n",
        "  optimizer.zero_grad()\n",
        "  loss.backward()\n",
        "  optimizer.step()\n",
        "\n",
        "print(f'epoch: {epoch:3}  loss: {loss.item():10.8f}') \n",
        "print(f'\\\\nDuration: {time.time() - start_time:.0f} seconds') "
      ],
      "execution_count": 78,
      "outputs": [
        {
          "output_type": "stream",
          "text": [
            "epoch:   1  loss: 0.76812375\n",
            "epoch:  26  loss: 0.53190112\n",
            "epoch:  51  loss: 0.46186328\n",
            "epoch:  76  loss: 0.42501107\n",
            "epoch: 101  loss: 0.40205878\n",
            "epoch: 126  loss: 0.38155901\n",
            "epoch: 151  loss: 0.36454487\n",
            "epoch: 176  loss: 0.35160059\n",
            "epoch: 201  loss: 0.33593804\n",
            "epoch: 226  loss: 0.33037892\n",
            "epoch: 251  loss: 0.32334593\n",
            "epoch: 276  loss: 0.31666604\n",
            "epoch: 300  loss: 0.31065208\n",
            "\\nDuration: 100 seconds\n"
          ],
          "name": "stdout"
        }
      ]
    },
    {
      "cell_type": "markdown",
      "metadata": {
        "id": "MzN5drBQ2xL0",
        "colab_type": "text"
      },
      "source": [
        "## Plot Results"
      ]
    },
    {
      "cell_type": "code",
      "metadata": {
        "id": "hq-z24hQzz14",
        "colab_type": "code",
        "colab": {
          "base_uri": "https://localhost:8080/",
          "height": 296
        },
        "outputId": "36876bf2-d848-413b-f2aa-76aad209d700"
      },
      "source": [
        "plt.plot(range(epochs), losses)\n",
        "plt.ylabel('Cross-Entropy Loss')\n",
        "plt.xlabel('Epochs')"
      ],
      "execution_count": 79,
      "outputs": [
        {
          "output_type": "execute_result",
          "data": {
            "text/plain": [
              "Text(0.5, 0, 'Epochs')"
            ]
          },
          "metadata": {
            "tags": []
          },
          "execution_count": 79
        },
        {
          "output_type": "display_data",
          "data": {
            "image/png": "[encoded data removed]",
            "text/plain": [
              "<Figure size 432x288 with 1 Axes>"
            ]
          },
          "metadata": {
            "tags": []
          }
        }
      ]
    },
    {
      "cell_type": "markdown",
      "metadata": {
        "id": "phT8g_ms20QS",
        "colab_type": "text"
      },
      "source": [
        "# Evaluate"
      ]
    },
    {
      "cell_type": "code",
      "metadata": {
        "id": "pMvoHSGz16yI",
        "colab_type": "code",
        "colab": {
          "base_uri": "https://localhost:8080/",
          "height": 34
        },
        "outputId": "2a237cb4-cb2a-440f-a6b6-9c303d7061f6"
      },
      "source": [
        "with torch.no_grad():\n",
        "  y_val = model(cat_test, cont_test)\n",
        "  loss = criterion(y_val, y_test)\n",
        "print(f'Cross Entropy Loss {loss:.8f}')"
      ],
      "execution_count": 80,
      "outputs": [
        {
          "output_type": "stream",
          "text": [
            "Cross Entropy Loss 0.31213114\n"
          ],
          "name": "stdout"
        }
      ]
    },
    {
      "cell_type": "code",
      "metadata": {
        "id": "dEwHjNcP3C9W",
        "colab_type": "code",
        "colab": {
          "base_uri": "https://localhost:8080/",
          "height": 34
        },
        "outputId": "d9cf2031-226d-437e-b08c-20b3bac01b35"
      },
      "source": [
        "correct = 0\n",
        "rows    = len(y_test)\n",
        "for index in range(rows):\n",
        "  if y_val[index].argmax().item() == y_test[index]:\n",
        "    correct += 1\n",
        "print(f'{correct} out of {rows} = {100 * correct / rows}% Correct')"
      ],
      "execution_count": 87,
      "outputs": [
        {
          "output_type": "stream",
          "text": [
            "4286 out of 5000 = 85.72% Correct\n"
          ],
          "name": "stdout"
        }
      ]
    },
    {
      "cell_type": "code",
      "metadata": {
        "id": "U2dp8DLD3ukT",
        "colab_type": "code",
        "colab": {}
      },
      "source": [
        ""
      ],
      "execution_count": 0,
      "outputs": []
    }
  ]
}