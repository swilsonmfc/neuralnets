{
  "nbformat": 4,
  "nbformat_minor": 0,
  "metadata": {
    "colab": {
      "name": "MovieReviewClassification-Regularization.ipynb",
      "provenance": [],
      "collapsed_sections": [],
      "toc_visible": true,
      "include_colab_link": true
    },
    "kernelspec": {
      "name": "python3",
      "display_name": "Python 3"
    }
  },
  "cells": [
    {
      "cell_type": "markdown",
      "metadata": {
        "id": "view-in-github",
        "colab_type": "text"
      },
      "source": [
        "<a href=\"https://colab.research.google.com/github/swilsonmfc/DeepLearning/blob/master/MovieReviewClassification_Regularization.ipynb\" target=\"_parent\"><img src=\"https://colab.research.google.com/assets/colab-badge.svg\" alt=\"Open In Colab\"/></a>"
      ]
    },
    {
      "cell_type": "markdown",
      "metadata": {
        "id": "f8VTuXBFQmvS",
        "colab_type": "text"
      },
      "source": [
        "# Setup\n",
        "* Data prepackaged with Keras\n",
        "* IMDB Reviews\n",
        "* Binary Classification\n",
        "* Cross-Entropy Loss\n",
        "* Two hidden dense layers with relu activation\n",
        "* Final layer sigmoid activation\n",
        "* Use train / validation plots to decide number of epochs\n",
        "* Report test metrics on final model"
      ]
    },
    {
      "cell_type": "code",
      "metadata": {
        "id": "hZLRVN60EItt",
        "colab_type": "code",
        "colab": {
          "base_uri": "https://localhost:8080/",
          "height": 34
        },
        "outputId": "f491b795-4841-4409-fe6f-86c563010a1c"
      },
      "source": [
        "import keras\n",
        "from keras import models\n",
        "from keras import layers\n",
        "from keras import losses\n",
        "from keras import metrics\n",
        "from keras import regularizers\n",
        "from keras import optimizers\n",
        "\n",
        "import numpy as np\n",
        "import matplotlib.pyplot as plt\n",
        "\n",
        "from keras.datasets import imdb"
      ],
      "execution_count": 1,
      "outputs": [
        {
          "output_type": "stream",
          "text": [
            "Using TensorFlow backend.\n"
          ],
          "name": "stderr"
        }
      ]
    },
    {
      "cell_type": "code",
      "metadata": {
        "id": "NvoouVtBEOYI",
        "colab_type": "code",
        "colab": {
          "base_uri": "https://localhost:8080/",
          "height": 51
        },
        "outputId": "c16126b7-7531-477e-c165-8a5c0615a695"
      },
      "source": [
        "[train_data, train_label], [test_data, test_label] = imdb.load_data(num_words=10000)"
      ],
      "execution_count": 2,
      "outputs": [
        {
          "output_type": "stream",
          "text": [
            "Downloading data from https://s3.amazonaws.com/text-datasets/imdb.npz\n",
            "17465344/17464789 [==============================] - 0s 0us/step\n"
          ],
          "name": "stdout"
        }
      ]
    },
    {
      "cell_type": "markdown",
      "metadata": {
        "id": "4pRgy-aTWh6D",
        "colab_type": "text"
      },
      "source": [
        "# Examine Data"
      ]
    },
    {
      "cell_type": "code",
      "metadata": {
        "id": "H05WRwLDE_pO",
        "colab_type": "code",
        "outputId": "97897792-1ba6-45c9-e68a-b63279fa7e43",
        "colab": {
          "base_uri": "https://localhost:8080/",
          "height": 34
        }
      },
      "source": [
        "max([max(sequence) for sequence in train_data])"
      ],
      "execution_count": 3,
      "outputs": [
        {
          "output_type": "execute_result",
          "data": {
            "text/plain": [
              "9999"
            ]
          },
          "metadata": {
            "tags": []
          },
          "execution_count": 3
        }
      ]
    },
    {
      "cell_type": "code",
      "metadata": {
        "id": "HdoZw1__FLAQ",
        "colab_type": "code",
        "colab": {
          "base_uri": "https://localhost:8080/",
          "height": 51
        },
        "outputId": "9228cbb3-0cfe-483c-9e39-b2747001599f"
      },
      "source": [
        "word_index = imdb.get_word_index()\n",
        "reverse_word_index = dict([(value, key) for (key, value) in word_index.items()])\n",
        "decoded = ' '.join([reverse_word_index.get(i - 3, '?') for i in train_data[0]])"
      ],
      "execution_count": 4,
      "outputs": [
        {
          "output_type": "stream",
          "text": [
            "Downloading data from https://s3.amazonaws.com/text-datasets/imdb_word_index.json\n",
            "1646592/1641221 [==============================] - 0s 0us/step\n"
          ],
          "name": "stdout"
        }
      ]
    },
    {
      "cell_type": "code",
      "metadata": {
        "id": "yic3V_CaFl36",
        "colab_type": "code",
        "outputId": "c7d66823-48d6-4225-af5e-800065b74cc1",
        "colab": {
          "base_uri": "https://localhost:8080/",
          "height": 54
        }
      },
      "source": [
        "decoded"
      ],
      "execution_count": 5,
      "outputs": [
        {
          "output_type": "execute_result",
          "data": {
            "text/plain": [
              "\"? this film was just brilliant casting location scenery story direction everyone's really suited the part they played and you could just imagine being there robert ? is an amazing actor and now the same being director ? father came from the same scottish island as myself so i loved the fact there was a real connection with this film the witty remarks throughout the film were great it was just brilliant so much that i bought the film as soon as it was released for ? and would recommend it to everyone to watch and the fly fishing was amazing really cried at the end it was so sad and you know what they say if you cry at a film it must have been good and this definitely was also ? to the two little boy's that played the ? of norman and paul they were just brilliant children are often left out of the ? list i think because the stars that play them all grown up are such a big profile for the whole film but these children are amazing and should be praised for what they have done don't you think the whole story was so lovely because it was true and was someone's life after all that was shared with us all\""
            ]
          },
          "metadata": {
            "tags": []
          },
          "execution_count": 5
        }
      ]
    },
    {
      "cell_type": "markdown",
      "metadata": {
        "id": "N45_vOnkQqsH",
        "colab_type": "text"
      },
      "source": [
        "# Train & Test Sets"
      ]
    },
    {
      "cell_type": "code",
      "metadata": {
        "id": "JEGkiVoJFrQm",
        "colab_type": "code",
        "colab": {}
      },
      "source": [
        "def vectorize_sequences(sequences, dimensions=10000):\n",
        "  results = np.zeros((len(sequences), dimensions))\n",
        "  for i, sequence in enumerate(sequences):\n",
        "    results[i, sequence] = 1\n",
        "  return results\n",
        "\n",
        "X_train = vectorize_sequences(train_data)\n",
        "X_test  = vectorize_sequences(test_data)\n",
        "\n",
        "y_train = np.array(train_label).astype('float32')\n",
        "y_test  = np.array(test_label).astype('float32')"
      ],
      "execution_count": 0,
      "outputs": []
    },
    {
      "cell_type": "markdown",
      "metadata": {
        "id": "p2RftQmvQf9q",
        "colab_type": "text"
      },
      "source": [
        "# Training & Validation Sets"
      ]
    },
    {
      "cell_type": "code",
      "metadata": {
        "id": "rDOooSSEMRq7",
        "colab_type": "code",
        "colab": {}
      },
      "source": [
        "X_val = X_train[:10000]\n",
        "X_train_part = X_train[10000:]\n",
        "\n",
        "y_val = y_train[:10000]\n",
        "y_train_part = y_train[10000:]"
      ],
      "execution_count": 0,
      "outputs": []
    },
    {
      "cell_type": "markdown",
      "metadata": {
        "id": "k3LUFFMSQwjV",
        "colab_type": "text"
      },
      "source": [
        "# Define Model"
      ]
    },
    {
      "cell_type": "code",
      "metadata": {
        "id": "DV0mIS82KfRw",
        "colab_type": "code",
        "colab": {
          "base_uri": "https://localhost:8080/",
          "height": 139
        },
        "outputId": "d4de1aed-0318-4c33-d9c7-9d3725e2e5f1"
      },
      "source": [
        "model = models.Sequential()\n",
        "model.add(layers.Dense(16, activation='relu', input_shape=(10000, )))\n",
        "model.add(layers.Dense(16, activation='relu'))\n",
        "model.add(layers.Dense(1, activation='sigmoid'))"
      ],
      "execution_count": 8,
      "outputs": [
        {
          "output_type": "stream",
          "text": [
            "WARNING:tensorflow:From /usr/local/lib/python3.6/dist-packages/keras/backend/tensorflow_backend.py:66: The name tf.get_default_graph is deprecated. Please use tf.compat.v1.get_default_graph instead.\n",
            "\n",
            "WARNING:tensorflow:From /usr/local/lib/python3.6/dist-packages/keras/backend/tensorflow_backend.py:541: The name tf.placeholder is deprecated. Please use tf.compat.v1.placeholder instead.\n",
            "\n",
            "WARNING:tensorflow:From /usr/local/lib/python3.6/dist-packages/keras/backend/tensorflow_backend.py:4432: The name tf.random_uniform is deprecated. Please use tf.random.uniform instead.\n",
            "\n"
          ],
          "name": "stdout"
        }
      ]
    },
    {
      "cell_type": "markdown",
      "metadata": {
        "id": "nJnHOmdNQjI1",
        "colab_type": "text"
      },
      "source": [
        "# Compile & Fit Model"
      ]
    },
    {
      "cell_type": "code",
      "metadata": {
        "id": "FHpSEv2BMhkh",
        "colab_type": "code",
        "outputId": "97f11c8b-a4d9-4b5c-ad10-3da051db9410",
        "colab": {
          "base_uri": "https://localhost:8080/",
          "height": 887
        }
      },
      "source": [
        "model.compile(optimizer=optimizers.RMSprop(lr=0.001),\n",
        "            loss=losses.binary_crossentropy,\n",
        "            metrics=[metrics.binary_accuracy])\n",
        "\n",
        "history = model.fit(X_train_part,\n",
        "                   y_train_part,\n",
        "                   epochs=20,\n",
        "                   batch_size=512,\n",
        "                   validation_data=[X_val, y_val])"
      ],
      "execution_count": 9,
      "outputs": [
        {
          "output_type": "stream",
          "text": [
            "WARNING:tensorflow:From /usr/local/lib/python3.6/dist-packages/keras/optimizers.py:793: The name tf.train.Optimizer is deprecated. Please use tf.compat.v1.train.Optimizer instead.\n",
            "\n",
            "WARNING:tensorflow:From /usr/local/lib/python3.6/dist-packages/keras/backend/tensorflow_backend.py:3657: The name tf.log is deprecated. Please use tf.math.log instead.\n",
            "\n",
            "WARNING:tensorflow:From /usr/local/lib/python3.6/dist-packages/tensorflow/python/ops/nn_impl.py:180: add_dispatch_support.<locals>.wrapper (from tensorflow.python.ops.array_ops) is deprecated and will be removed in a future version.\n",
            "Instructions for updating:\n",
            "Use tf.where in 2.0, which has the same broadcast rule as np.where\n",
            "WARNING:tensorflow:From /usr/local/lib/python3.6/dist-packages/keras/backend/tensorflow_backend.py:1033: The name tf.assign_add is deprecated. Please use tf.compat.v1.assign_add instead.\n",
            "\n",
            "Train on 15000 samples, validate on 10000 samples\n",
            "Epoch 1/20\n",
            "15000/15000 [==============================] - 3s 209us/step - loss: 0.5027 - binary_accuracy: 0.7927 - val_loss: 0.3927 - val_binary_accuracy: 0.8594\n",
            "Epoch 2/20\n",
            "15000/15000 [==============================] - 2s 155us/step - loss: 0.2954 - binary_accuracy: 0.9093 - val_loss: 0.2998 - val_binary_accuracy: 0.8898\n",
            "Epoch 3/20\n",
            "15000/15000 [==============================] - 2s 156us/step - loss: 0.2172 - binary_accuracy: 0.9305 - val_loss: 0.2766 - val_binary_accuracy: 0.8918\n",
            "Epoch 4/20\n",
            "15000/15000 [==============================] - 2s 161us/step - loss: 0.1686 - binary_accuracy: 0.9461 - val_loss: 0.2790 - val_binary_accuracy: 0.8881\n",
            "Epoch 5/20\n",
            "15000/15000 [==============================] - 2s 159us/step - loss: 0.1358 - binary_accuracy: 0.9559 - val_loss: 0.2859 - val_binary_accuracy: 0.8877\n",
            "Epoch 6/20\n",
            "15000/15000 [==============================] - 2s 155us/step - loss: 0.1115 - binary_accuracy: 0.9656 - val_loss: 0.3155 - val_binary_accuracy: 0.8814\n",
            "Epoch 7/20\n",
            "15000/15000 [==============================] - 2s 155us/step - loss: 0.0947 - binary_accuracy: 0.9711 - val_loss: 0.3174 - val_binary_accuracy: 0.8821\n",
            "Epoch 8/20\n",
            "15000/15000 [==============================] - 2s 154us/step - loss: 0.0778 - binary_accuracy: 0.9774 - val_loss: 0.3386 - val_binary_accuracy: 0.8800\n",
            "Epoch 9/20\n",
            "15000/15000 [==============================] - 2s 154us/step - loss: 0.0638 - binary_accuracy: 0.9835 - val_loss: 0.3622 - val_binary_accuracy: 0.8778\n",
            "Epoch 10/20\n",
            "15000/15000 [==============================] - 2s 154us/step - loss: 0.0545 - binary_accuracy: 0.9856 - val_loss: 0.3884 - val_binary_accuracy: 0.8757\n",
            "Epoch 11/20\n",
            "15000/15000 [==============================] - 2s 154us/step - loss: 0.0442 - binary_accuracy: 0.9897 - val_loss: 0.4139 - val_binary_accuracy: 0.8735\n",
            "Epoch 12/20\n",
            "15000/15000 [==============================] - 2s 154us/step - loss: 0.0354 - binary_accuracy: 0.9926 - val_loss: 0.4458 - val_binary_accuracy: 0.8707\n",
            "Epoch 13/20\n",
            "15000/15000 [==============================] - 2s 153us/step - loss: 0.0303 - binary_accuracy: 0.9934 - val_loss: 0.4694 - val_binary_accuracy: 0.8710\n",
            "Epoch 14/20\n",
            "15000/15000 [==============================] - 2s 155us/step - loss: 0.0229 - binary_accuracy: 0.9959 - val_loss: 0.4961 - val_binary_accuracy: 0.8689\n",
            "Epoch 15/20\n",
            "15000/15000 [==============================] - 2s 153us/step - loss: 0.0183 - binary_accuracy: 0.9972 - val_loss: 0.5247 - val_binary_accuracy: 0.8684\n",
            "Epoch 16/20\n",
            "15000/15000 [==============================] - 2s 160us/step - loss: 0.0152 - binary_accuracy: 0.9977 - val_loss: 0.5555 - val_binary_accuracy: 0.8666\n",
            "Epoch 17/20\n",
            "15000/15000 [==============================] - 2s 164us/step - loss: 0.0104 - binary_accuracy: 0.9991 - val_loss: 0.5906 - val_binary_accuracy: 0.8670\n",
            "Epoch 18/20\n",
            "15000/15000 [==============================] - 2s 165us/step - loss: 0.0113 - binary_accuracy: 0.9982 - val_loss: 0.6228 - val_binary_accuracy: 0.8677\n",
            "Epoch 19/20\n",
            "15000/15000 [==============================] - 2s 158us/step - loss: 0.0053 - binary_accuracy: 0.9997 - val_loss: 0.7000 - val_binary_accuracy: 0.8604\n",
            "Epoch 20/20\n",
            "15000/15000 [==============================] - 2s 154us/step - loss: 0.0077 - binary_accuracy: 0.9989 - val_loss: 0.6908 - val_binary_accuracy: 0.8630\n"
          ],
          "name": "stdout"
        }
      ]
    },
    {
      "cell_type": "markdown",
      "metadata": {
        "id": "tYh4ncBxPYbf",
        "colab_type": "text"
      },
      "source": [
        "# Plot Training & Validation Loss"
      ]
    },
    {
      "cell_type": "code",
      "metadata": {
        "id": "4MFpwxhqM0Pe",
        "colab_type": "code",
        "outputId": "fe61dc83-fb71-48ef-b2d6-9d1edabc4ddc",
        "colab": {
          "base_uri": "https://localhost:8080/",
          "height": 281
        }
      },
      "source": [
        "def plotTrainingValidationLoss(history):\n",
        "  history_dict = history.history\n",
        "  loss_values = history_dict['loss']\n",
        "  epochs = range(1, len(loss_values) + 1)\n",
        "  val_loss_values = history_dict['val_loss']\n",
        "\n",
        "  plt.clf()\n",
        "  plt.plot(epochs, loss_values, 'bo', label='Training Loss')\n",
        "  plt.plot(epochs, val_loss_values, 'b-', label='Validation Loss')\n",
        "  plt.title('Training - Validation Loss')\n",
        "  plt.xlabel=('Epochs')\n",
        "  plt.ylabel=('Loss')\n",
        "  plt.legend()\n",
        "  plt.show()\n",
        "\n",
        "plotTrainingValidationLoss(history)"
      ],
      "execution_count": 10,
      "outputs": [
        {
          "output_type": "display_data",
          "data": {
            "image/png": "[encoded data removed]",
            "text/plain": [
              "<Figure size 432x288 with 1 Axes>"
            ]
          },
          "metadata": {
            "tags": []
          }
        }
      ]
    },
    {
      "cell_type": "markdown",
      "metadata": {
        "id": "OzsWDtKGPie8",
        "colab_type": "text"
      },
      "source": [
        "# Plot Training & Validation Accuracy"
      ]
    },
    {
      "cell_type": "code",
      "metadata": {
        "id": "qsG4IyiaNMX3",
        "colab_type": "code",
        "outputId": "bcd5be0d-3fa8-4143-ac45-b91109735e16",
        "colab": {
          "base_uri": "https://localhost:8080/",
          "height": 281
        }
      },
      "source": [
        "def plotTrainingValidationAccuracy(history):\n",
        "  history_dict = history.history\n",
        "  loss_values = history_dict['loss']\n",
        "  epochs = range(1, len(loss_values) + 1)\n",
        "  val_loss_values = history_dict['val_loss']\n",
        "\n",
        "  plt.clf()\n",
        "  acc = history_dict['binary_accuracy']\n",
        "  val_acc = history_dict['val_binary_accuracy']\n",
        "  plt.plot(epochs, acc, 'bo', label='Training Acc')\n",
        "  plt.plot(epochs, val_acc, 'b-', label='Validation Acc')\n",
        "  plt.title('Training - Validation Accuracy')\n",
        "  plt.xlabel=('Epochs')\n",
        "  plt.ylabel=('Accuracy')\n",
        "  plt.legend()\n",
        "  plt.show()\n",
        "  \n",
        "plotTrainingValidationAccuracy(history)"
      ],
      "execution_count": 11,
      "outputs": [
        {
          "output_type": "display_data",
          "data": {
            "image/png": "[encoded data removed]",
            "text/plain": [
              "<Figure size 432x288 with 1 Axes>"
            ]
          },
          "metadata": {
            "tags": []
          }
        }
      ]
    },
    {
      "cell_type": "markdown",
      "metadata": {
        "id": "3BZlcbUBTLVv",
        "colab_type": "text"
      },
      "source": [
        "# Identify Overfitting & Test Set\n",
        "Looks like around 4 epochs we begin to see error rate on validation begin to increase.  Let's refit the model to 4 epochs, use all the training data and look at error on our test set."
      ]
    },
    {
      "cell_type": "code",
      "metadata": {
        "id": "p01-wdhTQHtp",
        "colab_type": "code",
        "outputId": "8c394c56-a071-4f1d-f451-a337eb1ce0cf",
        "colab": {
          "base_uri": "https://localhost:8080/",
          "height": 187
        }
      },
      "source": [
        "model = models.Sequential()\n",
        "model.add(layers.Dense(16, activation='relu', input_shape=(10000, )))\n",
        "model.add(layers.Dense(16, activation='relu'))\n",
        "model.add(layers.Dense(1, activation='sigmoid'))\n",
        "\n",
        "model.compile(optimizer=optimizers.RMSprop(lr=0.001),\n",
        "            loss=losses.binary_crossentropy,\n",
        "            metrics=[metrics.binary_accuracy])\n",
        "\n",
        "history = model.fit(X_train,\n",
        "                   y_train,\n",
        "                   epochs=4,\n",
        "                   batch_size=512)\n",
        "\n",
        "results = model.evaluate(X_test, y_test)\n",
        "print('Loss {} Accuracy {}'.format(results[0], results[1]))"
      ],
      "execution_count": 12,
      "outputs": [
        {
          "output_type": "stream",
          "text": [
            "Epoch 1/4\n",
            "25000/25000 [==============================] - 3s 123us/step - loss: 0.4728 - binary_accuracy: 0.8214\n",
            "Epoch 2/4\n",
            "25000/25000 [==============================] - 3s 110us/step - loss: 0.2762 - binary_accuracy: 0.9086\n",
            "Epoch 3/4\n",
            "25000/25000 [==============================] - 3s 110us/step - loss: 0.2122 - binary_accuracy: 0.9267\n",
            "Epoch 4/4\n",
            "25000/25000 [==============================] - 3s 112us/step - loss: 0.1769 - binary_accuracy: 0.9384\n",
            "25000/25000 [==============================] - 3s 109us/step\n",
            "Loss 0.2982972284412384 Accuracy 0.88044\n"
          ],
          "name": "stdout"
        }
      ]
    },
    {
      "cell_type": "markdown",
      "metadata": {
        "id": "xbmjuByb22VS",
        "colab_type": "text"
      },
      "source": [
        "# Regularization\n",
        "* We have a few options for regularizing (combatting overfitting) in the network:\n",
        " * Removing Capacity\n",
        " * Weight Regularization\n",
        " * Dropout\n",
        "\n"
      ]
    },
    {
      "cell_type": "markdown",
      "metadata": {
        "id": "MbYKaKuZ3N7l",
        "colab_type": "text"
      },
      "source": [
        "## Removing Capacity\n",
        "Removing capacity removes layers or the number of nodes in hidden layers.  Removing layers / nodes has the effect of removing capacity of the network.  For this tpy network let's drop down the number of nodes in each layer from 16 to 4 and examine the effects on loss and accuracy (paying particular attention to the epochs).  In our case, we should begin experiencing increasing validation loss beyond 4 epochs of training.  The plots indicate overfitting at around 16 epochs.\n",
        "\n",
        "The reverse is true as well.  If we find that we're underfitting we could add capacity to the network either by increasing the width of layers or adding additional layers."
      ]
    },
    {
      "cell_type": "code",
      "metadata": {
        "id": "BQjSnGTeT3Be",
        "colab_type": "code",
        "colab": {
          "base_uri": "https://localhost:8080/",
          "height": 1000
        },
        "outputId": "6b746dc2-fbe3-4d89-e7a7-5334d1f99754"
      },
      "source": [
        "model = models.Sequential()\n",
        "model.add(layers.Dense(4, activation='relu', input_shape=(10000, )))\n",
        "model.add(layers.Dense(4, activation='relu'))\n",
        "model.add(layers.Dense(1, activation='sigmoid'))\n",
        "\n",
        "model.compile(optimizer=optimizers.RMSprop(lr=0.001),\n",
        "            loss=losses.binary_crossentropy,\n",
        "            metrics=[metrics.binary_accuracy])\n",
        "\n",
        "history = model.fit(X_train_part,\n",
        "                   y_train_part,\n",
        "                   epochs=20,\n",
        "                   batch_size=512,\n",
        "                   validation_data=[X_val, y_val])\n",
        "\n",
        "plotTrainingValidationLoss(history)\n",
        "plotTrainingValidationAccuracy(history)"
      ],
      "execution_count": 13,
      "outputs": [
        {
          "output_type": "stream",
          "text": [
            "Train on 15000 samples, validate on 10000 samples\n",
            "Epoch 1/20\n",
            "15000/15000 [==============================] - 3s 168us/step - loss: 0.5773 - binary_accuracy: 0.7634 - val_loss: 0.5017 - val_binary_accuracy: 0.7916\n",
            "Epoch 2/20\n",
            "15000/15000 [==============================] - 2s 145us/step - loss: 0.4065 - binary_accuracy: 0.8868 - val_loss: 0.3871 - val_binary_accuracy: 0.8672\n",
            "Epoch 3/20\n",
            "15000/15000 [==============================] - 2s 147us/step - loss: 0.3119 - binary_accuracy: 0.9097 - val_loss: 0.3272 - val_binary_accuracy: 0.8840\n",
            "Epoch 4/20\n",
            "15000/15000 [==============================] - 2s 146us/step - loss: 0.2509 - binary_accuracy: 0.9268 - val_loss: 0.2981 - val_binary_accuracy: 0.8894\n",
            "Epoch 5/20\n",
            "15000/15000 [==============================] - 2s 143us/step - loss: 0.2096 - binary_accuracy: 0.9383 - val_loss: 0.2852 - val_binary_accuracy: 0.8888\n",
            "Epoch 6/20\n",
            "15000/15000 [==============================] - 2s 147us/step - loss: 0.1796 - binary_accuracy: 0.9487 - val_loss: 0.2768 - val_binary_accuracy: 0.8904\n",
            "Epoch 7/20\n",
            "15000/15000 [==============================] - 2s 143us/step - loss: 0.1574 - binary_accuracy: 0.9557 - val_loss: 0.2766 - val_binary_accuracy: 0.8896\n",
            "Epoch 8/20\n",
            "15000/15000 [==============================] - 2s 148us/step - loss: 0.1389 - binary_accuracy: 0.9611 - val_loss: 0.2773 - val_binary_accuracy: 0.8894\n",
            "Epoch 9/20\n",
            "15000/15000 [==============================] - 2s 146us/step - loss: 0.1227 - binary_accuracy: 0.9669 - val_loss: 0.2826 - val_binary_accuracy: 0.8864\n",
            "Epoch 10/20\n",
            "15000/15000 [==============================] - 2s 143us/step - loss: 0.1091 - binary_accuracy: 0.9707 - val_loss: 0.2939 - val_binary_accuracy: 0.8861\n",
            "Epoch 11/20\n",
            "15000/15000 [==============================] - 2s 150us/step - loss: 0.0980 - binary_accuracy: 0.9739 - val_loss: 0.3001 - val_binary_accuracy: 0.8845\n",
            "Epoch 12/20\n",
            "15000/15000 [==============================] - 2s 159us/step - loss: 0.0868 - binary_accuracy: 0.9782 - val_loss: 0.3238 - val_binary_accuracy: 0.8775\n",
            "Epoch 13/20\n",
            "15000/15000 [==============================] - 2s 161us/step - loss: 0.0770 - binary_accuracy: 0.9820 - val_loss: 0.3219 - val_binary_accuracy: 0.8799\n",
            "Epoch 14/20\n",
            "15000/15000 [==============================] - 2s 154us/step - loss: 0.0682 - binary_accuracy: 0.9848 - val_loss: 0.3302 - val_binary_accuracy: 0.8814\n",
            "Epoch 15/20\n",
            "15000/15000 [==============================] - 2s 144us/step - loss: 0.0607 - binary_accuracy: 0.9865 - val_loss: 0.3447 - val_binary_accuracy: 0.8810\n",
            "Epoch 16/20\n",
            "15000/15000 [==============================] - 2s 148us/step - loss: 0.0535 - binary_accuracy: 0.9892 - val_loss: 0.3599 - val_binary_accuracy: 0.8776\n",
            "Epoch 17/20\n",
            "15000/15000 [==============================] - 2s 147us/step - loss: 0.0465 - binary_accuracy: 0.9910 - val_loss: 0.3847 - val_binary_accuracy: 0.8735\n",
            "Epoch 18/20\n",
            "15000/15000 [==============================] - 2s 150us/step - loss: 0.0417 - binary_accuracy: 0.9917 - val_loss: 0.3901 - val_binary_accuracy: 0.8767\n",
            "Epoch 19/20\n",
            "15000/15000 [==============================] - 2s 144us/step - loss: 0.0365 - binary_accuracy: 0.9943 - val_loss: 0.4136 - val_binary_accuracy: 0.8725\n",
            "Epoch 20/20\n",
            "15000/15000 [==============================] - 2s 146us/step - loss: 0.0317 - binary_accuracy: 0.9951 - val_loss: 0.4244 - val_binary_accuracy: 0.8742\n"
          ],
          "name": "stdout"
        },
        {
          "output_type": "display_data",
          "data": {
            "image/png": "[encoded data removed]",
            "text/plain": [
              "<Figure size 432x288 with 1 Axes>"
            ]
          },
          "metadata": {
            "tags": []
          }
        },
        {
          "output_type": "display_data",
          "data": {
            "image/png": "[encoded data removed]",
            "text/plain": [
              "<Figure size 432x288 with 1 Axes>"
            ]
          },
          "metadata": {
            "tags": []
          }
        }
      ]
    },
    {
      "cell_type": "markdown",
      "metadata": {
        "id": "WaHO1CZz4Awb",
        "colab_type": "text"
      },
      "source": [
        "## Weight Regularization\n",
        "Another technique we can apply to regularize (fight overfitting) of our network will be to apply weight regularization.  As the weights of our network get large it's an indication of complexity.  We can apply a penalty to these higher weights.  The penalty usually one of two forms L1 or L2.  With L1 regularization our penalty is proportional to the absolute value of the weights.  This form of regularization is known to promote sparsity (see Lasso in Linear Models).  The second is L2 regularization which applies a penalty proportional to the squared values of the weights.  L2 often referred to as weight decay.\n",
        "\n",
        "For our toy model, we'll take the original model formulation with layers of 16 nodes and add in L2 regularization.  We'll be looking for the number of epochs to identify the minimum loss in our validation set."
      ]
    },
    {
      "cell_type": "code",
      "metadata": {
        "id": "Yml2YAEN4D9x",
        "colab_type": "code",
        "colab": {
          "base_uri": "https://localhost:8080/",
          "height": 1000
        },
        "outputId": "3e2b548e-7644-4f9d-9dcc-70c39ad61bdb"
      },
      "source": [
        "model = models.Sequential()\n",
        "model.add(layers.Dense(16, activation='relu', kernel_regularizer=regularizers.l2(0.001), input_shape=(10000, )))\n",
        "model.add(layers.Dense(16, activation='relu', kernel_regularizer=regularizers.l2(0.001)))\n",
        "model.add(layers.Dense(1, activation='sigmoid'))\n",
        "\n",
        "model.compile(optimizer=optimizers.RMSprop(lr=0.001),\n",
        "            loss=losses.binary_crossentropy,\n",
        "            metrics=[metrics.binary_accuracy])\n",
        "\n",
        "history = model.fit(X_train_part,\n",
        "                   y_train_part,\n",
        "                   epochs=20,\n",
        "                   batch_size=512,\n",
        "                   validation_data=[X_val, y_val])\n",
        "\n",
        "plotTrainingValidationLoss(history)\n",
        "plotTrainingValidationAccuracy(history)"
      ],
      "execution_count": 14,
      "outputs": [
        {
          "output_type": "stream",
          "text": [
            "Train on 15000 samples, validate on 10000 samples\n",
            "Epoch 1/20\n",
            "15000/15000 [==============================] - 3s 190us/step - loss: 0.5930 - binary_accuracy: 0.7282 - val_loss: 0.4654 - val_binary_accuracy: 0.8420\n",
            "Epoch 2/20\n",
            "15000/15000 [==============================] - 2s 156us/step - loss: 0.3739 - binary_accuracy: 0.8961 - val_loss: 0.3594 - val_binary_accuracy: 0.8860\n",
            "Epoch 3/20\n",
            "15000/15000 [==============================] - 2s 156us/step - loss: 0.2933 - binary_accuracy: 0.9181 - val_loss: 0.3390 - val_binary_accuracy: 0.8848\n",
            "Epoch 4/20\n",
            "15000/15000 [==============================] - 2s 153us/step - loss: 0.2541 - binary_accuracy: 0.9324 - val_loss: 0.3780 - val_binary_accuracy: 0.8657\n",
            "Epoch 5/20\n",
            "15000/15000 [==============================] - 2s 154us/step - loss: 0.2306 - binary_accuracy: 0.9428 - val_loss: 0.3666 - val_binary_accuracy: 0.8747\n",
            "Epoch 6/20\n",
            "15000/15000 [==============================] - 2s 153us/step - loss: 0.2107 - binary_accuracy: 0.9501 - val_loss: 0.3731 - val_binary_accuracy: 0.8749\n",
            "Epoch 7/20\n",
            "15000/15000 [==============================] - 2s 154us/step - loss: 0.2047 - binary_accuracy: 0.9510 - val_loss: 0.3426 - val_binary_accuracy: 0.8830\n",
            "Epoch 8/20\n",
            "15000/15000 [==============================] - 2s 155us/step - loss: 0.1940 - binary_accuracy: 0.9547 - val_loss: 0.3474 - val_binary_accuracy: 0.8830\n",
            "Epoch 9/20\n",
            "15000/15000 [==============================] - 2s 155us/step - loss: 0.1839 - binary_accuracy: 0.9609 - val_loss: 0.3559 - val_binary_accuracy: 0.8826\n",
            "Epoch 10/20\n",
            "15000/15000 [==============================] - 2s 157us/step - loss: 0.1815 - binary_accuracy: 0.9599 - val_loss: 0.3629 - val_binary_accuracy: 0.8794\n",
            "Epoch 11/20\n",
            "15000/15000 [==============================] - 2s 157us/step - loss: 0.1705 - binary_accuracy: 0.9655 - val_loss: 0.3770 - val_binary_accuracy: 0.8792\n",
            "Epoch 12/20\n",
            "15000/15000 [==============================] - 2s 156us/step - loss: 0.1666 - binary_accuracy: 0.9673 - val_loss: 0.3783 - val_binary_accuracy: 0.8775\n",
            "Epoch 13/20\n",
            "15000/15000 [==============================] - 2s 153us/step - loss: 0.1645 - binary_accuracy: 0.9664 - val_loss: 0.3870 - val_binary_accuracy: 0.8782\n",
            "Epoch 14/20\n",
            "15000/15000 [==============================] - 2s 157us/step - loss: 0.1566 - binary_accuracy: 0.9715 - val_loss: 0.4213 - val_binary_accuracy: 0.8702\n",
            "Epoch 15/20\n",
            "15000/15000 [==============================] - 2s 156us/step - loss: 0.1520 - binary_accuracy: 0.9728 - val_loss: 0.4011 - val_binary_accuracy: 0.8755\n",
            "Epoch 16/20\n",
            "15000/15000 [==============================] - 2s 155us/step - loss: 0.1536 - binary_accuracy: 0.9699 - val_loss: 0.4053 - val_binary_accuracy: 0.8761\n",
            "Epoch 17/20\n",
            "15000/15000 [==============================] - 2s 154us/step - loss: 0.1457 - binary_accuracy: 0.9753 - val_loss: 0.4379 - val_binary_accuracy: 0.8664\n",
            "Epoch 18/20\n",
            "15000/15000 [==============================] - 2s 152us/step - loss: 0.1510 - binary_accuracy: 0.9713 - val_loss: 0.4281 - val_binary_accuracy: 0.8740\n",
            "Epoch 19/20\n",
            "15000/15000 [==============================] - 2s 155us/step - loss: 0.1415 - binary_accuracy: 0.9765 - val_loss: 0.4296 - val_binary_accuracy: 0.8712\n",
            "Epoch 20/20\n",
            "15000/15000 [==============================] - 2s 157us/step - loss: 0.1400 - binary_accuracy: 0.9765 - val_loss: 0.4337 - val_binary_accuracy: 0.8706\n"
          ],
          "name": "stdout"
        },
        {
          "output_type": "display_data",
          "data": {
            "image/png": "[encoded data removed]",
            "text/plain": [
              "<Figure size 432x288 with 1 Axes>"
            ]
          },
          "metadata": {
            "tags": []
          }
        },
        {
          "output_type": "display_data",
          "data": {
            "image/png": "[encoded data removed]",
            "text/plain": [
              "<Figure size 432x288 with 1 Axes>"
            ]
          },
          "metadata": {
            "tags": []
          }
        }
      ]
    },
    {
      "cell_type": "markdown",
      "metadata": {
        "id": "vuPFbt3K4EMs",
        "colab_type": "text"
      },
      "source": [
        "## Dropout\n",
        "With dropout, we're going to randomly remove nodes in the network (not actually remove, but rather zero their activation).  This has the effect of removing capacity from the network.  The reduced capacity acts as regularization against overfitting.  In this example I'm dropping out 50% of the network, something smaller like 20% is more typical."
      ]
    },
    {
      "cell_type": "code",
      "metadata": {
        "id": "Yu5hPjjN4E0D",
        "colab_type": "code",
        "colab": {
          "base_uri": "https://localhost:8080/",
          "height": 1000
        },
        "outputId": "b38dd7a0-09c2-48af-d6ff-d79a696cf550"
      },
      "source": [
        "model = models.Sequential()\n",
        "model.add(layers.Dense(16, activation='relu', input_shape=(10000, )))\n",
        "model.add(layers.Dropout(0.5))\n",
        "model.add(layers.Dense(16, activation='relu'))\n",
        "model.add(layers.Dropout(0.5))\n",
        "model.add(layers.Dense(1, activation='sigmoid'))\n",
        "\n",
        "model.compile(optimizer=optimizers.RMSprop(lr=0.001),\n",
        "            loss=losses.binary_crossentropy,\n",
        "            metrics=[metrics.binary_accuracy])\n",
        "\n",
        "history = model.fit(X_train_part,\n",
        "                   y_train_part,\n",
        "                   epochs=20,\n",
        "                   batch_size=512,\n",
        "                   validation_data=[X_val, y_val])\n",
        "\n",
        "plotTrainingValidationLoss(history)\n",
        "plotTrainingValidationAccuracy(history)"
      ],
      "execution_count": 15,
      "outputs": [
        {
          "output_type": "stream",
          "text": [
            "WARNING:tensorflow:From /usr/local/lib/python3.6/dist-packages/keras/backend/tensorflow_backend.py:3733: calling dropout (from tensorflow.python.ops.nn_ops) with keep_prob is deprecated and will be removed in a future version.\n",
            "Instructions for updating:\n",
            "Please use `rate` instead of `keep_prob`. Rate should be set to `rate = 1 - keep_prob`.\n",
            "Train on 15000 samples, validate on 10000 samples\n",
            "Epoch 1/20\n",
            "15000/15000 [==============================] - 3s 194us/step - loss: 0.6531 - binary_accuracy: 0.6171 - val_loss: 0.5763 - val_binary_accuracy: 0.6998\n",
            "Epoch 2/20\n",
            "15000/15000 [==============================] - 2s 155us/step - loss: 0.5601 - binary_accuracy: 0.7420 - val_loss: 0.4843 - val_binary_accuracy: 0.8119\n",
            "Epoch 3/20\n",
            "15000/15000 [==============================] - 2s 156us/step - loss: 0.4718 - binary_accuracy: 0.8103 - val_loss: 0.4013 - val_binary_accuracy: 0.8717\n",
            "Epoch 4/20\n",
            "15000/15000 [==============================] - 2s 154us/step - loss: 0.4095 - binary_accuracy: 0.8505 - val_loss: 0.3593 - val_binary_accuracy: 0.8797\n",
            "Epoch 5/20\n",
            "15000/15000 [==============================] - 2s 154us/step - loss: 0.3562 - binary_accuracy: 0.8863 - val_loss: 0.3268 - val_binary_accuracy: 0.8797\n",
            "Epoch 6/20\n",
            "15000/15000 [==============================] - 2s 152us/step - loss: 0.3129 - binary_accuracy: 0.9030 - val_loss: 0.3236 - val_binary_accuracy: 0.8847\n",
            "Epoch 7/20\n",
            "15000/15000 [==============================] - 2s 155us/step - loss: 0.2777 - binary_accuracy: 0.9198 - val_loss: 0.3520 - val_binary_accuracy: 0.8805\n",
            "Epoch 8/20\n",
            "15000/15000 [==============================] - 2s 154us/step - loss: 0.2479 - binary_accuracy: 0.9305 - val_loss: 0.3532 - val_binary_accuracy: 0.8809\n",
            "Epoch 9/20\n",
            "15000/15000 [==============================] - 2s 153us/step - loss: 0.2271 - binary_accuracy: 0.9364 - val_loss: 0.3383 - val_binary_accuracy: 0.8816\n",
            "Epoch 10/20\n",
            "15000/15000 [==============================] - 2s 152us/step - loss: 0.1972 - binary_accuracy: 0.9479 - val_loss: 0.3337 - val_binary_accuracy: 0.8830\n",
            "Epoch 11/20\n",
            "15000/15000 [==============================] - 2s 153us/step - loss: 0.1825 - binary_accuracy: 0.9510 - val_loss: 0.3618 - val_binary_accuracy: 0.8836\n",
            "Epoch 12/20\n",
            "15000/15000 [==============================] - 2s 153us/step - loss: 0.1662 - binary_accuracy: 0.9578 - val_loss: 0.3838 - val_binary_accuracy: 0.8815\n",
            "Epoch 13/20\n",
            "15000/15000 [==============================] - 2s 153us/step - loss: 0.1476 - binary_accuracy: 0.9592 - val_loss: 0.4441 - val_binary_accuracy: 0.8786\n",
            "Epoch 14/20\n",
            "15000/15000 [==============================] - 2s 151us/step - loss: 0.1344 - binary_accuracy: 0.9644 - val_loss: 0.4023 - val_binary_accuracy: 0.8788\n",
            "Epoch 15/20\n",
            "15000/15000 [==============================] - 2s 150us/step - loss: 0.1208 - binary_accuracy: 0.9679 - val_loss: 0.5087 - val_binary_accuracy: 0.8766\n",
            "Epoch 16/20\n",
            "15000/15000 [==============================] - 2s 153us/step - loss: 0.1105 - binary_accuracy: 0.9717 - val_loss: 0.5066 - val_binary_accuracy: 0.8786\n",
            "Epoch 17/20\n",
            "15000/15000 [==============================] - 2s 153us/step - loss: 0.1020 - binary_accuracy: 0.9732 - val_loss: 0.4622 - val_binary_accuracy: 0.8753\n",
            "Epoch 18/20\n",
            "15000/15000 [==============================] - 2s 151us/step - loss: 0.0986 - binary_accuracy: 0.9751 - val_loss: 0.5163 - val_binary_accuracy: 0.8768\n",
            "Epoch 19/20\n",
            "15000/15000 [==============================] - 2s 150us/step - loss: 0.0901 - binary_accuracy: 0.9766 - val_loss: 0.5292 - val_binary_accuracy: 0.8779\n",
            "Epoch 20/20\n",
            "15000/15000 [==============================] - 2s 153us/step - loss: 0.0839 - binary_accuracy: 0.9779 - val_loss: 0.5860 - val_binary_accuracy: 0.8782\n"
          ],
          "name": "stdout"
        },
        {
          "output_type": "display_data",
          "data": {
            "image/png": "[encoded data removed]",
            "text/plain": [
              "<Figure size 432x288 with 1 Axes>"
            ]
          },
          "metadata": {
            "tags": []
          }
        },
        {
          "output_type": "display_data",
          "data": {
            "image/png": "[encoded data removed]",
            "text/plain": [
              "<Figure size 432x288 with 1 Axes>"
            ]
          },
          "metadata": {
            "tags": []
          }
        }
      ]
    }
  ]
}