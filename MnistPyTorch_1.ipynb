{
  "nbformat": 4,
  "nbformat_minor": 0,
  "metadata": {
    "colab": {
      "name": "MnistPyTorch-1.ipynb",
      "provenance": [],
      "collapsed_sections": [],
      "include_colab_link": true
    },
    "kernelspec": {
      "name": "python3",
      "display_name": "Python 3"
    }
  },
  "cells": [
    {
      "cell_type": "markdown",
      "metadata": {
        "id": "view-in-github",
        "colab_type": "text"
      },
      "source": [
        "<a href=\"https://colab.research.google.com/github/swilsonmfc/deeplearning/blob/master/MnistPyTorch_1.ipynb\" target=\"_parent\"><img src=\"https://colab.research.google.com/assets/colab-badge.svg\" alt=\"Open In Colab\"/></a>"
      ]
    },
    {
      "cell_type": "markdown",
      "metadata": {
        "id": "FWTFJl030JgB",
        "colab_type": "text"
      },
      "source": [
        "# Simple Neural Net using PyTorch on MNIST\n",
        "* Using only 2 hidden layers & Relu activation\n",
        "* We should be able to hit around 97% accuracy\n",
        "* A Convnet should do better getting 98%+\n",
        "* This is a \"phase\" 1 example to be expanded upon in other notebooks\n",
        " * Add validation reporting\n",
        " * Abstract details into functions\n",
        " * Show effects of other optimizers\n",
        " * Show effects of learning rate\n",
        " * Add regularization (i.e. we wouldn't want to fit 100 epochs here)\n",
        " * Add early stopping for comparison to regularization\n",
        " * Show activations in layers\n",
        "\n",
        "\n"
      ]
    },
    {
      "cell_type": "markdown",
      "metadata": {
        "id": "ZrZBEn6r0Roc",
        "colab_type": "text"
      },
      "source": [
        "# Setup"
      ]
    },
    {
      "cell_type": "code",
      "metadata": {
        "id": "t16S__cR0GJm",
        "colab_type": "code",
        "colab": {}
      },
      "source": [
        "import pickle\n",
        "import gzip\n",
        "import requests\n",
        "import image\n",
        "import numpy as np\n",
        "import matplotlib.pyplot as plt\n",
        "from PIL import Image \n",
        "\n",
        "import torch\n",
        "import torch.optim as optim\n",
        "from torch.autograd import Variable\n",
        "import torch.nn as nn\n",
        "import torch.nn.functional as F"
      ],
      "execution_count": 0,
      "outputs": []
    },
    {
      "cell_type": "code",
      "metadata": {
        "id": "Ukzs7CZL_VNB",
        "colab_type": "code",
        "colab": {
          "base_uri": "https://localhost:8080/",
          "height": 34
        },
        "outputId": "7cf92ffe-b7e5-41c6-e94e-ff8c1d875f2a"
      },
      "source": [
        "torch.__version__"
      ],
      "execution_count": 267,
      "outputs": [
        {
          "output_type": "execute_result",
          "data": {
            "text/plain": [
              "'1.3.1+cu100'"
            ]
          },
          "metadata": {
            "tags": []
          },
          "execution_count": 267
        }
      ]
    },
    {
      "cell_type": "markdown",
      "metadata": {
        "id": "N4YNprB50ToQ",
        "colab_type": "text"
      },
      "source": [
        "# Data\n",
        "* Pull in pickled MNIST from http://deeplearning.net/data/mnist/mnist.pkl.gz\n",
        "* Need to encode with latin1\n",
        "* train[0] = X, train[1] = y\n",
        "* Data scaled by 255"
      ]
    },
    {
      "cell_type": "code",
      "metadata": {
        "id": "Vd6eMBeh0W-K",
        "colab_type": "code",
        "colab": {}
      },
      "source": [
        "r = requests.get('http://deeplearning.net/data/mnist/mnist.pkl.gz')\n",
        "open('mnist.pkl.gz', 'wb').write(r.content)\n",
        "\n",
        "with gzip.open('mnist.pkl.gz', 'rb') as f:\n",
        "  un = pickle._Unpickler(f)\n",
        "  un.encoding = 'latin1'\n",
        "  ((X_train, y_train), (X_val, y_val), (X_test, y_test)) = un.load()"
      ],
      "execution_count": 0,
      "outputs": []
    },
    {
      "cell_type": "markdown",
      "metadata": {
        "id": "ROE9J8cYpQCs",
        "colab_type": "text"
      },
      "source": [
        "# Check Data"
      ]
    },
    {
      "cell_type": "code",
      "metadata": {
        "id": "5B1F9K4O2L2J",
        "colab_type": "code",
        "colab": {
          "base_uri": "https://localhost:8080/",
          "height": 34
        },
        "outputId": "1b436b7e-4929-4eae-e3a2-935366391b40"
      },
      "source": [
        "X_train.shape, y_train.min(), y_train.max()"
      ],
      "execution_count": 109,
      "outputs": [
        {
          "output_type": "execute_result",
          "data": {
            "text/plain": [
              "((50000, 784), 0, 9)"
            ]
          },
          "metadata": {
            "tags": []
          },
          "execution_count": 109
        }
      ]
    },
    {
      "cell_type": "code",
      "metadata": {
        "id": "IVBSrOX_akmE",
        "colab_type": "code",
        "colab": {
          "base_uri": "https://localhost:8080/",
          "height": 34
        },
        "outputId": "c555443e-6622-4a82-fcb0-beb6db096b5d"
      },
      "source": [
        "X_test.shape, y_test.min(), y_test.max()"
      ],
      "execution_count": 110,
      "outputs": [
        {
          "output_type": "execute_result",
          "data": {
            "text/plain": [
              "((10000, 784), 0, 9)"
            ]
          },
          "metadata": {
            "tags": []
          },
          "execution_count": 110
        }
      ]
    },
    {
      "cell_type": "code",
      "metadata": {
        "id": "St54_Qx-Nxi-",
        "colab_type": "code",
        "colab": {
          "base_uri": "https://localhost:8080/",
          "height": 282
        },
        "outputId": "a82b5751-f24c-4b36-d289-88ccf9f8b0f6"
      },
      "source": [
        "plt.imshow(X_train[0].reshape((28, 28)), cmap='gray')"
      ],
      "execution_count": 111,
      "outputs": [
        {
          "output_type": "execute_result",
          "data": {
            "text/plain": [
              "<matplotlib.image.AxesImage at 0x7f9ac7f086a0>"
            ]
          },
          "metadata": {
            "tags": []
          },
          "execution_count": 111
        },
        {
          "output_type": "display_data",
          "data": {
            "image/png": "[encoded data removed]",
            "text/plain": [
              "<Figure size 432x288 with 1 Axes>"
            ]
          },
          "metadata": {
            "tags": []
          }
        }
      ]
    },
    {
      "cell_type": "markdown",
      "metadata": {
        "id": "FvEbPjK8uvI2",
        "colab_type": "text"
      },
      "source": [
        "# DataSet & Loader"
      ]
    },
    {
      "cell_type": "code",
      "metadata": {
        "id": "sgF3pE3lQGp8",
        "colab_type": "code",
        "colab": {
          "base_uri": "https://localhost:8080/",
          "height": 71
        },
        "outputId": "46f551d5-0e21-4517-859a-1acde6958c14"
      },
      "source": [
        "X_train, y_train, X_valid, y_valid, X_test, y_test = \\\n",
        "  map(torch.tensor, (X_train, y_train, X_val, y_val, X_test, y_test))"
      ],
      "execution_count": 240,
      "outputs": [
        {
          "output_type": "stream",
          "text": [
            "/usr/local/lib/python3.6/dist-packages/ipykernel_launcher.py:1: UserWarning: To copy construct from a tensor, it is recommended to use sourceTensor.clone().detach() or sourceTensor.clone().detach().requires_grad_(True), rather than torch.tensor(sourceTensor).\n",
            "  \"\"\"Entry point for launching an IPython kernel.\n"
          ],
          "name": "stderr"
        }
      ]
    },
    {
      "cell_type": "code",
      "metadata": {
        "id": "ScgpBZZiUR6b",
        "colab_type": "code",
        "colab": {}
      },
      "source": [
        "train_dataset = torch.utils.data.TensorDataset(X_train, y_train)\n",
        "valid_dataset = torch.utils.data.TensorDataset(X_valid, y_valid)\n",
        "test_dataset  = torch.utils.data.TensorDataset(X_test, y_test)\n",
        "\n",
        "train_loader = torch.utils.data.DataLoader(train_dataset, shuffle=True, batch_size=64)\n",
        "test_loader  = torch.utils.data.DataLoader(test_dataset, batch_size=64)"
      ],
      "execution_count": 0,
      "outputs": []
    },
    {
      "cell_type": "markdown",
      "metadata": {
        "id": "Aht3SfDU0U8W",
        "colab_type": "text"
      },
      "source": [
        "# Sequential Linear Model"
      ]
    },
    {
      "cell_type": "code",
      "metadata": {
        "id": "xZGBDSOQFk7R",
        "colab_type": "code",
        "colab": {
          "base_uri": "https://localhost:8080/",
          "height": 85
        },
        "outputId": "86eedfc9-c58b-4691-88c9-25f9139bdfca"
      },
      "source": [
        "class SimpleNN(nn.Module):\n",
        "  def __init__(self,) :\n",
        "    super().__init__()\n",
        "    self.fc1 = nn.Linear(784, 50)\n",
        "    self.fc2 = nn.Linear(50, 10)\n",
        "\n",
        "  def forward(self, X):\n",
        "    X = F.relu(self.fc1(X))\n",
        "    X = self.fc2(X)\n",
        "    return X\n",
        "\n",
        "net = SimpleNN()\n",
        "print(net)"
      ],
      "execution_count": 282,
      "outputs": [
        {
          "output_type": "stream",
          "text": [
            "SimpleNN(\n",
            "  (fc1): Linear(in_features=784, out_features=50, bias=True)\n",
            "  (fc2): Linear(in_features=50, out_features=10, bias=True)\n",
            ")\n"
          ],
          "name": "stdout"
        }
      ]
    },
    {
      "cell_type": "markdown",
      "metadata": {
        "id": "vivDYNViun61",
        "colab_type": "text"
      },
      "source": [
        "# Optimizer"
      ]
    },
    {
      "cell_type": "code",
      "metadata": {
        "id": "n3rCKYqFUp2W",
        "colab_type": "code",
        "colab": {}
      },
      "source": [
        "#SGD Optimizer with Momentum \n",
        "#  Achieves about 96% given this architecture\n",
        "#learning_rate = 1e-3\n",
        "#epochs = 50\n",
        "#optimizer = optim.SGD(net.parameters(), lr=learning_rate, momentum=0.9)\n",
        "\n",
        "#Adam Optimizer\n",
        "#  Achives about 97% given this architecture\n",
        "learning_rate = 1e-3\n",
        "epochs = 100\n",
        "optimizer = optim.Adam(net.parameters(), lr=learning_rate)\n",
        "\n",
        "criterion = nn.CrossEntropyLoss()"
      ],
      "execution_count": 0,
      "outputs": []
    },
    {
      "cell_type": "markdown",
      "metadata": {
        "id": "55OkFXnYq-Ld",
        "colab_type": "text"
      },
      "source": [
        " # Gradient Descent - Learning"
      ]
    },
    {
      "cell_type": "code",
      "metadata": {
        "id": "ixEqkNR4MDOy",
        "colab_type": "code",
        "colab": {
          "base_uri": "https://localhost:8080/",
          "height": 1000
        },
        "outputId": "c66b4d8a-4f43-4561-f1a6-60fdac62acd1"
      },
      "source": [
        "logging_interval = 100\n",
        "losses = []\n",
        "\n",
        "for epoch in range(epochs):\n",
        "  for batch_idx, (data, target) in enumerate(train_loader):\n",
        "    data, target = Variable(data), Variable(target)\n",
        "    data = data.view(-1, 784)\n",
        "    optimizer.zero_grad()\n",
        "    n_out = net(data)\n",
        "    loss = criterion(n_out, target)\n",
        "    loss.backward()\n",
        "    optimizer.step()\n",
        "    if batch_idx % logging_interval == 0:\n",
        "      losses.append(loss)\n",
        "  print('Train Epoch: {}\\tLoss: {:.6f}'.format(epoch, loss.data))"
      ],
      "execution_count": 284,
      "outputs": [
        {
          "output_type": "stream",
          "text": [
            "Train Epoch: 0\tLoss: 0.098062\n",
            "Train Epoch: 1\tLoss: 0.403634\n",
            "Train Epoch: 2\tLoss: 0.111727\n",
            "Train Epoch: 3\tLoss: 0.516557\n",
            "Train Epoch: 4\tLoss: 0.094903\n",
            "Train Epoch: 5\tLoss: 0.340874\n",
            "Train Epoch: 6\tLoss: 0.023409\n",
            "Train Epoch: 7\tLoss: 0.013246\n",
            "Train Epoch: 8\tLoss: 0.051106\n",
            "Train Epoch: 9\tLoss: 0.008165\n",
            "Train Epoch: 10\tLoss: 0.011514\n",
            "Train Epoch: 11\tLoss: 0.001172\n",
            "Train Epoch: 12\tLoss: 0.004350\n",
            "Train Epoch: 13\tLoss: 0.003322\n",
            "Train Epoch: 14\tLoss: 0.023847\n",
            "Train Epoch: 15\tLoss: 0.109480\n",
            "Train Epoch: 16\tLoss: 0.015653\n",
            "Train Epoch: 17\tLoss: 0.060912\n",
            "Train Epoch: 18\tLoss: 0.033145\n",
            "Train Epoch: 19\tLoss: 0.023343\n",
            "Train Epoch: 20\tLoss: 0.009889\n",
            "Train Epoch: 21\tLoss: 0.000487\n",
            "Train Epoch: 22\tLoss: 0.003738\n",
            "Train Epoch: 23\tLoss: 0.026467\n",
            "Train Epoch: 24\tLoss: 0.011177\n",
            "Train Epoch: 25\tLoss: 0.005761\n",
            "Train Epoch: 26\tLoss: 0.001522\n",
            "Train Epoch: 27\tLoss: 0.012732\n",
            "Train Epoch: 28\tLoss: 0.015990\n",
            "Train Epoch: 29\tLoss: 0.010173\n",
            "Train Epoch: 30\tLoss: 0.000829\n",
            "Train Epoch: 31\tLoss: 0.006538\n",
            "Train Epoch: 32\tLoss: 0.003184\n",
            "Train Epoch: 33\tLoss: 0.007097\n",
            "Train Epoch: 34\tLoss: 0.023236\n",
            "Train Epoch: 35\tLoss: 0.000534\n",
            "Train Epoch: 36\tLoss: 0.001035\n",
            "Train Epoch: 37\tLoss: 0.001958\n",
            "Train Epoch: 38\tLoss: 0.003112\n",
            "Train Epoch: 39\tLoss: 0.011671\n",
            "Train Epoch: 40\tLoss: 0.008369\n",
            "Train Epoch: 41\tLoss: 0.000579\n",
            "Train Epoch: 42\tLoss: 0.004240\n",
            "Train Epoch: 43\tLoss: 0.000993\n",
            "Train Epoch: 44\tLoss: 0.005217\n",
            "Train Epoch: 45\tLoss: 0.000997\n",
            "Train Epoch: 46\tLoss: 0.000240\n",
            "Train Epoch: 47\tLoss: 0.000069\n",
            "Train Epoch: 48\tLoss: 0.001794\n",
            "Train Epoch: 49\tLoss: 0.001242\n",
            "Train Epoch: 50\tLoss: 0.002419\n",
            "Train Epoch: 51\tLoss: 0.000958\n",
            "Train Epoch: 52\tLoss: 0.000083\n",
            "Train Epoch: 53\tLoss: 0.000481\n",
            "Train Epoch: 54\tLoss: 0.000057\n",
            "Train Epoch: 55\tLoss: 0.001179\n",
            "Train Epoch: 56\tLoss: 0.000013\n",
            "Train Epoch: 57\tLoss: 0.000436\n",
            "Train Epoch: 58\tLoss: 0.004569\n",
            "Train Epoch: 59\tLoss: 0.000671\n",
            "Train Epoch: 60\tLoss: 0.001124\n",
            "Train Epoch: 61\tLoss: 0.000576\n",
            "Train Epoch: 62\tLoss: 0.000060\n",
            "Train Epoch: 63\tLoss: 0.000188\n",
            "Train Epoch: 64\tLoss: 0.000024\n",
            "Train Epoch: 65\tLoss: 0.001515\n",
            "Train Epoch: 66\tLoss: 0.000000\n",
            "Train Epoch: 67\tLoss: 0.000003\n",
            "Train Epoch: 68\tLoss: 0.000731\n",
            "Train Epoch: 69\tLoss: 0.000096\n",
            "Train Epoch: 70\tLoss: 0.000101\n",
            "Train Epoch: 71\tLoss: 0.000022\n",
            "Train Epoch: 72\tLoss: 0.000000\n",
            "Train Epoch: 73\tLoss: 0.001037\n",
            "Train Epoch: 74\tLoss: 0.000111\n",
            "Train Epoch: 75\tLoss: 0.000758\n",
            "Train Epoch: 76\tLoss: 0.000270\n",
            "Train Epoch: 77\tLoss: 0.000013\n",
            "Train Epoch: 78\tLoss: 0.000034\n",
            "Train Epoch: 79\tLoss: 0.000255\n",
            "Train Epoch: 80\tLoss: 0.000066\n",
            "Train Epoch: 81\tLoss: 0.000000\n",
            "Train Epoch: 82\tLoss: 0.000003\n",
            "Train Epoch: 83\tLoss: 0.000342\n",
            "Train Epoch: 84\tLoss: 0.000001\n",
            "Train Epoch: 85\tLoss: 0.000037\n",
            "Train Epoch: 86\tLoss: 0.000209\n",
            "Train Epoch: 87\tLoss: 0.000936\n",
            "Train Epoch: 88\tLoss: 0.000528\n",
            "Train Epoch: 89\tLoss: 0.001232\n",
            "Train Epoch: 90\tLoss: 0.000000\n",
            "Train Epoch: 91\tLoss: 0.005186\n",
            "Train Epoch: 92\tLoss: 0.000273\n",
            "Train Epoch: 93\tLoss: 0.000030\n",
            "Train Epoch: 94\tLoss: 0.000039\n",
            "Train Epoch: 95\tLoss: 0.000086\n",
            "Train Epoch: 96\tLoss: 0.000029\n",
            "Train Epoch: 97\tLoss: 0.002431\n",
            "Train Epoch: 98\tLoss: 0.000000\n",
            "Train Epoch: 99\tLoss: 0.001227\n"
          ],
          "name": "stdout"
        }
      ]
    },
    {
      "cell_type": "code",
      "metadata": {
        "id": "LzXE-vGWMx-c",
        "colab_type": "code",
        "colab": {
          "base_uri": "https://localhost:8080/",
          "height": 282
        },
        "outputId": "fc851e36-73a6-430f-fc4e-32826f3edce7"
      },
      "source": [
        "plt.plot(losses)"
      ],
      "execution_count": 285,
      "outputs": [
        {
          "output_type": "execute_result",
          "data": {
            "text/plain": [
              "[<matplotlib.lines.Line2D at 0x7f9ac5e17ac8>]"
            ]
          },
          "metadata": {
            "tags": []
          },
          "execution_count": 285
        },
        {
          "output_type": "display_data",
          "data": {
            "image/png": "[encoded data removed]",
            "text/plain": [
              "<Figure size 432x288 with 1 Axes>"
            ]
          },
          "metadata": {
            "tags": []
          }
        }
      ]
    },
    {
      "cell_type": "markdown",
      "metadata": {
        "id": "kjyiVrLwgPNe",
        "colab_type": "text"
      },
      "source": [
        "# Test"
      ]
    },
    {
      "cell_type": "code",
      "metadata": {
        "id": "8CVPtcNlXBTY",
        "colab_type": "code",
        "colab": {
          "base_uri": "https://localhost:8080/",
          "height": 34
        },
        "outputId": "87fb32fc-1747-49bf-f222-a9fb9903b129"
      },
      "source": [
        "test_loss = 0\n",
        "correct   = 0\n",
        "\n",
        "for data, target in test_loader:\n",
        "  data, target = Variable(data), Variable(target)\n",
        "  net_out = net(data)\n",
        "  test_loss += criterion(net_out, target)\n",
        "  pred = net_out.data.max(1)[1]\n",
        "  correct += pred.eq(target.data).sum()\n",
        "\n",
        "test_loss /= len(test_loader.dataset)\n",
        "print('Test Set: Average loss: {:.4f}, Accuracy: {}/{} ({:.0f}%)'.format(\n",
        "    test_loss, correct, len(test_loader.dataset),\n",
        "    100. * correct / len(test_loader.dataset)\n",
        "))"
      ],
      "execution_count": 287,
      "outputs": [
        {
          "output_type": "stream",
          "text": [
            "Test Set: Average loss: 0.0023, Accuracy: 9702/10000 (97%)\n"
          ],
          "name": "stdout"
        }
      ]
    },
    {
      "cell_type": "code",
      "metadata": {
        "id": "_VeUh96Eqqyv",
        "colab_type": "code",
        "colab": {}
      },
      "source": [
        ""
      ],
      "execution_count": 0,
      "outputs": []
    }
  ]
}