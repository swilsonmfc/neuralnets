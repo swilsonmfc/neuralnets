{
  "nbformat": 4,
  "nbformat_minor": 0,
  "metadata": {
    "colab": {
      "name": "MnistKerasAutoencoder.ipynb",
      "provenance": [],
      "collapsed_sections": [],
      "toc_visible": true,
      "include_colab_link": true
    },
    "kernelspec": {
      "name": "python3",
      "display_name": "Python 3"
    }
  },
  "cells": [
    {
      "cell_type": "markdown",
      "metadata": {
        "id": "view-in-github",
        "colab_type": "text"
      },
      "source": [
        "<a href=\"https://colab.research.google.com/github/swilsonmfc/deeplearning/blob/master/MnistKerasAutoencoder.ipynb\" target=\"_parent\"><img src=\"https://colab.research.google.com/assets/colab-badge.svg\" alt=\"Open In Colab\"/></a>"
      ]
    },
    {
      "cell_type": "markdown",
      "metadata": {
        "id": "NiunBuk0NtDR",
        "colab_type": "text"
      },
      "source": [
        "# Deep Autoencoder - Keras\n",
        "* Using Mnist\n",
        "* Input Images are 28 x 28 (784)\n",
        "* Encoder will compress   784 -> Depth\n",
        "* Decoder will decompress Depth -> 784"
      ]
    },
    {
      "cell_type": "markdown",
      "metadata": {
        "id": "wxGzjuV_N0Q3",
        "colab_type": "text"
      },
      "source": [
        "# Setup"
      ]
    },
    {
      "cell_type": "code",
      "metadata": {
        "id": "3QsGVucAN25F",
        "colab_type": "code",
        "colab": {}
      },
      "source": [
        "import numpy as np\n",
        "import pandas as pd\n",
        "import matplotlib.pyplot as plt\n",
        "\n",
        "from keras.datasets import mnist\n",
        "\n",
        "from keras.layers import Input\n",
        "from keras.layers import Dense\n",
        "from keras.models import Model"
      ],
      "execution_count": 0,
      "outputs": []
    },
    {
      "cell_type": "markdown",
      "metadata": {
        "id": "0pJPnsrzOLfQ",
        "colab_type": "text"
      },
      "source": [
        "# Import Images"
      ]
    },
    {
      "cell_type": "code",
      "metadata": {
        "id": "5SMwvwWSNeLs",
        "colab_type": "code",
        "outputId": "aa9fb9e4-958d-4cd8-8d33-69650a86659d",
        "colab": {
          "base_uri": "https://localhost:8080/",
          "height": 34
        }
      },
      "source": [
        "(X_train, _), (X_test, _) = mnist.load_data()\n",
        "\n",
        "X_train = X_train.astype('float32') / 255\n",
        "X_test  = X_test.astype('float32')  / 255\n",
        "\n",
        "X_train = X_train.reshape(len(X_train), np.prod(X_train.shape[1:]))\n",
        "X_test  = X_test.reshape(len(X_test), np.prod(X_test.shape[1:]))\n",
        "\n",
        "print(X_train.shape, X_test.shape)"
      ],
      "execution_count": 0,
      "outputs": [
        {
          "output_type": "stream",
          "text": [
            "(60000, 784) (10000, 784)\n"
          ],
          "name": "stdout"
        }
      ]
    },
    {
      "cell_type": "markdown",
      "metadata": {
        "id": "9lwHch4Xo6rT",
        "colab_type": "text"
      },
      "source": [
        "# Functions"
      ]
    },
    {
      "cell_type": "markdown",
      "metadata": {
        "id": "zbqHl5ycR3Fh",
        "colab_type": "text"
      },
      "source": [
        "## Define Autoencoder\n",
        "* We start with 128 and decide how many layers\n",
        "* Each layer will cut the number of nodes in 2\n",
        "* For example two compression layers will:\n",
        "\n",
        "Input (784) -> (128), (128) -> (64), (64) -> (32) -->\n",
        "\n",
        "                                    |\n",
        "\n",
        "Output (784) <- (128), (128) <- (64), (64) <- (32) <--"
      ]
    },
    {
      "cell_type": "code",
      "metadata": {
        "id": "mllrgfsbOKPd",
        "colab_type": "code",
        "colab": {}
      },
      "source": [
        "def generateLayers(depth):\n",
        "  if depth < 0 or depth > 4:\n",
        "    raise('Depth must be within 0 and 4')\n",
        "    \n",
        "  input_img = Input(shape=(784, ))\n",
        "\n",
        "  encoded = Dense(units=128, activation='relu')(input_img)\n",
        "  nodes = 128\n",
        "  for l in range(depth):  \n",
        "    nodes /= 2\n",
        "    encoded = Dense(units=int(nodes),  activation='relu')(encoded)\n",
        "\n",
        "  decoded = encoded\n",
        "  for l in range(depth):\n",
        "    nodes *= 2  \n",
        "    decoded = Dense(units=int(nodes),  activation='relu')(decoded)\n",
        "  decoded = Dense(units=784, activation='sigmoid')(decoded)\n",
        "\n",
        "  return input_img, decoded, encoded"
      ],
      "execution_count": 0,
      "outputs": []
    },
    {
      "cell_type": "markdown",
      "metadata": {
        "id": "hQb_4CKdTHOD",
        "colab_type": "text"
      },
      "source": [
        "## Define Model"
      ]
    },
    {
      "cell_type": "code",
      "metadata": {
        "id": "jxKN803DSh1f",
        "colab_type": "code",
        "colab": {}
      },
      "source": [
        "def defineModel(depth=2):\n",
        "  input_img, decoded, encoded = generateLayers(depth)\n",
        "  autoencoder = Model(input_img, decoded)\n",
        "  encoder     = Model(input_img, encoded)\n",
        "  print(autoencoder.summary())\n",
        "  print(encoder.summary())\n",
        "  return autoencoder, encoder"
      ],
      "execution_count": 0,
      "outputs": []
    },
    {
      "cell_type": "markdown",
      "metadata": {
        "id": "7PnLgyilTMZh",
        "colab_type": "text"
      },
      "source": [
        "## Compile & Fit\n",
        "* We want our input = output (perfect encode and decode)"
      ]
    },
    {
      "cell_type": "code",
      "metadata": {
        "id": "FyJ3SwUHS64W",
        "colab_type": "code",
        "colab": {}
      },
      "source": [
        "def compileAndFit(autoencoder):\n",
        "  autoencoder.compile(optimizer='adam', loss='binary_crossentropy', metrics=['accuracy'])\n",
        "  autoencoder.fit(X_train, X_train, \n",
        "                  epochs=50, batch_size=256, shuffle=True, \n",
        "                  validation_data=(X_test, X_test))"
      ],
      "execution_count": 0,
      "outputs": []
    },
    {
      "cell_type": "markdown",
      "metadata": {
        "id": "7Rqbp3_9Txqs",
        "colab_type": "text"
      },
      "source": [
        "## Predict & Illustrate"
      ]
    },
    {
      "cell_type": "code",
      "metadata": {
        "id": "vJP4PFL1UDcU",
        "colab_type": "code",
        "colab": {}
      },
      "source": [
        "def predict(autoencoder, encoder):\n",
        "  encoded_imgs = encoder.predict(X_test)\n",
        "  predicted    = autoencoder.predict(X_test)\n",
        "  \n",
        "  plt.figure(figsize=(40, 4))\n",
        "  encoded_size = len(encoded_imgs[0])\n",
        "  encoded_y = int(encoded_size / 4)\n",
        "  encoded_x = int(encoded_size / encoded_y)\n",
        "\n",
        "  for i in range(10):\n",
        "    # Original\n",
        "    ax = plt.subplot(3, 20, i + 1)\n",
        "    plt.imshow(X_test[i].reshape(28, 28))\n",
        "    plt.gray()\n",
        "    ax.get_xaxis().set_visible(False)\n",
        "    ax.get_yaxis().set_visible(False)\n",
        "\n",
        "    # Encoded\n",
        "    ax = plt.subplot(3, 20, i + 1 + 20)\n",
        "    plt.imshow(encoded_imgs[i].reshape(encoded_y, encoded_x))\n",
        "    plt.gray()\n",
        "    ax.get_xaxis().set_visible(False)\n",
        "    ax.get_yaxis().set_visible(False)\n",
        "\n",
        "    # Reconstructed\n",
        "    ax = plt.subplot(3, 20, i + 1 + 40)\n",
        "    plt.imshow(predicted[i].reshape(28, 28))\n",
        "    plt.gray()\n",
        "    ax.get_xaxis().set_visible(False)\n",
        "    ax.get_yaxis().set_visible(False)"
      ],
      "execution_count": 0,
      "outputs": []
    },
    {
      "cell_type": "markdown",
      "metadata": {
        "id": "h3xMzWMnoK4I",
        "colab_type": "text"
      },
      "source": [
        "# Build Models"
      ]
    },
    {
      "cell_type": "markdown",
      "metadata": {
        "id": "hlo6kWQzqrEa",
        "colab_type": "text"
      },
      "source": [
        "## Build Model (128 Node Compression)"
      ]
    },
    {
      "cell_type": "code",
      "metadata": {
        "id": "-fhopBviqrSA",
        "colab_type": "code",
        "outputId": "48a17ac0-4d86-4d52-8353-6842575fab9e",
        "colab": {
          "base_uri": "https://localhost:8080/",
          "height": 1000
        }
      },
      "source": [
        "autoencoder128, encoder128 = defineModel(depth=0)\n",
        "compileAndFit(autoencoder128)"
      ],
      "execution_count": 0,
      "outputs": [
        {
          "output_type": "stream",
          "text": [
            "Model: \"model_55\"\n",
            "_________________________________________________________________\n",
            "Layer (type)                 Output Shape              Param #   \n",
            "=================================================================\n",
            "input_37 (InputLayer)        (None, 784)               0         \n",
            "_________________________________________________________________\n",
            "dense_213 (Dense)            (None, 128)               100480    \n",
            "_________________________________________________________________\n",
            "dense_214 (Dense)            (None, 784)               101136    \n",
            "=================================================================\n",
            "Total params: 201,616\n",
            "Trainable params: 201,616\n",
            "Non-trainable params: 0\n",
            "_________________________________________________________________\n",
            "None\n",
            "Model: \"model_56\"\n",
            "_________________________________________________________________\n",
            "Layer (type)                 Output Shape              Param #   \n",
            "=================================================================\n",
            "input_37 (InputLayer)        (None, 784)               0         \n",
            "_________________________________________________________________\n",
            "dense_213 (Dense)            (None, 128)               100480    \n",
            "=================================================================\n",
            "Total params: 100,480\n",
            "Trainable params: 100,480\n",
            "Non-trainable params: 0\n",
            "_________________________________________________________________\n",
            "None\n",
            "Train on 60000 samples, validate on 10000 samples\n",
            "Epoch 1/50\n",
            "60000/60000 [==============================] - 7s 118us/step - loss: 0.2154 - acc: 0.7938 - val_loss: 0.1362 - val_acc: 0.8073\n",
            "Epoch 2/50\n",
            "60000/60000 [==============================] - 5s 91us/step - loss: 0.1190 - acc: 0.8114 - val_loss: 0.1039 - val_acc: 0.8124\n",
            "Epoch 3/50\n",
            "60000/60000 [==============================] - 5s 91us/step - loss: 0.0970 - acc: 0.8139 - val_loss: 0.0894 - val_acc: 0.8136\n",
            "Epoch 4/50\n",
            "60000/60000 [==============================] - 5s 90us/step - loss: 0.0862 - acc: 0.8148 - val_loss: 0.0817 - val_acc: 0.8140\n",
            "Epoch 5/50\n",
            "60000/60000 [==============================] - 5s 90us/step - loss: 0.0799 - acc: 0.8151 - val_loss: 0.0769 - val_acc: 0.8142\n",
            "Epoch 6/50\n",
            "60000/60000 [==============================] - 5s 90us/step - loss: 0.0760 - acc: 0.8152 - val_loss: 0.0740 - val_acc: 0.8143\n",
            "Epoch 7/50\n",
            "60000/60000 [==============================] - 5s 90us/step - loss: 0.0735 - acc: 0.8153 - val_loss: 0.0721 - val_acc: 0.8144\n",
            "Epoch 8/50\n",
            "60000/60000 [==============================] - 6s 92us/step - loss: 0.0719 - acc: 0.8154 - val_loss: 0.0709 - val_acc: 0.8144\n",
            "Epoch 9/50\n",
            "60000/60000 [==============================] - 5s 90us/step - loss: 0.0708 - acc: 0.8154 - val_loss: 0.0700 - val_acc: 0.8144\n",
            "Epoch 10/50\n",
            "60000/60000 [==============================] - 5s 90us/step - loss: 0.0700 - acc: 0.8154 - val_loss: 0.0692 - val_acc: 0.8144\n",
            "Epoch 11/50\n",
            "60000/60000 [==============================] - 6s 93us/step - loss: 0.0694 - acc: 0.8154 - val_loss: 0.0687 - val_acc: 0.8144\n",
            "Epoch 12/50\n",
            "60000/60000 [==============================] - 6s 93us/step - loss: 0.0689 - acc: 0.8154 - val_loss: 0.0683 - val_acc: 0.8144\n",
            "Epoch 13/50\n",
            "60000/60000 [==============================] - 6s 92us/step - loss: 0.0685 - acc: 0.8154 - val_loss: 0.0679 - val_acc: 0.8145\n",
            "Epoch 14/50\n",
            "60000/60000 [==============================] - 5s 92us/step - loss: 0.0681 - acc: 0.8154 - val_loss: 0.0676 - val_acc: 0.8145\n",
            "Epoch 15/50\n",
            "60000/60000 [==============================] - 5s 90us/step - loss: 0.0678 - acc: 0.8154 - val_loss: 0.0673 - val_acc: 0.8145\n",
            "Epoch 16/50\n",
            "60000/60000 [==============================] - 5s 90us/step - loss: 0.0676 - acc: 0.8154 - val_loss: 0.0671 - val_acc: 0.8145\n",
            "Epoch 17/50\n",
            "60000/60000 [==============================] - 5s 90us/step - loss: 0.0673 - acc: 0.8155 - val_loss: 0.0669 - val_acc: 0.8145\n",
            "Epoch 18/50\n",
            "60000/60000 [==============================] - 5s 91us/step - loss: 0.0671 - acc: 0.8155 - val_loss: 0.0668 - val_acc: 0.8145\n",
            "Epoch 19/50\n",
            "60000/60000 [==============================] - 5s 91us/step - loss: 0.0670 - acc: 0.8155 - val_loss: 0.0667 - val_acc: 0.8145\n",
            "Epoch 20/50\n",
            "60000/60000 [==============================] - 6s 92us/step - loss: 0.0668 - acc: 0.8155 - val_loss: 0.0665 - val_acc: 0.8145\n",
            "Epoch 21/50\n",
            "60000/60000 [==============================] - 5s 91us/step - loss: 0.0667 - acc: 0.8155 - val_loss: 0.0664 - val_acc: 0.8145\n",
            "Epoch 22/50\n",
            "60000/60000 [==============================] - 5s 90us/step - loss: 0.0666 - acc: 0.8155 - val_loss: 0.0663 - val_acc: 0.8145\n",
            "Epoch 23/50\n",
            "60000/60000 [==============================] - 5s 90us/step - loss: 0.0665 - acc: 0.8155 - val_loss: 0.0663 - val_acc: 0.8145\n",
            "Epoch 24/50\n",
            "60000/60000 [==============================] - 5s 90us/step - loss: 0.0664 - acc: 0.8155 - val_loss: 0.0661 - val_acc: 0.8145\n",
            "Epoch 25/50\n",
            "60000/60000 [==============================] - 5s 90us/step - loss: 0.0663 - acc: 0.8155 - val_loss: 0.0661 - val_acc: 0.8145\n",
            "Epoch 26/50\n",
            "60000/60000 [==============================] - 5s 88us/step - loss: 0.0663 - acc: 0.8155 - val_loss: 0.0660 - val_acc: 0.8145\n",
            "Epoch 27/50\n",
            "60000/60000 [==============================] - 5s 89us/step - loss: 0.0662 - acc: 0.8155 - val_loss: 0.0660 - val_acc: 0.8145\n",
            "Epoch 28/50\n",
            "60000/60000 [==============================] - 5s 90us/step - loss: 0.0662 - acc: 0.8155 - val_loss: 0.0659 - val_acc: 0.8145\n",
            "Epoch 29/50\n",
            "60000/60000 [==============================] - 5s 89us/step - loss: 0.0661 - acc: 0.8155 - val_loss: 0.0659 - val_acc: 0.8145\n",
            "Epoch 30/50\n",
            "60000/60000 [==============================] - 5s 91us/step - loss: 0.0661 - acc: 0.8155 - val_loss: 0.0659 - val_acc: 0.8145\n",
            "Epoch 31/50\n",
            "60000/60000 [==============================] - 5s 91us/step - loss: 0.0660 - acc: 0.8155 - val_loss: 0.0658 - val_acc: 0.8145\n",
            "Epoch 32/50\n",
            "60000/60000 [==============================] - 6s 93us/step - loss: 0.0660 - acc: 0.8155 - val_loss: 0.0658 - val_acc: 0.8145\n",
            "Epoch 33/50\n",
            "60000/60000 [==============================] - 6s 95us/step - loss: 0.0660 - acc: 0.8155 - val_loss: 0.0658 - val_acc: 0.8145\n",
            "Epoch 34/50\n",
            "60000/60000 [==============================] - 6s 92us/step - loss: 0.0659 - acc: 0.8155 - val_loss: 0.0658 - val_acc: 0.8145\n",
            "Epoch 35/50\n",
            "60000/60000 [==============================] - 5s 91us/step - loss: 0.0659 - acc: 0.8155 - val_loss: 0.0657 - val_acc: 0.8145\n",
            "Epoch 36/50\n",
            "60000/60000 [==============================] - 5s 91us/step - loss: 0.0659 - acc: 0.8155 - val_loss: 0.0657 - val_acc: 0.8145\n",
            "Epoch 37/50\n",
            "60000/60000 [==============================] - 6s 92us/step - loss: 0.0658 - acc: 0.8155 - val_loss: 0.0657 - val_acc: 0.8145\n",
            "Epoch 38/50\n",
            "60000/60000 [==============================] - 6s 92us/step - loss: 0.0658 - acc: 0.8155 - val_loss: 0.0656 - val_acc: 0.8145\n",
            "Epoch 39/50\n",
            "60000/60000 [==============================] - 5s 91us/step - loss: 0.0658 - acc: 0.8155 - val_loss: 0.0657 - val_acc: 0.8145\n",
            "Epoch 40/50\n",
            "60000/60000 [==============================] - 5s 90us/step - loss: 0.0658 - acc: 0.8155 - val_loss: 0.0656 - val_acc: 0.8145\n",
            "Epoch 41/50\n",
            "60000/60000 [==============================] - 5s 90us/step - loss: 0.0658 - acc: 0.8155 - val_loss: 0.0656 - val_acc: 0.8145\n",
            "Epoch 42/50\n",
            "60000/60000 [==============================] - 5s 90us/step - loss: 0.0657 - acc: 0.8155 - val_loss: 0.0656 - val_acc: 0.8145\n",
            "Epoch 43/50\n",
            "60000/60000 [==============================] - 5s 89us/step - loss: 0.0657 - acc: 0.8155 - val_loss: 0.0655 - val_acc: 0.8145\n",
            "Epoch 44/50\n",
            "60000/60000 [==============================] - 5s 91us/step - loss: 0.0657 - acc: 0.8155 - val_loss: 0.0656 - val_acc: 0.8145\n",
            "Epoch 45/50\n",
            "60000/60000 [==============================] - 5s 90us/step - loss: 0.0657 - acc: 0.8155 - val_loss: 0.0656 - val_acc: 0.8145\n",
            "Epoch 46/50\n",
            "60000/60000 [==============================] - 5s 91us/step - loss: 0.0657 - acc: 0.8155 - val_loss: 0.0655 - val_acc: 0.8145\n",
            "Epoch 47/50\n",
            "60000/60000 [==============================] - 5s 90us/step - loss: 0.0657 - acc: 0.8155 - val_loss: 0.0655 - val_acc: 0.8145\n",
            "Epoch 48/50\n",
            "60000/60000 [==============================] - 5s 91us/step - loss: 0.0656 - acc: 0.8155 - val_loss: 0.0656 - val_acc: 0.8145\n",
            "Epoch 49/50\n",
            "60000/60000 [==============================] - 5s 91us/step - loss: 0.0656 - acc: 0.8155 - val_loss: 0.0655 - val_acc: 0.8145\n",
            "Epoch 50/50\n",
            "60000/60000 [==============================] - 5s 90us/step - loss: 0.0656 - acc: 0.8155 - val_loss: 0.0655 - val_acc: 0.8145\n"
          ],
          "name": "stdout"
        }
      ]
    },
    {
      "cell_type": "markdown",
      "metadata": {
        "id": "M7_NOiBRn-xC",
        "colab_type": "text"
      },
      "source": [
        "## Build Model (64 Node Compression)"
      ]
    },
    {
      "cell_type": "code",
      "metadata": {
        "id": "asATQLqvn_DY",
        "colab_type": "code",
        "outputId": "a7f89a31-92a4-41fa-b20c-646954875fc6",
        "colab": {
          "base_uri": "https://localhost:8080/",
          "height": 1000
        }
      },
      "source": [
        "autoencoder64, encoder64 = defineModel(depth=1)\n",
        "compileAndFit(autoencoder64)"
      ],
      "execution_count": 0,
      "outputs": [
        {
          "output_type": "stream",
          "text": [
            "Model: \"model_51\"\n",
            "_________________________________________________________________\n",
            "Layer (type)                 Output Shape              Param #   \n",
            "=================================================================\n",
            "input_35 (InputLayer)        (None, 784)               0         \n",
            "_________________________________________________________________\n",
            "dense_201 (Dense)            (None, 128)               100480    \n",
            "_________________________________________________________________\n",
            "dense_202 (Dense)            (None, 64)                8256      \n",
            "_________________________________________________________________\n",
            "dense_203 (Dense)            (None, 128)               8320      \n",
            "_________________________________________________________________\n",
            "dense_204 (Dense)            (None, 784)               101136    \n",
            "=================================================================\n",
            "Total params: 218,192\n",
            "Trainable params: 218,192\n",
            "Non-trainable params: 0\n",
            "_________________________________________________________________\n",
            "None\n",
            "Model: \"model_52\"\n",
            "_________________________________________________________________\n",
            "Layer (type)                 Output Shape              Param #   \n",
            "=================================================================\n",
            "input_35 (InputLayer)        (None, 784)               0         \n",
            "_________________________________________________________________\n",
            "dense_201 (Dense)            (None, 128)               100480    \n",
            "_________________________________________________________________\n",
            "dense_202 (Dense)            (None, 64)                8256      \n",
            "=================================================================\n",
            "Total params: 108,736\n",
            "Trainable params: 108,736\n",
            "Non-trainable params: 0\n",
            "_________________________________________________________________\n",
            "None\n",
            "Train on 60000 samples, validate on 10000 samples\n",
            "Epoch 1/50\n",
            "60000/60000 [==============================] - 8s 126us/step - loss: 0.2237 - acc: 0.7895 - val_loss: 0.1426 - val_acc: 0.8063\n",
            "Epoch 2/50\n",
            "60000/60000 [==============================] - 6s 101us/step - loss: 0.1268 - acc: 0.8097 - val_loss: 0.1131 - val_acc: 0.8111\n",
            "Epoch 3/50\n",
            "60000/60000 [==============================] - 6s 103us/step - loss: 0.1081 - acc: 0.8125 - val_loss: 0.1015 - val_acc: 0.8123\n",
            "Epoch 4/50\n",
            "60000/60000 [==============================] - 6s 101us/step - loss: 0.1001 - acc: 0.8134 - val_loss: 0.0962 - val_acc: 0.8126\n",
            "Epoch 5/50\n",
            "60000/60000 [==============================] - 6s 94us/step - loss: 0.0955 - acc: 0.8139 - val_loss: 0.0924 - val_acc: 0.8133\n",
            "Epoch 6/50\n",
            "60000/60000 [==============================] - 6s 100us/step - loss: 0.0923 - acc: 0.8142 - val_loss: 0.0897 - val_acc: 0.8134\n",
            "Epoch 7/50\n",
            "60000/60000 [==============================] - 6s 96us/step - loss: 0.0901 - acc: 0.8144 - val_loss: 0.0879 - val_acc: 0.8135\n",
            "Epoch 8/50\n",
            "60000/60000 [==============================] - 6s 93us/step - loss: 0.0883 - acc: 0.8145 - val_loss: 0.0863 - val_acc: 0.8137\n",
            "Epoch 9/50\n",
            "60000/60000 [==============================] - 6s 93us/step - loss: 0.0867 - acc: 0.8146 - val_loss: 0.0849 - val_acc: 0.8137\n",
            "Epoch 10/50\n",
            "60000/60000 [==============================] - 6s 94us/step - loss: 0.0853 - acc: 0.8147 - val_loss: 0.0838 - val_acc: 0.8138\n",
            "Epoch 11/50\n",
            "60000/60000 [==============================] - 6s 94us/step - loss: 0.0842 - acc: 0.8148 - val_loss: 0.0829 - val_acc: 0.8138\n",
            "Epoch 12/50\n",
            "60000/60000 [==============================] - 6s 93us/step - loss: 0.0832 - acc: 0.8148 - val_loss: 0.0819 - val_acc: 0.8139\n",
            "Epoch 13/50\n",
            "60000/60000 [==============================] - 6s 94us/step - loss: 0.0823 - acc: 0.8149 - val_loss: 0.0811 - val_acc: 0.8140\n",
            "Epoch 14/50\n",
            "60000/60000 [==============================] - 6s 93us/step - loss: 0.0815 - acc: 0.8149 - val_loss: 0.0802 - val_acc: 0.8140\n",
            "Epoch 15/50\n",
            "60000/60000 [==============================] - 6s 93us/step - loss: 0.0809 - acc: 0.8150 - val_loss: 0.0799 - val_acc: 0.8140\n",
            "Epoch 16/50\n",
            "60000/60000 [==============================] - 6s 93us/step - loss: 0.0803 - acc: 0.8150 - val_loss: 0.0792 - val_acc: 0.8141\n",
            "Epoch 17/50\n",
            "60000/60000 [==============================] - 6s 93us/step - loss: 0.0798 - acc: 0.8150 - val_loss: 0.0789 - val_acc: 0.8141\n",
            "Epoch 18/50\n",
            "60000/60000 [==============================] - 6s 93us/step - loss: 0.0794 - acc: 0.8151 - val_loss: 0.0786 - val_acc: 0.8141\n",
            "Epoch 19/50\n",
            "60000/60000 [==============================] - 6s 96us/step - loss: 0.0790 - acc: 0.8151 - val_loss: 0.0782 - val_acc: 0.8141\n",
            "Epoch 20/50\n",
            "60000/60000 [==============================] - 6s 99us/step - loss: 0.0787 - acc: 0.8151 - val_loss: 0.0779 - val_acc: 0.8141\n",
            "Epoch 21/50\n",
            "60000/60000 [==============================] - 6s 99us/step - loss: 0.0783 - acc: 0.8151 - val_loss: 0.0775 - val_acc: 0.8141\n",
            "Epoch 22/50\n",
            "60000/60000 [==============================] - 6s 96us/step - loss: 0.0780 - acc: 0.8151 - val_loss: 0.0774 - val_acc: 0.8142\n",
            "Epoch 23/50\n",
            "60000/60000 [==============================] - 6s 98us/step - loss: 0.0777 - acc: 0.8151 - val_loss: 0.0772 - val_acc: 0.8142\n",
            "Epoch 24/50\n",
            "60000/60000 [==============================] - 6s 105us/step - loss: 0.0775 - acc: 0.8152 - val_loss: 0.0768 - val_acc: 0.8142\n",
            "Epoch 25/50\n",
            "60000/60000 [==============================] - 6s 98us/step - loss: 0.0772 - acc: 0.8152 - val_loss: 0.0766 - val_acc: 0.8142\n",
            "Epoch 26/50\n",
            "60000/60000 [==============================] - 6s 98us/step - loss: 0.0770 - acc: 0.8152 - val_loss: 0.0764 - val_acc: 0.8142\n",
            "Epoch 27/50\n",
            "60000/60000 [==============================] - 6s 99us/step - loss: 0.0768 - acc: 0.8152 - val_loss: 0.0764 - val_acc: 0.8142\n",
            "Epoch 28/50\n",
            "60000/60000 [==============================] - 6s 97us/step - loss: 0.0766 - acc: 0.8152 - val_loss: 0.0760 - val_acc: 0.8142\n",
            "Epoch 29/50\n",
            "60000/60000 [==============================] - 6s 96us/step - loss: 0.0763 - acc: 0.8152 - val_loss: 0.0757 - val_acc: 0.8142\n",
            "Epoch 30/50\n",
            "60000/60000 [==============================] - 6s 96us/step - loss: 0.0761 - acc: 0.8152 - val_loss: 0.0755 - val_acc: 0.8142\n",
            "Epoch 31/50\n",
            "60000/60000 [==============================] - 6s 96us/step - loss: 0.0760 - acc: 0.8152 - val_loss: 0.0754 - val_acc: 0.8142\n",
            "Epoch 32/50\n",
            "60000/60000 [==============================] - 6s 96us/step - loss: 0.0758 - acc: 0.8152 - val_loss: 0.0753 - val_acc: 0.8143\n",
            "Epoch 33/50\n",
            "60000/60000 [==============================] - 6s 100us/step - loss: 0.0756 - acc: 0.8152 - val_loss: 0.0752 - val_acc: 0.8143\n",
            "Epoch 34/50\n",
            "60000/60000 [==============================] - 6s 97us/step - loss: 0.0754 - acc: 0.8152 - val_loss: 0.0752 - val_acc: 0.8142\n",
            "Epoch 35/50\n",
            "60000/60000 [==============================] - 6s 96us/step - loss: 0.0753 - acc: 0.8152 - val_loss: 0.0750 - val_acc: 0.8143\n",
            "Epoch 36/50\n",
            "60000/60000 [==============================] - 6s 98us/step - loss: 0.0752 - acc: 0.8152 - val_loss: 0.0745 - val_acc: 0.8143\n",
            "Epoch 37/50\n",
            "60000/60000 [==============================] - 6s 96us/step - loss: 0.0750 - acc: 0.8153 - val_loss: 0.0744 - val_acc: 0.8143\n",
            "Epoch 38/50\n",
            "60000/60000 [==============================] - 6s 97us/step - loss: 0.0748 - acc: 0.8153 - val_loss: 0.0744 - val_acc: 0.8143\n",
            "Epoch 39/50\n",
            "60000/60000 [==============================] - 6s 94us/step - loss: 0.0747 - acc: 0.8153 - val_loss: 0.0742 - val_acc: 0.8143\n",
            "Epoch 40/50\n",
            "60000/60000 [==============================] - 6s 95us/step - loss: 0.0746 - acc: 0.8153 - val_loss: 0.0742 - val_acc: 0.8143\n",
            "Epoch 41/50\n",
            "60000/60000 [==============================] - 6s 94us/step - loss: 0.0745 - acc: 0.8153 - val_loss: 0.0740 - val_acc: 0.8143\n",
            "Epoch 42/50\n",
            "60000/60000 [==============================] - 6s 99us/step - loss: 0.0743 - acc: 0.8153 - val_loss: 0.0740 - val_acc: 0.8143\n",
            "Epoch 43/50\n",
            "60000/60000 [==============================] - 6s 101us/step - loss: 0.0742 - acc: 0.8153 - val_loss: 0.0738 - val_acc: 0.8143\n",
            "Epoch 44/50\n",
            "60000/60000 [==============================] - 6s 97us/step - loss: 0.0742 - acc: 0.8153 - val_loss: 0.0738 - val_acc: 0.8143\n",
            "Epoch 45/50\n",
            "60000/60000 [==============================] - 6s 97us/step - loss: 0.0740 - acc: 0.8153 - val_loss: 0.0736 - val_acc: 0.8143\n",
            "Epoch 46/50\n",
            "60000/60000 [==============================] - 6s 97us/step - loss: 0.0740 - acc: 0.8153 - val_loss: 0.0738 - val_acc: 0.8143\n",
            "Epoch 47/50\n",
            "60000/60000 [==============================] - 6s 94us/step - loss: 0.0739 - acc: 0.8153 - val_loss: 0.0734 - val_acc: 0.8143\n",
            "Epoch 48/50\n",
            "60000/60000 [==============================] - 6s 96us/step - loss: 0.0738 - acc: 0.8153 - val_loss: 0.0733 - val_acc: 0.8143\n",
            "Epoch 49/50\n",
            "60000/60000 [==============================] - 6s 97us/step - loss: 0.0737 - acc: 0.8153 - val_loss: 0.0733 - val_acc: 0.8143\n",
            "Epoch 50/50\n",
            "60000/60000 [==============================] - 6s 96us/step - loss: 0.0736 - acc: 0.8153 - val_loss: 0.0731 - val_acc: 0.8143\n"
          ],
          "name": "stdout"
        }
      ]
    },
    {
      "cell_type": "markdown",
      "metadata": {
        "id": "7Z91vqiycnm8",
        "colab_type": "text"
      },
      "source": [
        "## Build Model (32 Node Compression)"
      ]
    },
    {
      "cell_type": "code",
      "metadata": {
        "id": "lI_HpqI1bV1M",
        "colab_type": "code",
        "outputId": "cd6c1476-78a5-4c89-fa84-036a255db141",
        "colab": {
          "base_uri": "https://localhost:8080/",
          "height": 1000
        }
      },
      "source": [
        "autoencoder32, encoder32 = defineModel(depth=2)\n",
        "compileAndFit(autoencoder32)"
      ],
      "execution_count": 0,
      "outputs": [
        {
          "output_type": "stream",
          "text": [
            "Model: \"model_45\"\n",
            "_________________________________________________________________\n",
            "Layer (type)                 Output Shape              Param #   \n",
            "=================================================================\n",
            "input_32 (InputLayer)        (None, 784)               0         \n",
            "_________________________________________________________________\n",
            "dense_179 (Dense)            (None, 128)               100480    \n",
            "_________________________________________________________________\n",
            "dense_180 (Dense)            (None, 64)                8256      \n",
            "_________________________________________________________________\n",
            "dense_181 (Dense)            (None, 32)                2080      \n",
            "_________________________________________________________________\n",
            "dense_182 (Dense)            (None, 64)                2112      \n",
            "_________________________________________________________________\n",
            "dense_183 (Dense)            (None, 128)               8320      \n",
            "_________________________________________________________________\n",
            "dense_184 (Dense)            (None, 784)               101136    \n",
            "=================================================================\n",
            "Total params: 222,384\n",
            "Trainable params: 222,384\n",
            "Non-trainable params: 0\n",
            "_________________________________________________________________\n",
            "None\n",
            "Model: \"model_46\"\n",
            "_________________________________________________________________\n",
            "Layer (type)                 Output Shape              Param #   \n",
            "=================================================================\n",
            "input_32 (InputLayer)        (None, 784)               0         \n",
            "_________________________________________________________________\n",
            "dense_179 (Dense)            (None, 128)               100480    \n",
            "_________________________________________________________________\n",
            "dense_180 (Dense)            (None, 64)                8256      \n",
            "_________________________________________________________________\n",
            "dense_181 (Dense)            (None, 32)                2080      \n",
            "=================================================================\n",
            "Total params: 110,816\n",
            "Trainable params: 110,816\n",
            "Non-trainable params: 0\n",
            "_________________________________________________________________\n",
            "None\n",
            "Train on 60000 samples, validate on 10000 samples\n",
            "Epoch 1/50\n",
            "60000/60000 [==============================] - 7s 123us/step - loss: 0.2486 - acc: 0.7844 - val_loss: 0.1659 - val_acc: 0.8007\n",
            "Epoch 2/50\n",
            "60000/60000 [==============================] - 6s 100us/step - loss: 0.1512 - acc: 0.8049 - val_loss: 0.1395 - val_acc: 0.8067\n",
            "Epoch 3/50\n",
            "60000/60000 [==============================] - 6s 103us/step - loss: 0.1354 - acc: 0.8079 - val_loss: 0.1292 - val_acc: 0.8089\n",
            "Epoch 4/50\n",
            "60000/60000 [==============================] - 6s 102us/step - loss: 0.1253 - acc: 0.8096 - val_loss: 0.1198 - val_acc: 0.8097\n",
            "Epoch 5/50\n",
            "60000/60000 [==============================] - 6s 100us/step - loss: 0.1190 - acc: 0.8106 - val_loss: 0.1145 - val_acc: 0.8103\n",
            "Epoch 6/50\n",
            "60000/60000 [==============================] - 6s 99us/step - loss: 0.1143 - acc: 0.8113 - val_loss: 0.1109 - val_acc: 0.8109\n",
            "Epoch 7/50\n",
            "60000/60000 [==============================] - 6s 100us/step - loss: 0.1109 - acc: 0.8117 - val_loss: 0.1076 - val_acc: 0.8111\n",
            "Epoch 8/50\n",
            "60000/60000 [==============================] - 6s 101us/step - loss: 0.1080 - acc: 0.8121 - val_loss: 0.1059 - val_acc: 0.8116\n",
            "Epoch 9/50\n",
            "60000/60000 [==============================] - 6s 98us/step - loss: 0.1057 - acc: 0.8124 - val_loss: 0.1042 - val_acc: 0.8119\n",
            "Epoch 10/50\n",
            "60000/60000 [==============================] - 6s 97us/step - loss: 0.1039 - acc: 0.8126 - val_loss: 0.1021 - val_acc: 0.8115\n",
            "Epoch 11/50\n",
            "60000/60000 [==============================] - 6s 96us/step - loss: 0.1022 - acc: 0.8128 - val_loss: 0.1003 - val_acc: 0.8120\n",
            "Epoch 12/50\n",
            "60000/60000 [==============================] - 6s 98us/step - loss: 0.1007 - acc: 0.8130 - val_loss: 0.0994 - val_acc: 0.8123\n",
            "Epoch 13/50\n",
            "60000/60000 [==============================] - 6s 100us/step - loss: 0.0993 - acc: 0.8132 - val_loss: 0.0973 - val_acc: 0.8123\n",
            "Epoch 14/50\n",
            "60000/60000 [==============================] - 6s 98us/step - loss: 0.0980 - acc: 0.8133 - val_loss: 0.0965 - val_acc: 0.8127\n",
            "Epoch 15/50\n",
            "60000/60000 [==============================] - 6s 98us/step - loss: 0.0970 - acc: 0.8135 - val_loss: 0.0959 - val_acc: 0.8129\n",
            "Epoch 16/50\n",
            "60000/60000 [==============================] - 6s 98us/step - loss: 0.0961 - acc: 0.8135 - val_loss: 0.0948 - val_acc: 0.8125\n",
            "Epoch 17/50\n",
            "60000/60000 [==============================] - 6s 97us/step - loss: 0.0953 - acc: 0.8136 - val_loss: 0.0938 - val_acc: 0.8128\n",
            "Epoch 18/50\n",
            "60000/60000 [==============================] - 6s 100us/step - loss: 0.0947 - acc: 0.8137 - val_loss: 0.0934 - val_acc: 0.8128\n",
            "Epoch 19/50\n",
            "60000/60000 [==============================] - 6s 101us/step - loss: 0.0940 - acc: 0.8138 - val_loss: 0.0927 - val_acc: 0.8129\n",
            "Epoch 20/50\n",
            "60000/60000 [==============================] - 6s 98us/step - loss: 0.0934 - acc: 0.8138 - val_loss: 0.0926 - val_acc: 0.8129\n",
            "Epoch 21/50\n",
            "60000/60000 [==============================] - 6s 100us/step - loss: 0.0928 - acc: 0.8139 - val_loss: 0.0917 - val_acc: 0.8129\n",
            "Epoch 22/50\n",
            "60000/60000 [==============================] - 6s 100us/step - loss: 0.0922 - acc: 0.8139 - val_loss: 0.0923 - val_acc: 0.8132\n",
            "Epoch 23/50\n",
            "60000/60000 [==============================] - 6s 100us/step - loss: 0.0917 - acc: 0.8140 - val_loss: 0.0907 - val_acc: 0.8131\n",
            "Epoch 24/50\n",
            "60000/60000 [==============================] - 6s 101us/step - loss: 0.0911 - acc: 0.8140 - val_loss: 0.0901 - val_acc: 0.8130\n",
            "Epoch 25/50\n",
            "60000/60000 [==============================] - 6s 99us/step - loss: 0.0906 - acc: 0.8141 - val_loss: 0.0898 - val_acc: 0.8130\n",
            "Epoch 26/50\n",
            "60000/60000 [==============================] - 6s 101us/step - loss: 0.0901 - acc: 0.8141 - val_loss: 0.0893 - val_acc: 0.8131\n",
            "Epoch 27/50\n",
            "60000/60000 [==============================] - 6s 100us/step - loss: 0.0897 - acc: 0.8142 - val_loss: 0.0890 - val_acc: 0.8133\n",
            "Epoch 28/50\n",
            "60000/60000 [==============================] - 6s 102us/step - loss: 0.0893 - acc: 0.8142 - val_loss: 0.0887 - val_acc: 0.8132\n",
            "Epoch 29/50\n",
            "60000/60000 [==============================] - 6s 101us/step - loss: 0.0890 - acc: 0.8142 - val_loss: 0.0880 - val_acc: 0.8132\n",
            "Epoch 30/50\n",
            "60000/60000 [==============================] - 6s 94us/step - loss: 0.0886 - acc: 0.8143 - val_loss: 0.0877 - val_acc: 0.8133\n",
            "Epoch 31/50\n",
            "60000/60000 [==============================] - 6s 99us/step - loss: 0.0883 - acc: 0.8143 - val_loss: 0.0873 - val_acc: 0.8134\n",
            "Epoch 32/50\n",
            "60000/60000 [==============================] - 6s 100us/step - loss: 0.0880 - acc: 0.8143 - val_loss: 0.0874 - val_acc: 0.8133\n",
            "Epoch 33/50\n",
            "60000/60000 [==============================] - 6s 99us/step - loss: 0.0876 - acc: 0.8143 - val_loss: 0.0872 - val_acc: 0.8134\n",
            "Epoch 34/50\n",
            "60000/60000 [==============================] - 6s 99us/step - loss: 0.0873 - acc: 0.8144 - val_loss: 0.0865 - val_acc: 0.8134\n",
            "Epoch 35/50\n",
            "60000/60000 [==============================] - 6s 98us/step - loss: 0.0871 - acc: 0.8144 - val_loss: 0.0864 - val_acc: 0.8134\n",
            "Epoch 36/50\n",
            "60000/60000 [==============================] - 6s 103us/step - loss: 0.0869 - acc: 0.8144 - val_loss: 0.0862 - val_acc: 0.8134\n",
            "Epoch 37/50\n",
            "60000/60000 [==============================] - 6s 101us/step - loss: 0.0866 - acc: 0.8144 - val_loss: 0.0863 - val_acc: 0.8135\n",
            "Epoch 38/50\n",
            "60000/60000 [==============================] - 6s 100us/step - loss: 0.0864 - acc: 0.8144 - val_loss: 0.0857 - val_acc: 0.8135\n",
            "Epoch 39/50\n",
            "60000/60000 [==============================] - 6s 100us/step - loss: 0.0863 - acc: 0.8145 - val_loss: 0.0857 - val_acc: 0.8134\n",
            "Epoch 40/50\n",
            "60000/60000 [==============================] - 6s 97us/step - loss: 0.0861 - acc: 0.8145 - val_loss: 0.0853 - val_acc: 0.8135\n",
            "Epoch 41/50\n",
            "60000/60000 [==============================] - 6s 98us/step - loss: 0.0859 - acc: 0.8145 - val_loss: 0.0852 - val_acc: 0.8135\n",
            "Epoch 42/50\n",
            "60000/60000 [==============================] - 6s 98us/step - loss: 0.0857 - acc: 0.8145 - val_loss: 0.0851 - val_acc: 0.8135\n",
            "Epoch 43/50\n",
            "60000/60000 [==============================] - 6s 99us/step - loss: 0.0856 - acc: 0.8145 - val_loss: 0.0850 - val_acc: 0.8136\n",
            "Epoch 44/50\n",
            "60000/60000 [==============================] - 6s 99us/step - loss: 0.0854 - acc: 0.8145 - val_loss: 0.0850 - val_acc: 0.8134\n",
            "Epoch 45/50\n",
            "60000/60000 [==============================] - 6s 99us/step - loss: 0.0852 - acc: 0.8145 - val_loss: 0.0849 - val_acc: 0.8136\n",
            "Epoch 46/50\n",
            "60000/60000 [==============================] - 6s 101us/step - loss: 0.0851 - acc: 0.8145 - val_loss: 0.0846 - val_acc: 0.8135\n",
            "Epoch 47/50\n",
            "60000/60000 [==============================] - 6s 100us/step - loss: 0.0849 - acc: 0.8145 - val_loss: 0.0846 - val_acc: 0.8137\n",
            "Epoch 48/50\n",
            "60000/60000 [==============================] - 6s 100us/step - loss: 0.0848 - acc: 0.8146 - val_loss: 0.0842 - val_acc: 0.8136\n",
            "Epoch 49/50\n",
            "60000/60000 [==============================] - 6s 98us/step - loss: 0.0846 - acc: 0.8146 - val_loss: 0.0842 - val_acc: 0.8135\n",
            "Epoch 50/50\n",
            "60000/60000 [==============================] - 6s 98us/step - loss: 0.0845 - acc: 0.8146 - val_loss: 0.0841 - val_acc: 0.8136\n"
          ],
          "name": "stdout"
        }
      ]
    },
    {
      "cell_type": "markdown",
      "metadata": {
        "id": "BznSotgid5tw",
        "colab_type": "text"
      },
      "source": [
        "## Build Model (16 Node Compression)"
      ]
    },
    {
      "cell_type": "code",
      "metadata": {
        "id": "17dQIMJXdDhW",
        "colab_type": "code",
        "outputId": "905a3c39-1cdc-45af-84b7-a4080d961d1f",
        "colab": {
          "base_uri": "https://localhost:8080/",
          "height": 1000
        }
      },
      "source": [
        "autoencoder16, encoder16 = defineModel(depth=3)\n",
        "compileAndFit(autoencoder16)"
      ],
      "execution_count": 0,
      "outputs": [
        {
          "output_type": "stream",
          "text": [
            "Model: \"model_47\"\n",
            "_________________________________________________________________\n",
            "Layer (type)                 Output Shape              Param #   \n",
            "=================================================================\n",
            "input_33 (InputLayer)        (None, 784)               0         \n",
            "_________________________________________________________________\n",
            "dense_185 (Dense)            (None, 128)               100480    \n",
            "_________________________________________________________________\n",
            "dense_186 (Dense)            (None, 64)                8256      \n",
            "_________________________________________________________________\n",
            "dense_187 (Dense)            (None, 32)                2080      \n",
            "_________________________________________________________________\n",
            "dense_188 (Dense)            (None, 16)                528       \n",
            "_________________________________________________________________\n",
            "dense_189 (Dense)            (None, 32)                544       \n",
            "_________________________________________________________________\n",
            "dense_190 (Dense)            (None, 64)                2112      \n",
            "_________________________________________________________________\n",
            "dense_191 (Dense)            (None, 128)               8320      \n",
            "_________________________________________________________________\n",
            "dense_192 (Dense)            (None, 784)               101136    \n",
            "=================================================================\n",
            "Total params: 223,456\n",
            "Trainable params: 223,456\n",
            "Non-trainable params: 0\n",
            "_________________________________________________________________\n",
            "None\n",
            "Model: \"model_48\"\n",
            "_________________________________________________________________\n",
            "Layer (type)                 Output Shape              Param #   \n",
            "=================================================================\n",
            "input_33 (InputLayer)        (None, 784)               0         \n",
            "_________________________________________________________________\n",
            "dense_185 (Dense)            (None, 128)               100480    \n",
            "_________________________________________________________________\n",
            "dense_186 (Dense)            (None, 64)                8256      \n",
            "_________________________________________________________________\n",
            "dense_187 (Dense)            (None, 32)                2080      \n",
            "_________________________________________________________________\n",
            "dense_188 (Dense)            (None, 16)                528       \n",
            "=================================================================\n",
            "Total params: 111,344\n",
            "Trainable params: 111,344\n",
            "Non-trainable params: 0\n",
            "_________________________________________________________________\n",
            "None\n",
            "Train on 60000 samples, validate on 10000 samples\n",
            "Epoch 1/50\n",
            "60000/60000 [==============================] - 8s 126us/step - loss: 0.2724 - acc: 0.7823 - val_loss: 0.2046 - val_acc: 0.7944\n",
            "Epoch 2/50\n",
            "60000/60000 [==============================] - 6s 103us/step - loss: 0.1771 - acc: 0.7996 - val_loss: 0.1606 - val_acc: 0.8016\n",
            "Epoch 3/50\n",
            "60000/60000 [==============================] - 6s 95us/step - loss: 0.1548 - acc: 0.8033 - val_loss: 0.1467 - val_acc: 0.8028\n",
            "Epoch 4/50\n",
            "60000/60000 [==============================] - 6s 95us/step - loss: 0.1440 - acc: 0.8054 - val_loss: 0.1381 - val_acc: 0.8060\n",
            "Epoch 5/50\n",
            "60000/60000 [==============================] - 6s 95us/step - loss: 0.1365 - acc: 0.8069 - val_loss: 0.1329 - val_acc: 0.8067\n",
            "Epoch 6/50\n",
            "60000/60000 [==============================] - 6s 95us/step - loss: 0.1315 - acc: 0.8079 - val_loss: 0.1278 - val_acc: 0.8081\n",
            "Epoch 7/50\n",
            "60000/60000 [==============================] - 6s 97us/step - loss: 0.1275 - acc: 0.8086 - val_loss: 0.1248 - val_acc: 0.8078\n",
            "Epoch 8/50\n",
            "60000/60000 [==============================] - 6s 100us/step - loss: 0.1248 - acc: 0.8090 - val_loss: 0.1223 - val_acc: 0.8085\n",
            "Epoch 9/50\n",
            "60000/60000 [==============================] - 6s 100us/step - loss: 0.1223 - acc: 0.8094 - val_loss: 0.1200 - val_acc: 0.8083\n",
            "Epoch 10/50\n",
            "60000/60000 [==============================] - 6s 99us/step - loss: 0.1204 - acc: 0.8097 - val_loss: 0.1185 - val_acc: 0.8097\n",
            "Epoch 11/50\n",
            "60000/60000 [==============================] - 6s 99us/step - loss: 0.1189 - acc: 0.8100 - val_loss: 0.1169 - val_acc: 0.8094\n",
            "Epoch 12/50\n",
            "60000/60000 [==============================] - 6s 100us/step - loss: 0.1177 - acc: 0.8102 - val_loss: 0.1161 - val_acc: 0.8094\n",
            "Epoch 13/50\n",
            "60000/60000 [==============================] - 6s 99us/step - loss: 0.1165 - acc: 0.8103 - val_loss: 0.1150 - val_acc: 0.8098\n",
            "Epoch 14/50\n",
            "60000/60000 [==============================] - 6s 98us/step - loss: 0.1153 - acc: 0.8105 - val_loss: 0.1136 - val_acc: 0.8102\n",
            "Epoch 15/50\n",
            "60000/60000 [==============================] - 6s 100us/step - loss: 0.1137 - acc: 0.8108 - val_loss: 0.1122 - val_acc: 0.8099\n",
            "Epoch 16/50\n",
            "60000/60000 [==============================] - 6s 99us/step - loss: 0.1127 - acc: 0.8110 - val_loss: 0.1111 - val_acc: 0.8102\n",
            "Epoch 17/50\n",
            "60000/60000 [==============================] - 6s 99us/step - loss: 0.1118 - acc: 0.8111 - val_loss: 0.1108 - val_acc: 0.8100\n",
            "Epoch 18/50\n",
            "60000/60000 [==============================] - 6s 97us/step - loss: 0.1111 - acc: 0.8112 - val_loss: 0.1097 - val_acc: 0.8105\n",
            "Epoch 19/50\n",
            "60000/60000 [==============================] - 6s 98us/step - loss: 0.1104 - acc: 0.8113 - val_loss: 0.1096 - val_acc: 0.8100\n",
            "Epoch 20/50\n",
            "60000/60000 [==============================] - 6s 95us/step - loss: 0.1098 - acc: 0.8114 - val_loss: 0.1093 - val_acc: 0.8099\n",
            "Epoch 21/50\n",
            "60000/60000 [==============================] - 6s 96us/step - loss: 0.1093 - acc: 0.8115 - val_loss: 0.1083 - val_acc: 0.8107\n",
            "Epoch 22/50\n",
            "60000/60000 [==============================] - 6s 97us/step - loss: 0.1087 - acc: 0.8115 - val_loss: 0.1078 - val_acc: 0.8107\n",
            "Epoch 23/50\n",
            "60000/60000 [==============================] - 6s 96us/step - loss: 0.1084 - acc: 0.8116 - val_loss: 0.1084 - val_acc: 0.8112\n",
            "Epoch 24/50\n",
            "60000/60000 [==============================] - 6s 99us/step - loss: 0.1079 - acc: 0.8117 - val_loss: 0.1074 - val_acc: 0.8110\n",
            "Epoch 25/50\n",
            "60000/60000 [==============================] - 6s 97us/step - loss: 0.1074 - acc: 0.8117 - val_loss: 0.1069 - val_acc: 0.8110\n",
            "Epoch 26/50\n",
            "60000/60000 [==============================] - 6s 99us/step - loss: 0.1069 - acc: 0.8118 - val_loss: 0.1061 - val_acc: 0.8109\n",
            "Epoch 27/50\n",
            "60000/60000 [==============================] - 6s 98us/step - loss: 0.1063 - acc: 0.8119 - val_loss: 0.1056 - val_acc: 0.8108\n",
            "Epoch 28/50\n",
            "60000/60000 [==============================] - 6s 99us/step - loss: 0.1058 - acc: 0.8119 - val_loss: 0.1053 - val_acc: 0.8114\n",
            "Epoch 29/50\n",
            "60000/60000 [==============================] - 6s 100us/step - loss: 0.1054 - acc: 0.8120 - val_loss: 0.1047 - val_acc: 0.8110\n",
            "Epoch 30/50\n",
            "60000/60000 [==============================] - 6s 100us/step - loss: 0.1049 - acc: 0.8120 - val_loss: 0.1041 - val_acc: 0.8114\n",
            "Epoch 31/50\n",
            "60000/60000 [==============================] - 6s 99us/step - loss: 0.1045 - acc: 0.8121 - val_loss: 0.1035 - val_acc: 0.8113\n",
            "Epoch 32/50\n",
            "60000/60000 [==============================] - 6s 100us/step - loss: 0.1041 - acc: 0.8121 - val_loss: 0.1034 - val_acc: 0.8110\n",
            "Epoch 33/50\n",
            "60000/60000 [==============================] - 6s 98us/step - loss: 0.1036 - acc: 0.8122 - val_loss: 0.1034 - val_acc: 0.8116\n",
            "Epoch 34/50\n",
            "60000/60000 [==============================] - 6s 100us/step - loss: 0.1033 - acc: 0.8123 - val_loss: 0.1030 - val_acc: 0.8111\n",
            "Epoch 35/50\n",
            "60000/60000 [==============================] - 6s 98us/step - loss: 0.1029 - acc: 0.8123 - val_loss: 0.1029 - val_acc: 0.8109\n",
            "Epoch 36/50\n",
            "60000/60000 [==============================] - 6s 98us/step - loss: 0.1025 - acc: 0.8124 - val_loss: 0.1017 - val_acc: 0.8113\n",
            "Epoch 37/50\n",
            "60000/60000 [==============================] - 6s 100us/step - loss: 0.1020 - acc: 0.8124 - val_loss: 0.1014 - val_acc: 0.8116\n",
            "Epoch 38/50\n",
            "60000/60000 [==============================] - 6s 108us/step - loss: 0.1017 - acc: 0.8125 - val_loss: 0.1013 - val_acc: 0.8114\n",
            "Epoch 39/50\n",
            "60000/60000 [==============================] - 6s 99us/step - loss: 0.1013 - acc: 0.8125 - val_loss: 0.1008 - val_acc: 0.8116\n",
            "Epoch 40/50\n",
            "60000/60000 [==============================] - 6s 99us/step - loss: 0.1011 - acc: 0.8126 - val_loss: 0.1012 - val_acc: 0.8116\n",
            "Epoch 41/50\n",
            "60000/60000 [==============================] - 6s 101us/step - loss: 0.1009 - acc: 0.8126 - val_loss: 0.1008 - val_acc: 0.8113\n",
            "Epoch 42/50\n",
            "60000/60000 [==============================] - 6s 103us/step - loss: 0.1006 - acc: 0.8126 - val_loss: 0.1002 - val_acc: 0.8115\n",
            "Epoch 43/50\n",
            "60000/60000 [==============================] - 6s 103us/step - loss: 0.1004 - acc: 0.8126 - val_loss: 0.0999 - val_acc: 0.8116\n",
            "Epoch 44/50\n",
            "60000/60000 [==============================] - 6s 100us/step - loss: 0.1001 - acc: 0.8127 - val_loss: 0.0998 - val_acc: 0.8116\n",
            "Epoch 45/50\n",
            "60000/60000 [==============================] - 6s 100us/step - loss: 0.1000 - acc: 0.8127 - val_loss: 0.0997 - val_acc: 0.8119\n",
            "Epoch 46/50\n",
            "60000/60000 [==============================] - 6s 102us/step - loss: 0.0998 - acc: 0.8127 - val_loss: 0.1000 - val_acc: 0.8116\n",
            "Epoch 47/50\n",
            "60000/60000 [==============================] - 6s 102us/step - loss: 0.0996 - acc: 0.8127 - val_loss: 0.0993 - val_acc: 0.8119\n",
            "Epoch 48/50\n",
            "60000/60000 [==============================] - 6s 97us/step - loss: 0.0994 - acc: 0.8128 - val_loss: 0.0991 - val_acc: 0.8118\n",
            "Epoch 49/50\n",
            "60000/60000 [==============================] - 6s 98us/step - loss: 0.0993 - acc: 0.8128 - val_loss: 0.0993 - val_acc: 0.8119\n",
            "Epoch 50/50\n",
            "60000/60000 [==============================] - 6s 98us/step - loss: 0.0991 - acc: 0.8128 - val_loss: 0.0987 - val_acc: 0.8119\n"
          ],
          "name": "stdout"
        }
      ]
    },
    {
      "cell_type": "markdown",
      "metadata": {
        "id": "k8cz0VJFik-4",
        "colab_type": "text"
      },
      "source": [
        "## Build Model (8 Node Compression)"
      ]
    },
    {
      "cell_type": "code",
      "metadata": {
        "id": "zke8-kfCd_If",
        "colab_type": "code",
        "outputId": "ea46f900-3d6a-41d2-ddd2-99b700035fe9",
        "colab": {
          "base_uri": "https://localhost:8080/",
          "height": 1000
        }
      },
      "source": [
        "autoencoder8, encoder8 = defineModel(depth=4)\n",
        "compileAndFit(autoencoder8)"
      ],
      "execution_count": 0,
      "outputs": [
        {
          "output_type": "stream",
          "text": [
            "Model: \"model_57\"\n",
            "_________________________________________________________________\n",
            "Layer (type)                 Output Shape              Param #   \n",
            "=================================================================\n",
            "input_38 (InputLayer)        (None, 784)               0         \n",
            "_________________________________________________________________\n",
            "dense_215 (Dense)            (None, 128)               100480    \n",
            "_________________________________________________________________\n",
            "dense_216 (Dense)            (None, 64)                8256      \n",
            "_________________________________________________________________\n",
            "dense_217 (Dense)            (None, 32)                2080      \n",
            "_________________________________________________________________\n",
            "dense_218 (Dense)            (None, 16)                528       \n",
            "_________________________________________________________________\n",
            "dense_219 (Dense)            (None, 8)                 136       \n",
            "_________________________________________________________________\n",
            "dense_220 (Dense)            (None, 16)                144       \n",
            "_________________________________________________________________\n",
            "dense_221 (Dense)            (None, 32)                544       \n",
            "_________________________________________________________________\n",
            "dense_222 (Dense)            (None, 64)                2112      \n",
            "_________________________________________________________________\n",
            "dense_223 (Dense)            (None, 128)               8320      \n",
            "_________________________________________________________________\n",
            "dense_224 (Dense)            (None, 784)               101136    \n",
            "=================================================================\n",
            "Total params: 223,736\n",
            "Trainable params: 223,736\n",
            "Non-trainable params: 0\n",
            "_________________________________________________________________\n",
            "None\n",
            "Model: \"model_58\"\n",
            "_________________________________________________________________\n",
            "Layer (type)                 Output Shape              Param #   \n",
            "=================================================================\n",
            "input_38 (InputLayer)        (None, 784)               0         \n",
            "_________________________________________________________________\n",
            "dense_215 (Dense)            (None, 128)               100480    \n",
            "_________________________________________________________________\n",
            "dense_216 (Dense)            (None, 64)                8256      \n",
            "_________________________________________________________________\n",
            "dense_217 (Dense)            (None, 32)                2080      \n",
            "_________________________________________________________________\n",
            "dense_218 (Dense)            (None, 16)                528       \n",
            "_________________________________________________________________\n",
            "dense_219 (Dense)            (None, 8)                 136       \n",
            "=================================================================\n",
            "Total params: 111,480\n",
            "Trainable params: 111,480\n",
            "Non-trainable params: 0\n",
            "_________________________________________________________________\n",
            "None\n",
            "Train on 60000 samples, validate on 10000 samples\n",
            "Epoch 1/50\n",
            "60000/60000 [==============================] - 9s 144us/step - loss: 0.2873 - acc: 0.7863 - val_loss: 0.2250 - val_acc: 0.7923\n",
            "Epoch 2/50\n",
            "60000/60000 [==============================] - 6s 106us/step - loss: 0.2071 - acc: 0.7948 - val_loss: 0.1900 - val_acc: 0.7971\n",
            "Epoch 3/50\n",
            "60000/60000 [==============================] - 6s 105us/step - loss: 0.1796 - acc: 0.7987 - val_loss: 0.1706 - val_acc: 0.7982\n",
            "Epoch 4/50\n",
            "60000/60000 [==============================] - 6s 106us/step - loss: 0.1678 - acc: 0.8004 - val_loss: 0.1646 - val_acc: 0.8017\n",
            "Epoch 5/50\n",
            "60000/60000 [==============================] - 6s 103us/step - loss: 0.1624 - acc: 0.8013 - val_loss: 0.1599 - val_acc: 0.8015\n",
            "Epoch 6/50\n",
            "60000/60000 [==============================] - 6s 98us/step - loss: 0.1585 - acc: 0.8022 - val_loss: 0.1566 - val_acc: 0.8021\n",
            "Epoch 7/50\n",
            "60000/60000 [==============================] - 6s 97us/step - loss: 0.1557 - acc: 0.8027 - val_loss: 0.1538 - val_acc: 0.8020\n",
            "Epoch 8/50\n",
            "60000/60000 [==============================] - 6s 97us/step - loss: 0.1516 - acc: 0.8033 - val_loss: 0.1490 - val_acc: 0.8021\n",
            "Epoch 9/50\n",
            "60000/60000 [==============================] - 6s 97us/step - loss: 0.1482 - acc: 0.8041 - val_loss: 0.1465 - val_acc: 0.8028\n",
            "Epoch 10/50\n",
            "60000/60000 [==============================] - 6s 100us/step - loss: 0.1463 - acc: 0.8046 - val_loss: 0.1450 - val_acc: 0.8029\n",
            "Epoch 11/50\n",
            "60000/60000 [==============================] - 6s 103us/step - loss: 0.1447 - acc: 0.8049 - val_loss: 0.1438 - val_acc: 0.8045\n",
            "Epoch 12/50\n",
            "60000/60000 [==============================] - 6s 102us/step - loss: 0.1435 - acc: 0.8052 - val_loss: 0.1431 - val_acc: 0.8035\n",
            "Epoch 13/50\n",
            "60000/60000 [==============================] - 6s 103us/step - loss: 0.1424 - acc: 0.8054 - val_loss: 0.1415 - val_acc: 0.8048\n",
            "Epoch 14/50\n",
            "60000/60000 [==============================] - 6s 100us/step - loss: 0.1415 - acc: 0.8056 - val_loss: 0.1407 - val_acc: 0.8053\n",
            "Epoch 15/50\n",
            "60000/60000 [==============================] - 6s 103us/step - loss: 0.1407 - acc: 0.8057 - val_loss: 0.1403 - val_acc: 0.8049\n",
            "Epoch 16/50\n",
            "60000/60000 [==============================] - 6s 103us/step - loss: 0.1400 - acc: 0.8059 - val_loss: 0.1394 - val_acc: 0.8057\n",
            "Epoch 17/50\n",
            "60000/60000 [==============================] - 6s 102us/step - loss: 0.1393 - acc: 0.8060 - val_loss: 0.1396 - val_acc: 0.8056\n",
            "Epoch 18/50\n",
            "60000/60000 [==============================] - 6s 102us/step - loss: 0.1387 - acc: 0.8062 - val_loss: 0.1382 - val_acc: 0.8056\n",
            "Epoch 19/50\n",
            "60000/60000 [==============================] - 6s 100us/step - loss: 0.1381 - acc: 0.8063 - val_loss: 0.1380 - val_acc: 0.8044\n",
            "Epoch 20/50\n",
            "60000/60000 [==============================] - 6s 102us/step - loss: 0.1376 - acc: 0.8064 - val_loss: 0.1377 - val_acc: 0.8064\n",
            "Epoch 21/50\n",
            "60000/60000 [==============================] - 6s 101us/step - loss: 0.1371 - acc: 0.8065 - val_loss: 0.1367 - val_acc: 0.8057\n",
            "Epoch 22/50\n",
            "60000/60000 [==============================] - 6s 103us/step - loss: 0.1366 - acc: 0.8066 - val_loss: 0.1364 - val_acc: 0.8051\n",
            "Epoch 23/50\n",
            "60000/60000 [==============================] - 6s 100us/step - loss: 0.1362 - acc: 0.8066 - val_loss: 0.1363 - val_acc: 0.8058\n",
            "Epoch 24/50\n",
            "60000/60000 [==============================] - 6s 100us/step - loss: 0.1358 - acc: 0.8067 - val_loss: 0.1361 - val_acc: 0.8047\n",
            "Epoch 25/50\n",
            "60000/60000 [==============================] - 6s 107us/step - loss: 0.1354 - acc: 0.8068 - val_loss: 0.1353 - val_acc: 0.8057\n",
            "Epoch 26/50\n",
            "60000/60000 [==============================] - 6s 103us/step - loss: 0.1350 - acc: 0.8069 - val_loss: 0.1348 - val_acc: 0.8059\n",
            "Epoch 27/50\n",
            "60000/60000 [==============================] - 6s 99us/step - loss: 0.1346 - acc: 0.8070 - val_loss: 0.1347 - val_acc: 0.8058\n",
            "Epoch 28/50\n",
            "60000/60000 [==============================] - 6s 99us/step - loss: 0.1343 - acc: 0.8070 - val_loss: 0.1344 - val_acc: 0.8053\n",
            "Epoch 29/50\n",
            "60000/60000 [==============================] - 6s 100us/step - loss: 0.1339 - acc: 0.8071 - val_loss: 0.1342 - val_acc: 0.8060\n",
            "Epoch 30/50\n",
            "60000/60000 [==============================] - 6s 98us/step - loss: 0.1337 - acc: 0.8072 - val_loss: 0.1340 - val_acc: 0.8054\n",
            "Epoch 31/50\n",
            "60000/60000 [==============================] - 6s 98us/step - loss: 0.1334 - acc: 0.8072 - val_loss: 0.1335 - val_acc: 0.8066\n",
            "Epoch 32/50\n",
            "60000/60000 [==============================] - 6s 98us/step - loss: 0.1331 - acc: 0.8073 - val_loss: 0.1334 - val_acc: 0.8060\n",
            "Epoch 33/50\n",
            "60000/60000 [==============================] - 6s 98us/step - loss: 0.1328 - acc: 0.8073 - val_loss: 0.1334 - val_acc: 0.8064\n",
            "Epoch 34/50\n",
            "60000/60000 [==============================] - 6s 101us/step - loss: 0.1326 - acc: 0.8074 - val_loss: 0.1328 - val_acc: 0.8061\n",
            "Epoch 35/50\n",
            "60000/60000 [==============================] - 6s 102us/step - loss: 0.1324 - acc: 0.8075 - val_loss: 0.1334 - val_acc: 0.8050\n",
            "Epoch 36/50\n",
            "60000/60000 [==============================] - 6s 102us/step - loss: 0.1322 - acc: 0.8075 - val_loss: 0.1327 - val_acc: 0.8064\n",
            "Epoch 37/50\n",
            "60000/60000 [==============================] - 6s 101us/step - loss: 0.1319 - acc: 0.8075 - val_loss: 0.1324 - val_acc: 0.8061\n",
            "Epoch 38/50\n",
            "60000/60000 [==============================] - 6s 97us/step - loss: 0.1318 - acc: 0.8076 - val_loss: 0.1325 - val_acc: 0.8065\n",
            "Epoch 39/50\n",
            "60000/60000 [==============================] - 6s 97us/step - loss: 0.1315 - acc: 0.8076 - val_loss: 0.1324 - val_acc: 0.8071\n",
            "Epoch 40/50\n",
            "60000/60000 [==============================] - 6s 102us/step - loss: 0.1313 - acc: 0.8077 - val_loss: 0.1323 - val_acc: 0.8065\n",
            "Epoch 41/50\n",
            "60000/60000 [==============================] - 6s 103us/step - loss: 0.1312 - acc: 0.8077 - val_loss: 0.1318 - val_acc: 0.8064\n",
            "Epoch 42/50\n",
            "60000/60000 [==============================] - 6s 102us/step - loss: 0.1310 - acc: 0.8077 - val_loss: 0.1321 - val_acc: 0.8054\n",
            "Epoch 43/50\n",
            "60000/60000 [==============================] - 6s 102us/step - loss: 0.1308 - acc: 0.8078 - val_loss: 0.1318 - val_acc: 0.8067\n",
            "Epoch 44/50\n",
            "60000/60000 [==============================] - 6s 103us/step - loss: 0.1307 - acc: 0.8078 - val_loss: 0.1320 - val_acc: 0.8069\n",
            "Epoch 45/50\n",
            "60000/60000 [==============================] - 6s 102us/step - loss: 0.1306 - acc: 0.8078 - val_loss: 0.1313 - val_acc: 0.8065\n",
            "Epoch 46/50\n",
            "60000/60000 [==============================] - 6s 105us/step - loss: 0.1304 - acc: 0.8078 - val_loss: 0.1314 - val_acc: 0.8059\n",
            "Epoch 47/50\n",
            "60000/60000 [==============================] - 6s 103us/step - loss: 0.1302 - acc: 0.8079 - val_loss: 0.1313 - val_acc: 0.8060\n",
            "Epoch 48/50\n",
            "60000/60000 [==============================] - 6s 99us/step - loss: 0.1301 - acc: 0.8079 - val_loss: 0.1309 - val_acc: 0.8065\n",
            "Epoch 49/50\n",
            "60000/60000 [==============================] - 6s 100us/step - loss: 0.1299 - acc: 0.8079 - val_loss: 0.1307 - val_acc: 0.8067\n",
            "Epoch 50/50\n",
            "60000/60000 [==============================] - 6s 100us/step - loss: 0.1297 - acc: 0.8080 - val_loss: 0.1310 - val_acc: 0.8060\n"
          ],
          "name": "stdout"
        }
      ]
    },
    {
      "cell_type": "markdown",
      "metadata": {
        "id": "hzdBAiMYipw4",
        "colab_type": "text"
      },
      "source": [
        "# Model Comparison\n",
        "* Last layer # of Nodes"
      ]
    },
    {
      "cell_type": "markdown",
      "metadata": {
        "id": "zWDS99arqiyj",
        "colab_type": "text"
      },
      "source": [
        "## 128 Node"
      ]
    },
    {
      "cell_type": "code",
      "metadata": {
        "id": "4dVZZ002qjKA",
        "colab_type": "code",
        "outputId": "8fa6d7db-5cd0-45ee-ad7c-4f4ba1aee343",
        "colab": {
          "base_uri": "https://localhost:8080/",
          "height": 268
        }
      },
      "source": [
        "predict(autoencoder128, encoder128)"
      ],
      "execution_count": 0,
      "outputs": [
        {
          "output_type": "display_data",
          "data": {
            "image/png": "[encoded data removed]",
            "text/plain": [
              "<Figure size 2880x288 with 30 Axes>"
            ]
          },
          "metadata": {
            "tags": []
          }
        }
      ]
    },
    {
      "cell_type": "markdown",
      "metadata": {
        "id": "uvFxdFSIoWR-",
        "colab_type": "text"
      },
      "source": [
        "## 64 Node"
      ]
    },
    {
      "cell_type": "code",
      "metadata": {
        "id": "z7_h0B2coWi2",
        "colab_type": "code",
        "outputId": "20c296d7-7f3d-4641-cc83-161e045a0250",
        "colab": {
          "base_uri": "https://localhost:8080/",
          "height": 268
        }
      },
      "source": [
        "predict(autoencoder64, encoder64)"
      ],
      "execution_count": 0,
      "outputs": [
        {
          "output_type": "display_data",
          "data": {
            "image/png": "[encoded data removed]",
            "text/plain": [
              "<Figure size 2880x288 with 30 Axes>"
            ]
          },
          "metadata": {
            "tags": []
          }
        }
      ]
    },
    {
      "cell_type": "markdown",
      "metadata": {
        "id": "mVS8kasfiuHI",
        "colab_type": "text"
      },
      "source": [
        "## 32 Node"
      ]
    },
    {
      "cell_type": "code",
      "metadata": {
        "id": "bMZIo1z-ip_0",
        "colab_type": "code",
        "outputId": "767798d3-ac97-453a-91d6-1a37781bf4e3",
        "colab": {
          "base_uri": "https://localhost:8080/",
          "height": 268
        }
      },
      "source": [
        "predict(autoencoder32, encoder32)"
      ],
      "execution_count": 0,
      "outputs": [
        {
          "output_type": "display_data",
          "data": {
            "image/png": "[encoded data removed]",
            "text/plain": [
              "<Figure size 2880x288 with 30 Axes>"
            ]
          },
          "metadata": {
            "tags": []
          }
        }
      ]
    },
    {
      "cell_type": "markdown",
      "metadata": {
        "id": "7UFn-XMUiu0U",
        "colab_type": "text"
      },
      "source": [
        "## 16 Node"
      ]
    },
    {
      "cell_type": "code",
      "metadata": {
        "id": "gPqY6M54iu-v",
        "colab_type": "code",
        "outputId": "c385b0e4-d344-4007-ad99-64729f6bfa03",
        "colab": {
          "base_uri": "https://localhost:8080/",
          "height": 268
        }
      },
      "source": [
        "predict(autoencoder16, encoder16)"
      ],
      "execution_count": 0,
      "outputs": [
        {
          "output_type": "display_data",
          "data": {
            "image/png": "[encoded data removed]",
            "text/plain": [
              "<Figure size 2880x288 with 30 Axes>"
            ]
          },
          "metadata": {
            "tags": []
          }
        }
      ]
    },
    {
      "cell_type": "markdown",
      "metadata": {
        "id": "5sKYVqrbivNp",
        "colab_type": "text"
      },
      "source": [
        "## 8 Node"
      ]
    },
    {
      "cell_type": "code",
      "metadata": {
        "id": "NbDHQ8fZivWF",
        "colab_type": "code",
        "outputId": "e26ed667-83b6-4e7c-8145-362b71c259f4",
        "colab": {
          "base_uri": "https://localhost:8080/",
          "height": 268
        }
      },
      "source": [
        "predict(autoencoder8, encoder8)"
      ],
      "execution_count": 0,
      "outputs": [
        {
          "output_type": "display_data",
          "data": {
            "image/png": "[encoded data removed]",
            "text/plain": [
              "<Figure size 2880x288 with 30 Axes>"
            ]
          },
          "metadata": {
            "tags": []
          }
        }
      ]
    }
  ]
}