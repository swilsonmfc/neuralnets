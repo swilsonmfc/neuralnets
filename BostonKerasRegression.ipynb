{
  "nbformat": 4,
  "nbformat_minor": 0,
  "metadata": {
    "colab": {
      "name": "BostonKerasRegression.ipynb",
      "provenance": [],
      "collapsed_sections": [],
      "include_colab_link": true
    },
    "kernelspec": {
      "name": "python3",
      "display_name": "Python 3"
    }
  },
  "cells": [
    {
      "cell_type": "markdown",
      "metadata": {
        "id": "view-in-github",
        "colab_type": "text"
      },
      "source": [
        "<a href=\"https://colab.research.google.com/github/swilsonmfc/deeplearning/blob/master/BostonKerasRegression.ipynb\" target=\"_parent\"><img src=\"https://colab.research.google.com/assets/colab-badge.svg\" alt=\"Open In Colab\"/></a>"
      ]
    },
    {
      "cell_type": "markdown",
      "metadata": {
        "id": "ZzuxP68DG_9w",
        "colab_type": "text"
      },
      "source": [
        "# Setup\n",
        "* Boston Home Prices Data\n",
        "* Simple Neural Network\n",
        "* Fully Connected (Dense 1 Node Output)\n"
      ]
    },
    {
      "cell_type": "code",
      "metadata": {
        "id": "e8uvLdI_vPIh",
        "colab_type": "code",
        "colab": {}
      },
      "source": [
        "import numpy as np\n",
        "import matplotlib.pyplot as plt\n",
        "\n",
        "from keras.datasets import boston_housing\n",
        "\n",
        "from keras import models\n",
        "from keras import losses\n",
        "from keras import layers\n",
        "from keras import metrics\n",
        "from keras import optimizers"
      ],
      "execution_count": 0,
      "outputs": []
    },
    {
      "cell_type": "markdown",
      "metadata": {
        "id": "GwE1_maSHM2H",
        "colab_type": "text"
      },
      "source": [
        "# Data"
      ]
    },
    {
      "cell_type": "code",
      "metadata": {
        "id": "3x2mKhA1GhHB",
        "colab_type": "code",
        "colab": {}
      },
      "source": [
        "[train_data, train_targets], [test_data, test_targets] = boston_housing.load_data()"
      ],
      "execution_count": 0,
      "outputs": []
    },
    {
      "cell_type": "code",
      "metadata": {
        "id": "DyPwPMAyGlS5",
        "colab_type": "code",
        "outputId": "879d069e-065c-4761-906c-bc125f3c2f1a",
        "colab": {
          "base_uri": "https://localhost:8080/",
          "height": 34
        }
      },
      "source": [
        "train_data.shape"
      ],
      "execution_count": 0,
      "outputs": [
        {
          "output_type": "execute_result",
          "data": {
            "text/plain": [
              "(404, 13)"
            ]
          },
          "metadata": {
            "tags": []
          },
          "execution_count": 21
        }
      ]
    },
    {
      "cell_type": "code",
      "metadata": {
        "id": "Td9Lse1QIsNt",
        "colab_type": "code",
        "outputId": "ca6bbf34-8e6e-487a-917b-669a966a659f",
        "colab": {
          "base_uri": "https://localhost:8080/",
          "height": 34
        }
      },
      "source": [
        "test_data.shape"
      ],
      "execution_count": 0,
      "outputs": [
        {
          "output_type": "execute_result",
          "data": {
            "text/plain": [
              "(102, 13)"
            ]
          },
          "metadata": {
            "tags": []
          },
          "execution_count": 22
        }
      ]
    },
    {
      "cell_type": "markdown",
      "metadata": {
        "id": "OVw53MUhJBKk",
        "colab_type": "text"
      },
      "source": [
        "# Preprocessing\n",
        "* Scale numeric data"
      ]
    },
    {
      "cell_type": "code",
      "metadata": {
        "id": "4msaIMWrIubY",
        "colab_type": "code",
        "colab": {}
      },
      "source": [
        "mean = train_data.mean(axis=0)\n",
        "std  = train_data.std(axis=0)\n",
        "\n",
        "train_data -= mean\n",
        "train_data /= std\n",
        "\n",
        "test_data -= mean\n",
        "test_data /= std"
      ],
      "execution_count": 0,
      "outputs": []
    },
    {
      "cell_type": "markdown",
      "metadata": {
        "id": "Cq_QDN5lJhtR",
        "colab_type": "text"
      },
      "source": [
        "# Model"
      ]
    },
    {
      "cell_type": "code",
      "metadata": {
        "id": "BG8SyGTgI4cG",
        "colab_type": "code",
        "colab": {}
      },
      "source": [
        "def buildModel():  \n",
        "  model = models.Sequential()\n",
        "  model.add(layers.Dense(64, activation='relu', input_shape=(train_data.shape[1], )))\n",
        "  model.add(layers.Dense(64, activation='relu'))\n",
        "  model.add(layers.Dense(1))\n",
        "  model.compile(optimizers.RMSprop(lr=0.001),\n",
        "                losses.MAE,\n",
        "                [metrics.MAE])\n",
        "  return model"
      ],
      "execution_count": 0,
      "outputs": []
    },
    {
      "cell_type": "markdown",
      "metadata": {
        "id": "ayWJu0n9KRkt",
        "colab_type": "text"
      },
      "source": [
        "# K-Fold Validation\n",
        "* Using basic numpy (rather than sklearn) "
      ]
    },
    {
      "cell_type": "code",
      "metadata": {
        "id": "JxYxVSJxJg08",
        "colab_type": "code",
        "outputId": "74a7da3e-de37-4d06-f027-1c7af88c593a",
        "colab": {
          "base_uri": "https://localhost:8080/",
          "height": 187
        }
      },
      "source": [
        "k = 4\n",
        "samples = len(train_data) // k\n",
        "epochs  = 100\n",
        "all_scores = []\n",
        "\n",
        "for i in range(k):\n",
        "  print('Processing Fold', i)\n",
        "  val_data    = train_data[i * samples: (i + 1) * samples]\n",
        "  val_targets = train_targets[i * samples: (i + 1) * samples]\n",
        "  \n",
        "  X_train = np.concatenate([\n",
        "      train_data[: i * samples],\n",
        "      train_data[(i + 1) * samples:]\n",
        "  ], axis=0)\n",
        "  y_train = np.concatenate([\n",
        "      train_targets[: i * samples],\n",
        "      train_targets[(i + 1) * samples:]\n",
        "  ], axis=0)\n",
        "  \n",
        "  model = buildModel()\n",
        "  model.fit(X_train, \n",
        "            y_train,\n",
        "            epochs=epochs,\n",
        "            batch_size=1,\n",
        "            verbose=0)\n",
        "  val_mse, val_mae = model.evaluate(val_data, val_targets, verbose=0)\n",
        "  all_scores.append(val_mae)\n",
        "  print('Fold Validation MAE', val_mae)\n",
        "  \n",
        "print('Fold Scores', all_scores)\n",
        "print('MAE', np.mean(all_scores))"
      ],
      "execution_count": 0,
      "outputs": [
        {
          "output_type": "stream",
          "text": [
            "Processing Fold 0\n",
            "Fold Validation MAE 2.000725507736206\n",
            "Processing Fold 1\n",
            "Fold Validation MAE 2.3995927631264866\n",
            "Processing Fold 2\n",
            "Fold Validation MAE 2.5453272172720127\n",
            "Processing Fold 3\n",
            "Fold Validation MAE 2.7038130240865272\n",
            "Fold Scores [2.000725507736206, 2.3995927631264866, 2.5453272172720127, 2.7038130240865272]\n",
            "MAE 2.412364628055308\n"
          ],
          "name": "stdout"
        }
      ]
    },
    {
      "cell_type": "markdown",
      "metadata": {
        "id": "jPjvAe2fNV0X",
        "colab_type": "text"
      },
      "source": [
        "# Validation Logging\n",
        "* Pretty high error\n",
        "* Increase the epochs (how does longer training affect performance)\n",
        "* Log validation scores to detect where we might be overfitting\n",
        "* Not going to run early-stop"
      ]
    },
    {
      "cell_type": "code",
      "metadata": {
        "id": "VcywbWnyKbDd",
        "colab_type": "code",
        "outputId": "de2d171b-cacf-47ef-fb4f-8c92a2fc8931",
        "colab": {
          "base_uri": "https://localhost:8080/",
          "height": 85
        }
      },
      "source": [
        "k = 4\n",
        "samples = len(train_data) // k\n",
        "epochs  = 500\n",
        "all_mae_history = []\n",
        "\n",
        "for i in range(k):\n",
        "  print('Processing Fold', i)\n",
        "  val_data    = train_data[i * samples: (i + 1) * samples]\n",
        "  val_targets = train_targets[i * samples: (i + 1) * samples]\n",
        "  \n",
        "  X_train = np.concatenate([\n",
        "      train_data[: i * samples],\n",
        "      train_data[(i + 1) * samples:]\n",
        "  ], axis=0)\n",
        "  y_train = np.concatenate([\n",
        "      train_targets[: i * samples],\n",
        "      train_targets[(i + 1) * samples:]\n",
        "  ], axis=0)\n",
        "  \n",
        "  model = buildModel()\n",
        "  history = model.fit(X_train, \n",
        "                    y_train,\n",
        "                    epochs=epochs,\n",
        "                    batch_size=1,\n",
        "                    verbose=0,\n",
        "                    validation_data=[val_data, val_targets])\n",
        "  mae_history = history.history['val_mean_absolute_error']\n",
        "  all_mae_history.append(mae_history)\n",
        "  \n",
        "mean_mae_history = [np.mean([x[i] for x in all_mae_history]) for i in range(epochs)]"
      ],
      "execution_count": 0,
      "outputs": [
        {
          "output_type": "stream",
          "text": [
            "Processing Fold 0\n",
            "Processing Fold 1\n",
            "Processing Fold 2\n",
            "Processing Fold 3\n"
          ],
          "name": "stdout"
        }
      ]
    },
    {
      "cell_type": "markdown",
      "metadata": {
        "id": "Q4WGDTqfRoF1",
        "colab_type": "text"
      },
      "source": [
        "# Plot MAE over Epochs"
      ]
    },
    {
      "cell_type": "code",
      "metadata": {
        "id": "HL-zvmVCMISm",
        "colab_type": "code",
        "outputId": "af2addcd-6c40-4a22-99a2-556d1d152a0b",
        "colab": {
          "base_uri": "https://localhost:8080/",
          "height": 295
        }
      },
      "source": [
        "plt.plot(range(1, len(mean_mae_history) + 1), mean_mae_history)\n",
        "plt.title('Validation MAE')\n",
        "plt.xlabel('Epochs')\n",
        "plt.ylabel('Validation MAE')\n",
        "plt.show()"
      ],
      "execution_count": 0,
      "outputs": [
        {
          "output_type": "display_data",
          "data": {
            "image/png": "[encoded data removed]",
            "text/plain": [
              "<Figure size 432x288 with 1 Axes>"
            ]
          },
          "metadata": {
            "tags": []
          }
        }
      ]
    },
    {
      "cell_type": "markdown",
      "metadata": {
        "id": "-tk3Th_PRyAt",
        "colab_type": "text"
      },
      "source": [
        "# Plot Smoothed MAE over Epochs\n",
        "* Knock out early points\n",
        "* Smooth remaining data"
      ]
    },
    {
      "cell_type": "code",
      "metadata": {
        "id": "6M8xkF3NRL3c",
        "colab_type": "code",
        "colab": {}
      },
      "source": [
        "def smooth(points, factor=0.9):\n",
        "  smoothed = []\n",
        "  for point in points:\n",
        "    if smoothed:\n",
        "      previous = smoothed[-1]\n",
        "      smoothed.append(previous * factor + point * (1 - factor))\n",
        "    else:\n",
        "      smoothed.append(point)\n",
        "  return smoothed"
      ],
      "execution_count": 0,
      "outputs": []
    },
    {
      "cell_type": "code",
      "metadata": {
        "id": "Z3SkInsbRwxa",
        "colab_type": "code",
        "colab": {}
      },
      "source": [
        "smoothed_history = smooth(mean_mae_history[10:])"
      ],
      "execution_count": 0,
      "outputs": []
    },
    {
      "cell_type": "code",
      "metadata": {
        "id": "gCAPciNPSZd8",
        "colab_type": "code",
        "outputId": "57cb6001-70bf-402d-a1ef-7b38473babc4",
        "colab": {
          "base_uri": "https://localhost:8080/",
          "height": 295
        }
      },
      "source": [
        "plt.plot(range(1, len(smoothed_history) + 1), smoothed_history)\n",
        "plt.title('Smoothed Validation MAE')\n",
        "plt.xlabel('Epochs')\n",
        "plt.ylabel('Validation MAE')\n",
        "plt.show()"
      ],
      "execution_count": 0,
      "outputs": [
        {
          "output_type": "display_data",
          "data": {
            "image/png": "[encoded data removed]",
            "text/plain": [
              "<Figure size 432x288 with 1 Axes>"
            ]
          },
          "metadata": {
            "tags": []
          }
        }
      ]
    },
    {
      "cell_type": "markdown",
      "metadata": {
        "id": "8o_Gqg9LS1by",
        "colab_type": "text"
      },
      "source": [
        "# Test Data\n",
        "* Train for 90-100 epochs\n",
        "* Evaluate on test data"
      ]
    },
    {
      "cell_type": "code",
      "metadata": {
        "id": "jP57_avqSmYp",
        "colab_type": "code",
        "outputId": "6ab5e40b-48a6-45de-ad9b-484fe0ff31ab",
        "colab": {
          "base_uri": "https://localhost:8080/",
          "height": 68
        }
      },
      "source": [
        "model = buildModel()\n",
        "model.fit(train_data, \n",
        "         train_targets,\n",
        "         epochs=95,\n",
        "         batch_size=10,\n",
        "         verbose=0)\n",
        "test_mse, test_mae = model.evaluate(test_data, test_targets)\n",
        "print('Test MSE', test_mse)\n",
        "print('Test MAE', test_mae)"
      ],
      "execution_count": 0,
      "outputs": [
        {
          "output_type": "stream",
          "text": [
            "102/102 [==============================] - 0s 4ms/step\n",
            "Test MSE 2.7010893073736453\n",
            "Test MAE 2.7010893073736453\n"
          ],
          "name": "stdout"
        }
      ]
    },
    {
      "cell_type": "markdown",
      "metadata": {
        "id": "s1uPIjCxTWaY",
        "colab_type": "text"
      },
      "source": [
        "# Conclusion\n",
        "* Our model is off on average by about $2,700"
      ]
    },
    {
      "cell_type": "code",
      "metadata": {
        "id": "yGEVebGJZIoT",
        "colab_type": "code",
        "colab": {}
      },
      "source": [
        ""
      ],
      "execution_count": 0,
      "outputs": []
    }
  ]
}