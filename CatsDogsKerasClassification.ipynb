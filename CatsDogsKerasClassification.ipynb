{
  "nbformat": 4,
  "nbformat_minor": 0,
  "metadata": {
    "colab": {
      "name": "CatsDogsKerasClassification.ipynb",
      "provenance": [],
      "collapsed_sections": [],
      "toc_visible": true,
      "include_colab_link": true
    },
    "kernelspec": {
      "name": "python3",
      "display_name": "Python 3"
    },
    "accelerator": "GPU"
  },
  "cells": [
    {
      "cell_type": "markdown",
      "metadata": {
        "id": "view-in-github",
        "colab_type": "text"
      },
      "source": [
        "<a href=\"https://colab.research.google.com/github/swilsonmfc/deeplearning/blob/master/CatsDogsKerasClassification.ipynb\" target=\"_parent\"><img src=\"https://colab.research.google.com/assets/colab-badge.svg\" alt=\"Open In Colab\"/></a>"
      ]
    },
    {
      "cell_type": "markdown",
      "metadata": {
        "id": "zHbksOG2NQWJ",
        "colab_type": "text"
      },
      "source": [
        "# Cats & Dogs - Classification\n",
        "* Take the Kaggle Cats & Dogs competition data\n",
        "* Build up a simple Convnet\n",
        "* Train from subset of images & predict on test \n",
        "* Add data augmentation & dropout to improve"
      ]
    },
    {
      "cell_type": "markdown",
      "metadata": {
        "id": "tKBmx2qBNTxt",
        "colab_type": "text"
      },
      "source": [
        "# Setup"
      ]
    },
    {
      "cell_type": "code",
      "metadata": {
        "id": "CL1qujAEM15w",
        "colab_type": "code",
        "colab": {}
      },
      "source": [
        "from zipfile import ZipFile\n",
        "import os\n",
        "import shutil\n",
        "import matplotlib.pyplot as plt\n",
        "import matplotlib.image as mpimg\n",
        "import numpy as np\n",
        "from sklearn.metrics import confusion_matrix\n",
        "from sklearn.metrics import classification_report"
      ],
      "execution_count": 0,
      "outputs": []
    },
    {
      "cell_type": "code",
      "metadata": {
        "id": "CYd3knH1cmCd",
        "colab_type": "code",
        "outputId": "67a73a75-c9c9-42de-c422-5e9527db10ec",
        "colab": {
          "base_uri": "https://localhost:8080/",
          "height": 51
        }
      },
      "source": [
        "%tensorflow_version 1.x\n",
        "import tensorflow as tf\n",
        "print(tf.__version__)\n",
        "\n",
        "from keras import layers\n",
        "from keras import models\n",
        "from keras import optimizers\n",
        "from keras.preprocessing.image import ImageDataGenerator "
      ],
      "execution_count": 0,
      "outputs": [
        {
          "output_type": "stream",
          "text": [
            "1.15.0\n"
          ],
          "name": "stdout"
        },
        {
          "output_type": "stream",
          "text": [
            "Using TensorFlow backend.\n"
          ],
          "name": "stderr"
        }
      ]
    },
    {
      "cell_type": "markdown",
      "metadata": {
        "id": "MGd4uikuNdc3",
        "colab_type": "text"
      },
      "source": [
        "# Image Data"
      ]
    },
    {
      "cell_type": "code",
      "metadata": {
        "id": "6AJv1SavNHKo",
        "colab_type": "code",
        "colab": {}
      },
      "source": [
        "from google.colab import drive\n",
        "drive.mount('/content/drive')"
      ],
      "execution_count": 0,
      "outputs": []
    },
    {
      "cell_type": "code",
      "metadata": {
        "id": "CNVT5M3mMWoU",
        "colab_type": "code",
        "outputId": "b4485aa1-2564-4d35-8e89-cb50db8eeca8",
        "colab": {
          "base_uri": "https://localhost:8080/",
          "height": 34
        }
      },
      "source": [
        "!ls \"/content/drive/My Drive/Data/CatsDogs/data.zip\"\n",
        "file   = \"/content/drive/My Drive/Data/CatsDogs/data.zip\""
      ],
      "execution_count": 0,
      "outputs": [
        {
          "output_type": "stream",
          "text": [
            "'/content/drive/My Drive/Data/CatsDogs/data.zip'\n"
          ],
          "name": "stdout"
        }
      ]
    },
    {
      "cell_type": "markdown",
      "metadata": {
        "id": "_AegrZjEW0qa",
        "colab_type": "text"
      },
      "source": [
        "## Extract Zip"
      ]
    },
    {
      "cell_type": "code",
      "metadata": {
        "id": "n4XtVxMwOUs8",
        "colab_type": "code",
        "colab": {}
      },
      "source": [
        "!mkdir -p /tmp/catdog\n",
        "with ZipFile(file, 'r') as zip: \n",
        "  zip.extractall('/tmp/catdog/')"
      ],
      "execution_count": 0,
      "outputs": []
    },
    {
      "cell_type": "markdown",
      "metadata": {
        "id": "aKPfWbeBW3LC",
        "colab_type": "text"
      },
      "source": [
        "## Setup Folders"
      ]
    },
    {
      "cell_type": "code",
      "metadata": {
        "id": "FQmVy9RzO_d-",
        "colab_type": "code",
        "colab": {}
      },
      "source": [
        "base_dir       = '/tmp/catdog/'\n",
        "test_dir       = '/tmp/catdog/test/'\n",
        "training_dir   = '/tmp/catdog/training/'\n",
        "validation_dir = '/tmp/catdog/validation/'\n",
        "\n",
        "!mkdir -p \"$base_dir\"\n",
        "\n",
        "!rm -fr \"$test_dir\"\n",
        "!mkdir -p \"$test_dir\"\n",
        "!mkdir -p \"$test_dir/cats\"\n",
        "!mkdir -p \"$test_dir/dogs\"\n",
        "\n",
        "!rm -fr \"$training_dir\"\n",
        "!mkdir -p \"$training_dir\"\n",
        "!mkdir -p \"$training_dir/cats\"\n",
        "!mkdir -p \"$training_dir/dogs\"\n",
        "\n",
        "!rm -fr \"$validation_dir\"\n",
        "!mkdir -p \"$validation_dir\"\n",
        "!mkdir -p \"$validation_dir/cats\"\n",
        "!mkdir -p \"$validation_dir/dogs\""
      ],
      "execution_count": 0,
      "outputs": []
    },
    {
      "cell_type": "markdown",
      "metadata": {
        "id": "gGrvTiRVW5pk",
        "colab_type": "text"
      },
      "source": [
        "## Images"
      ]
    },
    {
      "cell_type": "code",
      "metadata": {
        "id": "UL03RX-TR7uH",
        "colab_type": "code",
        "colab": {}
      },
      "source": [
        "range_train = 1000\n",
        "range_validation = 1500\n",
        "range_test = 2000"
      ],
      "execution_count": 0,
      "outputs": []
    },
    {
      "cell_type": "code",
      "metadata": {
        "id": "AgHC_CWnX6Ii",
        "colab_type": "code",
        "colab": {}
      },
      "source": [
        "def copyFiles(prefix, dest, start, end):\n",
        "  if prefix != 'cat' and prefix != 'dog':\n",
        "    raise ValueError('Must pass cat or dog for prefix')\n",
        "  srcFolder  = os.path.join(base_dir, 'train')\n",
        "  destFolder = os.path.join(base_dir, dest, prefix + 's')\n",
        "  print(srcFolder, '->', destFolder, start, end)\n",
        "  for file in  ['{}.{}.jpg'.format(prefix, index) for index in range(start, end)]:\n",
        "    shutil.copy(os.path.join(srcFolder, file), os.path.join(destFolder, file))"
      ],
      "execution_count": 0,
      "outputs": []
    },
    {
      "cell_type": "code",
      "metadata": {
        "id": "OdTfjwhwZtop",
        "colab_type": "code",
        "outputId": "c591eb12-9617-476d-f202-32ee0da2a7ad",
        "colab": {
          "base_uri": "https://localhost:8080/",
          "height": 119
        }
      },
      "source": [
        "copyFiles('cat', 'training', 0, range_train)\n",
        "copyFiles('cat', 'validation', range_train, range_validation)\n",
        "copyFiles('cat', 'test', range_validation, range_test)\n",
        "\n",
        "copyFiles('dog', 'training', 0, range_train)\n",
        "copyFiles('dog', 'validation', range_train, range_validation)\n",
        "copyFiles('dog', 'test', range_validation, range_test)"
      ],
      "execution_count": 0,
      "outputs": [
        {
          "output_type": "stream",
          "text": [
            "/tmp/catdog/train -> /tmp/catdog/training/cats 0 1000\n",
            "/tmp/catdog/train -> /tmp/catdog/validation/cats 1000 1500\n",
            "/tmp/catdog/train -> /tmp/catdog/test/cats 1500 2000\n",
            "/tmp/catdog/train -> /tmp/catdog/training/dogs 0 1000\n",
            "/tmp/catdog/train -> /tmp/catdog/validation/dogs 1000 1500\n",
            "/tmp/catdog/train -> /tmp/catdog/test/dogs 1500 2000\n"
          ],
          "name": "stdout"
        }
      ]
    },
    {
      "cell_type": "code",
      "metadata": {
        "id": "WfBR7YA5ZxoK",
        "colab_type": "code",
        "outputId": "0b60cd9a-48cf-49fd-b930-acbae3b3e2ba",
        "colab": {
          "base_uri": "https://localhost:8080/",
          "height": 1000
        }
      },
      "source": [
        "!ls /tmp/catdog/training/dogs"
      ],
      "execution_count": 0,
      "outputs": [
        {
          "output_type": "stream",
          "text": [
            "dog.0.jpg    dog.250.jpg  dog.400.jpg  dog.551.jpg  dog.701.jpg  dog.852.jpg\n",
            "dog.100.jpg  dog.251.jpg  dog.401.jpg  dog.552.jpg  dog.702.jpg  dog.853.jpg\n",
            "dog.101.jpg  dog.252.jpg  dog.402.jpg  dog.553.jpg  dog.703.jpg  dog.854.jpg\n",
            "dog.102.jpg  dog.253.jpg  dog.403.jpg  dog.554.jpg  dog.704.jpg  dog.855.jpg\n",
            "dog.103.jpg  dog.254.jpg  dog.404.jpg  dog.555.jpg  dog.705.jpg  dog.856.jpg\n",
            "dog.104.jpg  dog.255.jpg  dog.405.jpg  dog.556.jpg  dog.706.jpg  dog.857.jpg\n",
            "dog.105.jpg  dog.256.jpg  dog.406.jpg  dog.557.jpg  dog.707.jpg  dog.858.jpg\n",
            "dog.106.jpg  dog.257.jpg  dog.407.jpg  dog.558.jpg  dog.708.jpg  dog.859.jpg\n",
            "dog.107.jpg  dog.258.jpg  dog.408.jpg  dog.559.jpg  dog.709.jpg  dog.85.jpg\n",
            "dog.108.jpg  dog.259.jpg  dog.409.jpg  dog.55.jpg   dog.70.jpg\t dog.860.jpg\n",
            "dog.109.jpg  dog.25.jpg   dog.40.jpg   dog.560.jpg  dog.710.jpg  dog.861.jpg\n",
            "dog.10.jpg   dog.260.jpg  dog.410.jpg  dog.561.jpg  dog.711.jpg  dog.862.jpg\n",
            "dog.110.jpg  dog.261.jpg  dog.411.jpg  dog.562.jpg  dog.712.jpg  dog.863.jpg\n",
            "dog.111.jpg  dog.262.jpg  dog.412.jpg  dog.563.jpg  dog.713.jpg  dog.864.jpg\n",
            "dog.112.jpg  dog.263.jpg  dog.413.jpg  dog.564.jpg  dog.714.jpg  dog.865.jpg\n",
            "dog.113.jpg  dog.264.jpg  dog.414.jpg  dog.565.jpg  dog.715.jpg  dog.866.jpg\n",
            "dog.114.jpg  dog.265.jpg  dog.415.jpg  dog.566.jpg  dog.716.jpg  dog.867.jpg\n",
            "dog.115.jpg  dog.266.jpg  dog.416.jpg  dog.567.jpg  dog.717.jpg  dog.868.jpg\n",
            "dog.116.jpg  dog.267.jpg  dog.417.jpg  dog.568.jpg  dog.718.jpg  dog.869.jpg\n",
            "dog.117.jpg  dog.268.jpg  dog.418.jpg  dog.569.jpg  dog.719.jpg  dog.86.jpg\n",
            "dog.118.jpg  dog.269.jpg  dog.419.jpg  dog.56.jpg   dog.71.jpg\t dog.870.jpg\n",
            "dog.119.jpg  dog.26.jpg   dog.41.jpg   dog.570.jpg  dog.720.jpg  dog.871.jpg\n",
            "dog.11.jpg   dog.270.jpg  dog.420.jpg  dog.571.jpg  dog.721.jpg  dog.872.jpg\n",
            "dog.120.jpg  dog.271.jpg  dog.421.jpg  dog.572.jpg  dog.722.jpg  dog.873.jpg\n",
            "dog.121.jpg  dog.272.jpg  dog.422.jpg  dog.573.jpg  dog.723.jpg  dog.874.jpg\n",
            "dog.122.jpg  dog.273.jpg  dog.423.jpg  dog.574.jpg  dog.724.jpg  dog.875.jpg\n",
            "dog.123.jpg  dog.274.jpg  dog.424.jpg  dog.575.jpg  dog.725.jpg  dog.876.jpg\n",
            "dog.124.jpg  dog.275.jpg  dog.425.jpg  dog.576.jpg  dog.726.jpg  dog.877.jpg\n",
            "dog.125.jpg  dog.276.jpg  dog.426.jpg  dog.577.jpg  dog.727.jpg  dog.878.jpg\n",
            "dog.126.jpg  dog.277.jpg  dog.427.jpg  dog.578.jpg  dog.728.jpg  dog.879.jpg\n",
            "dog.127.jpg  dog.278.jpg  dog.428.jpg  dog.579.jpg  dog.729.jpg  dog.87.jpg\n",
            "dog.128.jpg  dog.279.jpg  dog.429.jpg  dog.57.jpg   dog.72.jpg\t dog.880.jpg\n",
            "dog.129.jpg  dog.27.jpg   dog.42.jpg   dog.580.jpg  dog.730.jpg  dog.881.jpg\n",
            "dog.12.jpg   dog.280.jpg  dog.430.jpg  dog.581.jpg  dog.731.jpg  dog.882.jpg\n",
            "dog.130.jpg  dog.281.jpg  dog.431.jpg  dog.582.jpg  dog.732.jpg  dog.883.jpg\n",
            "dog.131.jpg  dog.282.jpg  dog.432.jpg  dog.583.jpg  dog.733.jpg  dog.884.jpg\n",
            "dog.132.jpg  dog.283.jpg  dog.433.jpg  dog.584.jpg  dog.734.jpg  dog.885.jpg\n",
            "dog.133.jpg  dog.284.jpg  dog.434.jpg  dog.585.jpg  dog.735.jpg  dog.886.jpg\n",
            "dog.134.jpg  dog.285.jpg  dog.435.jpg  dog.586.jpg  dog.736.jpg  dog.887.jpg\n",
            "dog.135.jpg  dog.286.jpg  dog.436.jpg  dog.587.jpg  dog.737.jpg  dog.888.jpg\n",
            "dog.136.jpg  dog.287.jpg  dog.437.jpg  dog.588.jpg  dog.738.jpg  dog.889.jpg\n",
            "dog.137.jpg  dog.288.jpg  dog.438.jpg  dog.589.jpg  dog.739.jpg  dog.88.jpg\n",
            "dog.138.jpg  dog.289.jpg  dog.439.jpg  dog.58.jpg   dog.73.jpg\t dog.890.jpg\n",
            "dog.139.jpg  dog.28.jpg   dog.43.jpg   dog.590.jpg  dog.740.jpg  dog.891.jpg\n",
            "dog.13.jpg   dog.290.jpg  dog.440.jpg  dog.591.jpg  dog.741.jpg  dog.892.jpg\n",
            "dog.140.jpg  dog.291.jpg  dog.441.jpg  dog.592.jpg  dog.742.jpg  dog.893.jpg\n",
            "dog.141.jpg  dog.292.jpg  dog.442.jpg  dog.593.jpg  dog.743.jpg  dog.894.jpg\n",
            "dog.142.jpg  dog.293.jpg  dog.443.jpg  dog.594.jpg  dog.744.jpg  dog.895.jpg\n",
            "dog.143.jpg  dog.294.jpg  dog.444.jpg  dog.595.jpg  dog.745.jpg  dog.896.jpg\n",
            "dog.144.jpg  dog.295.jpg  dog.445.jpg  dog.596.jpg  dog.746.jpg  dog.897.jpg\n",
            "dog.145.jpg  dog.296.jpg  dog.446.jpg  dog.597.jpg  dog.747.jpg  dog.898.jpg\n",
            "dog.146.jpg  dog.297.jpg  dog.447.jpg  dog.598.jpg  dog.748.jpg  dog.899.jpg\n",
            "dog.147.jpg  dog.298.jpg  dog.448.jpg  dog.599.jpg  dog.749.jpg  dog.89.jpg\n",
            "dog.148.jpg  dog.299.jpg  dog.449.jpg  dog.59.jpg   dog.74.jpg\t dog.8.jpg\n",
            "dog.149.jpg  dog.29.jpg   dog.44.jpg   dog.5.jpg    dog.750.jpg  dog.900.jpg\n",
            "dog.14.jpg   dog.2.jpg\t  dog.450.jpg  dog.600.jpg  dog.751.jpg  dog.901.jpg\n",
            "dog.150.jpg  dog.300.jpg  dog.451.jpg  dog.601.jpg  dog.752.jpg  dog.902.jpg\n",
            "dog.151.jpg  dog.301.jpg  dog.452.jpg  dog.602.jpg  dog.753.jpg  dog.903.jpg\n",
            "dog.152.jpg  dog.302.jpg  dog.453.jpg  dog.603.jpg  dog.754.jpg  dog.904.jpg\n",
            "dog.153.jpg  dog.303.jpg  dog.454.jpg  dog.604.jpg  dog.755.jpg  dog.905.jpg\n",
            "dog.154.jpg  dog.304.jpg  dog.455.jpg  dog.605.jpg  dog.756.jpg  dog.906.jpg\n",
            "dog.155.jpg  dog.305.jpg  dog.456.jpg  dog.606.jpg  dog.757.jpg  dog.907.jpg\n",
            "dog.156.jpg  dog.306.jpg  dog.457.jpg  dog.607.jpg  dog.758.jpg  dog.908.jpg\n",
            "dog.157.jpg  dog.307.jpg  dog.458.jpg  dog.608.jpg  dog.759.jpg  dog.909.jpg\n",
            "dog.158.jpg  dog.308.jpg  dog.459.jpg  dog.609.jpg  dog.75.jpg\t dog.90.jpg\n",
            "dog.159.jpg  dog.309.jpg  dog.45.jpg   dog.60.jpg   dog.760.jpg  dog.910.jpg\n",
            "dog.15.jpg   dog.30.jpg   dog.460.jpg  dog.610.jpg  dog.761.jpg  dog.911.jpg\n",
            "dog.160.jpg  dog.310.jpg  dog.461.jpg  dog.611.jpg  dog.762.jpg  dog.912.jpg\n",
            "dog.161.jpg  dog.311.jpg  dog.462.jpg  dog.612.jpg  dog.763.jpg  dog.913.jpg\n",
            "dog.162.jpg  dog.312.jpg  dog.463.jpg  dog.613.jpg  dog.764.jpg  dog.914.jpg\n",
            "dog.163.jpg  dog.313.jpg  dog.464.jpg  dog.614.jpg  dog.765.jpg  dog.915.jpg\n",
            "dog.164.jpg  dog.314.jpg  dog.465.jpg  dog.615.jpg  dog.766.jpg  dog.916.jpg\n",
            "dog.165.jpg  dog.315.jpg  dog.466.jpg  dog.616.jpg  dog.767.jpg  dog.917.jpg\n",
            "dog.166.jpg  dog.316.jpg  dog.467.jpg  dog.617.jpg  dog.768.jpg  dog.918.jpg\n",
            "dog.167.jpg  dog.317.jpg  dog.468.jpg  dog.618.jpg  dog.769.jpg  dog.919.jpg\n",
            "dog.168.jpg  dog.318.jpg  dog.469.jpg  dog.619.jpg  dog.76.jpg\t dog.91.jpg\n",
            "dog.169.jpg  dog.319.jpg  dog.46.jpg   dog.61.jpg   dog.770.jpg  dog.920.jpg\n",
            "dog.16.jpg   dog.31.jpg   dog.470.jpg  dog.620.jpg  dog.771.jpg  dog.921.jpg\n",
            "dog.170.jpg  dog.320.jpg  dog.471.jpg  dog.621.jpg  dog.772.jpg  dog.922.jpg\n",
            "dog.171.jpg  dog.321.jpg  dog.472.jpg  dog.622.jpg  dog.773.jpg  dog.923.jpg\n",
            "dog.172.jpg  dog.322.jpg  dog.473.jpg  dog.623.jpg  dog.774.jpg  dog.924.jpg\n",
            "dog.173.jpg  dog.323.jpg  dog.474.jpg  dog.624.jpg  dog.775.jpg  dog.925.jpg\n",
            "dog.174.jpg  dog.324.jpg  dog.475.jpg  dog.625.jpg  dog.776.jpg  dog.926.jpg\n",
            "dog.175.jpg  dog.325.jpg  dog.476.jpg  dog.626.jpg  dog.777.jpg  dog.927.jpg\n",
            "dog.176.jpg  dog.326.jpg  dog.477.jpg  dog.627.jpg  dog.778.jpg  dog.928.jpg\n",
            "dog.177.jpg  dog.327.jpg  dog.478.jpg  dog.628.jpg  dog.779.jpg  dog.929.jpg\n",
            "dog.178.jpg  dog.328.jpg  dog.479.jpg  dog.629.jpg  dog.77.jpg\t dog.92.jpg\n",
            "dog.179.jpg  dog.329.jpg  dog.47.jpg   dog.62.jpg   dog.780.jpg  dog.930.jpg\n",
            "dog.17.jpg   dog.32.jpg   dog.480.jpg  dog.630.jpg  dog.781.jpg  dog.931.jpg\n",
            "dog.180.jpg  dog.330.jpg  dog.481.jpg  dog.631.jpg  dog.782.jpg  dog.932.jpg\n",
            "dog.181.jpg  dog.331.jpg  dog.482.jpg  dog.632.jpg  dog.783.jpg  dog.933.jpg\n",
            "dog.182.jpg  dog.332.jpg  dog.483.jpg  dog.633.jpg  dog.784.jpg  dog.934.jpg\n",
            "dog.183.jpg  dog.333.jpg  dog.484.jpg  dog.634.jpg  dog.785.jpg  dog.935.jpg\n",
            "dog.184.jpg  dog.334.jpg  dog.485.jpg  dog.635.jpg  dog.786.jpg  dog.936.jpg\n",
            "dog.185.jpg  dog.335.jpg  dog.486.jpg  dog.636.jpg  dog.787.jpg  dog.937.jpg\n",
            "dog.186.jpg  dog.336.jpg  dog.487.jpg  dog.637.jpg  dog.788.jpg  dog.938.jpg\n",
            "dog.187.jpg  dog.337.jpg  dog.488.jpg  dog.638.jpg  dog.789.jpg  dog.939.jpg\n",
            "dog.188.jpg  dog.338.jpg  dog.489.jpg  dog.639.jpg  dog.78.jpg\t dog.93.jpg\n",
            "dog.189.jpg  dog.339.jpg  dog.48.jpg   dog.63.jpg   dog.790.jpg  dog.940.jpg\n",
            "dog.18.jpg   dog.33.jpg   dog.490.jpg  dog.640.jpg  dog.791.jpg  dog.941.jpg\n",
            "dog.190.jpg  dog.340.jpg  dog.491.jpg  dog.641.jpg  dog.792.jpg  dog.942.jpg\n",
            "dog.191.jpg  dog.341.jpg  dog.492.jpg  dog.642.jpg  dog.793.jpg  dog.943.jpg\n",
            "dog.192.jpg  dog.342.jpg  dog.493.jpg  dog.643.jpg  dog.794.jpg  dog.944.jpg\n",
            "dog.193.jpg  dog.343.jpg  dog.494.jpg  dog.644.jpg  dog.795.jpg  dog.945.jpg\n",
            "dog.194.jpg  dog.344.jpg  dog.495.jpg  dog.645.jpg  dog.796.jpg  dog.946.jpg\n",
            "dog.195.jpg  dog.345.jpg  dog.496.jpg  dog.646.jpg  dog.797.jpg  dog.947.jpg\n",
            "dog.196.jpg  dog.346.jpg  dog.497.jpg  dog.647.jpg  dog.798.jpg  dog.948.jpg\n",
            "dog.197.jpg  dog.347.jpg  dog.498.jpg  dog.648.jpg  dog.799.jpg  dog.949.jpg\n",
            "dog.198.jpg  dog.348.jpg  dog.499.jpg  dog.649.jpg  dog.79.jpg\t dog.94.jpg\n",
            "dog.199.jpg  dog.349.jpg  dog.49.jpg   dog.64.jpg   dog.7.jpg\t dog.950.jpg\n",
            "dog.19.jpg   dog.34.jpg   dog.4.jpg    dog.650.jpg  dog.800.jpg  dog.951.jpg\n",
            "dog.1.jpg    dog.350.jpg  dog.500.jpg  dog.651.jpg  dog.801.jpg  dog.952.jpg\n",
            "dog.200.jpg  dog.351.jpg  dog.501.jpg  dog.652.jpg  dog.802.jpg  dog.953.jpg\n",
            "dog.201.jpg  dog.352.jpg  dog.502.jpg  dog.653.jpg  dog.803.jpg  dog.954.jpg\n",
            "dog.202.jpg  dog.353.jpg  dog.503.jpg  dog.654.jpg  dog.804.jpg  dog.955.jpg\n",
            "dog.203.jpg  dog.354.jpg  dog.504.jpg  dog.655.jpg  dog.805.jpg  dog.956.jpg\n",
            "dog.204.jpg  dog.355.jpg  dog.505.jpg  dog.656.jpg  dog.806.jpg  dog.957.jpg\n",
            "dog.205.jpg  dog.356.jpg  dog.506.jpg  dog.657.jpg  dog.807.jpg  dog.958.jpg\n",
            "dog.206.jpg  dog.357.jpg  dog.507.jpg  dog.658.jpg  dog.808.jpg  dog.959.jpg\n",
            "dog.207.jpg  dog.358.jpg  dog.508.jpg  dog.659.jpg  dog.809.jpg  dog.95.jpg\n",
            "dog.208.jpg  dog.359.jpg  dog.509.jpg  dog.65.jpg   dog.80.jpg\t dog.960.jpg\n",
            "dog.209.jpg  dog.35.jpg   dog.50.jpg   dog.660.jpg  dog.810.jpg  dog.961.jpg\n",
            "dog.20.jpg   dog.360.jpg  dog.510.jpg  dog.661.jpg  dog.811.jpg  dog.962.jpg\n",
            "dog.210.jpg  dog.361.jpg  dog.511.jpg  dog.662.jpg  dog.812.jpg  dog.963.jpg\n",
            "dog.211.jpg  dog.362.jpg  dog.512.jpg  dog.663.jpg  dog.813.jpg  dog.964.jpg\n",
            "dog.212.jpg  dog.363.jpg  dog.513.jpg  dog.664.jpg  dog.814.jpg  dog.965.jpg\n",
            "dog.213.jpg  dog.364.jpg  dog.514.jpg  dog.665.jpg  dog.815.jpg  dog.966.jpg\n",
            "dog.214.jpg  dog.365.jpg  dog.515.jpg  dog.666.jpg  dog.816.jpg  dog.967.jpg\n",
            "dog.215.jpg  dog.366.jpg  dog.516.jpg  dog.667.jpg  dog.817.jpg  dog.968.jpg\n",
            "dog.216.jpg  dog.367.jpg  dog.517.jpg  dog.668.jpg  dog.818.jpg  dog.969.jpg\n",
            "dog.217.jpg  dog.368.jpg  dog.518.jpg  dog.669.jpg  dog.819.jpg  dog.96.jpg\n",
            "dog.218.jpg  dog.369.jpg  dog.519.jpg  dog.66.jpg   dog.81.jpg\t dog.970.jpg\n",
            "dog.219.jpg  dog.36.jpg   dog.51.jpg   dog.670.jpg  dog.820.jpg  dog.971.jpg\n",
            "dog.21.jpg   dog.370.jpg  dog.520.jpg  dog.671.jpg  dog.821.jpg  dog.972.jpg\n",
            "dog.220.jpg  dog.371.jpg  dog.521.jpg  dog.672.jpg  dog.822.jpg  dog.973.jpg\n",
            "dog.221.jpg  dog.372.jpg  dog.522.jpg  dog.673.jpg  dog.823.jpg  dog.974.jpg\n",
            "dog.222.jpg  dog.373.jpg  dog.523.jpg  dog.674.jpg  dog.824.jpg  dog.975.jpg\n",
            "dog.223.jpg  dog.374.jpg  dog.524.jpg  dog.675.jpg  dog.825.jpg  dog.976.jpg\n",
            "dog.224.jpg  dog.375.jpg  dog.525.jpg  dog.676.jpg  dog.826.jpg  dog.977.jpg\n",
            "dog.225.jpg  dog.376.jpg  dog.526.jpg  dog.677.jpg  dog.827.jpg  dog.978.jpg\n",
            "dog.226.jpg  dog.377.jpg  dog.527.jpg  dog.678.jpg  dog.828.jpg  dog.979.jpg\n",
            "dog.227.jpg  dog.378.jpg  dog.528.jpg  dog.679.jpg  dog.829.jpg  dog.97.jpg\n",
            "dog.228.jpg  dog.379.jpg  dog.529.jpg  dog.67.jpg   dog.82.jpg\t dog.980.jpg\n",
            "dog.229.jpg  dog.37.jpg   dog.52.jpg   dog.680.jpg  dog.830.jpg  dog.981.jpg\n",
            "dog.22.jpg   dog.380.jpg  dog.530.jpg  dog.681.jpg  dog.831.jpg  dog.982.jpg\n",
            "dog.230.jpg  dog.381.jpg  dog.531.jpg  dog.682.jpg  dog.832.jpg  dog.983.jpg\n",
            "dog.231.jpg  dog.382.jpg  dog.532.jpg  dog.683.jpg  dog.833.jpg  dog.984.jpg\n",
            "dog.232.jpg  dog.383.jpg  dog.533.jpg  dog.684.jpg  dog.834.jpg  dog.985.jpg\n",
            "dog.233.jpg  dog.384.jpg  dog.534.jpg  dog.685.jpg  dog.835.jpg  dog.986.jpg\n",
            "dog.234.jpg  dog.385.jpg  dog.535.jpg  dog.686.jpg  dog.836.jpg  dog.987.jpg\n",
            "dog.235.jpg  dog.386.jpg  dog.536.jpg  dog.687.jpg  dog.837.jpg  dog.988.jpg\n",
            "dog.236.jpg  dog.387.jpg  dog.537.jpg  dog.688.jpg  dog.838.jpg  dog.989.jpg\n",
            "dog.237.jpg  dog.388.jpg  dog.538.jpg  dog.689.jpg  dog.839.jpg  dog.98.jpg\n",
            "dog.238.jpg  dog.389.jpg  dog.539.jpg  dog.68.jpg   dog.83.jpg\t dog.990.jpg\n",
            "dog.239.jpg  dog.38.jpg   dog.53.jpg   dog.690.jpg  dog.840.jpg  dog.991.jpg\n",
            "dog.23.jpg   dog.390.jpg  dog.540.jpg  dog.691.jpg  dog.841.jpg  dog.992.jpg\n",
            "dog.240.jpg  dog.391.jpg  dog.541.jpg  dog.692.jpg  dog.842.jpg  dog.993.jpg\n",
            "dog.241.jpg  dog.392.jpg  dog.542.jpg  dog.693.jpg  dog.843.jpg  dog.994.jpg\n",
            "dog.242.jpg  dog.393.jpg  dog.543.jpg  dog.694.jpg  dog.844.jpg  dog.995.jpg\n",
            "dog.243.jpg  dog.394.jpg  dog.544.jpg  dog.695.jpg  dog.845.jpg  dog.996.jpg\n",
            "dog.244.jpg  dog.395.jpg  dog.545.jpg  dog.696.jpg  dog.846.jpg  dog.997.jpg\n",
            "dog.245.jpg  dog.396.jpg  dog.546.jpg  dog.697.jpg  dog.847.jpg  dog.998.jpg\n",
            "dog.246.jpg  dog.397.jpg  dog.547.jpg  dog.698.jpg  dog.848.jpg  dog.999.jpg\n",
            "dog.247.jpg  dog.398.jpg  dog.548.jpg  dog.699.jpg  dog.849.jpg  dog.99.jpg\n",
            "dog.248.jpg  dog.399.jpg  dog.549.jpg  dog.69.jpg   dog.84.jpg\t dog.9.jpg\n",
            "dog.249.jpg  dog.39.jpg   dog.54.jpg   dog.6.jpg    dog.850.jpg\n",
            "dog.24.jpg   dog.3.jpg\t  dog.550.jpg  dog.700.jpg  dog.851.jpg\n"
          ],
          "name": "stdout"
        }
      ]
    },
    {
      "cell_type": "markdown",
      "metadata": {
        "id": "U7PWiDs0cuKh",
        "colab_type": "text"
      },
      "source": [
        "# Model"
      ]
    },
    {
      "cell_type": "code",
      "metadata": {
        "id": "mFrKLf0hauVR",
        "colab_type": "code",
        "colab": {}
      },
      "source": [
        "model = models.Sequential()\n",
        "model.add(layers.Conv2D(32, (3, 3), activation='relu', input_shape=(150, 150, 3)))\n",
        "model.add(layers.MaxPooling2D((2, 2)))\n",
        "model.add(layers.Conv2D(64, (3, 3), activation='relu'))\n",
        "model.add(layers.MaxPooling2D((2, 2)))\n",
        "model.add(layers.Conv2D(128, (3, 3), activation='relu'))\n",
        "model.add(layers.MaxPooling2D((2, 2)))\n",
        "model.add(layers.Conv2D(128, (3, 3), activation='relu'))\n",
        "model.add(layers.MaxPooling2D((2, 2)))\n",
        "model.add(layers.Flatten())\n",
        "model.add(layers.Dense(512, activation='relu'))\n",
        "model.add(layers.Dense(1, activation='sigmoid'))"
      ],
      "execution_count": 0,
      "outputs": []
    },
    {
      "cell_type": "code",
      "metadata": {
        "id": "q8-VzUKwdzwn",
        "colab_type": "code",
        "outputId": "a6c5d9a2-ae89-4154-e162-c783995a418c",
        "colab": {
          "base_uri": "https://localhost:8080/",
          "height": 527
        }
      },
      "source": [
        "model.summary()"
      ],
      "execution_count": 0,
      "outputs": [
        {
          "output_type": "stream",
          "text": [
            "Model: \"sequential_4\"\n",
            "_________________________________________________________________\n",
            "Layer (type)                 Output Shape              Param #   \n",
            "=================================================================\n",
            "conv2d_13 (Conv2D)           (None, 148, 148, 32)      896       \n",
            "_________________________________________________________________\n",
            "max_pooling2d_13 (MaxPooling (None, 74, 74, 32)        0         \n",
            "_________________________________________________________________\n",
            "conv2d_14 (Conv2D)           (None, 72, 72, 64)        18496     \n",
            "_________________________________________________________________\n",
            "max_pooling2d_14 (MaxPooling (None, 36, 36, 64)        0         \n",
            "_________________________________________________________________\n",
            "conv2d_15 (Conv2D)           (None, 34, 34, 128)       73856     \n",
            "_________________________________________________________________\n",
            "max_pooling2d_15 (MaxPooling (None, 17, 17, 128)       0         \n",
            "_________________________________________________________________\n",
            "conv2d_16 (Conv2D)           (None, 15, 15, 128)       147584    \n",
            "_________________________________________________________________\n",
            "max_pooling2d_16 (MaxPooling (None, 7, 7, 128)         0         \n",
            "_________________________________________________________________\n",
            "flatten_4 (Flatten)          (None, 6272)              0         \n",
            "_________________________________________________________________\n",
            "dense_7 (Dense)              (None, 512)               3211776   \n",
            "_________________________________________________________________\n",
            "dense_8 (Dense)              (None, 1)                 513       \n",
            "=================================================================\n",
            "Total params: 3,453,121\n",
            "Trainable params: 3,453,121\n",
            "Non-trainable params: 0\n",
            "_________________________________________________________________\n"
          ],
          "name": "stdout"
        }
      ]
    },
    {
      "cell_type": "markdown",
      "metadata": {
        "id": "u7yshHeB3CVo",
        "colab_type": "text"
      },
      "source": [
        "# Compile Model\n",
        "* Learning rate too large, you'll stall on 0.5 accuracy, too small requires more epochs"
      ]
    },
    {
      "cell_type": "code",
      "metadata": {
        "id": "DN__EtK3eHhc",
        "colab_type": "code",
        "colab": {}
      },
      "source": [
        "model.compile(loss='binary_crossentropy', \n",
        "             optimizer=optimizers.RMSprop(lr=1e-4),\n",
        "             metrics=['acc'])"
      ],
      "execution_count": 0,
      "outputs": []
    },
    {
      "cell_type": "markdown",
      "metadata": {
        "id": "eyt5bnQpet6v",
        "colab_type": "text"
      },
      "source": [
        "# Pre-Processing"
      ]
    },
    {
      "cell_type": "code",
      "metadata": {
        "id": "XxK0aG78eng7",
        "colab_type": "code",
        "outputId": "c69985cc-ab82-41c9-c12c-13c9be9851b4",
        "colab": {
          "base_uri": "https://localhost:8080/",
          "height": 119
        }
      },
      "source": [
        "train_datagen      = ImageDataGenerator(rescale=1. / 255)\n",
        "validation_datagen = ImageDataGenerator(rescale=1. / 255)\n",
        "test_datagen       = ImageDataGenerator(rescale=1. / 255)\n",
        "\n",
        "print(training_dir)\n",
        "train_gen = train_datagen.flow_from_directory(\n",
        "  training_dir,\n",
        "  target_size=(150, 150),\n",
        "  batch_size=20,\n",
        "  class_mode='binary')\n",
        "\n",
        "print(validation_dir)\n",
        "validation_gen = validation_datagen.flow_from_directory(\n",
        "  validation_dir,\n",
        "  target_size=(150, 150),\n",
        "  batch_size=20,\n",
        "  class_mode='binary')\n",
        "\n",
        "print(test_dir)\n",
        "test_gen = test_datagen.flow_from_directory(\n",
        "  test_dir,\n",
        "  target_size=(150, 150),\n",
        "  batch_size=20,\n",
        "  class_mode='binary', \n",
        "  shuffle=False) # Don't shuffle predictions"
      ],
      "execution_count": 0,
      "outputs": [
        {
          "output_type": "stream",
          "text": [
            "/tmp/catdog/training/\n",
            "Found 2000 images belonging to 2 classes.\n",
            "/tmp/catdog/validation/\n",
            "Found 1000 images belonging to 2 classes.\n",
            "/tmp/catdog/test/\n",
            "Found 1000 images belonging to 2 classes.\n"
          ],
          "name": "stdout"
        }
      ]
    },
    {
      "cell_type": "markdown",
      "metadata": {
        "id": "jOh80YDcgvQO",
        "colab_type": "text"
      },
      "source": [
        "# Fit Model"
      ]
    },
    {
      "cell_type": "code",
      "metadata": {
        "id": "iZe9oleMgk7d",
        "colab_type": "code",
        "outputId": "86b7c388-238b-4052-9e39-0b704a9cf17d",
        "colab": {
          "base_uri": "https://localhost:8080/",
          "height": 1000
        }
      },
      "source": [
        "history = model.fit_generator(\n",
        "  train_gen,\n",
        "  steps_per_epoch=100,\n",
        "  epochs=30,\n",
        "  validation_data=validation_gen,\n",
        "  validation_steps=50)\n",
        "model.save('cats_and_dogs_small_1.h5')"
      ],
      "execution_count": 0,
      "outputs": [
        {
          "output_type": "stream",
          "text": [
            "Epoch 1/30\n",
            "100/100 [==============================] - 12s 121ms/step - loss: 0.6883 - acc: 0.5325 - val_loss: 0.6831 - val_acc: 0.5140\n",
            "Epoch 2/30\n",
            "100/100 [==============================] - 11s 106ms/step - loss: 0.6532 - acc: 0.6195 - val_loss: 0.6356 - val_acc: 0.6300\n",
            "Epoch 3/30\n",
            "100/100 [==============================] - 11s 105ms/step - loss: 0.6134 - acc: 0.6770 - val_loss: 0.5989 - val_acc: 0.6600\n",
            "Epoch 4/30\n",
            "100/100 [==============================] - 11s 110ms/step - loss: 0.5622 - acc: 0.6935 - val_loss: 0.6767 - val_acc: 0.6190\n",
            "Epoch 5/30\n",
            "100/100 [==============================] - 11s 111ms/step - loss: 0.5365 - acc: 0.7305 - val_loss: 0.5815 - val_acc: 0.6780\n",
            "Epoch 6/30\n",
            "100/100 [==============================] - 11s 113ms/step - loss: 0.5029 - acc: 0.7565 - val_loss: 0.5865 - val_acc: 0.6900\n",
            "Epoch 7/30\n",
            "100/100 [==============================] - 11s 111ms/step - loss: 0.4832 - acc: 0.7600 - val_loss: 0.5563 - val_acc: 0.7070\n",
            "Epoch 8/30\n",
            "100/100 [==============================] - 11s 110ms/step - loss: 0.4586 - acc: 0.7875 - val_loss: 0.5551 - val_acc: 0.7100\n",
            "Epoch 9/30\n",
            "100/100 [==============================] - 11s 106ms/step - loss: 0.4294 - acc: 0.8035 - val_loss: 0.8011 - val_acc: 0.6130\n",
            "Epoch 10/30\n",
            "100/100 [==============================] - 11s 108ms/step - loss: 0.4090 - acc: 0.8205 - val_loss: 0.6256 - val_acc: 0.6910\n",
            "Epoch 11/30\n",
            "100/100 [==============================] - 11s 106ms/step - loss: 0.3781 - acc: 0.8335 - val_loss: 0.5669 - val_acc: 0.7130\n",
            "Epoch 12/30\n",
            "100/100 [==============================] - 11s 109ms/step - loss: 0.3622 - acc: 0.8350 - val_loss: 0.6204 - val_acc: 0.7130\n",
            "Epoch 13/30\n",
            "100/100 [==============================] - 11s 107ms/step - loss: 0.3340 - acc: 0.8500 - val_loss: 0.5514 - val_acc: 0.7250\n",
            "Epoch 14/30\n",
            "100/100 [==============================] - 11s 109ms/step - loss: 0.3019 - acc: 0.8695 - val_loss: 0.6013 - val_acc: 0.7310\n",
            "Epoch 15/30\n",
            "100/100 [==============================] - 11s 108ms/step - loss: 0.2925 - acc: 0.8810 - val_loss: 0.5666 - val_acc: 0.7370\n",
            "Epoch 16/30\n",
            "100/100 [==============================] - 11s 108ms/step - loss: 0.2676 - acc: 0.8950 - val_loss: 0.5906 - val_acc: 0.7350\n",
            "Epoch 17/30\n",
            "100/100 [==============================] - 11s 109ms/step - loss: 0.2440 - acc: 0.9055 - val_loss: 0.6285 - val_acc: 0.7120\n",
            "Epoch 18/30\n",
            "100/100 [==============================] - 11s 106ms/step - loss: 0.2255 - acc: 0.9130 - val_loss: 0.6461 - val_acc: 0.7280\n",
            "Epoch 19/30\n",
            "100/100 [==============================] - 11s 107ms/step - loss: 0.2040 - acc: 0.9270 - val_loss: 0.6342 - val_acc: 0.7280\n",
            "Epoch 20/30\n",
            "100/100 [==============================] - 11s 106ms/step - loss: 0.1926 - acc: 0.9280 - val_loss: 0.6449 - val_acc: 0.7370\n",
            "Epoch 21/30\n",
            "100/100 [==============================] - 11s 106ms/step - loss: 0.1613 - acc: 0.9435 - val_loss: 0.6940 - val_acc: 0.7250\n",
            "Epoch 22/30\n",
            "100/100 [==============================] - 11s 106ms/step - loss: 0.1452 - acc: 0.9485 - val_loss: 0.7233 - val_acc: 0.7400\n",
            "Epoch 23/30\n",
            "100/100 [==============================] - 11s 106ms/step - loss: 0.1347 - acc: 0.9505 - val_loss: 0.7537 - val_acc: 0.7180\n",
            "Epoch 24/30\n",
            "100/100 [==============================] - 11s 106ms/step - loss: 0.1111 - acc: 0.9650 - val_loss: 0.7631 - val_acc: 0.7200\n",
            "Epoch 25/30\n",
            "100/100 [==============================] - 11s 106ms/step - loss: 0.1071 - acc: 0.9620 - val_loss: 0.7505 - val_acc: 0.7310\n",
            "Epoch 26/30\n",
            "100/100 [==============================] - 11s 105ms/step - loss: 0.0890 - acc: 0.9715 - val_loss: 0.7690 - val_acc: 0.7170\n",
            "Epoch 27/30\n",
            "100/100 [==============================] - 10s 105ms/step - loss: 0.0781 - acc: 0.9725 - val_loss: 0.8190 - val_acc: 0.7300\n",
            "Epoch 28/30\n",
            "100/100 [==============================] - 11s 107ms/step - loss: 0.0630 - acc: 0.9840 - val_loss: 0.8394 - val_acc: 0.7380\n",
            "Epoch 29/30\n",
            "100/100 [==============================] - 10s 105ms/step - loss: 0.0530 - acc: 0.9860 - val_loss: 0.9164 - val_acc: 0.7310\n",
            "Epoch 30/30\n",
            "100/100 [==============================] - 11s 106ms/step - loss: 0.0505 - acc: 0.9895 - val_loss: 0.9375 - val_acc: 0.7330\n"
          ],
          "name": "stdout"
        }
      ]
    },
    {
      "cell_type": "markdown",
      "metadata": {
        "id": "osWMIfFLiCic",
        "colab_type": "text"
      },
      "source": [
        "# Plot Loss & Accuracy"
      ]
    },
    {
      "cell_type": "code",
      "metadata": {
        "id": "ahXbGQmyhEPo",
        "colab_type": "code",
        "outputId": "61126eb2-e902-4407-8a22-2f63f86a6935",
        "colab": {
          "base_uri": "https://localhost:8080/",
          "height": 545
        }
      },
      "source": [
        "acc = history.history['acc']\n",
        "val_acc = history.history['val_acc']\n",
        "\n",
        "loss = history.history['loss']\n",
        "val_loss = history.history['val_loss']\n",
        "\n",
        "epochs = range(1, len(acc) + 1)\n",
        "\n",
        "plt.plot(epochs, acc, 'bo', label='Train Acc')\n",
        "plt.plot(epochs, val_acc, 'b', label='Validation Acc')\n",
        "plt.title('Training & Validation Accuracy')\n",
        "plt.legend()\n",
        "plt.figure()\n",
        "\n",
        "plt.plot(epochs, loss, 'bo', label='Train Loss')\n",
        "plt.plot(epochs, val_loss, 'b', label='Validation Loss')\n",
        "plt.title('Training & Validation Loss')\n",
        "plt.legend()\n",
        "plt.show()"
      ],
      "execution_count": 0,
      "outputs": [
        {
          "output_type": "display_data",
          "data": {
            "image/png": "[encoded data removed]",
            "text/plain": [
              "<Figure size 432x288 with 1 Axes>"
            ]
          },
          "metadata": {
            "tags": []
          }
        },
        {
          "output_type": "display_data",
          "data": {
            "image/png": "[encoded data removed]",
            "text/plain": [
              "<Figure size 432x288 with 1 Axes>"
            ]
          },
          "metadata": {
            "tags": []
          }
        }
      ]
    },
    {
      "cell_type": "markdown",
      "metadata": {
        "id": "pd32cL7wNQ2t",
        "colab_type": "text"
      },
      "source": [
        "# Test Accuracy"
      ]
    },
    {
      "cell_type": "code",
      "metadata": {
        "id": "3a6RMjT6ppM9",
        "colab_type": "code",
        "outputId": "e3cd1cb7-26fe-4013-fc7e-ce6bf2d90227",
        "colab": {
          "base_uri": "https://localhost:8080/",
          "height": 269
        }
      },
      "source": [
        "img = mpimg.imread('/tmp/catdog/test/cats/cat.1501.jpg')\n",
        "imgplot = plt.imshow(img)\n",
        "plt.show()"
      ],
      "execution_count": 0,
      "outputs": [
        {
          "output_type": "display_data",
          "data": {
            "image/png": "[encoded data removed]",
            "text/plain": [
              "<Figure size 432x288 with 1 Axes>"
            ]
          },
          "metadata": {
            "tags": []
          }
        }
      ]
    },
    {
      "cell_type": "code",
      "metadata": {
        "id": "jD_W2c04vygF",
        "colab_type": "code",
        "outputId": "a7c05d11-3b01-4197-af4c-5839530a6a2f",
        "colab": {
          "base_uri": "https://localhost:8080/",
          "height": 51
        }
      },
      "source": [
        "test_loss, test_acc = model.evaluate_generator(test_gen, steps=50)\n",
        "print('Test Accuracy {:.3f}'.format(test_acc))\n",
        "print('Test Loss {:.3f}'.format(test_loss))"
      ],
      "execution_count": 0,
      "outputs": [
        {
          "output_type": "stream",
          "text": [
            "Test Accuracy 0.728\n",
            "Test Loss 0.939\n"
          ],
          "name": "stdout"
        }
      ]
    },
    {
      "cell_type": "markdown",
      "metadata": {
        "id": "nsO0IwQwTWCg",
        "colab_type": "text"
      },
      "source": [
        "# Predictions"
      ]
    },
    {
      "cell_type": "code",
      "metadata": {
        "id": "vzvCuJTtPM9Z",
        "colab_type": "code",
        "colab": {}
      },
      "source": [
        "preds = model.predict_generator(test_gen, steps=50)"
      ],
      "execution_count": 0,
      "outputs": []
    },
    {
      "cell_type": "code",
      "metadata": {
        "id": "awH3QGzkSsqR",
        "colab_type": "code",
        "outputId": "32a6c718-a94c-4d67-90d5-e305b7ab1a51",
        "colab": {
          "base_uri": "https://localhost:8080/",
          "height": 204
        }
      },
      "source": [
        "y_true = np.array([0] * 500 + [1] * 500)\n",
        "y_pred = preds > 0.5\n",
        "\n",
        "print(confusion_matrix(y_true, y_pred))\n",
        "print(classification_report(y_true, y_pred))"
      ],
      "execution_count": 0,
      "outputs": [
        {
          "output_type": "stream",
          "text": [
            "[[380 120]\n",
            " [152 348]]\n",
            "              precision    recall  f1-score   support\n",
            "\n",
            "           0       0.71      0.76      0.74       500\n",
            "           1       0.74      0.70      0.72       500\n",
            "\n",
            "    accuracy                           0.73      1000\n",
            "   macro avg       0.73      0.73      0.73      1000\n",
            "weighted avg       0.73      0.73      0.73      1000\n",
            "\n"
          ],
          "name": "stdout"
        }
      ]
    },
    {
      "cell_type": "markdown",
      "metadata": {
        "id": "Hb2dhg71fZ3d",
        "colab_type": "text"
      },
      "source": [
        "# Data Augmentation\n",
        "* To improve on a simple Convnet, we'll attempt to augment the data and increase \"regularization\" by adding dropout\n",
        "* Augmentation\n",
        "  * We can flip / rotate and randomly adjust existing images to improve our accuracy\n",
        "  * Ideally, our net will never see the same image twice\n",
        "* Dropout\n",
        "  * Fights overfitting\n",
        "  * Forces the network to rely and create different \"features\" to classify\n"
      ]
    },
    {
      "cell_type": "code",
      "metadata": {
        "id": "7qwx3K83fwM5",
        "colab_type": "code",
        "outputId": "7708ab22-9486-44cd-ddf7-edbf662cb8d3",
        "colab": {
          "base_uri": "https://localhost:8080/",
          "height": 34
        }
      },
      "source": [
        "data_aug_gen = ImageDataGenerator(rescale = 1./255,\n",
        "                               rotation_range=40,\n",
        "                               width_shift_range=0.2,\n",
        "                               height_shift_range=0.2,\n",
        "                               shear_range=0.2,\n",
        "                               zoom_range=0.2,\n",
        "                               horizontal_flip=True,)\n",
        "\n",
        "train_aug_gen = data_aug_gen.flow_from_directory(training_dir,\n",
        "                                           target_size=(150, 150),\n",
        "                                           batch_size=32,\n",
        "                                           class_mode='binary')"
      ],
      "execution_count": 0,
      "outputs": [
        {
          "output_type": "stream",
          "text": [
            "Found 2000 images belonging to 2 classes.\n"
          ],
          "name": "stdout"
        }
      ]
    },
    {
      "cell_type": "markdown",
      "metadata": {
        "id": "bLTfHYSIhiLo",
        "colab_type": "text"
      },
      "source": [
        "# Dropout & Model"
      ]
    },
    {
      "cell_type": "code",
      "metadata": {
        "id": "SJ2jVJ61hgl7",
        "colab_type": "code",
        "outputId": "742f05bd-7e4e-48b7-af37-1142ff924639",
        "colab": {
          "base_uri": "https://localhost:8080/",
          "height": 1000
        }
      },
      "source": [
        "model_aug = models.Sequential()\n",
        "model_aug.add(layers.Conv2D(32, (3, 3), activation='relu', input_shape=(150, 150, 3)))\n",
        "model_aug.add(layers.MaxPooling2D((2, 2)))\n",
        "model_aug.add(layers.Conv2D(64, (3, 3), activation='relu'))\n",
        "model_aug.add(layers.MaxPooling2D((2, 2)))\n",
        "model_aug.add(layers.Conv2D(128, (3, 3), activation='relu'))\n",
        "model_aug.add(layers.MaxPooling2D((2, 2)))\n",
        "model_aug.add(layers.Conv2D(128, (3, 3), activation='relu'))\n",
        "model_aug.add(layers.MaxPooling2D((2, 2)))\n",
        "model_aug.add(layers.Flatten())\n",
        "model_aug.add(layers.Dropout(0.5))\n",
        "model_aug.add(layers.Dense(512, activation='relu'))\n",
        "model_aug.add(layers.Dense(1, activation='sigmoid'))\n",
        "\n",
        "model_aug.summary()\n",
        "\n",
        "model_aug.compile(loss='binary_crossentropy',\n",
        "             optimizer=optimizers.RMSprop(lr=1e-4),\n",
        "             metrics=['acc'])\n",
        "\n",
        "model_aug.fit_generator(\n",
        "  train_aug_gen,\n",
        "  steps_per_epoch=100,\n",
        "  epochs=100,\n",
        "  validation_data=validation_gen,\n",
        "  validation_steps=50)\n",
        "model_aug.save('cats_and_dogs_small_2.h5')"
      ],
      "execution_count": 0,
      "outputs": [
        {
          "output_type": "stream",
          "text": [
            "Model: \"sequential_7\"\n",
            "_________________________________________________________________\n",
            "Layer (type)                 Output Shape              Param #   \n",
            "=================================================================\n",
            "conv2d_25 (Conv2D)           (None, 148, 148, 32)      896       \n",
            "_________________________________________________________________\n",
            "max_pooling2d_25 (MaxPooling (None, 74, 74, 32)        0         \n",
            "_________________________________________________________________\n",
            "conv2d_26 (Conv2D)           (None, 72, 72, 64)        18496     \n",
            "_________________________________________________________________\n",
            "max_pooling2d_26 (MaxPooling (None, 36, 36, 64)        0         \n",
            "_________________________________________________________________\n",
            "conv2d_27 (Conv2D)           (None, 34, 34, 128)       73856     \n",
            "_________________________________________________________________\n",
            "max_pooling2d_27 (MaxPooling (None, 17, 17, 128)       0         \n",
            "_________________________________________________________________\n",
            "conv2d_28 (Conv2D)           (None, 15, 15, 128)       147584    \n",
            "_________________________________________________________________\n",
            "max_pooling2d_28 (MaxPooling (None, 7, 7, 128)         0         \n",
            "_________________________________________________________________\n",
            "flatten_7 (Flatten)          (None, 6272)              0         \n",
            "_________________________________________________________________\n",
            "dropout_3 (Dropout)          (None, 6272)              0         \n",
            "_________________________________________________________________\n",
            "dense_13 (Dense)             (None, 512)               3211776   \n",
            "_________________________________________________________________\n",
            "dense_14 (Dense)             (None, 1)                 513       \n",
            "=================================================================\n",
            "Total params: 3,453,121\n",
            "Trainable params: 3,453,121\n",
            "Non-trainable params: 0\n",
            "_________________________________________________________________\n",
            "Epoch 1/100\n",
            "100/100 [==============================] - 34s 340ms/step - loss: 0.6927 - acc: 0.5166 - val_loss: 0.6817 - val_acc: 0.5090\n",
            "Epoch 2/100\n",
            "100/100 [==============================] - 30s 301ms/step - loss: 0.6790 - acc: 0.5669 - val_loss: 0.6535 - val_acc: 0.5970\n",
            "Epoch 3/100\n",
            "100/100 [==============================] - 31s 313ms/step - loss: 0.6646 - acc: 0.5900 - val_loss: 0.6545 - val_acc: 0.5800\n",
            "Epoch 4/100\n",
            "100/100 [==============================] - 31s 311ms/step - loss: 0.6510 - acc: 0.6034 - val_loss: 0.6408 - val_acc: 0.6150\n",
            "Epoch 5/100\n",
            "100/100 [==============================] - 29s 293ms/step - loss: 0.6297 - acc: 0.6347 - val_loss: 0.6229 - val_acc: 0.6380\n",
            "Epoch 6/100\n",
            "100/100 [==============================] - 32s 318ms/step - loss: 0.6187 - acc: 0.6434 - val_loss: 0.5987 - val_acc: 0.6620\n",
            "Epoch 7/100\n",
            "100/100 [==============================] - 30s 305ms/step - loss: 0.6104 - acc: 0.6684 - val_loss: 0.5682 - val_acc: 0.6970\n",
            "Epoch 8/100\n",
            "100/100 [==============================] - 30s 301ms/step - loss: 0.5999 - acc: 0.6700 - val_loss: 0.5762 - val_acc: 0.6940\n",
            "Epoch 9/100\n",
            "100/100 [==============================] - 30s 302ms/step - loss: 0.5856 - acc: 0.6887 - val_loss: 0.5670 - val_acc: 0.7000\n",
            "Epoch 10/100\n",
            "100/100 [==============================] - 29s 294ms/step - loss: 0.5846 - acc: 0.6931 - val_loss: 0.5585 - val_acc: 0.7060\n",
            "Epoch 11/100\n",
            "100/100 [==============================] - 30s 304ms/step - loss: 0.5748 - acc: 0.6991 - val_loss: 0.5737 - val_acc: 0.6850\n",
            "Epoch 12/100\n",
            "100/100 [==============================] - 30s 296ms/step - loss: 0.5700 - acc: 0.7031 - val_loss: 0.5969 - val_acc: 0.6700\n",
            "Epoch 13/100\n",
            "100/100 [==============================] - 30s 304ms/step - loss: 0.5609 - acc: 0.7141 - val_loss: 0.5355 - val_acc: 0.7250\n",
            "Epoch 14/100\n",
            "100/100 [==============================] - 30s 298ms/step - loss: 0.5606 - acc: 0.7122 - val_loss: 0.6069 - val_acc: 0.6570\n",
            "Epoch 15/100\n",
            "100/100 [==============================] - 30s 297ms/step - loss: 0.5547 - acc: 0.7091 - val_loss: 0.5430 - val_acc: 0.7120\n",
            "Epoch 16/100\n",
            "100/100 [==============================] - 30s 303ms/step - loss: 0.5476 - acc: 0.7159 - val_loss: 0.5063 - val_acc: 0.7530\n",
            "Epoch 17/100\n",
            "100/100 [==============================] - 29s 286ms/step - loss: 0.5444 - acc: 0.7213 - val_loss: 0.5268 - val_acc: 0.7310\n",
            "Epoch 18/100\n",
            "100/100 [==============================] - 32s 321ms/step - loss: 0.5333 - acc: 0.7313 - val_loss: 0.5179 - val_acc: 0.7350\n",
            "Epoch 19/100\n",
            "100/100 [==============================] - 30s 304ms/step - loss: 0.5276 - acc: 0.7328 - val_loss: 0.5104 - val_acc: 0.7520\n",
            "Epoch 20/100\n",
            "100/100 [==============================] - 30s 298ms/step - loss: 0.5219 - acc: 0.7312 - val_loss: 0.5140 - val_acc: 0.7280\n",
            "Epoch 21/100\n",
            "100/100 [==============================] - 30s 300ms/step - loss: 0.5024 - acc: 0.7466 - val_loss: 0.5173 - val_acc: 0.7510\n",
            "Epoch 22/100\n",
            "100/100 [==============================] - 29s 293ms/step - loss: 0.5268 - acc: 0.7406 - val_loss: 0.5095 - val_acc: 0.7460\n",
            "Epoch 23/100\n",
            "100/100 [==============================] - 32s 325ms/step - loss: 0.5026 - acc: 0.7509 - val_loss: 0.4848 - val_acc: 0.7710\n",
            "Epoch 24/100\n",
            "100/100 [==============================] - 32s 317ms/step - loss: 0.5058 - acc: 0.7478 - val_loss: 0.5928 - val_acc: 0.7090\n",
            "Epoch 25/100\n",
            "100/100 [==============================] - 31s 313ms/step - loss: 0.5048 - acc: 0.7587 - val_loss: 0.5157 - val_acc: 0.7420\n",
            "Epoch 26/100\n",
            "100/100 [==============================] - 30s 304ms/step - loss: 0.4999 - acc: 0.7516 - val_loss: 0.5177 - val_acc: 0.7430\n",
            "Epoch 27/100\n",
            "100/100 [==============================] - 30s 302ms/step - loss: 0.4927 - acc: 0.7531 - val_loss: 0.5161 - val_acc: 0.7380\n",
            "Epoch 28/100\n",
            "100/100 [==============================] - 31s 306ms/step - loss: 0.4968 - acc: 0.7591 - val_loss: 0.4765 - val_acc: 0.7630\n",
            "Epoch 29/100\n",
            "100/100 [==============================] - 30s 304ms/step - loss: 0.4882 - acc: 0.7666 - val_loss: 0.4835 - val_acc: 0.7640\n",
            "Epoch 30/100\n",
            "100/100 [==============================] - 31s 306ms/step - loss: 0.4799 - acc: 0.7666 - val_loss: 0.5088 - val_acc: 0.7570\n",
            "Epoch 31/100\n",
            "100/100 [==============================] - 30s 304ms/step - loss: 0.4814 - acc: 0.7691 - val_loss: 0.4807 - val_acc: 0.7700\n",
            "Epoch 32/100\n",
            "100/100 [==============================] - 31s 309ms/step - loss: 0.4729 - acc: 0.7716 - val_loss: 0.5558 - val_acc: 0.7270\n",
            "Epoch 33/100\n",
            "100/100 [==============================] - 31s 310ms/step - loss: 0.4650 - acc: 0.7800 - val_loss: 0.5080 - val_acc: 0.7550\n",
            "Epoch 34/100\n",
            "100/100 [==============================] - 29s 293ms/step - loss: 0.4808 - acc: 0.7656 - val_loss: 0.4830 - val_acc: 0.7620\n",
            "Epoch 35/100\n",
            "100/100 [==============================] - 32s 322ms/step - loss: 0.4655 - acc: 0.7737 - val_loss: 0.4788 - val_acc: 0.7710\n",
            "Epoch 36/100\n",
            "100/100 [==============================] - 30s 304ms/step - loss: 0.4786 - acc: 0.7691 - val_loss: 0.4809 - val_acc: 0.7750\n",
            "Epoch 37/100\n",
            "100/100 [==============================] - 30s 301ms/step - loss: 0.4628 - acc: 0.7753 - val_loss: 0.4713 - val_acc: 0.7700\n",
            "Epoch 38/100\n",
            "100/100 [==============================] - 30s 298ms/step - loss: 0.4688 - acc: 0.7781 - val_loss: 0.4918 - val_acc: 0.7590\n",
            "Epoch 39/100\n",
            "100/100 [==============================] - 29s 291ms/step - loss: 0.4491 - acc: 0.7878 - val_loss: 0.4658 - val_acc: 0.7840\n",
            "Epoch 40/100\n",
            "100/100 [==============================] - 31s 307ms/step - loss: 0.4577 - acc: 0.7866 - val_loss: 0.4564 - val_acc: 0.7940\n",
            "Epoch 41/100\n",
            "100/100 [==============================] - 30s 295ms/step - loss: 0.4347 - acc: 0.7950 - val_loss: 0.4667 - val_acc: 0.7760\n",
            "Epoch 42/100\n",
            "100/100 [==============================] - 31s 305ms/step - loss: 0.4567 - acc: 0.7728 - val_loss: 0.4314 - val_acc: 0.7940\n",
            "Epoch 43/100\n",
            "100/100 [==============================] - 30s 301ms/step - loss: 0.4374 - acc: 0.7931 - val_loss: 0.4613 - val_acc: 0.7820\n",
            "Epoch 44/100\n",
            "100/100 [==============================] - 30s 297ms/step - loss: 0.4510 - acc: 0.7853 - val_loss: 0.4953 - val_acc: 0.7640\n",
            "Epoch 45/100\n",
            "100/100 [==============================] - 30s 303ms/step - loss: 0.4354 - acc: 0.7959 - val_loss: 0.4342 - val_acc: 0.7950\n",
            "Epoch 46/100\n",
            "100/100 [==============================] - 30s 296ms/step - loss: 0.4486 - acc: 0.7837 - val_loss: 0.4608 - val_acc: 0.7810\n",
            "Epoch 47/100\n",
            "100/100 [==============================] - 29s 294ms/step - loss: 0.4351 - acc: 0.7991 - val_loss: 0.4237 - val_acc: 0.8140\n",
            "Epoch 48/100\n",
            "100/100 [==============================] - 30s 301ms/step - loss: 0.4430 - acc: 0.7928 - val_loss: 0.4332 - val_acc: 0.7970\n",
            "Epoch 49/100\n",
            "100/100 [==============================] - 30s 298ms/step - loss: 0.4357 - acc: 0.8050 - val_loss: 0.5160 - val_acc: 0.7580\n",
            "Epoch 50/100\n",
            "100/100 [==============================] - 30s 302ms/step - loss: 0.4093 - acc: 0.8128 - val_loss: 0.4898 - val_acc: 0.7880\n",
            "Epoch 51/100\n",
            "100/100 [==============================] - 29s 291ms/step - loss: 0.4361 - acc: 0.8047 - val_loss: 0.4749 - val_acc: 0.7840\n",
            "Epoch 52/100\n",
            "100/100 [==============================] - 31s 314ms/step - loss: 0.4262 - acc: 0.8028 - val_loss: 0.4330 - val_acc: 0.8040\n",
            "Epoch 53/100\n",
            "100/100 [==============================] - 31s 313ms/step - loss: 0.4255 - acc: 0.8031 - val_loss: 0.4226 - val_acc: 0.8010\n",
            "Epoch 54/100\n",
            "100/100 [==============================] - 32s 317ms/step - loss: 0.4227 - acc: 0.8019 - val_loss: 0.4224 - val_acc: 0.8140\n",
            "Epoch 55/100\n",
            "100/100 [==============================] - 31s 311ms/step - loss: 0.4232 - acc: 0.8078 - val_loss: 0.4439 - val_acc: 0.7960\n",
            "Epoch 56/100\n",
            "100/100 [==============================] - 30s 302ms/step - loss: 0.4185 - acc: 0.7997 - val_loss: 0.4361 - val_acc: 0.7830\n",
            "Epoch 57/100\n",
            "100/100 [==============================] - 31s 310ms/step - loss: 0.4134 - acc: 0.8097 - val_loss: 0.4598 - val_acc: 0.7750\n",
            "Epoch 58/100\n",
            "100/100 [==============================] - 30s 303ms/step - loss: 0.4304 - acc: 0.7981 - val_loss: 0.4465 - val_acc: 0.7860\n",
            "Epoch 59/100\n",
            "100/100 [==============================] - 30s 301ms/step - loss: 0.4097 - acc: 0.8100 - val_loss: 0.4552 - val_acc: 0.7930\n",
            "Epoch 60/100\n",
            "100/100 [==============================] - 31s 308ms/step - loss: 0.4144 - acc: 0.8137 - val_loss: 0.4302 - val_acc: 0.8080\n",
            "Epoch 61/100\n",
            "100/100 [==============================] - 31s 306ms/step - loss: 0.4075 - acc: 0.8122 - val_loss: 0.5630 - val_acc: 0.7340\n",
            "Epoch 62/100\n",
            "100/100 [==============================] - 30s 298ms/step - loss: 0.4070 - acc: 0.8237 - val_loss: 0.4449 - val_acc: 0.7860\n",
            "Epoch 63/100\n",
            "100/100 [==============================] - 32s 318ms/step - loss: 0.3986 - acc: 0.8191 - val_loss: 0.4377 - val_acc: 0.8020\n",
            "Epoch 64/100\n",
            "100/100 [==============================] - 30s 304ms/step - loss: 0.3968 - acc: 0.8184 - val_loss: 0.4723 - val_acc: 0.7840\n",
            "Epoch 65/100\n",
            "100/100 [==============================] - 31s 305ms/step - loss: 0.3990 - acc: 0.8200 - val_loss: 0.4503 - val_acc: 0.7930\n",
            "Epoch 66/100\n",
            "100/100 [==============================] - 30s 305ms/step - loss: 0.3785 - acc: 0.8244 - val_loss: 0.5097 - val_acc: 0.7900\n",
            "Epoch 67/100\n",
            "100/100 [==============================] - 30s 303ms/step - loss: 0.4040 - acc: 0.8166 - val_loss: 0.4982 - val_acc: 0.7740\n",
            "Epoch 68/100\n",
            "100/100 [==============================] - 29s 293ms/step - loss: 0.3820 - acc: 0.8300 - val_loss: 0.4627 - val_acc: 0.7830\n",
            "Epoch 69/100\n",
            "100/100 [==============================] - 32s 315ms/step - loss: 0.3893 - acc: 0.8284 - val_loss: 0.4012 - val_acc: 0.8270\n",
            "Epoch 70/100\n",
            "100/100 [==============================] - 30s 297ms/step - loss: 0.3841 - acc: 0.8303 - val_loss: 0.5461 - val_acc: 0.7630\n",
            "Epoch 71/100\n",
            "100/100 [==============================] - 31s 305ms/step - loss: 0.3759 - acc: 0.8297 - val_loss: 0.4487 - val_acc: 0.7920\n",
            "Epoch 72/100\n",
            "100/100 [==============================] - 30s 301ms/step - loss: 0.3700 - acc: 0.8328 - val_loss: 0.4963 - val_acc: 0.7890\n",
            "Epoch 73/100\n",
            "100/100 [==============================] - 30s 296ms/step - loss: 0.3812 - acc: 0.8331 - val_loss: 0.4343 - val_acc: 0.8120\n",
            "Epoch 74/100\n",
            "100/100 [==============================] - 31s 309ms/step - loss: 0.3707 - acc: 0.8284 - val_loss: 0.4548 - val_acc: 0.7960\n",
            "Epoch 75/100\n",
            "100/100 [==============================] - 30s 301ms/step - loss: 0.3860 - acc: 0.8284 - val_loss: 0.3862 - val_acc: 0.8350\n",
            "Epoch 76/100\n",
            "100/100 [==============================] - 30s 298ms/step - loss: 0.3569 - acc: 0.8428 - val_loss: 0.4509 - val_acc: 0.7980\n",
            "Epoch 77/100\n",
            "100/100 [==============================] - 30s 303ms/step - loss: 0.3759 - acc: 0.8287 - val_loss: 0.4340 - val_acc: 0.8060\n",
            "Epoch 78/100\n",
            "100/100 [==============================] - 30s 299ms/step - loss: 0.3528 - acc: 0.8422 - val_loss: 0.4016 - val_acc: 0.8250\n",
            "Epoch 79/100\n",
            "100/100 [==============================] - 30s 299ms/step - loss: 0.3697 - acc: 0.8356 - val_loss: 0.4082 - val_acc: 0.8210\n",
            "Epoch 80/100\n",
            "100/100 [==============================] - 29s 289ms/step - loss: 0.3634 - acc: 0.8384 - val_loss: 0.3899 - val_acc: 0.8310\n",
            "Epoch 81/100\n",
            "100/100 [==============================] - 32s 320ms/step - loss: 0.3825 - acc: 0.8253 - val_loss: 0.4035 - val_acc: 0.8240\n",
            "Epoch 82/100\n",
            "100/100 [==============================] - 30s 299ms/step - loss: 0.3662 - acc: 0.8369 - val_loss: 0.4180 - val_acc: 0.8210\n",
            "Epoch 83/100\n",
            "100/100 [==============================] - 31s 315ms/step - loss: 0.3607 - acc: 0.8394 - val_loss: 0.3978 - val_acc: 0.8250\n",
            "Epoch 84/100\n",
            "100/100 [==============================] - 32s 317ms/step - loss: 0.3480 - acc: 0.8438 - val_loss: 0.4209 - val_acc: 0.8080\n",
            "Epoch 85/100\n",
            "100/100 [==============================] - 30s 297ms/step - loss: 0.3593 - acc: 0.8481 - val_loss: 0.4486 - val_acc: 0.7870\n",
            "Epoch 86/100\n",
            "100/100 [==============================] - 32s 321ms/step - loss: 0.3573 - acc: 0.8497 - val_loss: 0.3965 - val_acc: 0.8280\n",
            "Epoch 87/100\n",
            "100/100 [==============================] - 30s 304ms/step - loss: 0.3525 - acc: 0.8419 - val_loss: 0.4482 - val_acc: 0.8080\n",
            "Epoch 88/100\n",
            "100/100 [==============================] - 30s 304ms/step - loss: 0.3625 - acc: 0.8381 - val_loss: 0.4316 - val_acc: 0.8130\n",
            "Epoch 89/100\n",
            "100/100 [==============================] - 31s 309ms/step - loss: 0.3591 - acc: 0.8381 - val_loss: 0.3900 - val_acc: 0.8400\n",
            "Epoch 90/100\n",
            "100/100 [==============================] - 31s 306ms/step - loss: 0.3385 - acc: 0.8531 - val_loss: 0.5074 - val_acc: 0.7830\n",
            "Epoch 91/100\n",
            "100/100 [==============================] - 30s 300ms/step - loss: 0.3418 - acc: 0.8503 - val_loss: 0.4152 - val_acc: 0.8260\n",
            "Epoch 92/100\n",
            "100/100 [==============================] - 32s 321ms/step - loss: 0.3388 - acc: 0.8569 - val_loss: 0.3942 - val_acc: 0.8310\n",
            "Epoch 93/100\n",
            "100/100 [==============================] - 30s 303ms/step - loss: 0.3374 - acc: 0.8550 - val_loss: 0.4563 - val_acc: 0.8100\n",
            "Epoch 94/100\n",
            "100/100 [==============================] - 30s 303ms/step - loss: 0.3375 - acc: 0.8519 - val_loss: 0.4054 - val_acc: 0.8350\n",
            "Epoch 95/100\n",
            "100/100 [==============================] - 31s 306ms/step - loss: 0.3420 - acc: 0.8550 - val_loss: 0.4131 - val_acc: 0.8320\n",
            "Epoch 96/100\n",
            "100/100 [==============================] - 30s 305ms/step - loss: 0.3300 - acc: 0.8553 - val_loss: 0.4063 - val_acc: 0.8190\n",
            "Epoch 97/100\n",
            "100/100 [==============================] - 29s 287ms/step - loss: 0.3321 - acc: 0.8516 - val_loss: 0.4438 - val_acc: 0.8130\n",
            "Epoch 98/100\n",
            "100/100 [==============================] - 32s 322ms/step - loss: 0.3271 - acc: 0.8538 - val_loss: 0.4307 - val_acc: 0.8270\n",
            "Epoch 99/100\n",
            "100/100 [==============================] - 30s 301ms/step - loss: 0.3315 - acc: 0.8550 - val_loss: 0.4086 - val_acc: 0.8350\n",
            "Epoch 100/100\n",
            "100/100 [==============================] - 29s 294ms/step - loss: 0.3183 - acc: 0.8619 - val_loss: 0.4004 - val_acc: 0.8210\n",
            "Test Accuracy 0.809\n",
            "Test Loss 0.427\n"
          ],
          "name": "stdout"
        }
      ]
    },
    {
      "cell_type": "code",
      "metadata": {
        "id": "9TRsd91qxhuc",
        "colab_type": "code",
        "outputId": "8167d83d-b4ef-43e5-abd6-93c1f3e875ed",
        "colab": {
          "base_uri": "https://localhost:8080/",
          "height": 51
        }
      },
      "source": [
        "test_loss, test_acc = model_aug.evaluate_generator(test_gen, steps=50)\n",
        "print('Test Accuracy {:.3f}'.format(test_acc))\n",
        "print('Test Loss {:.3f}'.format(test_loss))"
      ],
      "execution_count": 0,
      "outputs": [
        {
          "output_type": "stream",
          "text": [
            "Test Accuracy 0.809\n",
            "Test Loss 0.427\n"
          ],
          "name": "stdout"
        }
      ]
    },
    {
      "cell_type": "code",
      "metadata": {
        "id": "Xv_6RF0UyF5y",
        "colab_type": "code",
        "outputId": "261e415d-c100-4557-b012-5a5bef0c5e5c",
        "colab": {
          "base_uri": "https://localhost:8080/",
          "height": 545
        }
      },
      "source": [
        "acc = history.history['acc']\n",
        "val_acc = history.history['val_acc']\n",
        "\n",
        "loss = history.history['loss']\n",
        "val_loss = history.history['val_loss']\n",
        "\n",
        "epochs = range(1, len(acc) + 1)\n",
        "\n",
        "plt.plot(epochs, acc, 'bo', label='Train Acc')\n",
        "plt.plot(epochs, val_acc, 'b', label='Validation Acc')\n",
        "plt.title('Training & Validation Accuracy')\n",
        "plt.legend()\n",
        "plt.figure()\n",
        "\n",
        "plt.plot(epochs, loss, 'bo', label='Train Loss')\n",
        "plt.plot(epochs, val_loss, 'b', label='Validation Loss')\n",
        "plt.title('Training & Validation Loss')\n",
        "plt.legend()\n",
        "plt.show()"
      ],
      "execution_count": 0,
      "outputs": [
        {
          "output_type": "display_data",
          "data": {
            "image/png": "[encoded data removed]",
            "text/plain": [
              "<Figure size 432x288 with 1 Axes>"
            ]
          },
          "metadata": {
            "tags": []
          }
        },
        {
          "output_type": "display_data",
          "data": {
            "image/png": "[encoded data removed]",
            "text/plain": [
              "<Figure size 432x288 with 1 Axes>"
            ]
          },
          "metadata": {
            "tags": []
          }
        }
      ]
    },
    {
      "cell_type": "markdown",
      "metadata": {
        "id": "WIEy6dIoOa2r",
        "colab_type": "text"
      },
      "source": [
        "# Takeaways\n",
        "* Even on this small net, use a GPU\n",
        "* The data is small, you'll be fighting overfitting\n",
        "* A convnet trained from scratch on a dataset will perform well\n",
        "* There are additional techniques to continue improving:\n",
        "  * Data Augmentation\n",
        "  * Reuse Existing Convnet\n",
        "  * Fine Tuning Existing Convnet\n",
        "* Got a 10% improvement in test accuracy with augmenting and using dropout\n",
        "* Could continue to tune adding more layers / dropout"
      ]
    },
    {
      "cell_type": "code",
      "metadata": {
        "id": "xD8UaOXjWXRi",
        "colab_type": "code",
        "colab": {}
      },
      "source": [
        ""
      ],
      "execution_count": 0,
      "outputs": []
    }
  ]
}