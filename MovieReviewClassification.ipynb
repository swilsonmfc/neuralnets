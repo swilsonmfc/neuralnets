{
  "nbformat": 4,
  "nbformat_minor": 0,
  "metadata": {
    "colab": {
      "name": "MovieReviewClassification.ipynb",
      "version": "0.3.2",
      "provenance": [],
      "collapsed_sections": [],
      "toc_visible": true,
      "include_colab_link": true
    },
    "kernelspec": {
      "name": "python3",
      "display_name": "Python 3"
    }
  },
  "cells": [
    {
      "cell_type": "markdown",
      "metadata": {
        "id": "view-in-github",
        "colab_type": "text"
      },
      "source": [
        "<a href=\"https://colab.research.google.com/github/swilsonmfc/DeepLearning/blob/master/MovieReviewClassification.ipynb\" target=\"_parent\"><img src=\"https://colab.research.google.com/assets/colab-badge.svg\" alt=\"Open In Colab\"/></a>"
      ]
    },
    {
      "cell_type": "markdown",
      "metadata": {
        "id": "f8VTuXBFQmvS",
        "colab_type": "text"
      },
      "source": [
        "# Setup\n",
        "* Data prepackaged with Keras\n",
        "* IMDB Reviews\n",
        "* Binary Classification\n",
        "* Cross-Entropy Loss\n",
        "* Two hidden dense layers with relu activation\n",
        "* Final layer sigmoid activation\n",
        "* Use train / validation plots to decide number of epochs\n",
        "* Report test metrics on final model"
      ]
    },
    {
      "cell_type": "code",
      "metadata": {
        "id": "hZLRVN60EItt",
        "colab_type": "code",
        "colab": {}
      },
      "source": [
        "import keras\n",
        "from keras import models\n",
        "from keras import layers\n",
        "from keras import losses\n",
        "from keras import metrics\n",
        "from keras import optimizers\n",
        "\n",
        "import numpy as np\n",
        "import matplotlib.pyplot as plt\n",
        "\n",
        "from keras.datasets import imdb"
      ],
      "execution_count": 0,
      "outputs": []
    },
    {
      "cell_type": "code",
      "metadata": {
        "id": "NvoouVtBEOYI",
        "colab_type": "code",
        "colab": {}
      },
      "source": [
        "[train_data, train_label], [test_data, test_label] = imdb.load_data(num_words=10000)"
      ],
      "execution_count": 0,
      "outputs": []
    },
    {
      "cell_type": "markdown",
      "metadata": {
        "id": "4pRgy-aTWh6D",
        "colab_type": "text"
      },
      "source": [
        "# Examine Data"
      ]
    },
    {
      "cell_type": "code",
      "metadata": {
        "id": "H05WRwLDE_pO",
        "colab_type": "code",
        "colab": {
          "base_uri": "https://localhost:8080/",
          "height": 34
        },
        "outputId": "aa784184-578d-479f-eeab-44ff8c069d8e"
      },
      "source": [
        "max([max(sequence) for sequence in train_data])"
      ],
      "execution_count": 37,
      "outputs": [
        {
          "output_type": "execute_result",
          "data": {
            "text/plain": [
              "9999"
            ]
          },
          "metadata": {
            "tags": []
          },
          "execution_count": 37
        }
      ]
    },
    {
      "cell_type": "code",
      "metadata": {
        "id": "HdoZw1__FLAQ",
        "colab_type": "code",
        "colab": {}
      },
      "source": [
        "word_index = imdb.get_word_index()\n",
        "reverse_word_index = dict([(value, key) for (key, value) in word_index.items()])\n",
        "decoded = ' '.join([reverse_word_index.get(i - 3, '?') for i in train_data[0]])"
      ],
      "execution_count": 0,
      "outputs": []
    },
    {
      "cell_type": "code",
      "metadata": {
        "id": "yic3V_CaFl36",
        "colab_type": "code",
        "colab": {
          "base_uri": "https://localhost:8080/",
          "height": 54
        },
        "outputId": "50be6828-d7e8-4526-8ad7-128cfdab0948"
      },
      "source": [
        "decoded"
      ],
      "execution_count": 5,
      "outputs": [
        {
          "output_type": "execute_result",
          "data": {
            "text/plain": [
              "\"? this film was just brilliant casting location scenery story direction everyone's really suited the part they played and you could just imagine being there robert ? is an amazing actor and now the same being director ? father came from the same scottish island as myself so i loved the fact there was a real connection with this film the witty remarks throughout the film were great it was just brilliant so much that i bought the film as soon as it was released for ? and would recommend it to everyone to watch and the fly fishing was amazing really cried at the end it was so sad and you know what they say if you cry at a film it must have been good and this definitely was also ? to the two little boy's that played the ? of norman and paul they were just brilliant children are often left out of the ? list i think because the stars that play them all grown up are such a big profile for the whole film but these children are amazing and should be praised for what they have done don't you think the whole story was so lovely because it was true and was someone's life after all that was shared with us all\""
            ]
          },
          "metadata": {
            "tags": []
          },
          "execution_count": 5
        }
      ]
    },
    {
      "cell_type": "markdown",
      "metadata": {
        "id": "N45_vOnkQqsH",
        "colab_type": "text"
      },
      "source": [
        "# Train & Test Sets"
      ]
    },
    {
      "cell_type": "code",
      "metadata": {
        "id": "JEGkiVoJFrQm",
        "colab_type": "code",
        "colab": {}
      },
      "source": [
        "def vectorize_sequences(sequences, dimensions=10000):\n",
        "  results = np.zeros((len(sequences), dimensions))\n",
        "  for i, sequence in enumerate(sequences):\n",
        "    results[i, sequence] = 1\n",
        "  return results\n",
        "\n",
        "X_train = vectorize_sequences(train_data)\n",
        "X_test  = vectorize_sequences(test_data)\n",
        "\n",
        "y_train = np.array(train_label).astype('float32')\n",
        "y_test  = np.array(test_label).astype('float32')"
      ],
      "execution_count": 0,
      "outputs": []
    },
    {
      "cell_type": "markdown",
      "metadata": {
        "id": "p2RftQmvQf9q",
        "colab_type": "text"
      },
      "source": [
        "# Training & Validation Sets"
      ]
    },
    {
      "cell_type": "code",
      "metadata": {
        "id": "rDOooSSEMRq7",
        "colab_type": "code",
        "colab": {}
      },
      "source": [
        "X_val = X_train[:10000]\n",
        "X_train_part = X_train[10000:]\n",
        "\n",
        "y_val = y_train[:10000]\n",
        "y_train_part = y_train[10000:]"
      ],
      "execution_count": 0,
      "outputs": []
    },
    {
      "cell_type": "markdown",
      "metadata": {
        "id": "k3LUFFMSQwjV",
        "colab_type": "text"
      },
      "source": [
        "# Define Model"
      ]
    },
    {
      "cell_type": "code",
      "metadata": {
        "id": "DV0mIS82KfRw",
        "colab_type": "code",
        "colab": {}
      },
      "source": [
        "model = models.Sequential()\n",
        "model.add(layers.Dense(16, activation='relu', input_shape=(10000, )))\n",
        "model.add(layers.Dense(16, activation='relu'))\n",
        "model.add(layers.Dense(1, activation='sigmoid'))"
      ],
      "execution_count": 0,
      "outputs": []
    },
    {
      "cell_type": "markdown",
      "metadata": {
        "id": "nJnHOmdNQjI1",
        "colab_type": "text"
      },
      "source": [
        "# Compile & Fit Model"
      ]
    },
    {
      "cell_type": "code",
      "metadata": {
        "id": "FHpSEv2BMhkh",
        "colab_type": "code",
        "colab": {
          "base_uri": "https://localhost:8080/",
          "height": 768
        },
        "outputId": "e202bfe0-8b81-4110-b2e4-cfc8d7b2fca7"
      },
      "source": [
        "model.compile(optimizer=optimizers.RMSprop(lr=0.001),\n",
        "            loss=losses.binary_crossentropy,\n",
        "            metrics=[metrics.binary_accuracy])\n",
        "\n",
        "history = model.fit(X_train_part,\n",
        "                   y_train_part,\n",
        "                   epochs=20,\n",
        "                   batch_size=512,\n",
        "                   validation_data=[X_val, y_val])"
      ],
      "execution_count": 24,
      "outputs": [
        {
          "output_type": "stream",
          "text": [
            "WARNING:tensorflow:From /usr/local/lib/python3.6/dist-packages/keras/backend/tensorflow_backend.py:1033: The name tf.assign_add is deprecated. Please use tf.compat.v1.assign_add instead.\n",
            "\n",
            "Train on 15000 samples, validate on 10000 samples\n",
            "Epoch 1/20\n",
            "15000/15000 [==============================] - 5s 304us/step - loss: 0.5177 - binary_accuracy: 0.7749 - val_loss: 0.3777 - val_binary_accuracy: 0.8773\n",
            "Epoch 2/20\n",
            "15000/15000 [==============================] - 3s 177us/step - loss: 0.3003 - binary_accuracy: 0.9019 - val_loss: 0.3003 - val_binary_accuracy: 0.8846\n",
            "Epoch 3/20\n",
            "15000/15000 [==============================] - 3s 187us/step - loss: 0.2186 - binary_accuracy: 0.9277 - val_loss: 0.2814 - val_binary_accuracy: 0.8915\n",
            "Epoch 4/20\n",
            "15000/15000 [==============================] - 3s 184us/step - loss: 0.1708 - binary_accuracy: 0.9429 - val_loss: 0.2865 - val_binary_accuracy: 0.8872\n",
            "Epoch 5/20\n",
            "15000/15000 [==============================] - 3s 180us/step - loss: 0.1360 - binary_accuracy: 0.9563 - val_loss: 0.3417 - val_binary_accuracy: 0.8656\n",
            "Epoch 6/20\n",
            "15000/15000 [==============================] - 3s 186us/step - loss: 0.1095 - binary_accuracy: 0.9669 - val_loss: 0.3117 - val_binary_accuracy: 0.8809\n",
            "Epoch 7/20\n",
            "15000/15000 [==============================] - 3s 178us/step - loss: 0.0935 - binary_accuracy: 0.9723 - val_loss: 0.3182 - val_binary_accuracy: 0.8832\n",
            "Epoch 8/20\n",
            "15000/15000 [==============================] - 3s 181us/step - loss: 0.0743 - binary_accuracy: 0.9800 - val_loss: 0.3602 - val_binary_accuracy: 0.8751\n",
            "Epoch 9/20\n",
            "15000/15000 [==============================] - 3s 177us/step - loss: 0.0621 - binary_accuracy: 0.9842 - val_loss: 0.3606 - val_binary_accuracy: 0.8773\n",
            "Epoch 10/20\n",
            "15000/15000 [==============================] - 3s 192us/step - loss: 0.0465 - binary_accuracy: 0.9898 - val_loss: 0.3868 - val_binary_accuracy: 0.8755\n",
            "Epoch 11/20\n",
            "15000/15000 [==============================] - 3s 173us/step - loss: 0.0406 - binary_accuracy: 0.9912 - val_loss: 0.4190 - val_binary_accuracy: 0.8759\n",
            "Epoch 12/20\n",
            "15000/15000 [==============================] - 3s 181us/step - loss: 0.0327 - binary_accuracy: 0.9922 - val_loss: 0.4462 - val_binary_accuracy: 0.8723\n",
            "Epoch 13/20\n",
            "15000/15000 [==============================] - 3s 180us/step - loss: 0.0248 - binary_accuracy: 0.9951 - val_loss: 0.4728 - val_binary_accuracy: 0.8723\n",
            "Epoch 14/20\n",
            "15000/15000 [==============================] - 3s 186us/step - loss: 0.0195 - binary_accuracy: 0.9965 - val_loss: 0.5270 - val_binary_accuracy: 0.8661\n",
            "Epoch 15/20\n",
            "15000/15000 [==============================] - 3s 184us/step - loss: 0.0149 - binary_accuracy: 0.9979 - val_loss: 0.5405 - val_binary_accuracy: 0.8691\n",
            "Epoch 16/20\n",
            "15000/15000 [==============================] - 3s 175us/step - loss: 0.0125 - binary_accuracy: 0.9982 - val_loss: 0.5654 - val_binary_accuracy: 0.8698\n",
            "Epoch 17/20\n",
            "15000/15000 [==============================] - 3s 172us/step - loss: 0.0107 - binary_accuracy: 0.9985 - val_loss: 0.5909 - val_binary_accuracy: 0.8699\n",
            "Epoch 18/20\n",
            "15000/15000 [==============================] - 3s 185us/step - loss: 0.0051 - binary_accuracy: 0.9998 - val_loss: 0.6209 - val_binary_accuracy: 0.8685\n",
            "Epoch 19/20\n",
            "15000/15000 [==============================] - 3s 183us/step - loss: 0.0092 - binary_accuracy: 0.9979 - val_loss: 0.6490 - val_binary_accuracy: 0.8673\n",
            "Epoch 20/20\n",
            "15000/15000 [==============================] - 3s 185us/step - loss: 0.0029 - binary_accuracy: 0.9999 - val_loss: 0.6786 - val_binary_accuracy: 0.8663\n"
          ],
          "name": "stdout"
        }
      ]
    },
    {
      "cell_type": "markdown",
      "metadata": {
        "id": "tYh4ncBxPYbf",
        "colab_type": "text"
      },
      "source": [
        "# Plot Training & Validation Loss"
      ]
    },
    {
      "cell_type": "code",
      "metadata": {
        "id": "4MFpwxhqM0Pe",
        "colab_type": "code",
        "colab": {
          "base_uri": "https://localhost:8080/",
          "height": 281
        },
        "outputId": "68148c4d-47d3-48cc-af5e-2742fa77b768"
      },
      "source": [
        "history_dict = history.history\n",
        "loss_values = history_dict['loss']\n",
        "epochs = range(1, len(loss_values) + 1)\n",
        "val_loss_values = history_dict['val_loss']\n",
        "\n",
        "plt.plot(epochs, loss_values, 'bo', label='Training Loss')\n",
        "plt.plot(epochs, val_loss_values, 'b-', label='Validation Loss')\n",
        "plt.title('Training - Validation Loss')\n",
        "plt.xlabel=('Epochs')\n",
        "plt.ylabel=('Loss')\n",
        "plt.legend()\n",
        "plt.show()\n"
      ],
      "execution_count": 28,
      "outputs": [
        {
          "output_type": "display_data",
          "data": {
            "image/png": "[encoded data removed]",
            "text/plain": [
              "<Figure size 432x288 with 1 Axes>"
            ]
          },
          "metadata": {
            "tags": []
          }
        }
      ]
    },
    {
      "cell_type": "markdown",
      "metadata": {
        "id": "OzsWDtKGPie8",
        "colab_type": "text"
      },
      "source": [
        "# Plot Training & Validation Accuracy"
      ]
    },
    {
      "cell_type": "code",
      "metadata": {
        "id": "qsG4IyiaNMX3",
        "colab_type": "code",
        "colab": {
          "base_uri": "https://localhost:8080/",
          "height": 281
        },
        "outputId": "4ceb05b9-7354-4bfd-b02f-a552ce09573e"
      },
      "source": [
        "plt.clf()\n",
        "acc = history_dict['binary_accuracy']\n",
        "val_acc = history_dict['val_binary_accuracy']\n",
        "plt.plot(epochs, acc, 'bo', label='Training Acc')\n",
        "plt.plot(epochs, val_acc, 'b-', label='Validation Acc')\n",
        "plt.title('Training - Validation Accuracy')\n",
        "plt.xlabel=('Epochs')\n",
        "plt.ylabel=('Accuracy')\n",
        "plt.legend()\n",
        "plt.show()"
      ],
      "execution_count": 32,
      "outputs": [
        {
          "output_type": "display_data",
          "data": {
            "image/png": "[encoded data removed]",
            "text/plain": [
              "<Figure size 432x288 with 1 Axes>"
            ]
          },
          "metadata": {
            "tags": []
          }
        }
      ]
    },
    {
      "cell_type": "markdown",
      "metadata": {
        "id": "3BZlcbUBTLVv",
        "colab_type": "text"
      },
      "source": [
        "# Limit Overfitting & Test Set\n",
        "Looks like around 4 epochs we begin to see error rate on validation begin to increase.  Let's refit the model to 4 epochs, use all the training data and look at error on our test set."
      ]
    },
    {
      "cell_type": "code",
      "metadata": {
        "id": "p01-wdhTQHtp",
        "colab_type": "code",
        "colab": {
          "base_uri": "https://localhost:8080/",
          "height": 187
        },
        "outputId": "08e9e9c4-2a00-47e5-e4af-800b832af465"
      },
      "source": [
        "model = models.Sequential()\n",
        "model.add(layers.Dense(16, activation='relu', input_shape=(10000, )))\n",
        "model.add(layers.Dense(16, activation='relu'))\n",
        "model.add(layers.Dense(1, activation='sigmoid'))\n",
        "\n",
        "model.compile(optimizer=optimizers.RMSprop(lr=0.001),\n",
        "            loss=losses.binary_crossentropy,\n",
        "            metrics=[metrics.binary_accuracy])\n",
        "\n",
        "history = model.fit(X_train,\n",
        "                   y_train,\n",
        "                   epochs=4,\n",
        "                   batch_size=512)\n",
        "\n",
        "results = model.evaluate(X_test, y_test)\n",
        "print('Loss {} Accuracy {}'.format(results[0], results[1]))"
      ],
      "execution_count": 36,
      "outputs": [
        {
          "output_type": "stream",
          "text": [
            "Epoch 1/4\n",
            "25000/25000 [==============================] - 4s 150us/step - loss: 0.4569 - binary_accuracy: 0.8210\n",
            "Epoch 2/4\n",
            "25000/25000 [==============================] - 3s 131us/step - loss: 0.2608 - binary_accuracy: 0.9100\n",
            "Epoch 3/4\n",
            "25000/25000 [==============================] - 3s 132us/step - loss: 0.2001 - binary_accuracy: 0.9284\n",
            "Epoch 4/4\n",
            "25000/25000 [==============================] - 3s 127us/step - loss: 0.1687 - binary_accuracy: 0.9409\n",
            "25000/25000 [==============================] - 4s 142us/step\n",
            "Loss 0.31602700874328615 Accuracy 0.8746\n"
          ],
          "name": "stdout"
        }
      ]
    },
    {
      "cell_type": "code",
      "metadata": {
        "id": "BQjSnGTeT3Be",
        "colab_type": "code",
        "colab": {}
      },
      "source": [
        ""
      ],
      "execution_count": 0,
      "outputs": []
    }
  ]
}