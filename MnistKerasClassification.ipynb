{
  "nbformat": 4,
  "nbformat_minor": 0,
  "metadata": {
    "colab": {
      "name": "MnistKerasClassification.ipynb",
      "provenance": [],
      "collapsed_sections": [],
      "include_colab_link": true
    },
    "kernelspec": {
      "name": "python3",
      "display_name": "Python 3"
    },
    "accelerator": "GPU"
  },
  "cells": [
    {
      "cell_type": "markdown",
      "metadata": {
        "id": "view-in-github",
        "colab_type": "text"
      },
      "source": [
        "<a href=\"https://colab.research.google.com/github/swilsonmfc/deeplearning/blob/master/MnistKerasClassification.ipynb\" target=\"_parent\"><img src=\"https://colab.research.google.com/assets/colab-badge.svg\" alt=\"Open In Colab\"/></a>"
      ]
    },
    {
      "cell_type": "markdown",
      "metadata": {
        "id": "PLjmJAcZZzmD",
        "colab_type": "text"
      },
      "source": [
        "# MNIST Classification\n",
        "* Simple convnet to classify hand writted digits"
      ]
    },
    {
      "cell_type": "code",
      "metadata": {
        "id": "vp7Z4xMAZqWA",
        "colab_type": "code",
        "outputId": "ea3ef8a5-d5ed-46d7-bdd8-d9817c5bd2f3",
        "colab": {
          "base_uri": "https://localhost:8080/",
          "height": 34
        }
      },
      "source": [
        "from keras.datasets import mnist\n",
        "\n",
        "from keras import layers\n",
        "from keras import models\n",
        "from keras import metrics\n",
        "from keras import losses\n",
        "\n",
        "from keras.utils import to_categorical"
      ],
      "execution_count": 0,
      "outputs": [
        {
          "output_type": "stream",
          "text": [
            "Using TensorFlow backend.\n"
          ],
          "name": "stderr"
        }
      ]
    },
    {
      "cell_type": "markdown",
      "metadata": {
        "id": "km-b3CBoZ4id",
        "colab_type": "text"
      },
      "source": [
        "# Data"
      ]
    },
    {
      "cell_type": "code",
      "metadata": {
        "id": "0WzBQMy1ZqNl",
        "colab_type": "code",
        "outputId": "51540a32-b185-44e1-e049-d2344c719468",
        "colab": {
          "base_uri": "https://localhost:8080/",
          "height": 51
        }
      },
      "source": [
        "[train_img, train_labels], [test_img, test_labels] = mnist.load_data()\n",
        "train_img = train_img.reshape((60000, 28, 28, 1))\n",
        "train_img = train_img.astype('float32') / 255\n",
        "\n",
        "test_img = test_img.reshape((10000, 28, 28, 1))\n",
        "test_img = test_img.astype('float32') / 255\n",
        "\n",
        "train_labels = to_categorical(train_labels)\n",
        "test_labels  = to_categorical(test_labels)"
      ],
      "execution_count": 0,
      "outputs": [
        {
          "output_type": "stream",
          "text": [
            "Downloading data from https://s3.amazonaws.com/img-datasets/mnist.npz\n",
            "11493376/11490434 [==============================] - 1s 0us/step\n"
          ],
          "name": "stdout"
        }
      ]
    },
    {
      "cell_type": "markdown",
      "metadata": {
        "id": "QnPizKMCavDU",
        "colab_type": "text"
      },
      "source": [
        "# Model\n",
        "* Convnet taking in tensors (img_height, img_width, img_channels)\n",
        "* For mnist these are (28, 28, 1)\n",
        "* Image height, Image width 28 X 28\n",
        "* Grey scale (1 channel)\n",
        "* By contrast color images have 3 channels (RGB)\n",
        "* To get our Convnet to output classes we:\n",
        " * Flatten our convnet\n",
        " * Pass through a dense layer\n",
        " * Output a size 10 softmax dense layer\n",
        " * The softmax gives us the probability of the image belonging to the image class 0-9"
      ]
    },
    {
      "cell_type": "code",
      "metadata": {
        "id": "p1bNHjPLa1rf",
        "colab_type": "code",
        "outputId": "f8a0559e-712b-4679-ae36-a7f5730bf324",
        "colab": {
          "base_uri": "https://localhost:8080/",
          "height": 581
        }
      },
      "source": [
        "model = models.Sequential()\n",
        "model.add(layers.Conv2D(32, (3, 3), activation='relu', input_shape=(28, 28, 1)))\n",
        "model.add(layers.MaxPooling2D(2, 2))\n",
        "model.add(layers.Conv2D(64, (3, 3), activation='relu'))\n",
        "model.add(layers.MaxPooling2D(2, 2))\n",
        "model.add(layers.Conv2D(64, (3, 3), activation='relu'))\n",
        "model.add(layers.Flatten())\n",
        "model.add(layers.Dense(64, activation='relu'))\n",
        "model.add(layers.Dense(10, activation='softmax'))\n",
        "model.summary()"
      ],
      "execution_count": 0,
      "outputs": [
        {
          "output_type": "stream",
          "text": [
            "WARNING:tensorflow:From /usr/local/lib/python3.6/dist-packages/keras/backend/tensorflow_backend.py:66: The name tf.get_default_graph is deprecated. Please use tf.compat.v1.get_default_graph instead.\n",
            "\n",
            "WARNING:tensorflow:From /usr/local/lib/python3.6/dist-packages/keras/backend/tensorflow_backend.py:541: The name tf.placeholder is deprecated. Please use tf.compat.v1.placeholder instead.\n",
            "\n",
            "WARNING:tensorflow:From /usr/local/lib/python3.6/dist-packages/keras/backend/tensorflow_backend.py:4432: The name tf.random_uniform is deprecated. Please use tf.random.uniform instead.\n",
            "\n",
            "WARNING:tensorflow:From /usr/local/lib/python3.6/dist-packages/keras/backend/tensorflow_backend.py:4267: The name tf.nn.max_pool is deprecated. Please use tf.nn.max_pool2d instead.\n",
            "\n",
            "Model: \"sequential_1\"\n",
            "_________________________________________________________________\n",
            "Layer (type)                 Output Shape              Param #   \n",
            "=================================================================\n",
            "conv2d_1 (Conv2D)            (None, 26, 26, 32)        320       \n",
            "_________________________________________________________________\n",
            "max_pooling2d_1 (MaxPooling2 (None, 13, 13, 32)        0         \n",
            "_________________________________________________________________\n",
            "conv2d_2 (Conv2D)            (None, 11, 11, 64)        18496     \n",
            "_________________________________________________________________\n",
            "max_pooling2d_2 (MaxPooling2 (None, 5, 5, 64)          0         \n",
            "_________________________________________________________________\n",
            "conv2d_3 (Conv2D)            (None, 3, 3, 64)          36928     \n",
            "_________________________________________________________________\n",
            "flatten_1 (Flatten)          (None, 576)               0         \n",
            "_________________________________________________________________\n",
            "dense_1 (Dense)              (None, 64)                36928     \n",
            "_________________________________________________________________\n",
            "dense_2 (Dense)              (None, 10)                650       \n",
            "=================================================================\n",
            "Total params: 93,322\n",
            "Trainable params: 93,322\n",
            "Non-trainable params: 0\n",
            "_________________________________________________________________\n"
          ],
          "name": "stdout"
        }
      ]
    },
    {
      "cell_type": "markdown",
      "metadata": {
        "id": "bFHpvda6cySi",
        "colab_type": "text"
      },
      "source": [
        "# Compile & Fit\n",
        "* Normally, we'd add a validation set\n",
        "* Look for our training stop point\n",
        "* Output graphs etc\n",
        "* Here we're just going to train and look at loss on test\n",
        "* Timing:\n",
        " * On a CPU ~ 5 minutes\n",
        " * On a GPU ~ 45 seconds\n",
        "* Overall we're really accurate without much effort (almost 99%)\n"
      ]
    },
    {
      "cell_type": "code",
      "metadata": {
        "id": "Sq4Mgifmc1LA",
        "colab_type": "code",
        "outputId": "43b81852-41ca-4195-d03e-1cd6f2c89528",
        "colab": {
          "base_uri": "https://localhost:8080/",
          "height": 411
        }
      },
      "source": [
        "model.compile(optimizer='rmsprop',\n",
        "             loss='categorical_crossentropy',\n",
        "             metrics=['accuracy'])\n",
        "model.fit(train_img, train_labels, epochs=5, batch_size=64)\n",
        "loss, acc = model.evaluate(test_img, test_labels)\n",
        "print('Test Loss', loss)\n",
        "print('Test Accuracy', acc)"
      ],
      "execution_count": 0,
      "outputs": [
        {
          "output_type": "stream",
          "text": [
            "WARNING:tensorflow:From /usr/local/lib/python3.6/dist-packages/keras/optimizers.py:793: The name tf.train.Optimizer is deprecated. Please use tf.compat.v1.train.Optimizer instead.\n",
            "\n",
            "WARNING:tensorflow:From /usr/local/lib/python3.6/dist-packages/keras/backend/tensorflow_backend.py:3576: The name tf.log is deprecated. Please use tf.math.log instead.\n",
            "\n",
            "WARNING:tensorflow:From /usr/local/lib/python3.6/dist-packages/tensorflow/python/ops/math_grad.py:1250: add_dispatch_support.<locals>.wrapper (from tensorflow.python.ops.array_ops) is deprecated and will be removed in a future version.\n",
            "Instructions for updating:\n",
            "Use tf.where in 2.0, which has the same broadcast rule as np.where\n",
            "WARNING:tensorflow:From /usr/local/lib/python3.6/dist-packages/keras/backend/tensorflow_backend.py:1033: The name tf.assign_add is deprecated. Please use tf.compat.v1.assign_add instead.\n",
            "\n",
            "Epoch 1/5\n",
            "60000/60000 [==============================] - 15s 257us/step - loss: 0.1734 - acc: 0.9461\n",
            "Epoch 2/5\n",
            "60000/60000 [==============================] - 9s 153us/step - loss: 0.0475 - acc: 0.9854\n",
            "Epoch 3/5\n",
            "60000/60000 [==============================] - 9s 152us/step - loss: 0.0316 - acc: 0.9901\n",
            "Epoch 4/5\n",
            "60000/60000 [==============================] - 9s 153us/step - loss: 0.0250 - acc: 0.9923\n",
            "Epoch 5/5\n",
            "60000/60000 [==============================] - 9s 153us/step - loss: 0.0184 - acc: 0.9943\n",
            "10000/10000 [==============================] - 1s 86us/step\n",
            "Test Loss 0.03472860807276611\n",
            "Test Accuracy 0.9895\n"
          ],
          "name": "stdout"
        }
      ]
    },
    {
      "cell_type": "code",
      "metadata": {
        "id": "_-bqwVVVeBfa",
        "colab_type": "code",
        "colab": {}
      },
      "source": [
        ""
      ],
      "execution_count": 0,
      "outputs": []
    }
  ]
}