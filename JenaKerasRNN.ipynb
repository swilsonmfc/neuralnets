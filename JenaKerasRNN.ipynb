{
  "nbformat": 4,
  "nbformat_minor": 0,
  "metadata": {
    "colab": {
      "name": "JenaKerasRNN.ipynb",
      "provenance": [],
      "collapsed_sections": [],
      "toc_visible": true,
      "include_colab_link": true
    },
    "kernelspec": {
      "name": "python3",
      "display_name": "Python 3"
    },
    "accelerator": "GPU"
  },
  "cells": [
    {
      "cell_type": "markdown",
      "metadata": {
        "id": "view-in-github",
        "colab_type": "text"
      },
      "source": [
        "<a href=\"https://colab.research.google.com/github/swilsonmfc/deeplearning/blob/master/JenaKerasRNN.ipynb\" target=\"_parent\"><img src=\"https://colab.research.google.com/assets/colab-badge.svg\" alt=\"Open In Colab\"/></a>"
      ]
    },
    {
      "cell_type": "markdown",
      "metadata": {
        "id": "j0S_egJ9xiBE",
        "colab_type": "text"
      },
      "source": [
        "# Temperature Dataset\n",
        "* Pull a dataset of climate data\n",
        "  * Taken from Jena, Germany from 2009-2016\n",
        "  * Observation taken ever 10 minutes\n",
        "* Attempt to predict temperature 1 day in advance\n",
        "* Use prior 10 days to predict\n",
        "* From Deep Learning with Python (Chollet)"
      ]
    },
    {
      "cell_type": "markdown",
      "metadata": {
        "id": "GBIDgpaCxyiW",
        "colab_type": "text"
      },
      "source": [
        "# Setup"
      ]
    },
    {
      "cell_type": "code",
      "metadata": {
        "id": "YDz7Kq7ix4vc",
        "colab_type": "code",
        "colab": {
          "base_uri": "https://localhost:8080/",
          "height": 97
        },
        "outputId": "b7d04667-acfd-4932-80f9-83336fba2e8a"
      },
      "source": [
        "import numpy as np\n",
        "import matplotlib.pyplot as plt\n",
        "\n",
        "from keras.models import Sequential\n",
        "from keras import layers\n",
        "from keras.optimizers import RMSprop"
      ],
      "execution_count": 2,
      "outputs": [
        {
          "output_type": "stream",
          "text": [
            "Using TensorFlow backend.\n"
          ],
          "name": "stderr"
        },
        {
          "output_type": "display_data",
          "data": {
            "text/html": [
              "<p style=\"color: red;\">\n",
              "The default version of TensorFlow in Colab will soon switch to TensorFlow 2.x.<br>\n",
              "We recommend you <a href=\"https://www.tensorflow.org/guide/migrate\" target=\"_blank\">upgrade</a> now \n",
              "or ensure your notebook will continue to use TensorFlow 1.x via the <code>%tensorflow_version 1.x</code> magic:\n",
              "<a href=\"https://colab.research.google.com/notebooks/tensorflow_version.ipynb\" target=\"_blank\">more info</a>.</p>\n"
            ],
            "text/plain": [
              "<IPython.core.display.HTML object>"
            ]
          },
          "metadata": {
            "tags": []
          }
        }
      ]
    },
    {
      "cell_type": "code",
      "metadata": {
        "id": "0rjIHCt0Pfod",
        "colab_type": "code",
        "colab": {}
      },
      "source": [
        "from tensorflow.python.util import deprecation\n",
        "deprecation._PRINT_DEPRECATION_WARNINGS = False"
      ],
      "execution_count": 0,
      "outputs": []
    },
    {
      "cell_type": "markdown",
      "metadata": {
        "id": "7vlIXy9Ix1pJ",
        "colab_type": "text"
      },
      "source": [
        "# Data"
      ]
    },
    {
      "cell_type": "code",
      "metadata": {
        "id": "Hl6OuiTRxguP",
        "colab_type": "code",
        "colab": {
          "base_uri": "https://localhost:8080/",
          "height": 238
        },
        "outputId": "3fd0f255-9d40-4870-e93d-460c34728ffc"
      },
      "source": [
        "!wget 'https://s3.amazonaws.com/keras-datasets/jena_climate_2009_2016.csv.zip'\n",
        "!unzip jena_climate_2009_2016.csv.zip"
      ],
      "execution_count": 4,
      "outputs": [
        {
          "output_type": "stream",
          "text": [
            "--2019-12-24 02:26:06--  https://s3.amazonaws.com/keras-datasets/jena_climate_2009_2016.csv.zip\n",
            "Resolving s3.amazonaws.com (s3.amazonaws.com)... 52.216.80.139\n",
            "Connecting to s3.amazonaws.com (s3.amazonaws.com)|52.216.80.139|:443... connected.\n",
            "HTTP request sent, awaiting response... 200 OK\n",
            "Length: 13568290 (13M) [application/zip]\n",
            "Saving to: ‘jena_climate_2009_2016.csv.zip’\n",
            "\n",
            "jena_climate_2009_2 100%[===================>]  12.94M  19.6MB/s    in 0.7s    \n",
            "\n",
            "2019-12-24 02:26:07 (19.6 MB/s) - ‘jena_climate_2009_2016.csv.zip’ saved [13568290/13568290]\n",
            "\n",
            "Archive:  jena_climate_2009_2016.csv.zip\n",
            "  inflating: jena_climate_2009_2016.csv  \n"
          ],
          "name": "stdout"
        }
      ]
    },
    {
      "cell_type": "code",
      "metadata": {
        "id": "0Tmr5BXs2ofw",
        "colab_type": "code",
        "colab": {
          "base_uri": "https://localhost:8080/",
          "height": 54
        },
        "outputId": "1d5b4ac4-dc01-475e-a178-191889fcb3ac"
      },
      "source": [
        "with open('jena_climate_2009_2016.csv') as f:\n",
        "  data = f.read()\n",
        "  lines = data.split('\\n')\n",
        "  header = lines[0].split(',')\n",
        "  lines = lines[1:]\n",
        "print(header)"
      ],
      "execution_count": 5,
      "outputs": [
        {
          "output_type": "stream",
          "text": [
            "['\"Date Time\"', '\"p (mbar)\"', '\"T (degC)\"', '\"Tpot (K)\"', '\"Tdew (degC)\"', '\"rh (%)\"', '\"VPmax (mbar)\"', '\"VPact (mbar)\"', '\"VPdef (mbar)\"', '\"sh (g/kg)\"', '\"H2OC (mmol/mol)\"', '\"rho (g/m**3)\"', '\"wv (m/s)\"', '\"max. wv (m/s)\"', '\"wd (deg)\"']\n"
          ],
          "name": "stdout"
        }
      ]
    },
    {
      "cell_type": "code",
      "metadata": {
        "id": "aHh8yuOc26xA",
        "colab_type": "code",
        "colab": {}
      },
      "source": [
        "fp_data = np.zeros((len(lines), len(header) - 1))\n",
        "for i, line in enumerate(lines):\n",
        "  values = [float(x) for x in line.split(',')[1:]]\n",
        "  fp_data[i, :] = values"
      ],
      "execution_count": 0,
      "outputs": []
    },
    {
      "cell_type": "markdown",
      "metadata": {
        "id": "u4GfLRx5xz2t",
        "colab_type": "text"
      },
      "source": [
        "# EDA"
      ]
    },
    {
      "cell_type": "code",
      "metadata": {
        "id": "m_E_dy3s4nvs",
        "colab_type": "code",
        "colab": {
          "base_uri": "https://localhost:8080/",
          "height": 312
        },
        "outputId": "6d37b623-8056-49f5-aac4-0b4c7e669802"
      },
      "source": [
        "temp = fp_data[:, 1] #Temp Celcius\n",
        "plt.plot(range(len(temp)), temp)\n",
        "plt.title('Temperature')\n",
        "plt.xlabel('Observation')\n",
        "plt.ylabel('Temp Celcius')"
      ],
      "execution_count": 5,
      "outputs": [
        {
          "output_type": "execute_result",
          "data": {
            "text/plain": [
              "Text(0, 0.5, 'Temp Celcius')"
            ]
          },
          "metadata": {
            "tags": []
          },
          "execution_count": 5
        },
        {
          "output_type": "display_data",
          "data": {
            "image/png": "[encoded data removed]",
            "text/plain": [
              "<Figure size 432x288 with 1 Axes>"
            ]
          },
          "metadata": {
            "tags": []
          }
        }
      ]
    },
    {
      "cell_type": "code",
      "metadata": {
        "id": "kL9wIyZ441rO",
        "colab_type": "code",
        "colab": {
          "base_uri": "https://localhost:8080/",
          "height": 312
        },
        "outputId": "8c81667d-98c9-45ed-e769-3a501c69ad6a"
      },
      "source": [
        "plt.plot(range(1440), temp[:1440])\n",
        "plt.title('Temperature')\n",
        "plt.xlabel('Observation')\n",
        "plt.ylabel('Temp Celcius')"
      ],
      "execution_count": 6,
      "outputs": [
        {
          "output_type": "execute_result",
          "data": {
            "text/plain": [
              "Text(0, 0.5, 'Temp Celcius')"
            ]
          },
          "metadata": {
            "tags": []
          },
          "execution_count": 6
        },
        {
          "output_type": "display_data",
          "data": {
            "image/png": "[encoded data removed]",
            "text/plain": [
              "<Figure size 432x288 with 1 Axes>"
            ]
          },
          "metadata": {
            "tags": []
          }
        }
      ]
    },
    {
      "cell_type": "markdown",
      "metadata": {
        "id": "BJ8wAIci53MY",
        "colab_type": "text"
      },
      "source": [
        "# Normalize Data\n",
        "* Compute means on 1st 200,000 rows\n",
        "* Compute std dev on 1st 200,000 rows\n",
        "* Center and standardize"
      ]
    },
    {
      "cell_type": "code",
      "metadata": {
        "id": "i_nvVBJ553ii",
        "colab_type": "code",
        "colab": {}
      },
      "source": [
        "colmeans = fp_data[:200000].mean(axis=0)\n",
        "fp_data -= colmeans\n",
        "colsstd = fp_data[:200000].std(axis=0)\n",
        "fp_data /= colsstd"
      ],
      "execution_count": 0,
      "outputs": []
    },
    {
      "cell_type": "markdown",
      "metadata": {
        "id": "u3EsPFqg5RqT",
        "colab_type": "text"
      },
      "source": [
        "# Generator\n",
        "Takes In:\n",
        "* Data\n",
        "* Lookback:  How many steps in past\n",
        "* Delay: How many steps in future\n",
        "* Min_Index & Max_Index: Delimit training, validation, test\n",
        "* Shuffle: Should we shuffle or in chronological order\n",
        "* Batch_size: Number of samples per batch\n",
        "* Step: Period in timesteps to sample (6 = 1/hour)"
      ]
    },
    {
      "cell_type": "code",
      "metadata": {
        "id": "aWhgzkRD5LLx",
        "colab_type": "code",
        "colab": {}
      },
      "source": [
        "def generator(data, lookback, delay, min_index, max_index, shuffle=False, bs=128, steps=6):\n",
        "  if max_index is None:\n",
        "    max_index = len(data) - delay - 1\n",
        "  i = min_index + lookback\n",
        "\n",
        "  while 1:\n",
        "    if shuffle: \n",
        "      rows = np.random.randint(min_index + lookback, max_index, size=bs)\n",
        "    else:\n",
        "      if i + bs >= max_index:\n",
        "        i = min_index + lookback\n",
        "      rows = np.arange(i, min(i + bs, max_index))\n",
        "      i += len(rows)\n",
        "    \n",
        "    samples = np.zeros((len(rows), lookback // step, data.shape[-1]))\n",
        "    targets = np.zeros((len(rows), ))\n",
        "\n",
        "    for j, row in enumerate(rows):\n",
        "      indices = range(rows[j] - lookback, rows[j], step)\n",
        "      samples[j] = data[indices]\n",
        "      targets[j] = data[rows[j] + delay][1]\n",
        "    yield samples, targets"
      ],
      "execution_count": 0,
      "outputs": []
    },
    {
      "cell_type": "markdown",
      "metadata": {
        "id": "8pgT9hBQ8DiK",
        "colab_type": "text"
      },
      "source": [
        "# Train, Test, Validation"
      ]
    },
    {
      "cell_type": "code",
      "metadata": {
        "id": "0GOYuCei8BMv",
        "colab_type": "code",
        "colab": {}
      },
      "source": [
        "lookback = 1440\n",
        "step = 6\n",
        "delay = 144\n",
        "batch_size = 128\n",
        "\n",
        "train_gen = generator(fp_data,\n",
        "                      lookback=lookback,\n",
        "                      delay=delay,\n",
        "                      min_index=0,\n",
        "                      max_index=200000,\n",
        "                      shuffle=True,\n",
        "                      steps=step,\n",
        "                      bs=batch_size)\n",
        "\n",
        "val_gen = generator(fp_data,\n",
        "                      lookback=lookback,\n",
        "                      delay=delay,\n",
        "                      min_index=200001,\n",
        "                      max_index=300000,\n",
        "                      steps=step,\n",
        "                      bs=batch_size)\n",
        "\n",
        "test_gen = generator(fp_data,\n",
        "                      lookback=lookback,\n",
        "                      delay=delay,\n",
        "                      min_index=300001,\n",
        "                      max_index=None,\n",
        "                      steps=step,\n",
        "                      bs=batch_size)\n",
        "\n",
        "val_steps  = (300000 - 200001 - lookback) // batch_size\n",
        "test_steps = (len(fp_data) - 300001 - lookback) // batch_size"
      ],
      "execution_count": 0,
      "outputs": []
    },
    {
      "cell_type": "markdown",
      "metadata": {
        "id": "XX1cfUuT87zM",
        "colab_type": "text"
      },
      "source": [
        "# Naive Baseline\n",
        "* Take today's temperature and use that as our prediction"
      ]
    },
    {
      "cell_type": "code",
      "metadata": {
        "id": "Z_jJTwOP8xVe",
        "colab_type": "code",
        "colab": {
          "base_uri": "https://localhost:8080/",
          "height": 34
        },
        "outputId": "f0ee2fa7-15a3-442e-e577-bd8f1fc05beb"
      },
      "source": [
        "def eval_naive():\n",
        "  batch_maes = []\n",
        "  for step in range(val_steps):\n",
        "    samples, targets = next(val_gen)\n",
        "    preds = samples[:, -1, 1]\n",
        "    mae = np.mean(np.abs(preds, targets))\n",
        "    batch_maes.append(mae)\n",
        "  print(np.mean(batch_maes))\n",
        "eval_naive()"
      ],
      "execution_count": 10,
      "outputs": [
        {
          "output_type": "stream",
          "text": [
            "0.7642865104804654\n"
          ],
          "name": "stdout"
        }
      ]
    },
    {
      "cell_type": "markdown",
      "metadata": {
        "id": "R0tkeXc4Cn58",
        "colab_type": "text"
      },
      "source": [
        "# Dense Model\n",
        "* Dense model will train quickly, but not expecting high performance"
      ]
    },
    {
      "cell_type": "code",
      "metadata": {
        "id": "VSuNpEITA0Bc",
        "colab_type": "code",
        "colab": {
          "base_uri": "https://localhost:8080/",
          "height": 377
        },
        "outputId": "563d61f0-f72e-4a6b-8cb2-f2298f13c689"
      },
      "source": [
        "model = Sequential()\n",
        "model.add(layers.Flatten(input_shape=(lookback // step, fp_data.shape[-1])))\n",
        "model.add(layers.Dense(32, activation='relu'))\n",
        "model.add(layers.Dense(1))\n",
        "model.summary()"
      ],
      "execution_count": 11,
      "outputs": [
        {
          "output_type": "stream",
          "text": [
            "WARNING:tensorflow:From /usr/local/lib/python3.6/dist-packages/keras/backend/tensorflow_backend.py:66: The name tf.get_default_graph is deprecated. Please use tf.compat.v1.get_default_graph instead.\n",
            "\n",
            "WARNING:tensorflow:From /usr/local/lib/python3.6/dist-packages/keras/backend/tensorflow_backend.py:541: The name tf.placeholder is deprecated. Please use tf.compat.v1.placeholder instead.\n",
            "\n",
            "WARNING:tensorflow:From /usr/local/lib/python3.6/dist-packages/keras/backend/tensorflow_backend.py:4432: The name tf.random_uniform is deprecated. Please use tf.random.uniform instead.\n",
            "\n",
            "Model: \"sequential_1\"\n",
            "_________________________________________________________________\n",
            "Layer (type)                 Output Shape              Param #   \n",
            "=================================================================\n",
            "flatten_1 (Flatten)          (None, 3360)              0         \n",
            "_________________________________________________________________\n",
            "dense_1 (Dense)              (None, 32)                107552    \n",
            "_________________________________________________________________\n",
            "dense_2 (Dense)              (None, 1)                 33        \n",
            "=================================================================\n",
            "Total params: 107,585\n",
            "Trainable params: 107,585\n",
            "Non-trainable params: 0\n",
            "_________________________________________________________________\n"
          ],
          "name": "stdout"
        }
      ]
    },
    {
      "cell_type": "code",
      "metadata": {
        "id": "8GOSzM75DEdo",
        "colab_type": "code",
        "colab": {
          "base_uri": "https://localhost:8080/",
          "height": 1000
        },
        "outputId": "4aed1573-7139-4494-9194-54802c093ace"
      },
      "source": [
        "model.compile(optimizer=RMSprop(), loss='mae')\n",
        "history = model.fit_generator(train_gen,\n",
        "                             steps_per_epoch=500,\n",
        "                             epochs=20,\n",
        "                             validation_data=val_gen,\n",
        "                             validation_steps=val_steps)"
      ],
      "execution_count": 12,
      "outputs": [
        {
          "output_type": "stream",
          "text": [
            "WARNING:tensorflow:From /usr/local/lib/python3.6/dist-packages/keras/optimizers.py:793: The name tf.train.Optimizer is deprecated. Please use tf.compat.v1.train.Optimizer instead.\n",
            "\n",
            "WARNING:tensorflow:From /usr/local/lib/python3.6/dist-packages/keras/backend/tensorflow_backend.py:1033: The name tf.assign_add is deprecated. Please use tf.compat.v1.assign_add instead.\n",
            "\n",
            "WARNING:tensorflow:From /usr/local/lib/python3.6/dist-packages/keras/backend/tensorflow_backend.py:1020: The name tf.assign is deprecated. Please use tf.compat.v1.assign instead.\n",
            "\n",
            "WARNING:tensorflow:From /usr/local/lib/python3.6/dist-packages/keras/backend/tensorflow_backend.py:3005: The name tf.Session is deprecated. Please use tf.compat.v1.Session instead.\n",
            "\n",
            "Epoch 1/20\n",
            "WARNING:tensorflow:From /usr/local/lib/python3.6/dist-packages/keras/backend/tensorflow_backend.py:190: The name tf.get_default_session is deprecated. Please use tf.compat.v1.get_default_session instead.\n",
            "\n",
            "WARNING:tensorflow:From /usr/local/lib/python3.6/dist-packages/keras/backend/tensorflow_backend.py:197: The name tf.ConfigProto is deprecated. Please use tf.compat.v1.ConfigProto instead.\n",
            "\n",
            "WARNING:tensorflow:From /usr/local/lib/python3.6/dist-packages/keras/backend/tensorflow_backend.py:207: The name tf.global_variables is deprecated. Please use tf.compat.v1.global_variables instead.\n",
            "\n",
            "WARNING:tensorflow:From /usr/local/lib/python3.6/dist-packages/keras/backend/tensorflow_backend.py:216: The name tf.is_variable_initialized is deprecated. Please use tf.compat.v1.is_variable_initialized instead.\n",
            "\n",
            "WARNING:tensorflow:From /usr/local/lib/python3.6/dist-packages/keras/backend/tensorflow_backend.py:223: The name tf.variables_initializer is deprecated. Please use tf.compat.v1.variables_initializer instead.\n",
            "\n",
            "500/500 [==============================] - 21s 41ms/step - loss: 1.6179 - val_loss: 0.9395\n",
            "Epoch 2/20\n",
            "500/500 [==============================] - 11s 23ms/step - loss: 0.5722 - val_loss: 0.4288\n",
            "Epoch 3/20\n",
            "500/500 [==============================] - 11s 23ms/step - loss: 0.3175 - val_loss: 0.3274\n",
            "Epoch 4/20\n",
            "500/500 [==============================] - 11s 23ms/step - loss: 0.2719 - val_loss: 0.3270\n",
            "Epoch 5/20\n",
            "500/500 [==============================] - 11s 23ms/step - loss: 0.2548 - val_loss: 0.3412\n",
            "Epoch 6/20\n",
            "500/500 [==============================] - 11s 23ms/step - loss: 0.2442 - val_loss: 0.3125\n",
            "Epoch 7/20\n",
            "500/500 [==============================] - 11s 23ms/step - loss: 0.2341 - val_loss: 0.3222\n",
            "Epoch 8/20\n",
            "500/500 [==============================] - 11s 22ms/step - loss: 0.2300 - val_loss: 0.3206\n",
            "Epoch 9/20\n",
            "500/500 [==============================] - 11s 23ms/step - loss: 0.2251 - val_loss: 0.3108\n",
            "Epoch 10/20\n",
            "500/500 [==============================] - 11s 23ms/step - loss: 0.2196 - val_loss: 0.3325\n",
            "Epoch 11/20\n",
            "500/500 [==============================] - 11s 22ms/step - loss: 0.2176 - val_loss: 0.3339\n",
            "Epoch 12/20\n",
            "500/500 [==============================] - 11s 22ms/step - loss: 0.2159 - val_loss: 0.3624\n",
            "Epoch 13/20\n",
            "500/500 [==============================] - 11s 23ms/step - loss: 0.2108 - val_loss: 0.3369\n",
            "Epoch 14/20\n",
            "500/500 [==============================] - 12s 23ms/step - loss: 0.2087 - val_loss: 0.3455\n",
            "Epoch 15/20\n",
            "500/500 [==============================] - 11s 23ms/step - loss: 0.2062 - val_loss: 0.3188\n",
            "Epoch 16/20\n",
            "500/500 [==============================] - 11s 22ms/step - loss: 0.2048 - val_loss: 0.3462\n",
            "Epoch 17/20\n",
            "500/500 [==============================] - 11s 23ms/step - loss: 0.2026 - val_loss: 0.3519\n",
            "Epoch 18/20\n",
            "500/500 [==============================] - 11s 23ms/step - loss: 0.2003 - val_loss: 0.3514\n",
            "Epoch 19/20\n",
            "500/500 [==============================] - 11s 23ms/step - loss: 0.2012 - val_loss: 0.3738\n",
            "Epoch 20/20\n",
            "500/500 [==============================] - 11s 23ms/step - loss: 0.1986 - val_loss: 0.3466\n"
          ],
          "name": "stdout"
        }
      ]
    },
    {
      "cell_type": "markdown",
      "metadata": {
        "id": "JQyinsPCESWu",
        "colab_type": "text"
      },
      "source": [
        "## Loss"
      ]
    },
    {
      "cell_type": "code",
      "metadata": {
        "id": "wd03wiCQA5M-",
        "colab_type": "code",
        "colab": {
          "base_uri": "https://localhost:8080/",
          "height": 298
        },
        "outputId": "3acf780b-c31e-485d-d470-3518742e3465"
      },
      "source": [
        "plt.plot(history.history['loss'], label='Train Loss')\n",
        "plt.plot(history.history['val_loss'], label='Validation Loss')\n",
        "plt.title('Loss - Dense')"
      ],
      "execution_count": 16,
      "outputs": [
        {
          "output_type": "execute_result",
          "data": {
            "text/plain": [
              "Text(0.5, 1.0, 'Loss - Dense')"
            ]
          },
          "metadata": {
            "tags": []
          },
          "execution_count": 16
        },
        {
          "output_type": "display_data",
          "data": {
            "image/png": "[encoded data removed]",
            "text/plain": [
              "<Figure size 432x288 with 1 Axes>"
            ]
          },
          "metadata": {
            "tags": []
          }
        }
      ]
    },
    {
      "cell_type": "markdown",
      "metadata": {
        "id": "HtySaqOXEWFP",
        "colab_type": "text"
      },
      "source": [
        "# RNN"
      ]
    },
    {
      "cell_type": "code",
      "metadata": {
        "id": "9DBQJnOuDfTb",
        "colab_type": "code",
        "colab": {
          "base_uri": "https://localhost:8080/",
          "height": 221
        },
        "outputId": "53d94fd4-e1ea-418a-baf8-edba330b73c0"
      },
      "source": [
        "modelRNN = Sequential()\n",
        "modelRNN.add(layers.GRU(32, input_shape=(None, fp_data.shape[-1])))\n",
        "modelRNN.add(layers.Dense(1))\n",
        "modelRNN.summary()"
      ],
      "execution_count": 19,
      "outputs": [
        {
          "output_type": "stream",
          "text": [
            "Model: \"sequential_3\"\n",
            "_________________________________________________________________\n",
            "Layer (type)                 Output Shape              Param #   \n",
            "=================================================================\n",
            "gru_2 (GRU)                  (None, 32)                4512      \n",
            "_________________________________________________________________\n",
            "dense_4 (Dense)              (None, 1)                 33        \n",
            "=================================================================\n",
            "Total params: 4,545\n",
            "Trainable params: 4,545\n",
            "Non-trainable params: 0\n",
            "_________________________________________________________________\n"
          ],
          "name": "stdout"
        }
      ]
    },
    {
      "cell_type": "code",
      "metadata": {
        "id": "ipHOsLLYFXk7",
        "colab_type": "code",
        "colab": {
          "base_uri": "https://localhost:8080/",
          "height": 697
        },
        "outputId": "f1dfaa0d-605c-4cc5-bf7a-524b32754f61"
      },
      "source": [
        "modelRNN.compile(optimizer=RMSprop(), loss='mae')\n",
        "historyRNN = modelRNN.fit_generator(train_gen,\n",
        "                             steps_per_epoch=500,\n",
        "                             epochs=20,\n",
        "                             validation_data=val_gen,\n",
        "                             validation_steps=val_steps)"
      ],
      "execution_count": 20,
      "outputs": [
        {
          "output_type": "stream",
          "text": [
            "Epoch 1/20\n",
            "500/500 [==============================] - 153s 305ms/step - loss: 0.2973 - val_loss: 0.2708\n",
            "Epoch 2/20\n",
            "500/500 [==============================] - 151s 301ms/step - loss: 0.2825 - val_loss: 0.2681\n",
            "Epoch 3/20\n",
            "500/500 [==============================] - 151s 303ms/step - loss: 0.2765 - val_loss: 0.2689\n",
            "Epoch 4/20\n",
            "500/500 [==============================] - 149s 298ms/step - loss: 0.2727 - val_loss: 0.2653\n",
            "Epoch 5/20\n",
            "500/500 [==============================] - 150s 299ms/step - loss: 0.2683 - val_loss: 0.2668\n",
            "Epoch 6/20\n",
            "500/500 [==============================] - 149s 299ms/step - loss: 0.2655 - val_loss: 0.2633\n",
            "Epoch 7/20\n",
            "500/500 [==============================] - 149s 299ms/step - loss: 0.2597 - val_loss: 0.2671\n",
            "Epoch 8/20\n",
            "500/500 [==============================] - 150s 299ms/step - loss: 0.2574 - val_loss: 0.2663\n",
            "Epoch 9/20\n",
            "500/500 [==============================] - 150s 300ms/step - loss: 0.2525 - val_loss: 0.2657\n",
            "Epoch 10/20\n",
            "500/500 [==============================] - 150s 300ms/step - loss: 0.2496 - val_loss: 0.2649\n",
            "Epoch 11/20\n",
            "500/500 [==============================] - 149s 298ms/step - loss: 0.2448 - val_loss: 0.2670\n",
            "Epoch 12/20\n",
            "500/500 [==============================] - 150s 301ms/step - loss: 0.2417 - val_loss: 0.2737\n",
            "Epoch 13/20\n",
            "500/500 [==============================] - 149s 299ms/step - loss: 0.2375 - val_loss: 0.2731\n",
            "Epoch 14/20\n",
            "500/500 [==============================] - 152s 303ms/step - loss: 0.2327 - val_loss: 0.2786\n",
            "Epoch 15/20\n",
            "500/500 [==============================] - 152s 303ms/step - loss: 0.2293 - val_loss: 0.2855\n",
            "Epoch 16/20\n",
            "500/500 [==============================] - 153s 306ms/step - loss: 0.2252 - val_loss: 0.2815\n",
            "Epoch 17/20\n",
            "500/500 [==============================] - 152s 305ms/step - loss: 0.2202 - val_loss: 0.2893\n",
            "Epoch 18/20\n",
            "500/500 [==============================] - 153s 307ms/step - loss: 0.2181 - val_loss: 0.2933\n",
            "Epoch 19/20\n",
            "500/500 [==============================] - 153s 305ms/step - loss: 0.2128 - val_loss: 0.2987\n",
            "Epoch 20/20\n",
            "500/500 [==============================] - 154s 309ms/step - loss: 0.2092 - val_loss: 0.3019\n"
          ],
          "name": "stdout"
        }
      ]
    },
    {
      "cell_type": "markdown",
      "metadata": {
        "id": "ORrg76c2FnAe",
        "colab_type": "text"
      },
      "source": [
        "## Loss\n",
        "* After 5 epochs, validation error (orange) begins rising\n",
        "* Indicative of overfitting, regularization will help training more epochs\n"
      ]
    },
    {
      "cell_type": "code",
      "metadata": {
        "id": "gRP2O1V2FXh9",
        "colab_type": "code",
        "colab": {
          "base_uri": "https://localhost:8080/",
          "height": 298
        },
        "outputId": "3ef6de9f-4d35-45ee-e412-22cb10869694"
      },
      "source": [
        "plt.plot(historyRNN.history['loss'], label='Train Loss')\n",
        "plt.plot(historyRNN.history['val_loss'], label='Validation Loss')\n",
        "plt.title('Loss - RNN (GRU)')"
      ],
      "execution_count": 21,
      "outputs": [
        {
          "output_type": "execute_result",
          "data": {
            "text/plain": [
              "Text(0.5, 1.0, 'Loss - RNN (GRU)')"
            ]
          },
          "metadata": {
            "tags": []
          },
          "execution_count": 21
        },
        {
          "output_type": "display_data",
          "data": {
            "image/png": "[encoded data removed]",
            "text/plain": [
              "<Figure size 432x288 with 1 Axes>"
            ]
          },
          "metadata": {
            "tags": []
          }
        }
      ]
    },
    {
      "cell_type": "markdown",
      "metadata": {
        "id": "RNg642kqEaft",
        "colab_type": "text"
      },
      "source": [
        "# RNN + Dropout\n",
        "* Add recurrent dropout\n",
        "* Train 40 epochs rather than 20\n"
      ]
    },
    {
      "cell_type": "code",
      "metadata": {
        "id": "unKfdpr4F_bC",
        "colab_type": "code",
        "colab": {
          "base_uri": "https://localhost:8080/",
          "height": 221
        },
        "outputId": "cd166e18-7587-4342-a53d-3717f9a19ba6"
      },
      "source": [
        "modelRNNOverfit = Sequential()\n",
        "modelRNNOverfit.add(layers.GRU(32,\n",
        "                        dropout=0.2, recurrent_dropout=0.2, \n",
        "                        input_shape=(None, fp_data.shape[-1])))\n",
        "modelRNNOverfit.add(layers.Dense(1))\n",
        "modelRNNOverfit.summary()"
      ],
      "execution_count": 12,
      "outputs": [
        {
          "output_type": "stream",
          "text": [
            "Model: \"sequential_2\"\n",
            "_________________________________________________________________\n",
            "Layer (type)                 Output Shape              Param #   \n",
            "=================================================================\n",
            "gru_2 (GRU)                  (None, 32)                4512      \n",
            "_________________________________________________________________\n",
            "dense_2 (Dense)              (None, 1)                 33        \n",
            "=================================================================\n",
            "Total params: 4,545\n",
            "Trainable params: 4,545\n",
            "Non-trainable params: 0\n",
            "_________________________________________________________________\n"
          ],
          "name": "stdout"
        }
      ]
    },
    {
      "cell_type": "code",
      "metadata": {
        "id": "8ywPHNilF_Ya",
        "colab_type": "code",
        "colab": {
          "base_uri": "https://localhost:8080/",
          "height": 697
        },
        "outputId": "a16ce522-2c28-46a0-a496-60b76f73ffd5"
      },
      "source": [
        "modelRNNOverfit.compile(optimizer=RMSprop(), loss='mae')\n",
        "historyRNNOverfit = modelRNNOverfit.fit_generator(train_gen,\n",
        "                             steps_per_epoch=500,\n",
        "                             epochs=20,\n",
        "                             validation_data=val_gen,\n",
        "                             validation_steps=val_steps)"
      ],
      "execution_count": 13,
      "outputs": [
        {
          "output_type": "stream",
          "text": [
            "Epoch 1/20\n",
            "500/500 [==============================] - 168s 337ms/step - loss: 0.3358 - val_loss: 0.2783\n",
            "Epoch 2/20\n",
            "500/500 [==============================] - 165s 331ms/step - loss: 0.3175 - val_loss: 0.2740\n",
            "Epoch 3/20\n",
            "500/500 [==============================] - 165s 330ms/step - loss: 0.3085 - val_loss: 0.2762\n",
            "Epoch 4/20\n",
            "500/500 [==============================] - 165s 330ms/step - loss: 0.3052 - val_loss: 0.2702\n",
            "Epoch 5/20\n",
            "500/500 [==============================] - 165s 331ms/step - loss: 0.3016 - val_loss: 0.2675\n",
            "Epoch 6/20\n",
            "500/500 [==============================] - 165s 330ms/step - loss: 0.2981 - val_loss: 0.2695\n",
            "Epoch 7/20\n",
            "500/500 [==============================] - 168s 336ms/step - loss: 0.2970 - val_loss: 0.2679\n",
            "Epoch 8/20\n",
            "500/500 [==============================] - 166s 333ms/step - loss: 0.2951 - val_loss: 0.2666\n",
            "Epoch 9/20\n",
            "500/500 [==============================] - 169s 339ms/step - loss: 0.2915 - val_loss: 0.2671\n",
            "Epoch 10/20\n",
            "500/500 [==============================] - 168s 337ms/step - loss: 0.2903 - val_loss: 0.2663\n",
            "Epoch 11/20\n",
            "500/500 [==============================] - 167s 334ms/step - loss: 0.2888 - val_loss: 0.2632\n",
            "Epoch 12/20\n",
            "500/500 [==============================] - 166s 332ms/step - loss: 0.2867 - val_loss: 0.2646\n",
            "Epoch 13/20\n",
            "500/500 [==============================] - 167s 334ms/step - loss: 0.2854 - val_loss: 0.2642\n",
            "Epoch 14/20\n",
            "500/500 [==============================] - 166s 332ms/step - loss: 0.2851 - val_loss: 0.2633\n",
            "Epoch 15/20\n",
            "500/500 [==============================] - 166s 333ms/step - loss: 0.2843 - val_loss: 0.2631\n",
            "Epoch 16/20\n",
            "500/500 [==============================] - 166s 333ms/step - loss: 0.2821 - val_loss: 0.2695\n",
            "Epoch 17/20\n",
            "500/500 [==============================] - 163s 325ms/step - loss: 0.2815 - val_loss: 0.2674\n",
            "Epoch 18/20\n",
            "500/500 [==============================] - 165s 330ms/step - loss: 0.2805 - val_loss: 0.2678\n",
            "Epoch 19/20\n",
            "500/500 [==============================] - 163s 326ms/step - loss: 0.2791 - val_loss: 0.2643\n",
            "Epoch 20/20\n",
            "500/500 [==============================] - 162s 325ms/step - loss: 0.2791 - val_loss: 0.2651\n"
          ],
          "name": "stdout"
        }
      ]
    },
    {
      "cell_type": "markdown",
      "metadata": {
        "id": "eTHaVfZIGAiM",
        "colab_type": "text"
      },
      "source": [
        "## Loss\n",
        "* Training loss (blue) continues to fall as expected with regularization -- dropout\n",
        "* With dropout we're not seeing large increases in validation loss (orange)"
      ]
    },
    {
      "cell_type": "code",
      "metadata": {
        "id": "LRIJZdUoEdQs",
        "colab_type": "code",
        "colab": {
          "base_uri": "https://localhost:8080/",
          "height": 298
        },
        "outputId": "07f667a6-4841-446f-b6f0-6af860bf7fb7"
      },
      "source": [
        "plt.plot(historyRNNOverfit.history['loss'], label='Train Loss')\n",
        "plt.plot(historyRNNOverfit.history['val_loss'], label='Validation Loss')\n",
        "plt.title('Loss - RNN + Dropout (GRU)')"
      ],
      "execution_count": 14,
      "outputs": [
        {
          "output_type": "execute_result",
          "data": {
            "text/plain": [
              "Text(0.5, 1.0, 'Loss - RNN + Dropout (GRU)')"
            ]
          },
          "metadata": {
            "tags": []
          },
          "execution_count": 14
        },
        {
          "output_type": "display_data",
          "data": {
            "image/png": "[encoded data removed]",
            "text/plain": [
              "<Figure size 432x288 with 1 Axes>"
            ]
          },
          "metadata": {
            "tags": []
          }
        }
      ]
    },
    {
      "cell_type": "markdown",
      "metadata": {
        "id": "LOHaTeaBGB3z",
        "colab_type": "text"
      },
      "source": [
        "# RNN Stacked + Dropout\n",
        "* Add capacity to network since regularization is allowing us to train without overfitting\n",
        "* Stack a second GRU Layer\n",
        "* Continue using Dropout\n",
        "* Training time will increase quite a bit with the additional GRU layer"
      ]
    },
    {
      "cell_type": "code",
      "metadata": {
        "id": "ppwywjOvGDIF",
        "colab_type": "code",
        "colab": {
          "base_uri": "https://localhost:8080/",
          "height": 255
        },
        "outputId": "e21eae37-0625-4a5f-fef6-df9c5b7bfcfa"
      },
      "source": [
        "modelRNNStacked = Sequential()\n",
        "modelRNNStacked.add(layers.GRU(32,\n",
        "                        dropout=0.1, recurrent_dropout=0.5, \n",
        "                        return_sequences=True,\n",
        "                        input_shape=(None, fp_data.shape[-1])))\n",
        "modelRNNStacked.add(layers.GRU(64,\n",
        "                        dropout=0.1, recurrent_dropout=0.5))\n",
        "modelRNNStacked.add(layers.Dense(1))\n",
        "modelRNNStacked.summary()"
      ],
      "execution_count": 20,
      "outputs": [
        {
          "output_type": "stream",
          "text": [
            "Model: \"sequential_6\"\n",
            "_________________________________________________________________\n",
            "Layer (type)                 Output Shape              Param #   \n",
            "=================================================================\n",
            "gru_9 (GRU)                  (None, None, 32)          4512      \n",
            "_________________________________________________________________\n",
            "gru_10 (GRU)                 (None, 64)                18624     \n",
            "_________________________________________________________________\n",
            "dense_4 (Dense)              (None, 1)                 65        \n",
            "=================================================================\n",
            "Total params: 23,201\n",
            "Trainable params: 23,201\n",
            "Non-trainable params: 0\n",
            "_________________________________________________________________\n"
          ],
          "name": "stdout"
        }
      ]
    },
    {
      "cell_type": "code",
      "metadata": {
        "id": "2anwyTn-GYA0",
        "colab_type": "code",
        "colab": {
          "base_uri": "https://localhost:8080/",
          "height": 187
        },
        "outputId": "1417888d-b83f-4142-cfbf-f2c252a53746"
      },
      "source": [
        "modelRNNStacked.compile(optimizer=RMSprop(), loss='mae')\n",
        "historyRNNStacked = modelRNNStacked.fit_generator(train_gen,\n",
        "                             steps_per_epoch=500,\n",
        "                             epochs=5,\n",
        "                             validation_data=val_gen,\n",
        "                             validation_steps=val_steps)"
      ],
      "execution_count": 21,
      "outputs": [
        {
          "output_type": "stream",
          "text": [
            "Epoch 1/5\n",
            "500/500 [==============================] - 332s 665ms/step - loss: 0.3397 - val_loss: 0.2811\n",
            "Epoch 2/5\n",
            "500/500 [==============================] - 331s 662ms/step - loss: 0.3175 - val_loss: 0.2783\n",
            "Epoch 3/5\n",
            "500/500 [==============================] - 331s 663ms/step - loss: 0.3118 - val_loss: 0.2715\n",
            "Epoch 4/5\n",
            "500/500 [==============================] - 331s 663ms/step - loss: 0.3035 - val_loss: 0.2685\n",
            "Epoch 5/5\n",
            "500/500 [==============================] - 332s 663ms/step - loss: 0.3001 - val_loss: 0.2878\n"
          ],
          "name": "stdout"
        }
      ]
    },
    {
      "cell_type": "markdown",
      "metadata": {
        "id": "efpedTguGYnf",
        "colab_type": "text"
      },
      "source": [
        "## Loss"
      ]
    },
    {
      "cell_type": "code",
      "metadata": {
        "id": "UmmIrPqMGaxZ",
        "colab_type": "code",
        "colab": {
          "base_uri": "https://localhost:8080/",
          "height": 298
        },
        "outputId": "e503b39e-1f81-4f6d-a44c-0e9e6419dec8"
      },
      "source": [
        "plt.plot(historyRNNStacked.history['loss'], label='Train Loss')\n",
        "plt.plot(historyRNNStacked.history['val_loss'], label='Validation Loss')\n",
        "plt.title('Loss - RNN + Dropout + Stacked (GRU, GRU)')"
      ],
      "execution_count": 22,
      "outputs": [
        {
          "output_type": "execute_result",
          "data": {
            "text/plain": [
              "Text(0.5, 1.0, 'Loss - RNN + Dropout + Stacked (GRU, GRU)')"
            ]
          },
          "metadata": {
            "tags": []
          },
          "execution_count": 22
        },
        {
          "output_type": "display_data",
          "data": {
            "image/png": "[encoded data removed]",
            "text/plain": [
              "<Figure size 432x288 with 1 Axes>"
            ]
          },
          "metadata": {
            "tags": []
          }
        }
      ]
    },
    {
      "cell_type": "code",
      "metadata": {
        "id": "6U3aoMlBGsOt",
        "colab_type": "code",
        "colab": {}
      },
      "source": [
        ""
      ],
      "execution_count": 0,
      "outputs": []
    }
  ]
}